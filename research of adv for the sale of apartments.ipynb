{
 "cells": [
  {
   "cell_type": "markdown",
   "metadata": {},
   "source": [
    "# Исследование объявлений о продаже квартир\n",
    "\n",
    "В нашем распоряжении данные сервиса Яндекс.Недвижимость — архив объявлений о продаже квартир в Санкт-Петербурге и соседних населённых пунктов за несколько лет. Нужно научиться определять рыночную стоимость объектов недвижимости. Задача — провести исследовательский анализ данных и установить параметры, влияющие на цену объектов. Это позволит построить автоматизированную систему: она отследит аномалии и мошенническую деятельность. \n",
    "\n",
    "По каждой квартире на продажу доступны два вида данных. Первые вписаны пользователем, вторые — получены автоматически на основе картографических данных. Например, расстояние до центра, аэропорта, ближайшего парка и водоёма. "
   ]
  },
  {
   "cell_type": "code",
   "execution_count": 1,
   "metadata": {},
   "outputs": [],
   "source": [
    "import pandas as pd\n",
    "import matplotlib.pyplot as plt"
   ]
  },
  {
   "cell_type": "code",
   "execution_count": 2,
   "metadata": {},
   "outputs": [],
   "source": [
    "data = pd.read_csv('/datasets/real_estate_data.csv', sep='\\t')"
   ]
  },
  {
   "cell_type": "code",
   "execution_count": 3,
   "metadata": {},
   "outputs": [
    {
     "data": {
      "text/html": [
       "<div>\n",
       "<style scoped>\n",
       "    .dataframe tbody tr th:only-of-type {\n",
       "        vertical-align: middle;\n",
       "    }\n",
       "\n",
       "    .dataframe tbody tr th {\n",
       "        vertical-align: top;\n",
       "    }\n",
       "\n",
       "    .dataframe thead th {\n",
       "        text-align: right;\n",
       "    }\n",
       "</style>\n",
       "<table border=\"1\" class=\"dataframe\">\n",
       "  <thead>\n",
       "    <tr style=\"text-align: right;\">\n",
       "      <th></th>\n",
       "      <th>total_images</th>\n",
       "      <th>last_price</th>\n",
       "      <th>total_area</th>\n",
       "      <th>first_day_exposition</th>\n",
       "      <th>rooms</th>\n",
       "      <th>ceiling_height</th>\n",
       "      <th>floors_total</th>\n",
       "      <th>living_area</th>\n",
       "      <th>floor</th>\n",
       "      <th>is_apartment</th>\n",
       "      <th>studio</th>\n",
       "      <th>open_plan</th>\n",
       "      <th>kitchen_area</th>\n",
       "      <th>balcony</th>\n",
       "      <th>locality_name</th>\n",
       "      <th>airports_nearest</th>\n",
       "      <th>cityCenters_nearest</th>\n",
       "      <th>parks_around3000</th>\n",
       "      <th>parks_nearest</th>\n",
       "      <th>ponds_around3000</th>\n",
       "      <th>ponds_nearest</th>\n",
       "      <th>days_exposition</th>\n",
       "    </tr>\n",
       "  </thead>\n",
       "  <tbody>\n",
       "    <tr>\n",
       "      <th>0</th>\n",
       "      <td>20</td>\n",
       "      <td>13000000.0</td>\n",
       "      <td>108.00</td>\n",
       "      <td>2019-03-07T00:00:00</td>\n",
       "      <td>3</td>\n",
       "      <td>2.70</td>\n",
       "      <td>16.0</td>\n",
       "      <td>51.00</td>\n",
       "      <td>8</td>\n",
       "      <td>NaN</td>\n",
       "      <td>False</td>\n",
       "      <td>False</td>\n",
       "      <td>25.00</td>\n",
       "      <td>NaN</td>\n",
       "      <td>Санкт-Петербург</td>\n",
       "      <td>18863.0</td>\n",
       "      <td>16028.0</td>\n",
       "      <td>1.0</td>\n",
       "      <td>482.0</td>\n",
       "      <td>2.0</td>\n",
       "      <td>755.0</td>\n",
       "      <td>NaN</td>\n",
       "    </tr>\n",
       "    <tr>\n",
       "      <th>1</th>\n",
       "      <td>7</td>\n",
       "      <td>3350000.0</td>\n",
       "      <td>40.40</td>\n",
       "      <td>2018-12-04T00:00:00</td>\n",
       "      <td>1</td>\n",
       "      <td>NaN</td>\n",
       "      <td>11.0</td>\n",
       "      <td>18.60</td>\n",
       "      <td>1</td>\n",
       "      <td>NaN</td>\n",
       "      <td>False</td>\n",
       "      <td>False</td>\n",
       "      <td>11.00</td>\n",
       "      <td>2.0</td>\n",
       "      <td>посёлок Шушары</td>\n",
       "      <td>12817.0</td>\n",
       "      <td>18603.0</td>\n",
       "      <td>0.0</td>\n",
       "      <td>NaN</td>\n",
       "      <td>0.0</td>\n",
       "      <td>NaN</td>\n",
       "      <td>81.0</td>\n",
       "    </tr>\n",
       "    <tr>\n",
       "      <th>2</th>\n",
       "      <td>10</td>\n",
       "      <td>5196000.0</td>\n",
       "      <td>56.00</td>\n",
       "      <td>2015-08-20T00:00:00</td>\n",
       "      <td>2</td>\n",
       "      <td>NaN</td>\n",
       "      <td>5.0</td>\n",
       "      <td>34.30</td>\n",
       "      <td>4</td>\n",
       "      <td>NaN</td>\n",
       "      <td>False</td>\n",
       "      <td>False</td>\n",
       "      <td>8.30</td>\n",
       "      <td>0.0</td>\n",
       "      <td>Санкт-Петербург</td>\n",
       "      <td>21741.0</td>\n",
       "      <td>13933.0</td>\n",
       "      <td>1.0</td>\n",
       "      <td>90.0</td>\n",
       "      <td>2.0</td>\n",
       "      <td>574.0</td>\n",
       "      <td>558.0</td>\n",
       "    </tr>\n",
       "    <tr>\n",
       "      <th>3</th>\n",
       "      <td>0</td>\n",
       "      <td>64900000.0</td>\n",
       "      <td>159.00</td>\n",
       "      <td>2015-07-24T00:00:00</td>\n",
       "      <td>3</td>\n",
       "      <td>NaN</td>\n",
       "      <td>14.0</td>\n",
       "      <td>NaN</td>\n",
       "      <td>9</td>\n",
       "      <td>NaN</td>\n",
       "      <td>False</td>\n",
       "      <td>False</td>\n",
       "      <td>NaN</td>\n",
       "      <td>0.0</td>\n",
       "      <td>Санкт-Петербург</td>\n",
       "      <td>28098.0</td>\n",
       "      <td>6800.0</td>\n",
       "      <td>2.0</td>\n",
       "      <td>84.0</td>\n",
       "      <td>3.0</td>\n",
       "      <td>234.0</td>\n",
       "      <td>424.0</td>\n",
       "    </tr>\n",
       "    <tr>\n",
       "      <th>4</th>\n",
       "      <td>2</td>\n",
       "      <td>10000000.0</td>\n",
       "      <td>100.00</td>\n",
       "      <td>2018-06-19T00:00:00</td>\n",
       "      <td>2</td>\n",
       "      <td>3.03</td>\n",
       "      <td>14.0</td>\n",
       "      <td>32.00</td>\n",
       "      <td>13</td>\n",
       "      <td>NaN</td>\n",
       "      <td>False</td>\n",
       "      <td>False</td>\n",
       "      <td>41.00</td>\n",
       "      <td>NaN</td>\n",
       "      <td>Санкт-Петербург</td>\n",
       "      <td>31856.0</td>\n",
       "      <td>8098.0</td>\n",
       "      <td>2.0</td>\n",
       "      <td>112.0</td>\n",
       "      <td>1.0</td>\n",
       "      <td>48.0</td>\n",
       "      <td>121.0</td>\n",
       "    </tr>\n",
       "    <tr>\n",
       "      <th>5</th>\n",
       "      <td>10</td>\n",
       "      <td>2890000.0</td>\n",
       "      <td>30.40</td>\n",
       "      <td>2018-09-10T00:00:00</td>\n",
       "      <td>1</td>\n",
       "      <td>NaN</td>\n",
       "      <td>12.0</td>\n",
       "      <td>14.40</td>\n",
       "      <td>5</td>\n",
       "      <td>NaN</td>\n",
       "      <td>False</td>\n",
       "      <td>False</td>\n",
       "      <td>9.10</td>\n",
       "      <td>NaN</td>\n",
       "      <td>городской посёлок Янино-1</td>\n",
       "      <td>NaN</td>\n",
       "      <td>NaN</td>\n",
       "      <td>NaN</td>\n",
       "      <td>NaN</td>\n",
       "      <td>NaN</td>\n",
       "      <td>NaN</td>\n",
       "      <td>55.0</td>\n",
       "    </tr>\n",
       "    <tr>\n",
       "      <th>6</th>\n",
       "      <td>6</td>\n",
       "      <td>3700000.0</td>\n",
       "      <td>37.30</td>\n",
       "      <td>2017-11-02T00:00:00</td>\n",
       "      <td>1</td>\n",
       "      <td>NaN</td>\n",
       "      <td>26.0</td>\n",
       "      <td>10.60</td>\n",
       "      <td>6</td>\n",
       "      <td>NaN</td>\n",
       "      <td>False</td>\n",
       "      <td>False</td>\n",
       "      <td>14.40</td>\n",
       "      <td>1.0</td>\n",
       "      <td>посёлок Парголово</td>\n",
       "      <td>52996.0</td>\n",
       "      <td>19143.0</td>\n",
       "      <td>0.0</td>\n",
       "      <td>NaN</td>\n",
       "      <td>0.0</td>\n",
       "      <td>NaN</td>\n",
       "      <td>155.0</td>\n",
       "    </tr>\n",
       "    <tr>\n",
       "      <th>7</th>\n",
       "      <td>5</td>\n",
       "      <td>7915000.0</td>\n",
       "      <td>71.60</td>\n",
       "      <td>2019-04-18T00:00:00</td>\n",
       "      <td>2</td>\n",
       "      <td>NaN</td>\n",
       "      <td>24.0</td>\n",
       "      <td>NaN</td>\n",
       "      <td>22</td>\n",
       "      <td>NaN</td>\n",
       "      <td>False</td>\n",
       "      <td>False</td>\n",
       "      <td>18.90</td>\n",
       "      <td>2.0</td>\n",
       "      <td>Санкт-Петербург</td>\n",
       "      <td>23982.0</td>\n",
       "      <td>11634.0</td>\n",
       "      <td>0.0</td>\n",
       "      <td>NaN</td>\n",
       "      <td>0.0</td>\n",
       "      <td>NaN</td>\n",
       "      <td>NaN</td>\n",
       "    </tr>\n",
       "    <tr>\n",
       "      <th>8</th>\n",
       "      <td>20</td>\n",
       "      <td>2900000.0</td>\n",
       "      <td>33.16</td>\n",
       "      <td>2018-05-23T00:00:00</td>\n",
       "      <td>1</td>\n",
       "      <td>NaN</td>\n",
       "      <td>27.0</td>\n",
       "      <td>15.43</td>\n",
       "      <td>26</td>\n",
       "      <td>NaN</td>\n",
       "      <td>False</td>\n",
       "      <td>False</td>\n",
       "      <td>8.81</td>\n",
       "      <td>NaN</td>\n",
       "      <td>посёлок Мурино</td>\n",
       "      <td>NaN</td>\n",
       "      <td>NaN</td>\n",
       "      <td>NaN</td>\n",
       "      <td>NaN</td>\n",
       "      <td>NaN</td>\n",
       "      <td>NaN</td>\n",
       "      <td>189.0</td>\n",
       "    </tr>\n",
       "    <tr>\n",
       "      <th>9</th>\n",
       "      <td>18</td>\n",
       "      <td>5400000.0</td>\n",
       "      <td>61.00</td>\n",
       "      <td>2017-02-26T00:00:00</td>\n",
       "      <td>3</td>\n",
       "      <td>2.50</td>\n",
       "      <td>9.0</td>\n",
       "      <td>43.60</td>\n",
       "      <td>7</td>\n",
       "      <td>NaN</td>\n",
       "      <td>False</td>\n",
       "      <td>False</td>\n",
       "      <td>6.50</td>\n",
       "      <td>2.0</td>\n",
       "      <td>Санкт-Петербург</td>\n",
       "      <td>50898.0</td>\n",
       "      <td>15008.0</td>\n",
       "      <td>0.0</td>\n",
       "      <td>NaN</td>\n",
       "      <td>0.0</td>\n",
       "      <td>NaN</td>\n",
       "      <td>289.0</td>\n",
       "    </tr>\n",
       "  </tbody>\n",
       "</table>\n",
       "</div>"
      ],
      "text/plain": [
       "   total_images  last_price  total_area first_day_exposition  rooms  \\\n",
       "0            20  13000000.0      108.00  2019-03-07T00:00:00      3   \n",
       "1             7   3350000.0       40.40  2018-12-04T00:00:00      1   \n",
       "2            10   5196000.0       56.00  2015-08-20T00:00:00      2   \n",
       "3             0  64900000.0      159.00  2015-07-24T00:00:00      3   \n",
       "4             2  10000000.0      100.00  2018-06-19T00:00:00      2   \n",
       "5            10   2890000.0       30.40  2018-09-10T00:00:00      1   \n",
       "6             6   3700000.0       37.30  2017-11-02T00:00:00      1   \n",
       "7             5   7915000.0       71.60  2019-04-18T00:00:00      2   \n",
       "8            20   2900000.0       33.16  2018-05-23T00:00:00      1   \n",
       "9            18   5400000.0       61.00  2017-02-26T00:00:00      3   \n",
       "\n",
       "   ceiling_height  floors_total  living_area  floor is_apartment  studio  \\\n",
       "0            2.70          16.0        51.00      8          NaN   False   \n",
       "1             NaN          11.0        18.60      1          NaN   False   \n",
       "2             NaN           5.0        34.30      4          NaN   False   \n",
       "3             NaN          14.0          NaN      9          NaN   False   \n",
       "4            3.03          14.0        32.00     13          NaN   False   \n",
       "5             NaN          12.0        14.40      5          NaN   False   \n",
       "6             NaN          26.0        10.60      6          NaN   False   \n",
       "7             NaN          24.0          NaN     22          NaN   False   \n",
       "8             NaN          27.0        15.43     26          NaN   False   \n",
       "9            2.50           9.0        43.60      7          NaN   False   \n",
       "\n",
       "   open_plan  kitchen_area  balcony              locality_name  \\\n",
       "0      False         25.00      NaN            Санкт-Петербург   \n",
       "1      False         11.00      2.0             посёлок Шушары   \n",
       "2      False          8.30      0.0            Санкт-Петербург   \n",
       "3      False           NaN      0.0            Санкт-Петербург   \n",
       "4      False         41.00      NaN            Санкт-Петербург   \n",
       "5      False          9.10      NaN  городской посёлок Янино-1   \n",
       "6      False         14.40      1.0          посёлок Парголово   \n",
       "7      False         18.90      2.0            Санкт-Петербург   \n",
       "8      False          8.81      NaN             посёлок Мурино   \n",
       "9      False          6.50      2.0            Санкт-Петербург   \n",
       "\n",
       "   airports_nearest  cityCenters_nearest  parks_around3000  parks_nearest  \\\n",
       "0           18863.0              16028.0               1.0          482.0   \n",
       "1           12817.0              18603.0               0.0            NaN   \n",
       "2           21741.0              13933.0               1.0           90.0   \n",
       "3           28098.0               6800.0               2.0           84.0   \n",
       "4           31856.0               8098.0               2.0          112.0   \n",
       "5               NaN                  NaN               NaN            NaN   \n",
       "6           52996.0              19143.0               0.0            NaN   \n",
       "7           23982.0              11634.0               0.0            NaN   \n",
       "8               NaN                  NaN               NaN            NaN   \n",
       "9           50898.0              15008.0               0.0            NaN   \n",
       "\n",
       "   ponds_around3000  ponds_nearest  days_exposition  \n",
       "0               2.0          755.0              NaN  \n",
       "1               0.0            NaN             81.0  \n",
       "2               2.0          574.0            558.0  \n",
       "3               3.0          234.0            424.0  \n",
       "4               1.0           48.0            121.0  \n",
       "5               NaN            NaN             55.0  \n",
       "6               0.0            NaN            155.0  \n",
       "7               0.0            NaN              NaN  \n",
       "8               NaN            NaN            189.0  \n",
       "9               0.0            NaN            289.0  "
      ]
     },
     "metadata": {},
     "output_type": "display_data"
    }
   ],
   "source": [
    "pd.set_option('display.max_columns', None)\n",
    "display(data.head(10))"
   ]
  },
  {
   "cell_type": "markdown",
   "metadata": {},
   "source": [
    "много пропусков в высоте потолков, апартаментах и балконах. Слишком длинные значения в цене квартир"
   ]
  },
  {
   "cell_type": "code",
   "execution_count": 4,
   "metadata": {},
   "outputs": [
    {
     "data": {
      "text/html": [
       "<div>\n",
       "<style scoped>\n",
       "    .dataframe tbody tr th:only-of-type {\n",
       "        vertical-align: middle;\n",
       "    }\n",
       "\n",
       "    .dataframe tbody tr th {\n",
       "        vertical-align: top;\n",
       "    }\n",
       "\n",
       "    .dataframe thead th {\n",
       "        text-align: right;\n",
       "    }\n",
       "</style>\n",
       "<table border=\"1\" class=\"dataframe\">\n",
       "  <thead>\n",
       "    <tr style=\"text-align: right;\">\n",
       "      <th></th>\n",
       "      <th>count</th>\n",
       "      <th>mean</th>\n",
       "      <th>std</th>\n",
       "      <th>min</th>\n",
       "      <th>25%</th>\n",
       "      <th>50%</th>\n",
       "      <th>75%</th>\n",
       "      <th>max</th>\n",
       "    </tr>\n",
       "  </thead>\n",
       "  <tbody>\n",
       "    <tr>\n",
       "      <th>total_images</th>\n",
       "      <td>23699.0</td>\n",
       "      <td>9.858475e+00</td>\n",
       "      <td>5.682529e+00</td>\n",
       "      <td>0.0</td>\n",
       "      <td>6.00</td>\n",
       "      <td>9.00</td>\n",
       "      <td>14.0</td>\n",
       "      <td>50.0</td>\n",
       "    </tr>\n",
       "    <tr>\n",
       "      <th>last_price</th>\n",
       "      <td>23699.0</td>\n",
       "      <td>6.541549e+06</td>\n",
       "      <td>1.088701e+07</td>\n",
       "      <td>12190.0</td>\n",
       "      <td>3400000.00</td>\n",
       "      <td>4650000.00</td>\n",
       "      <td>6800000.0</td>\n",
       "      <td>763000000.0</td>\n",
       "    </tr>\n",
       "    <tr>\n",
       "      <th>total_area</th>\n",
       "      <td>23699.0</td>\n",
       "      <td>6.034865e+01</td>\n",
       "      <td>3.565408e+01</td>\n",
       "      <td>12.0</td>\n",
       "      <td>40.00</td>\n",
       "      <td>52.00</td>\n",
       "      <td>69.9</td>\n",
       "      <td>900.0</td>\n",
       "    </tr>\n",
       "    <tr>\n",
       "      <th>rooms</th>\n",
       "      <td>23699.0</td>\n",
       "      <td>2.070636e+00</td>\n",
       "      <td>1.078405e+00</td>\n",
       "      <td>0.0</td>\n",
       "      <td>1.00</td>\n",
       "      <td>2.00</td>\n",
       "      <td>3.0</td>\n",
       "      <td>19.0</td>\n",
       "    </tr>\n",
       "    <tr>\n",
       "      <th>ceiling_height</th>\n",
       "      <td>14504.0</td>\n",
       "      <td>2.771499e+00</td>\n",
       "      <td>1.261056e+00</td>\n",
       "      <td>1.0</td>\n",
       "      <td>2.52</td>\n",
       "      <td>2.65</td>\n",
       "      <td>2.8</td>\n",
       "      <td>100.0</td>\n",
       "    </tr>\n",
       "    <tr>\n",
       "      <th>floors_total</th>\n",
       "      <td>23613.0</td>\n",
       "      <td>1.067382e+01</td>\n",
       "      <td>6.597173e+00</td>\n",
       "      <td>1.0</td>\n",
       "      <td>5.00</td>\n",
       "      <td>9.00</td>\n",
       "      <td>16.0</td>\n",
       "      <td>60.0</td>\n",
       "    </tr>\n",
       "    <tr>\n",
       "      <th>living_area</th>\n",
       "      <td>21796.0</td>\n",
       "      <td>3.445785e+01</td>\n",
       "      <td>2.203045e+01</td>\n",
       "      <td>2.0</td>\n",
       "      <td>18.60</td>\n",
       "      <td>30.00</td>\n",
       "      <td>42.3</td>\n",
       "      <td>409.7</td>\n",
       "    </tr>\n",
       "    <tr>\n",
       "      <th>floor</th>\n",
       "      <td>23699.0</td>\n",
       "      <td>5.892358e+00</td>\n",
       "      <td>4.885249e+00</td>\n",
       "      <td>1.0</td>\n",
       "      <td>2.00</td>\n",
       "      <td>4.00</td>\n",
       "      <td>8.0</td>\n",
       "      <td>33.0</td>\n",
       "    </tr>\n",
       "    <tr>\n",
       "      <th>kitchen_area</th>\n",
       "      <td>21421.0</td>\n",
       "      <td>1.056981e+01</td>\n",
       "      <td>5.905438e+00</td>\n",
       "      <td>1.3</td>\n",
       "      <td>7.00</td>\n",
       "      <td>9.10</td>\n",
       "      <td>12.0</td>\n",
       "      <td>112.0</td>\n",
       "    </tr>\n",
       "    <tr>\n",
       "      <th>balcony</th>\n",
       "      <td>12180.0</td>\n",
       "      <td>1.150082e+00</td>\n",
       "      <td>1.071300e+00</td>\n",
       "      <td>0.0</td>\n",
       "      <td>0.00</td>\n",
       "      <td>1.00</td>\n",
       "      <td>2.0</td>\n",
       "      <td>5.0</td>\n",
       "    </tr>\n",
       "    <tr>\n",
       "      <th>airports_nearest</th>\n",
       "      <td>18157.0</td>\n",
       "      <td>2.879367e+04</td>\n",
       "      <td>1.263088e+04</td>\n",
       "      <td>0.0</td>\n",
       "      <td>18585.00</td>\n",
       "      <td>26726.00</td>\n",
       "      <td>37273.0</td>\n",
       "      <td>84869.0</td>\n",
       "    </tr>\n",
       "    <tr>\n",
       "      <th>cityCenters_nearest</th>\n",
       "      <td>18180.0</td>\n",
       "      <td>1.419128e+04</td>\n",
       "      <td>8.608386e+03</td>\n",
       "      <td>181.0</td>\n",
       "      <td>9238.00</td>\n",
       "      <td>13098.50</td>\n",
       "      <td>16293.0</td>\n",
       "      <td>65968.0</td>\n",
       "    </tr>\n",
       "    <tr>\n",
       "      <th>parks_around3000</th>\n",
       "      <td>18181.0</td>\n",
       "      <td>6.114075e-01</td>\n",
       "      <td>8.020736e-01</td>\n",
       "      <td>0.0</td>\n",
       "      <td>0.00</td>\n",
       "      <td>0.00</td>\n",
       "      <td>1.0</td>\n",
       "      <td>3.0</td>\n",
       "    </tr>\n",
       "    <tr>\n",
       "      <th>parks_nearest</th>\n",
       "      <td>8079.0</td>\n",
       "      <td>4.908046e+02</td>\n",
       "      <td>3.423180e+02</td>\n",
       "      <td>1.0</td>\n",
       "      <td>288.00</td>\n",
       "      <td>455.00</td>\n",
       "      <td>612.0</td>\n",
       "      <td>3190.0</td>\n",
       "    </tr>\n",
       "    <tr>\n",
       "      <th>ponds_around3000</th>\n",
       "      <td>18181.0</td>\n",
       "      <td>7.702547e-01</td>\n",
       "      <td>9.383456e-01</td>\n",
       "      <td>0.0</td>\n",
       "      <td>0.00</td>\n",
       "      <td>1.00</td>\n",
       "      <td>1.0</td>\n",
       "      <td>3.0</td>\n",
       "    </tr>\n",
       "    <tr>\n",
       "      <th>ponds_nearest</th>\n",
       "      <td>9110.0</td>\n",
       "      <td>5.179809e+02</td>\n",
       "      <td>2.777206e+02</td>\n",
       "      <td>13.0</td>\n",
       "      <td>294.00</td>\n",
       "      <td>502.00</td>\n",
       "      <td>729.0</td>\n",
       "      <td>1344.0</td>\n",
       "    </tr>\n",
       "    <tr>\n",
       "      <th>days_exposition</th>\n",
       "      <td>20518.0</td>\n",
       "      <td>1.808886e+02</td>\n",
       "      <td>2.197280e+02</td>\n",
       "      <td>1.0</td>\n",
       "      <td>45.00</td>\n",
       "      <td>95.00</td>\n",
       "      <td>232.0</td>\n",
       "      <td>1580.0</td>\n",
       "    </tr>\n",
       "  </tbody>\n",
       "</table>\n",
       "</div>"
      ],
      "text/plain": [
       "                       count          mean           std      min         25%  \\\n",
       "total_images         23699.0  9.858475e+00  5.682529e+00      0.0        6.00   \n",
       "last_price           23699.0  6.541549e+06  1.088701e+07  12190.0  3400000.00   \n",
       "total_area           23699.0  6.034865e+01  3.565408e+01     12.0       40.00   \n",
       "rooms                23699.0  2.070636e+00  1.078405e+00      0.0        1.00   \n",
       "ceiling_height       14504.0  2.771499e+00  1.261056e+00      1.0        2.52   \n",
       "floors_total         23613.0  1.067382e+01  6.597173e+00      1.0        5.00   \n",
       "living_area          21796.0  3.445785e+01  2.203045e+01      2.0       18.60   \n",
       "floor                23699.0  5.892358e+00  4.885249e+00      1.0        2.00   \n",
       "kitchen_area         21421.0  1.056981e+01  5.905438e+00      1.3        7.00   \n",
       "balcony              12180.0  1.150082e+00  1.071300e+00      0.0        0.00   \n",
       "airports_nearest     18157.0  2.879367e+04  1.263088e+04      0.0    18585.00   \n",
       "cityCenters_nearest  18180.0  1.419128e+04  8.608386e+03    181.0     9238.00   \n",
       "parks_around3000     18181.0  6.114075e-01  8.020736e-01      0.0        0.00   \n",
       "parks_nearest         8079.0  4.908046e+02  3.423180e+02      1.0      288.00   \n",
       "ponds_around3000     18181.0  7.702547e-01  9.383456e-01      0.0        0.00   \n",
       "ponds_nearest         9110.0  5.179809e+02  2.777206e+02     13.0      294.00   \n",
       "days_exposition      20518.0  1.808886e+02  2.197280e+02      1.0       45.00   \n",
       "\n",
       "                            50%        75%          max  \n",
       "total_images               9.00       14.0         50.0  \n",
       "last_price           4650000.00  6800000.0  763000000.0  \n",
       "total_area                52.00       69.9        900.0  \n",
       "rooms                      2.00        3.0         19.0  \n",
       "ceiling_height             2.65        2.8        100.0  \n",
       "floors_total               9.00       16.0         60.0  \n",
       "living_area               30.00       42.3        409.7  \n",
       "floor                      4.00        8.0         33.0  \n",
       "kitchen_area               9.10       12.0        112.0  \n",
       "balcony                    1.00        2.0          5.0  \n",
       "airports_nearest       26726.00    37273.0      84869.0  \n",
       "cityCenters_nearest    13098.50    16293.0      65968.0  \n",
       "parks_around3000           0.00        1.0          3.0  \n",
       "parks_nearest            455.00      612.0       3190.0  \n",
       "ponds_around3000           1.00        1.0          3.0  \n",
       "ponds_nearest            502.00      729.0       1344.0  \n",
       "days_exposition           95.00      232.0       1580.0  "
      ]
     },
     "execution_count": 4,
     "metadata": {},
     "output_type": "execute_result"
    }
   ],
   "source": [
    "data.describe().T"
   ]
  },
  {
   "cell_type": "markdown",
   "metadata": {},
   "source": [
    "странное максимальное значение высоты потолков в 100м, минимальная и максимальная стоимость квартир вызывает вопросы и жилая площадь в 409 кв.м"
   ]
  },
  {
   "cell_type": "code",
   "execution_count": 5,
   "metadata": {},
   "outputs": [
    {
     "data": {
      "image/png": "[encoded data removed]",
      "text/plain": [
       "<Figure size 1080x1440 with 20 Axes>"
      ]
     },
     "metadata": {
      "needs_background": "light"
     },
     "output_type": "display_data"
    }
   ],
   "source": [
    "data.hist(figsize=(15, 20));"
   ]
  },
  {
   "cell_type": "markdown",
   "metadata": {},
   "source": [
    "### Предобработка данных"
   ]
  },
  {
   "cell_type": "markdown",
   "metadata": {},
   "source": [
    "2.1 Находим в каких строках есть пропуски"
   ]
  },
  {
   "cell_type": "code",
   "execution_count": 6,
   "metadata": {
    "scrolled": false
   },
   "outputs": [
    {
     "data": {
      "text/plain": [
       "total_images                0\n",
       "last_price                  0\n",
       "total_area                  0\n",
       "first_day_exposition        0\n",
       "rooms                       0\n",
       "ceiling_height           9195\n",
       "floors_total               86\n",
       "living_area              1903\n",
       "floor                       0\n",
       "is_apartment            20924\n",
       "studio                      0\n",
       "open_plan                   0\n",
       "kitchen_area             2278\n",
       "balcony                 11519\n",
       "locality_name              49\n",
       "airports_nearest         5542\n",
       "cityCenters_nearest      5519\n",
       "parks_around3000         5518\n",
       "parks_nearest           15620\n",
       "ponds_around3000         5518\n",
       "ponds_nearest           14589\n",
       "days_exposition          3181\n",
       "dtype: int64"
      ]
     },
     "execution_count": 6,
     "metadata": {},
     "output_type": "execute_result"
    }
   ],
   "source": [
    "data.isna().sum()"
   ]
  },
  {
   "cell_type": "markdown",
   "metadata": {},
   "source": [
    "   balcony - нули в балконах скорее всего означают отсутствие балкона\n",
    "   \n",
    "   parks_around3000, ponds_around300, ponds_nearest и parks_nearest - пропуски могут быть результатом ошибки в выгрузке данных, но это не самые важные параметры и логично их не трогать\n",
    "   \n",
    "   days_exposition -  важный параметр, но его нельзя заполнить средней или медианой. Оставляю пропуски как есть. сами пропуски, возможно появились потому, что объявление забыли снять, например\n",
    "   \n",
    "   is_apartment имеет много Nan, можно предположить что это означает что квартира не является апартаментами. Не все знают разницу и возможно, данные о том что это апартаменты, проставили только те, кто является их владельцем\n",
    "   "
   ]
  },
  {
   "cell_type": "markdown",
   "metadata": {},
   "source": [
    "2.2 Проверим наличие дубликатов"
   ]
  },
  {
   "cell_type": "code",
   "execution_count": 7,
   "metadata": {
    "scrolled": true
   },
   "outputs": [
    {
     "data": {
      "text/plain": [
       "0"
      ]
     },
     "execution_count": 7,
     "metadata": {},
     "output_type": "execute_result"
    }
   ],
   "source": [
    "data.duplicated().sum()"
   ]
  },
  {
   "cell_type": "markdown",
   "metadata": {},
   "source": [
    "2.3 Заполним пропуски там, где это возможно"
   ]
  },
  {
   "cell_type": "code",
   "execution_count": 8,
   "metadata": {},
   "outputs": [],
   "source": [
    "#floors_total(всего этажей) может быть заполнена медианным значением\n",
    "data['floors_total'] = data['floors_total'].fillna(data['floors_total'].median())"
   ]
  },
  {
   "cell_type": "code",
   "execution_count": 9,
   "metadata": {},
   "outputs": [],
   "source": [
    "#ceiling_height(высота потолков) может быть заполнена медианным значением\n",
    "data['ceiling_height'] = data['ceiling_height'].fillna(data['ceiling_height'].median())"
   ]
  },
  {
   "cell_type": "code",
   "execution_count": 10,
   "metadata": {},
   "outputs": [],
   "source": [
    "#balcony(балкон) - предполагаю, что пропуски означают отсутствие балкона и заменю все пропуски на 0\n",
    "data['balcony'] = data['balcony'].fillna(value = '0')"
   ]
  },
  {
   "cell_type": "code",
   "execution_count": 11,
   "metadata": {},
   "outputs": [],
   "source": [
    "#is_apartment можно предпложить, что пропуск означает что это не апартаменты и можно заполнить 0\n",
    "data['is_apartment'] = data['is_apartment'].fillna(value = '0')"
   ]
  },
  {
   "cell_type": "code",
   "execution_count": 12,
   "metadata": {},
   "outputs": [],
   "source": [
    "#living_area(жилая площадь квартиры) - важный показатель, нужно заполнить медианным значением по каждой категории квартир\n",
    "for l in data['rooms'].unique():\n",
    "    data.loc[(data['rooms'] == l) & (data['living_area'].isna()), 'living_area'] =\\\n",
    "    data.loc[(data['rooms'] == l), 'living_area'].median()"
   ]
  },
  {
   "cell_type": "code",
   "execution_count": 13,
   "metadata": {},
   "outputs": [],
   "source": [
    "#kitchen_area(площадь кухни) - важный показатель, нужно заполнить медианным значением по каждой категории квартир\n",
    "for kitchen in data['rooms'].unique():\n",
    "    data.loc[(data['rooms'] == kitchen) & (data['kitchen_area'].isna()), 'kitchen_area'] =\\\n",
    "    data.loc[(data['rooms'] == kitchen) & (data['rooms'] != 0), 'kitchen_area'].median()"
   ]
  },
  {
   "cell_type": "code",
   "execution_count": 14,
   "metadata": {},
   "outputs": [],
   "source": [
    "#в названиях населенных пунктов 49 пропусков, это малая часть данных и их можно удалить, т.к. восстановить их названия не получится\n",
    "data = data.dropna(subset=['locality_name']).reset_index(drop=True)"
   ]
  },
  {
   "cell_type": "code",
   "execution_count": 15,
   "metadata": {},
   "outputs": [
    {
     "data": {
      "text/plain": [
       "total_images                0\n",
       "last_price                  0\n",
       "total_area                  0\n",
       "first_day_exposition        0\n",
       "rooms                       0\n",
       "ceiling_height              0\n",
       "floors_total                0\n",
       "living_area                 0\n",
       "floor                       0\n",
       "is_apartment                0\n",
       "studio                      0\n",
       "open_plan                   0\n",
       "kitchen_area              197\n",
       "balcony                     0\n",
       "locality_name               0\n",
       "airports_nearest         5534\n",
       "cityCenters_nearest      5511\n",
       "parks_around3000         5510\n",
       "parks_nearest           15586\n",
       "ponds_around3000         5510\n",
       "ponds_nearest           14565\n",
       "days_exposition          3180\n",
       "dtype: int64"
      ]
     },
     "execution_count": 15,
     "metadata": {},
     "output_type": "execute_result"
    }
   ],
   "source": [
    "#смотрим еще раз что с пропусками\n",
    "data.isnull().sum()"
   ]
  },
  {
   "cell_type": "markdown",
   "metadata": {},
   "source": [
    "2.4 Поменяем типы данных в столбцах"
   ]
  },
  {
   "cell_type": "code",
   "execution_count": 16,
   "metadata": {
    "scrolled": false
   },
   "outputs": [
    {
     "name": "stdout",
     "output_type": "stream",
     "text": [
      "<class 'pandas.core.frame.DataFrame'>\n",
      "RangeIndex: 23650 entries, 0 to 23649\n",
      "Data columns (total 22 columns):\n",
      " #   Column                Non-Null Count  Dtype  \n",
      "---  ------                --------------  -----  \n",
      " 0   total_images          23650 non-null  int64  \n",
      " 1   last_price            23650 non-null  float64\n",
      " 2   total_area            23650 non-null  float64\n",
      " 3   first_day_exposition  23650 non-null  object \n",
      " 4   rooms                 23650 non-null  int64  \n",
      " 5   ceiling_height        23650 non-null  float64\n",
      " 6   floors_total          23650 non-null  float64\n",
      " 7   living_area           23650 non-null  float64\n",
      " 8   floor                 23650 non-null  int64  \n",
      " 9   is_apartment          23650 non-null  object \n",
      " 10  studio                23650 non-null  bool   \n",
      " 11  open_plan             23650 non-null  bool   \n",
      " 12  kitchen_area          23453 non-null  float64\n",
      " 13  balcony               23650 non-null  object \n",
      " 14  locality_name         23650 non-null  object \n",
      " 15  airports_nearest      18116 non-null  float64\n",
      " 16  cityCenters_nearest   18139 non-null  float64\n",
      " 17  parks_around3000      18140 non-null  float64\n",
      " 18  parks_nearest         8064 non-null   float64\n",
      " 19  ponds_around3000      18140 non-null  float64\n",
      " 20  ponds_nearest         9085 non-null   float64\n",
      " 21  days_exposition       20470 non-null  float64\n",
      "dtypes: bool(2), float64(13), int64(3), object(4)\n",
      "memory usage: 3.7+ MB\n"
     ]
    }
   ],
   "source": [
    "data.info()"
   ]
  },
  {
   "cell_type": "code",
   "execution_count": 17,
   "metadata": {},
   "outputs": [
    {
     "data": {
      "text/html": [
       "<div>\n",
       "<style scoped>\n",
       "    .dataframe tbody tr th:only-of-type {\n",
       "        vertical-align: middle;\n",
       "    }\n",
       "\n",
       "    .dataframe tbody tr th {\n",
       "        vertical-align: top;\n",
       "    }\n",
       "\n",
       "    .dataframe thead th {\n",
       "        text-align: right;\n",
       "    }\n",
       "</style>\n",
       "<table border=\"1\" class=\"dataframe\">\n",
       "  <thead>\n",
       "    <tr style=\"text-align: right;\">\n",
       "      <th></th>\n",
       "      <th>total_images</th>\n",
       "      <th>last_price</th>\n",
       "      <th>total_area</th>\n",
       "      <th>first_day_exposition</th>\n",
       "      <th>rooms</th>\n",
       "      <th>ceiling_height</th>\n",
       "      <th>floors_total</th>\n",
       "      <th>living_area</th>\n",
       "      <th>floor</th>\n",
       "      <th>is_apartment</th>\n",
       "      <th>studio</th>\n",
       "      <th>open_plan</th>\n",
       "      <th>kitchen_area</th>\n",
       "      <th>balcony</th>\n",
       "      <th>locality_name</th>\n",
       "      <th>airports_nearest</th>\n",
       "      <th>cityCenters_nearest</th>\n",
       "      <th>parks_around3000</th>\n",
       "      <th>parks_nearest</th>\n",
       "      <th>ponds_around3000</th>\n",
       "      <th>ponds_nearest</th>\n",
       "      <th>days_exposition</th>\n",
       "    </tr>\n",
       "  </thead>\n",
       "  <tbody>\n",
       "    <tr>\n",
       "      <th>0</th>\n",
       "      <td>20</td>\n",
       "      <td>13000000.0</td>\n",
       "      <td>108.0</td>\n",
       "      <td>2019-03-07T00:00:00</td>\n",
       "      <td>3</td>\n",
       "      <td>2.70</td>\n",
       "      <td>16.0</td>\n",
       "      <td>51.0</td>\n",
       "      <td>8</td>\n",
       "      <td>0</td>\n",
       "      <td>False</td>\n",
       "      <td>False</td>\n",
       "      <td>25.0</td>\n",
       "      <td>0</td>\n",
       "      <td>Санкт-Петербург</td>\n",
       "      <td>18863.0</td>\n",
       "      <td>16028.0</td>\n",
       "      <td>1.0</td>\n",
       "      <td>482.0</td>\n",
       "      <td>2.0</td>\n",
       "      <td>755.0</td>\n",
       "      <td>NaN</td>\n",
       "    </tr>\n",
       "    <tr>\n",
       "      <th>1</th>\n",
       "      <td>7</td>\n",
       "      <td>3350000.0</td>\n",
       "      <td>40.4</td>\n",
       "      <td>2018-12-04T00:00:00</td>\n",
       "      <td>1</td>\n",
       "      <td>2.65</td>\n",
       "      <td>11.0</td>\n",
       "      <td>18.6</td>\n",
       "      <td>1</td>\n",
       "      <td>0</td>\n",
       "      <td>False</td>\n",
       "      <td>False</td>\n",
       "      <td>11.0</td>\n",
       "      <td>2.0</td>\n",
       "      <td>посёлок Шушары</td>\n",
       "      <td>12817.0</td>\n",
       "      <td>18603.0</td>\n",
       "      <td>0.0</td>\n",
       "      <td>NaN</td>\n",
       "      <td>0.0</td>\n",
       "      <td>NaN</td>\n",
       "      <td>81.0</td>\n",
       "    </tr>\n",
       "    <tr>\n",
       "      <th>2</th>\n",
       "      <td>10</td>\n",
       "      <td>5196000.0</td>\n",
       "      <td>56.0</td>\n",
       "      <td>2015-08-20T00:00:00</td>\n",
       "      <td>2</td>\n",
       "      <td>2.65</td>\n",
       "      <td>5.0</td>\n",
       "      <td>34.3</td>\n",
       "      <td>4</td>\n",
       "      <td>0</td>\n",
       "      <td>False</td>\n",
       "      <td>False</td>\n",
       "      <td>8.3</td>\n",
       "      <td>0.0</td>\n",
       "      <td>Санкт-Петербург</td>\n",
       "      <td>21741.0</td>\n",
       "      <td>13933.0</td>\n",
       "      <td>1.0</td>\n",
       "      <td>90.0</td>\n",
       "      <td>2.0</td>\n",
       "      <td>574.0</td>\n",
       "      <td>558.0</td>\n",
       "    </tr>\n",
       "    <tr>\n",
       "      <th>3</th>\n",
       "      <td>0</td>\n",
       "      <td>64900000.0</td>\n",
       "      <td>159.0</td>\n",
       "      <td>2015-07-24T00:00:00</td>\n",
       "      <td>3</td>\n",
       "      <td>2.65</td>\n",
       "      <td>14.0</td>\n",
       "      <td>45.0</td>\n",
       "      <td>9</td>\n",
       "      <td>0</td>\n",
       "      <td>False</td>\n",
       "      <td>False</td>\n",
       "      <td>9.5</td>\n",
       "      <td>0.0</td>\n",
       "      <td>Санкт-Петербург</td>\n",
       "      <td>28098.0</td>\n",
       "      <td>6800.0</td>\n",
       "      <td>2.0</td>\n",
       "      <td>84.0</td>\n",
       "      <td>3.0</td>\n",
       "      <td>234.0</td>\n",
       "      <td>424.0</td>\n",
       "    </tr>\n",
       "    <tr>\n",
       "      <th>4</th>\n",
       "      <td>2</td>\n",
       "      <td>10000000.0</td>\n",
       "      <td>100.0</td>\n",
       "      <td>2018-06-19T00:00:00</td>\n",
       "      <td>2</td>\n",
       "      <td>3.03</td>\n",
       "      <td>14.0</td>\n",
       "      <td>32.0</td>\n",
       "      <td>13</td>\n",
       "      <td>0</td>\n",
       "      <td>False</td>\n",
       "      <td>False</td>\n",
       "      <td>41.0</td>\n",
       "      <td>0</td>\n",
       "      <td>Санкт-Петербург</td>\n",
       "      <td>31856.0</td>\n",
       "      <td>8098.0</td>\n",
       "      <td>2.0</td>\n",
       "      <td>112.0</td>\n",
       "      <td>1.0</td>\n",
       "      <td>48.0</td>\n",
       "      <td>121.0</td>\n",
       "    </tr>\n",
       "  </tbody>\n",
       "</table>\n",
       "</div>"
      ],
      "text/plain": [
       "   total_images  last_price  total_area first_day_exposition  rooms  \\\n",
       "0            20  13000000.0       108.0  2019-03-07T00:00:00      3   \n",
       "1             7   3350000.0        40.4  2018-12-04T00:00:00      1   \n",
       "2            10   5196000.0        56.0  2015-08-20T00:00:00      2   \n",
       "3             0  64900000.0       159.0  2015-07-24T00:00:00      3   \n",
       "4             2  10000000.0       100.0  2018-06-19T00:00:00      2   \n",
       "\n",
       "   ceiling_height  floors_total  living_area  floor is_apartment  studio  \\\n",
       "0            2.70          16.0         51.0      8            0   False   \n",
       "1            2.65          11.0         18.6      1            0   False   \n",
       "2            2.65           5.0         34.3      4            0   False   \n",
       "3            2.65          14.0         45.0      9            0   False   \n",
       "4            3.03          14.0         32.0     13            0   False   \n",
       "\n",
       "   open_plan  kitchen_area balcony    locality_name  airports_nearest  \\\n",
       "0      False          25.0       0  Санкт-Петербург           18863.0   \n",
       "1      False          11.0     2.0   посёлок Шушары           12817.0   \n",
       "2      False           8.3     0.0  Санкт-Петербург           21741.0   \n",
       "3      False           9.5     0.0  Санкт-Петербург           28098.0   \n",
       "4      False          41.0       0  Санкт-Петербург           31856.0   \n",
       "\n",
       "   cityCenters_nearest  parks_around3000  parks_nearest  ponds_around3000  \\\n",
       "0              16028.0               1.0          482.0               2.0   \n",
       "1              18603.0               0.0            NaN               0.0   \n",
       "2              13933.0               1.0           90.0               2.0   \n",
       "3               6800.0               2.0           84.0               3.0   \n",
       "4               8098.0               2.0          112.0               1.0   \n",
       "\n",
       "   ponds_nearest  days_exposition  \n",
       "0          755.0              NaN  \n",
       "1            NaN             81.0  \n",
       "2          574.0            558.0  \n",
       "3          234.0            424.0  \n",
       "4           48.0            121.0  "
      ]
     },
     "execution_count": 17,
     "metadata": {},
     "output_type": "execute_result"
    }
   ],
   "source": [
    "data.head()"
   ]
  },
  {
   "cell_type": "markdown",
   "metadata": {},
   "source": [
    "Изменим данные в:\n",
    "  first_day_exposition в формат datetime\n",
    "  \n",
    "  floors_total, balcony - переводим в целочисленный формат\n",
    "  airports_nearest, cityCenters_nearest, parks_around3000, parks_nearest, ponds_around3000, ponds_nearest, days_exposition - здесь есть пропуски и Nan. которые решили не заменять, поэтому решено не переводить в целочисленный формат\n",
    "  "
   ]
  },
  {
   "cell_type": "code",
   "execution_count": 18,
   "metadata": {},
   "outputs": [],
   "source": [
    "# меняем first_day_exposition в формат datetime\n",
    "data['first_day_exposition'] = pd.to_datetime(data['first_day_exposition'], format='%Y-%m-%dT%H:%M:%S')"
   ]
  },
  {
   "cell_type": "code",
   "execution_count": 19,
   "metadata": {},
   "outputs": [],
   "source": [
    "#переводим строки в целочисленный формат и округлим до одного знака после запятой\n",
    "data = data.astype({'floors_total' : 'int', 'balcony': 'int'})\n",
    "data['ceiling_height'] = data['ceiling_height'].round(1)"
   ]
  },
  {
   "cell_type": "code",
   "execution_count": 20,
   "metadata": {},
   "outputs": [
    {
     "data": {
      "text/html": [
       "<div>\n",
       "<style scoped>\n",
       "    .dataframe tbody tr th:only-of-type {\n",
       "        vertical-align: middle;\n",
       "    }\n",
       "\n",
       "    .dataframe tbody tr th {\n",
       "        vertical-align: top;\n",
       "    }\n",
       "\n",
       "    .dataframe thead th {\n",
       "        text-align: right;\n",
       "    }\n",
       "</style>\n",
       "<table border=\"1\" class=\"dataframe\">\n",
       "  <thead>\n",
       "    <tr style=\"text-align: right;\">\n",
       "      <th></th>\n",
       "      <th>total_images</th>\n",
       "      <th>last_price</th>\n",
       "      <th>total_area</th>\n",
       "      <th>first_day_exposition</th>\n",
       "      <th>rooms</th>\n",
       "      <th>ceiling_height</th>\n",
       "      <th>floors_total</th>\n",
       "      <th>living_area</th>\n",
       "      <th>floor</th>\n",
       "      <th>is_apartment</th>\n",
       "      <th>studio</th>\n",
       "      <th>open_plan</th>\n",
       "      <th>kitchen_area</th>\n",
       "      <th>balcony</th>\n",
       "      <th>locality_name</th>\n",
       "      <th>airports_nearest</th>\n",
       "      <th>cityCenters_nearest</th>\n",
       "      <th>parks_around3000</th>\n",
       "      <th>parks_nearest</th>\n",
       "      <th>ponds_around3000</th>\n",
       "      <th>ponds_nearest</th>\n",
       "      <th>days_exposition</th>\n",
       "    </tr>\n",
       "  </thead>\n",
       "  <tbody>\n",
       "    <tr>\n",
       "      <th>0</th>\n",
       "      <td>20</td>\n",
       "      <td>13000000.0</td>\n",
       "      <td>108.0</td>\n",
       "      <td>2019-03-07</td>\n",
       "      <td>3</td>\n",
       "      <td>2.7</td>\n",
       "      <td>16</td>\n",
       "      <td>51.0</td>\n",
       "      <td>8</td>\n",
       "      <td>0</td>\n",
       "      <td>False</td>\n",
       "      <td>False</td>\n",
       "      <td>25.0</td>\n",
       "      <td>0</td>\n",
       "      <td>Санкт-Петербург</td>\n",
       "      <td>18863.0</td>\n",
       "      <td>16028.0</td>\n",
       "      <td>1.0</td>\n",
       "      <td>482.0</td>\n",
       "      <td>2.0</td>\n",
       "      <td>755.0</td>\n",
       "      <td>NaN</td>\n",
       "    </tr>\n",
       "    <tr>\n",
       "      <th>1</th>\n",
       "      <td>7</td>\n",
       "      <td>3350000.0</td>\n",
       "      <td>40.4</td>\n",
       "      <td>2018-12-04</td>\n",
       "      <td>1</td>\n",
       "      <td>2.6</td>\n",
       "      <td>11</td>\n",
       "      <td>18.6</td>\n",
       "      <td>1</td>\n",
       "      <td>0</td>\n",
       "      <td>False</td>\n",
       "      <td>False</td>\n",
       "      <td>11.0</td>\n",
       "      <td>2</td>\n",
       "      <td>посёлок Шушары</td>\n",
       "      <td>12817.0</td>\n",
       "      <td>18603.0</td>\n",
       "      <td>0.0</td>\n",
       "      <td>NaN</td>\n",
       "      <td>0.0</td>\n",
       "      <td>NaN</td>\n",
       "      <td>81.0</td>\n",
       "    </tr>\n",
       "    <tr>\n",
       "      <th>2</th>\n",
       "      <td>10</td>\n",
       "      <td>5196000.0</td>\n",
       "      <td>56.0</td>\n",
       "      <td>2015-08-20</td>\n",
       "      <td>2</td>\n",
       "      <td>2.6</td>\n",
       "      <td>5</td>\n",
       "      <td>34.3</td>\n",
       "      <td>4</td>\n",
       "      <td>0</td>\n",
       "      <td>False</td>\n",
       "      <td>False</td>\n",
       "      <td>8.3</td>\n",
       "      <td>0</td>\n",
       "      <td>Санкт-Петербург</td>\n",
       "      <td>21741.0</td>\n",
       "      <td>13933.0</td>\n",
       "      <td>1.0</td>\n",
       "      <td>90.0</td>\n",
       "      <td>2.0</td>\n",
       "      <td>574.0</td>\n",
       "      <td>558.0</td>\n",
       "    </tr>\n",
       "    <tr>\n",
       "      <th>3</th>\n",
       "      <td>0</td>\n",
       "      <td>64900000.0</td>\n",
       "      <td>159.0</td>\n",
       "      <td>2015-07-24</td>\n",
       "      <td>3</td>\n",
       "      <td>2.6</td>\n",
       "      <td>14</td>\n",
       "      <td>45.0</td>\n",
       "      <td>9</td>\n",
       "      <td>0</td>\n",
       "      <td>False</td>\n",
       "      <td>False</td>\n",
       "      <td>9.5</td>\n",
       "      <td>0</td>\n",
       "      <td>Санкт-Петербург</td>\n",
       "      <td>28098.0</td>\n",
       "      <td>6800.0</td>\n",
       "      <td>2.0</td>\n",
       "      <td>84.0</td>\n",
       "      <td>3.0</td>\n",
       "      <td>234.0</td>\n",
       "      <td>424.0</td>\n",
       "    </tr>\n",
       "    <tr>\n",
       "      <th>4</th>\n",
       "      <td>2</td>\n",
       "      <td>10000000.0</td>\n",
       "      <td>100.0</td>\n",
       "      <td>2018-06-19</td>\n",
       "      <td>2</td>\n",
       "      <td>3.0</td>\n",
       "      <td>14</td>\n",
       "      <td>32.0</td>\n",
       "      <td>13</td>\n",
       "      <td>0</td>\n",
       "      <td>False</td>\n",
       "      <td>False</td>\n",
       "      <td>41.0</td>\n",
       "      <td>0</td>\n",
       "      <td>Санкт-Петербург</td>\n",
       "      <td>31856.0</td>\n",
       "      <td>8098.0</td>\n",
       "      <td>2.0</td>\n",
       "      <td>112.0</td>\n",
       "      <td>1.0</td>\n",
       "      <td>48.0</td>\n",
       "      <td>121.0</td>\n",
       "    </tr>\n",
       "  </tbody>\n",
       "</table>\n",
       "</div>"
      ],
      "text/plain": [
       "   total_images  last_price  total_area first_day_exposition  rooms  \\\n",
       "0            20  13000000.0       108.0           2019-03-07      3   \n",
       "1             7   3350000.0        40.4           2018-12-04      1   \n",
       "2            10   5196000.0        56.0           2015-08-20      2   \n",
       "3             0  64900000.0       159.0           2015-07-24      3   \n",
       "4             2  10000000.0       100.0           2018-06-19      2   \n",
       "\n",
       "   ceiling_height  floors_total  living_area  floor is_apartment  studio  \\\n",
       "0             2.7            16         51.0      8            0   False   \n",
       "1             2.6            11         18.6      1            0   False   \n",
       "2             2.6             5         34.3      4            0   False   \n",
       "3             2.6            14         45.0      9            0   False   \n",
       "4             3.0            14         32.0     13            0   False   \n",
       "\n",
       "   open_plan  kitchen_area  balcony    locality_name  airports_nearest  \\\n",
       "0      False          25.0        0  Санкт-Петербург           18863.0   \n",
       "1      False          11.0        2   посёлок Шушары           12817.0   \n",
       "2      False           8.3        0  Санкт-Петербург           21741.0   \n",
       "3      False           9.5        0  Санкт-Петербург           28098.0   \n",
       "4      False          41.0        0  Санкт-Петербург           31856.0   \n",
       "\n",
       "   cityCenters_nearest  parks_around3000  parks_nearest  ponds_around3000  \\\n",
       "0              16028.0               1.0          482.0               2.0   \n",
       "1              18603.0               0.0            NaN               0.0   \n",
       "2              13933.0               1.0           90.0               2.0   \n",
       "3               6800.0               2.0           84.0               3.0   \n",
       "4               8098.0               2.0          112.0               1.0   \n",
       "\n",
       "   ponds_nearest  days_exposition  \n",
       "0          755.0              NaN  \n",
       "1            NaN             81.0  \n",
       "2          574.0            558.0  \n",
       "3          234.0            424.0  \n",
       "4           48.0            121.0  "
      ]
     },
     "metadata": {},
     "output_type": "display_data"
    }
   ],
   "source": [
    "display(data.head())"
   ]
  },
  {
   "cell_type": "markdown",
   "metadata": {},
   "source": [
    "Наведем в порядок в названиях населенных пунктов оставив только названия"
   ]
  },
  {
   "cell_type": "code",
   "execution_count": 21,
   "metadata": {},
   "outputs": [
    {
     "data": {
      "text/plain": [
       "array(['Санкт-Петербург', 'Шушары', 'городской  Янино-1', 'Парголово',\n",
       "       'Мурино', 'Ломоносов', 'Сертолово', 'Петергоф', 'Пушкин',\n",
       "       'Кудрово', 'Коммунар', 'Колпино', 'Красный Бор', 'Гатчина',\n",
       "       'Фёдоровское', 'Выборг', 'Кронштадт', 'Кировск', 'Новое Девяткино',\n",
       "       'Металлострой', 'Лебяжье', 'Сиверский', 'Молодцово',\n",
       "       'Кузьмоловский', 'Новая Ропша', 'Павловск', 'Пикколово',\n",
       "       'Всеволожск', 'Волхов', 'Кингисепп', 'Приозерск', 'Сестрорецк',\n",
       "       'Куттузи', 'Аннино', 'Ефимовский', 'Плодовое', 'Заклинье',\n",
       "       'Торковичи', 'Первомайское', 'Красное Село', 'Понтонный',\n",
       "       'Сясьстрой', 'Старая', 'Лесколово', 'Новый Свет', 'Сланцы',\n",
       "       'село Путилово', 'Ивангород', 'Шлиссельбург', 'Никольское',\n",
       "       'Зеленогорск', 'Сосновый Бор', 'Оржицы', 'Кальтино', 'Романовка',\n",
       "       'Бугры', 'Рощино', 'Кириши', 'Луга', 'Волосово', 'Отрадное',\n",
       "       'село Павлово', 'Оредеж', 'село Копорье', 'Молодёжное', 'Тихвин',\n",
       "       'Победа', 'Нурма', 'Синявино', 'Тосно', 'Стрельна', 'Бокситогорск',\n",
       "       'Александровская', 'Лопухинка', 'Пикалёво', 'Терволово',\n",
       "       'Советский', 'Подпорожье', 'Петровское', 'Токсово', 'Сельцо',\n",
       "       'Вырица', 'Кипень', 'Келози', 'Вартемяги', 'Тельмана',\n",
       "       'Севастьяново', 'Большая Ижора', 'городской  Павлово', 'Агалатово',\n",
       "       'Новогорелово', 'городской  Лесогорский', 'Лаголово',\n",
       "       'Цвелодубово', 'Рахья', 'Белогорка', 'Заводской',\n",
       "       'городской  Новоселье', 'Большие Колпаны', 'Горбунки', 'Батово',\n",
       "       'Заневка', 'Иссад', 'Приморск', 'городской  Фёдоровское',\n",
       "       'Мистолово', 'Новая Ладога', 'Зимитицы', 'Барышево', 'Разметелево',\n",
       "       'имени Свердлова', 'Пеники', 'Рябово', 'Пудомяги',\n",
       "       'станции Корнево', 'Низино', 'Бегуницы', 'Поляны',\n",
       "       'городской  Мга', 'Елизаветино', 'Кузнечное', 'Колтуши',\n",
       "       'Запорожское', 'Гостилицы', 'Малое Карлино', 'Мичуринское',\n",
       "       'имени Морозова', 'Песочный', 'Сосново', 'Аро', 'Ильичёво',\n",
       "       'Тайцы', 'Малое Верево', 'Извара', 'станции Вещево', 'село Паша',\n",
       "       'Калитино', 'Ульяновка', 'Чудской Бор', 'Дубровка', 'Мины',\n",
       "       'Войсковицы', 'Коркино', 'Ропша', 'Приладожский', 'Щеглово',\n",
       "       'Гаврилово', 'Лодейное Поле', 'Рабитицы', 'Никольский',\n",
       "       'Кузьмолово', 'Малые Колпаны', 'Петро-Славянка',\n",
       "       'городской  Назия', 'Репино', 'Углово', 'Старая Малукса',\n",
       "       'Меньково', 'Старые Бегуницы', 'Сапёрный', 'Семрино', 'Глажево',\n",
       "       'Кобринское', 'Гарболово', 'Юкки', 'станции Приветнинское',\n",
       "       'Мануйлово', 'Пчева', 'Цвылёво', 'Мельниково', 'Пудость',\n",
       "       'Усть-Луга', 'Светогорск', 'Любань', 'Селезнёво', 'Каменногорск',\n",
       "       'Кривко', 'Глебычево', 'Парицы', 'Жил', 'Мга', 'Янино-1',\n",
       "       'Войскорово', 'село Никольское', 'Стеклянный', 'Важины',\n",
       "       'Мыза-Ивановка', 'село Русско-Высоцкое', 'Форносово',\n",
       "       'село Старая Ладога', 'Житково', 'городской  Виллози', 'Лампово',\n",
       "       'Шпаньково', 'Лаврики', 'Сумино', 'Возрождение', 'Старосиверская',\n",
       "       'Кикерино', 'Старое Хинколово', 'Пригородный', 'Торфяное',\n",
       "       'городской  Будогощь', 'Суходолье', 'Красная Долина', 'Хапо-Ое',\n",
       "       'Дружная Горка', 'Лисий Нос', 'Яльгелево', 'село Рождествено',\n",
       "       'Старополье', 'Левашово', 'Сяськелево', 'Камышовка',\n",
       "       'Лесная Поляна', 'Хязельки', 'Жилгородок', 'Павлово', 'Ялгино',\n",
       "       'Новый Учхоз', 'городской  Рощино', 'Гончарово', 'Почап',\n",
       "       'Сапёрное', 'Платформа 69-й километр', 'Каложицы', 'Фалилеево',\n",
       "       'Пельгора', 'Лесогорский', 'Торошковичи', 'Белоостров',\n",
       "       'Алексеевка', 'Серебрянский', 'Лукаши', 'Тарасово',\n",
       "       'Кингисеппский', 'Вещево', 'Ушаки', 'Котлы', 'Сижно', 'Торосово',\n",
       "       'Форт Красная Горка', 'Новолисино', 'станции Громово', 'Глинка',\n",
       "       'Назия', 'Старая Пустошь', 'Коммунары', 'Починок', 'Вознесенье',\n",
       "       'Разбегаево', 'Гладкое', 'Приветнинское', 'Тёсово-4', 'Бор',\n",
       "       'Коробицыно', 'Большая Вруда', 'Курковицы', 'городской  Советский',\n",
       "       'Кобралово', 'Суоранда', 'Кондратьево', 'Счастье', 'Реброво',\n",
       "       'Тойворово', 'Семиозерье', 'Лесное', 'Совхозный', 'Ленинское',\n",
       "       'Суйда', 'Нижние Осельки', 'станции Свирь', 'Перово', 'Высоцк',\n",
       "       'село Шум', 'Котельский', 'станции Лужайка', 'Большая Пустомержа',\n",
       "       'Красносельское', 'Вахнова Кара', 'Пижма', 'Кивеннапа Север',\n",
       "       'Ромашки', 'Каськово', 'Куровицы', 'Плоское', 'Кирпичное',\n",
       "       'Ям-Тесово', 'Раздолье', 'Терпилицы', 'Шугозеро', 'Ваганово',\n",
       "       'Пушное', 'Садко', 'Усть-Ижора', 'Выскатка',\n",
       "       'городской  Свирьстрой', 'Громово', 'Кисельня', 'Трубников Бор',\n",
       "       'Высокоключевой', 'Пансионат Зелёный Бор', 'Ненимяки',\n",
       "       'Снегирёвка', 'Рапполово', 'Пустынка', 'Большой Сабск', 'Русско',\n",
       "       'Лупполово', 'Большое Рейзино', 'Малая Романовка', 'Дружноселье',\n",
       "       'Пчевжа', 'Володарское', 'Нижняя', 'Тихковицы', 'Борисова Грива',\n",
       "       'Дзержинского'], dtype=object)"
      ]
     },
     "execution_count": 21,
     "metadata": {},
     "output_type": "execute_result"
    }
   ],
   "source": [
    "data['locality_name'] = data['locality_name'].str.replace('посёлок городского типа', '').str.lstrip()\n",
    "data['locality_name'] = data['locality_name'].str.replace('поселок городского типа', '').str.lstrip()\n",
    "data['locality_name'] = data['locality_name'].str.replace('городской поселок', '').str.lstrip()\n",
    "data['locality_name'] = data['locality_name'].str.replace('посёлок', '').str.lstrip()\n",
    "data['locality_name'] = data['locality_name'].str.replace('поселок', '').str.lstrip()\n",
    "data['locality_name'] = data['locality_name'].str.replace('деревня', '').str.lstrip()\n",
    "data['locality_name'] = data['locality_name'].str.replace('садовое товарищество', '').str.lstrip()\n",
    "data['locality_name'] = data['locality_name'].str.replace('пок', '').str.lstrip()\n",
    "data['locality_name'] = data['locality_name'].str.replace('садоводческое некоммерческое товарищество', '').str.lstrip()\n",
    "data['locality_name'] = data['locality_name'].str.replace('коттеджный', '').str.lstrip()\n",
    "data['locality_name'] = data['locality_name'].str.replace('при железнодорожной станции', '').str.lstrip()\n",
    "data['locality_name'].unique()"
   ]
  },
  {
   "cell_type": "markdown",
   "metadata": {},
   "source": [
    "Убираем аномальные значения высоты потолков"
   ]
  },
  {
   "cell_type": "code",
   "execution_count": 22,
   "metadata": {},
   "outputs": [
    {
     "data": {
      "text/plain": [
       "0.9993657505285413"
      ]
     },
     "execution_count": 22,
     "metadata": {},
     "output_type": "execute_result"
    }
   ],
   "source": [
    "data.query('ceiling_height < 100 & ceiling_height > 2').shape[0] / data.shape[0]"
   ]
  },
  {
   "cell_type": "code",
   "execution_count": 23,
   "metadata": {},
   "outputs": [],
   "source": [
    "data = data.query('ceiling_height < 100 & ceiling_height > 2')#в описаннии выше видели что есть странные выбросы в виде\n",
    "#потолка меньше 2 метров или потолка в 100м"
   ]
  },
  {
   "cell_type": "code",
   "execution_count": 24,
   "metadata": {},
   "outputs": [],
   "source": [
    "#уберем значения-опечатки\n",
    "data.loc[data['ceiling_height'] >= 20, 'ceiling_height'] = data.loc[data['ceiling_height'] > 20, 'ceiling_height'] /10"
   ]
  },
  {
   "cell_type": "code",
   "execution_count": 25,
   "metadata": {},
   "outputs": [
    {
     "data": {
      "text/html": [
       "<div>\n",
       "<style scoped>\n",
       "    .dataframe tbody tr th:only-of-type {\n",
       "        vertical-align: middle;\n",
       "    }\n",
       "\n",
       "    .dataframe tbody tr th {\n",
       "        vertical-align: top;\n",
       "    }\n",
       "\n",
       "    .dataframe thead th {\n",
       "        text-align: right;\n",
       "    }\n",
       "</style>\n",
       "<table border=\"1\" class=\"dataframe\">\n",
       "  <thead>\n",
       "    <tr style=\"text-align: right;\">\n",
       "      <th></th>\n",
       "      <th>total_images</th>\n",
       "      <th>last_price</th>\n",
       "      <th>total_area</th>\n",
       "      <th>first_day_exposition</th>\n",
       "      <th>rooms</th>\n",
       "      <th>ceiling_height</th>\n",
       "      <th>floors_total</th>\n",
       "      <th>living_area</th>\n",
       "      <th>floor</th>\n",
       "      <th>is_apartment</th>\n",
       "      <th>studio</th>\n",
       "      <th>open_plan</th>\n",
       "      <th>kitchen_area</th>\n",
       "      <th>balcony</th>\n",
       "      <th>locality_name</th>\n",
       "      <th>airports_nearest</th>\n",
       "      <th>cityCenters_nearest</th>\n",
       "      <th>parks_around3000</th>\n",
       "      <th>parks_nearest</th>\n",
       "      <th>ponds_around3000</th>\n",
       "      <th>ponds_nearest</th>\n",
       "      <th>days_exposition</th>\n",
       "    </tr>\n",
       "  </thead>\n",
       "  <tbody>\n",
       "    <tr>\n",
       "      <th>0</th>\n",
       "      <td>20</td>\n",
       "      <td>13000000.0</td>\n",
       "      <td>108.0</td>\n",
       "      <td>2019-03-07</td>\n",
       "      <td>3</td>\n",
       "      <td>2.7</td>\n",
       "      <td>16</td>\n",
       "      <td>51.0</td>\n",
       "      <td>8</td>\n",
       "      <td>0</td>\n",
       "      <td>False</td>\n",
       "      <td>False</td>\n",
       "      <td>25.0</td>\n",
       "      <td>0</td>\n",
       "      <td>Санкт-Петербург</td>\n",
       "      <td>18863.0</td>\n",
       "      <td>16028.0</td>\n",
       "      <td>1.0</td>\n",
       "      <td>482.0</td>\n",
       "      <td>2.0</td>\n",
       "      <td>755.0</td>\n",
       "      <td>NaN</td>\n",
       "    </tr>\n",
       "    <tr>\n",
       "      <th>1</th>\n",
       "      <td>7</td>\n",
       "      <td>3350000.0</td>\n",
       "      <td>40.4</td>\n",
       "      <td>2018-12-04</td>\n",
       "      <td>1</td>\n",
       "      <td>2.6</td>\n",
       "      <td>11</td>\n",
       "      <td>18.6</td>\n",
       "      <td>1</td>\n",
       "      <td>0</td>\n",
       "      <td>False</td>\n",
       "      <td>False</td>\n",
       "      <td>11.0</td>\n",
       "      <td>2</td>\n",
       "      <td>Шушары</td>\n",
       "      <td>12817.0</td>\n",
       "      <td>18603.0</td>\n",
       "      <td>0.0</td>\n",
       "      <td>NaN</td>\n",
       "      <td>0.0</td>\n",
       "      <td>NaN</td>\n",
       "      <td>81.0</td>\n",
       "    </tr>\n",
       "    <tr>\n",
       "      <th>2</th>\n",
       "      <td>10</td>\n",
       "      <td>5196000.0</td>\n",
       "      <td>56.0</td>\n",
       "      <td>2015-08-20</td>\n",
       "      <td>2</td>\n",
       "      <td>2.6</td>\n",
       "      <td>5</td>\n",
       "      <td>34.3</td>\n",
       "      <td>4</td>\n",
       "      <td>0</td>\n",
       "      <td>False</td>\n",
       "      <td>False</td>\n",
       "      <td>8.3</td>\n",
       "      <td>0</td>\n",
       "      <td>Санкт-Петербург</td>\n",
       "      <td>21741.0</td>\n",
       "      <td>13933.0</td>\n",
       "      <td>1.0</td>\n",
       "      <td>90.0</td>\n",
       "      <td>2.0</td>\n",
       "      <td>574.0</td>\n",
       "      <td>558.0</td>\n",
       "    </tr>\n",
       "    <tr>\n",
       "      <th>3</th>\n",
       "      <td>0</td>\n",
       "      <td>64900000.0</td>\n",
       "      <td>159.0</td>\n",
       "      <td>2015-07-24</td>\n",
       "      <td>3</td>\n",
       "      <td>2.6</td>\n",
       "      <td>14</td>\n",
       "      <td>45.0</td>\n",
       "      <td>9</td>\n",
       "      <td>0</td>\n",
       "      <td>False</td>\n",
       "      <td>False</td>\n",
       "      <td>9.5</td>\n",
       "      <td>0</td>\n",
       "      <td>Санкт-Петербург</td>\n",
       "      <td>28098.0</td>\n",
       "      <td>6800.0</td>\n",
       "      <td>2.0</td>\n",
       "      <td>84.0</td>\n",
       "      <td>3.0</td>\n",
       "      <td>234.0</td>\n",
       "      <td>424.0</td>\n",
       "    </tr>\n",
       "    <tr>\n",
       "      <th>4</th>\n",
       "      <td>2</td>\n",
       "      <td>10000000.0</td>\n",
       "      <td>100.0</td>\n",
       "      <td>2018-06-19</td>\n",
       "      <td>2</td>\n",
       "      <td>3.0</td>\n",
       "      <td>14</td>\n",
       "      <td>32.0</td>\n",
       "      <td>13</td>\n",
       "      <td>0</td>\n",
       "      <td>False</td>\n",
       "      <td>False</td>\n",
       "      <td>41.0</td>\n",
       "      <td>0</td>\n",
       "      <td>Санкт-Петербург</td>\n",
       "      <td>31856.0</td>\n",
       "      <td>8098.0</td>\n",
       "      <td>2.0</td>\n",
       "      <td>112.0</td>\n",
       "      <td>1.0</td>\n",
       "      <td>48.0</td>\n",
       "      <td>121.0</td>\n",
       "    </tr>\n",
       "  </tbody>\n",
       "</table>\n",
       "</div>"
      ],
      "text/plain": [
       "   total_images  last_price  total_area first_day_exposition  rooms  \\\n",
       "0            20  13000000.0       108.0           2019-03-07      3   \n",
       "1             7   3350000.0        40.4           2018-12-04      1   \n",
       "2            10   5196000.0        56.0           2015-08-20      2   \n",
       "3             0  64900000.0       159.0           2015-07-24      3   \n",
       "4             2  10000000.0       100.0           2018-06-19      2   \n",
       "\n",
       "   ceiling_height  floors_total  living_area  floor is_apartment  studio  \\\n",
       "0             2.7            16         51.0      8            0   False   \n",
       "1             2.6            11         18.6      1            0   False   \n",
       "2             2.6             5         34.3      4            0   False   \n",
       "3             2.6            14         45.0      9            0   False   \n",
       "4             3.0            14         32.0     13            0   False   \n",
       "\n",
       "   open_plan  kitchen_area  balcony    locality_name  airports_nearest  \\\n",
       "0      False          25.0        0  Санкт-Петербург           18863.0   \n",
       "1      False          11.0        2           Шушары           12817.0   \n",
       "2      False           8.3        0  Санкт-Петербург           21741.0   \n",
       "3      False           9.5        0  Санкт-Петербург           28098.0   \n",
       "4      False          41.0        0  Санкт-Петербург           31856.0   \n",
       "\n",
       "   cityCenters_nearest  parks_around3000  parks_nearest  ponds_around3000  \\\n",
       "0              16028.0               1.0          482.0               2.0   \n",
       "1              18603.0               0.0            NaN               0.0   \n",
       "2              13933.0               1.0           90.0               2.0   \n",
       "3               6800.0               2.0           84.0               3.0   \n",
       "4               8098.0               2.0          112.0               1.0   \n",
       "\n",
       "   ponds_nearest  days_exposition  \n",
       "0          755.0              NaN  \n",
       "1            NaN             81.0  \n",
       "2          574.0            558.0  \n",
       "3          234.0            424.0  \n",
       "4           48.0            121.0  "
      ]
     },
     "metadata": {},
     "output_type": "display_data"
    }
   ],
   "source": [
    "display(data.head())"
   ]
  },
  {
   "cell_type": "markdown",
   "metadata": {},
   "source": [
    "### Добавим в таблицу новые столбцы"
   ]
  },
  {
   "cell_type": "code",
   "execution_count": 26,
   "metadata": {},
   "outputs": [],
   "source": [
    "data['m_2_price'] = (data['last_price']/ data['total_area']).round(2) #столбец 'цена 1 кв.м'"
   ]
  },
  {
   "cell_type": "code",
   "execution_count": 27,
   "metadata": {},
   "outputs": [],
   "source": [
    "data['day'] = data['first_day_exposition'].apply(lambda x: x.isoweekday())# столбец 'день'\n",
    "dict_of_weekdays = {1: 'понедельник', 2: 'вторник', 3: 'среда', 4: 'четверг', \n",
    "                    5: 'пятница', 6: 'суббота', 7: 'воскресенье'}\n",
    "data['day'] = data['day'].map(dict_of_weekdays)"
   ]
  },
  {
   "cell_type": "code",
   "execution_count": 28,
   "metadata": {},
   "outputs": [],
   "source": [
    "data['month'] =data['first_day_exposition'].apply(lambda x: x.month) #столбец 'месяц'"
   ]
  },
  {
   "cell_type": "code",
   "execution_count": 29,
   "metadata": {},
   "outputs": [],
   "source": [
    "data['year'] =data['first_day_exposition'].apply(lambda x: x.year) #столбец 'год'"
   ]
  },
  {
   "cell_type": "code",
   "execution_count": 30,
   "metadata": {},
   "outputs": [],
   "source": [
    "data['cityCenters_nearest_km'] = (data['cityCenters_nearest'] / 1000).round(2) #столбец 'расстояние до центра города в км'"
   ]
  },
  {
   "cell_type": "code",
   "execution_count": 31,
   "metadata": {},
   "outputs": [],
   "source": [
    "data['last_price_thousand'] = data['last_price'] / 1000 #делаем в тысячах для удобства восприятия"
   ]
  },
  {
   "cell_type": "code",
   "execution_count": 32,
   "metadata": {
    "scrolled": true
   },
   "outputs": [
    {
     "data": {
      "text/html": [
       "<div>\n",
       "<style scoped>\n",
       "    .dataframe tbody tr th:only-of-type {\n",
       "        vertical-align: middle;\n",
       "    }\n",
       "\n",
       "    .dataframe tbody tr th {\n",
       "        vertical-align: top;\n",
       "    }\n",
       "\n",
       "    .dataframe thead th {\n",
       "        text-align: right;\n",
       "    }\n",
       "</style>\n",
       "<table border=\"1\" class=\"dataframe\">\n",
       "  <thead>\n",
       "    <tr style=\"text-align: right;\">\n",
       "      <th></th>\n",
       "      <th>total_images</th>\n",
       "      <th>last_price</th>\n",
       "      <th>total_area</th>\n",
       "      <th>first_day_exposition</th>\n",
       "      <th>rooms</th>\n",
       "      <th>ceiling_height</th>\n",
       "      <th>floors_total</th>\n",
       "      <th>living_area</th>\n",
       "      <th>floor</th>\n",
       "      <th>is_apartment</th>\n",
       "      <th>studio</th>\n",
       "      <th>open_plan</th>\n",
       "      <th>kitchen_area</th>\n",
       "      <th>balcony</th>\n",
       "      <th>locality_name</th>\n",
       "      <th>airports_nearest</th>\n",
       "      <th>cityCenters_nearest</th>\n",
       "      <th>parks_around3000</th>\n",
       "      <th>parks_nearest</th>\n",
       "      <th>ponds_around3000</th>\n",
       "      <th>ponds_nearest</th>\n",
       "      <th>days_exposition</th>\n",
       "      <th>m_2_price</th>\n",
       "      <th>day</th>\n",
       "      <th>month</th>\n",
       "      <th>year</th>\n",
       "      <th>cityCenters_nearest_km</th>\n",
       "      <th>last_price_thousand</th>\n",
       "    </tr>\n",
       "  </thead>\n",
       "  <tbody>\n",
       "    <tr>\n",
       "      <th>0</th>\n",
       "      <td>20</td>\n",
       "      <td>13000000.0</td>\n",
       "      <td>108.0</td>\n",
       "      <td>2019-03-07</td>\n",
       "      <td>3</td>\n",
       "      <td>2.7</td>\n",
       "      <td>16</td>\n",
       "      <td>51.0</td>\n",
       "      <td>8</td>\n",
       "      <td>0</td>\n",
       "      <td>False</td>\n",
       "      <td>False</td>\n",
       "      <td>25.0</td>\n",
       "      <td>0</td>\n",
       "      <td>Санкт-Петербург</td>\n",
       "      <td>18863.0</td>\n",
       "      <td>16028.0</td>\n",
       "      <td>1.0</td>\n",
       "      <td>482.0</td>\n",
       "      <td>2.0</td>\n",
       "      <td>755.0</td>\n",
       "      <td>NaN</td>\n",
       "      <td>120370.37</td>\n",
       "      <td>четверг</td>\n",
       "      <td>3</td>\n",
       "      <td>2019</td>\n",
       "      <td>16.03</td>\n",
       "      <td>13000.0</td>\n",
       "    </tr>\n",
       "    <tr>\n",
       "      <th>1</th>\n",
       "      <td>7</td>\n",
       "      <td>3350000.0</td>\n",
       "      <td>40.4</td>\n",
       "      <td>2018-12-04</td>\n",
       "      <td>1</td>\n",
       "      <td>2.6</td>\n",
       "      <td>11</td>\n",
       "      <td>18.6</td>\n",
       "      <td>1</td>\n",
       "      <td>0</td>\n",
       "      <td>False</td>\n",
       "      <td>False</td>\n",
       "      <td>11.0</td>\n",
       "      <td>2</td>\n",
       "      <td>Шушары</td>\n",
       "      <td>12817.0</td>\n",
       "      <td>18603.0</td>\n",
       "      <td>0.0</td>\n",
       "      <td>NaN</td>\n",
       "      <td>0.0</td>\n",
       "      <td>NaN</td>\n",
       "      <td>81.0</td>\n",
       "      <td>82920.79</td>\n",
       "      <td>вторник</td>\n",
       "      <td>12</td>\n",
       "      <td>2018</td>\n",
       "      <td>18.60</td>\n",
       "      <td>3350.0</td>\n",
       "    </tr>\n",
       "    <tr>\n",
       "      <th>2</th>\n",
       "      <td>10</td>\n",
       "      <td>5196000.0</td>\n",
       "      <td>56.0</td>\n",
       "      <td>2015-08-20</td>\n",
       "      <td>2</td>\n",
       "      <td>2.6</td>\n",
       "      <td>5</td>\n",
       "      <td>34.3</td>\n",
       "      <td>4</td>\n",
       "      <td>0</td>\n",
       "      <td>False</td>\n",
       "      <td>False</td>\n",
       "      <td>8.3</td>\n",
       "      <td>0</td>\n",
       "      <td>Санкт-Петербург</td>\n",
       "      <td>21741.0</td>\n",
       "      <td>13933.0</td>\n",
       "      <td>1.0</td>\n",
       "      <td>90.0</td>\n",
       "      <td>2.0</td>\n",
       "      <td>574.0</td>\n",
       "      <td>558.0</td>\n",
       "      <td>92785.71</td>\n",
       "      <td>четверг</td>\n",
       "      <td>8</td>\n",
       "      <td>2015</td>\n",
       "      <td>13.93</td>\n",
       "      <td>5196.0</td>\n",
       "    </tr>\n",
       "    <tr>\n",
       "      <th>3</th>\n",
       "      <td>0</td>\n",
       "      <td>64900000.0</td>\n",
       "      <td>159.0</td>\n",
       "      <td>2015-07-24</td>\n",
       "      <td>3</td>\n",
       "      <td>2.6</td>\n",
       "      <td>14</td>\n",
       "      <td>45.0</td>\n",
       "      <td>9</td>\n",
       "      <td>0</td>\n",
       "      <td>False</td>\n",
       "      <td>False</td>\n",
       "      <td>9.5</td>\n",
       "      <td>0</td>\n",
       "      <td>Санкт-Петербург</td>\n",
       "      <td>28098.0</td>\n",
       "      <td>6800.0</td>\n",
       "      <td>2.0</td>\n",
       "      <td>84.0</td>\n",
       "      <td>3.0</td>\n",
       "      <td>234.0</td>\n",
       "      <td>424.0</td>\n",
       "      <td>408176.10</td>\n",
       "      <td>пятница</td>\n",
       "      <td>7</td>\n",
       "      <td>2015</td>\n",
       "      <td>6.80</td>\n",
       "      <td>64900.0</td>\n",
       "    </tr>\n",
       "    <tr>\n",
       "      <th>4</th>\n",
       "      <td>2</td>\n",
       "      <td>10000000.0</td>\n",
       "      <td>100.0</td>\n",
       "      <td>2018-06-19</td>\n",
       "      <td>2</td>\n",
       "      <td>3.0</td>\n",
       "      <td>14</td>\n",
       "      <td>32.0</td>\n",
       "      <td>13</td>\n",
       "      <td>0</td>\n",
       "      <td>False</td>\n",
       "      <td>False</td>\n",
       "      <td>41.0</td>\n",
       "      <td>0</td>\n",
       "      <td>Санкт-Петербург</td>\n",
       "      <td>31856.0</td>\n",
       "      <td>8098.0</td>\n",
       "      <td>2.0</td>\n",
       "      <td>112.0</td>\n",
       "      <td>1.0</td>\n",
       "      <td>48.0</td>\n",
       "      <td>121.0</td>\n",
       "      <td>100000.00</td>\n",
       "      <td>вторник</td>\n",
       "      <td>6</td>\n",
       "      <td>2018</td>\n",
       "      <td>8.10</td>\n",
       "      <td>10000.0</td>\n",
       "    </tr>\n",
       "  </tbody>\n",
       "</table>\n",
       "</div>"
      ],
      "text/plain": [
       "   total_images  last_price  total_area first_day_exposition  rooms  \\\n",
       "0            20  13000000.0       108.0           2019-03-07      3   \n",
       "1             7   3350000.0        40.4           2018-12-04      1   \n",
       "2            10   5196000.0        56.0           2015-08-20      2   \n",
       "3             0  64900000.0       159.0           2015-07-24      3   \n",
       "4             2  10000000.0       100.0           2018-06-19      2   \n",
       "\n",
       "   ceiling_height  floors_total  living_area  floor is_apartment  studio  \\\n",
       "0             2.7            16         51.0      8            0   False   \n",
       "1             2.6            11         18.6      1            0   False   \n",
       "2             2.6             5         34.3      4            0   False   \n",
       "3             2.6            14         45.0      9            0   False   \n",
       "4             3.0            14         32.0     13            0   False   \n",
       "\n",
       "   open_plan  kitchen_area  balcony    locality_name  airports_nearest  \\\n",
       "0      False          25.0        0  Санкт-Петербург           18863.0   \n",
       "1      False          11.0        2           Шушары           12817.0   \n",
       "2      False           8.3        0  Санкт-Петербург           21741.0   \n",
       "3      False           9.5        0  Санкт-Петербург           28098.0   \n",
       "4      False          41.0        0  Санкт-Петербург           31856.0   \n",
       "\n",
       "   cityCenters_nearest  parks_around3000  parks_nearest  ponds_around3000  \\\n",
       "0              16028.0               1.0          482.0               2.0   \n",
       "1              18603.0               0.0            NaN               0.0   \n",
       "2              13933.0               1.0           90.0               2.0   \n",
       "3               6800.0               2.0           84.0               3.0   \n",
       "4               8098.0               2.0          112.0               1.0   \n",
       "\n",
       "   ponds_nearest  days_exposition  m_2_price      day  month  year  \\\n",
       "0          755.0              NaN  120370.37  четверг      3  2019   \n",
       "1            NaN             81.0   82920.79  вторник     12  2018   \n",
       "2          574.0            558.0   92785.71  четверг      8  2015   \n",
       "3          234.0            424.0  408176.10  пятница      7  2015   \n",
       "4           48.0            121.0  100000.00  вторник      6  2018   \n",
       "\n",
       "   cityCenters_nearest_km  last_price_thousand  \n",
       "0                   16.03              13000.0  \n",
       "1                   18.60               3350.0  \n",
       "2                   13.93               5196.0  \n",
       "3                    6.80              64900.0  \n",
       "4                    8.10              10000.0  "
      ]
     },
     "metadata": {},
     "output_type": "display_data"
    }
   ],
   "source": [
    "display(data.head())"
   ]
  },
  {
   "cell_type": "code",
   "execution_count": 33,
   "metadata": {},
   "outputs": [
    {
     "name": "stdout",
     "output_type": "stream",
     "text": [
      "<class 'pandas.core.frame.DataFrame'>\n",
      "Int64Index: 23635 entries, 0 to 23649\n",
      "Data columns (total 28 columns):\n",
      " #   Column                  Non-Null Count  Dtype         \n",
      "---  ------                  --------------  -----         \n",
      " 0   total_images            23635 non-null  int64         \n",
      " 1   last_price              23635 non-null  float64       \n",
      " 2   total_area              23635 non-null  float64       \n",
      " 3   first_day_exposition    23635 non-null  datetime64[ns]\n",
      " 4   rooms                   23635 non-null  int64         \n",
      " 5   ceiling_height          23634 non-null  float64       \n",
      " 6   floors_total            23635 non-null  int64         \n",
      " 7   living_area             23635 non-null  float64       \n",
      " 8   floor                   23635 non-null  int64         \n",
      " 9   is_apartment            23635 non-null  object        \n",
      " 10  studio                  23635 non-null  bool          \n",
      " 11  open_plan               23635 non-null  bool          \n",
      " 12  kitchen_area            23438 non-null  float64       \n",
      " 13  balcony                 23635 non-null  int64         \n",
      " 14  locality_name           23635 non-null  object        \n",
      " 15  airports_nearest        18110 non-null  float64       \n",
      " 16  cityCenters_nearest     18133 non-null  float64       \n",
      " 17  parks_around3000        18134 non-null  float64       \n",
      " 18  parks_nearest           8060 non-null   float64       \n",
      " 19  ponds_around3000        18134 non-null  float64       \n",
      " 20  ponds_nearest           9080 non-null   float64       \n",
      " 21  days_exposition         20458 non-null  float64       \n",
      " 22  m_2_price               23635 non-null  float64       \n",
      " 23  day                     23635 non-null  object        \n",
      " 24  month                   23635 non-null  int64         \n",
      " 25  year                    23635 non-null  int64         \n",
      " 26  cityCenters_nearest_km  18133 non-null  float64       \n",
      " 27  last_price_thousand     23635 non-null  float64       \n",
      "dtypes: bool(2), datetime64[ns](1), float64(15), int64(7), object(3)\n",
      "memory usage: 4.9+ MB\n"
     ]
    }
   ],
   "source": [
    "data.info()"
   ]
  },
  {
   "cell_type": "code",
   "execution_count": 34,
   "metadata": {},
   "outputs": [],
   "source": [
    "#добавим тип этажей\n",
    "def floor_status(row):\n",
    "    if row['floor'] == 1:\n",
    "        return 'первый'\n",
    "    elif row['floor'] == row['floors_total']:\n",
    "        return 'последний'\n",
    "    else:\n",
    "        return 'другой'"
   ]
  },
  {
   "cell_type": "code",
   "execution_count": 35,
   "metadata": {},
   "outputs": [],
   "source": [
    "data['floor_type'] = data.apply(floor_status, axis=1)"
   ]
  },
  {
   "cell_type": "code",
   "execution_count": 36,
   "metadata": {},
   "outputs": [
    {
     "data": {
      "text/html": [
       "<div>\n",
       "<style scoped>\n",
       "    .dataframe tbody tr th:only-of-type {\n",
       "        vertical-align: middle;\n",
       "    }\n",
       "\n",
       "    .dataframe tbody tr th {\n",
       "        vertical-align: top;\n",
       "    }\n",
       "\n",
       "    .dataframe thead th {\n",
       "        text-align: right;\n",
       "    }\n",
       "</style>\n",
       "<table border=\"1\" class=\"dataframe\">\n",
       "  <thead>\n",
       "    <tr style=\"text-align: right;\">\n",
       "      <th></th>\n",
       "      <th>total_images</th>\n",
       "      <th>last_price</th>\n",
       "      <th>total_area</th>\n",
       "      <th>first_day_exposition</th>\n",
       "      <th>rooms</th>\n",
       "      <th>ceiling_height</th>\n",
       "      <th>floors_total</th>\n",
       "      <th>living_area</th>\n",
       "      <th>floor</th>\n",
       "      <th>is_apartment</th>\n",
       "      <th>studio</th>\n",
       "      <th>open_plan</th>\n",
       "      <th>kitchen_area</th>\n",
       "      <th>balcony</th>\n",
       "      <th>locality_name</th>\n",
       "      <th>airports_nearest</th>\n",
       "      <th>cityCenters_nearest</th>\n",
       "      <th>parks_around3000</th>\n",
       "      <th>parks_nearest</th>\n",
       "      <th>ponds_around3000</th>\n",
       "      <th>ponds_nearest</th>\n",
       "      <th>days_exposition</th>\n",
       "      <th>m_2_price</th>\n",
       "      <th>day</th>\n",
       "      <th>month</th>\n",
       "      <th>year</th>\n",
       "      <th>cityCenters_nearest_km</th>\n",
       "      <th>last_price_thousand</th>\n",
       "      <th>floor_type</th>\n",
       "    </tr>\n",
       "  </thead>\n",
       "  <tbody>\n",
       "    <tr>\n",
       "      <th>0</th>\n",
       "      <td>20</td>\n",
       "      <td>13000000.0</td>\n",
       "      <td>108.0</td>\n",
       "      <td>2019-03-07</td>\n",
       "      <td>3</td>\n",
       "      <td>2.7</td>\n",
       "      <td>16</td>\n",
       "      <td>51.0</td>\n",
       "      <td>8</td>\n",
       "      <td>0</td>\n",
       "      <td>False</td>\n",
       "      <td>False</td>\n",
       "      <td>25.0</td>\n",
       "      <td>0</td>\n",
       "      <td>Санкт-Петербург</td>\n",
       "      <td>18863.0</td>\n",
       "      <td>16028.0</td>\n",
       "      <td>1.0</td>\n",
       "      <td>482.0</td>\n",
       "      <td>2.0</td>\n",
       "      <td>755.0</td>\n",
       "      <td>NaN</td>\n",
       "      <td>120370.37</td>\n",
       "      <td>четверг</td>\n",
       "      <td>3</td>\n",
       "      <td>2019</td>\n",
       "      <td>16.03</td>\n",
       "      <td>13000.0</td>\n",
       "      <td>другой</td>\n",
       "    </tr>\n",
       "    <tr>\n",
       "      <th>1</th>\n",
       "      <td>7</td>\n",
       "      <td>3350000.0</td>\n",
       "      <td>40.4</td>\n",
       "      <td>2018-12-04</td>\n",
       "      <td>1</td>\n",
       "      <td>2.6</td>\n",
       "      <td>11</td>\n",
       "      <td>18.6</td>\n",
       "      <td>1</td>\n",
       "      <td>0</td>\n",
       "      <td>False</td>\n",
       "      <td>False</td>\n",
       "      <td>11.0</td>\n",
       "      <td>2</td>\n",
       "      <td>Шушары</td>\n",
       "      <td>12817.0</td>\n",
       "      <td>18603.0</td>\n",
       "      <td>0.0</td>\n",
       "      <td>NaN</td>\n",
       "      <td>0.0</td>\n",
       "      <td>NaN</td>\n",
       "      <td>81.0</td>\n",
       "      <td>82920.79</td>\n",
       "      <td>вторник</td>\n",
       "      <td>12</td>\n",
       "      <td>2018</td>\n",
       "      <td>18.60</td>\n",
       "      <td>3350.0</td>\n",
       "      <td>первый</td>\n",
       "    </tr>\n",
       "    <tr>\n",
       "      <th>2</th>\n",
       "      <td>10</td>\n",
       "      <td>5196000.0</td>\n",
       "      <td>56.0</td>\n",
       "      <td>2015-08-20</td>\n",
       "      <td>2</td>\n",
       "      <td>2.6</td>\n",
       "      <td>5</td>\n",
       "      <td>34.3</td>\n",
       "      <td>4</td>\n",
       "      <td>0</td>\n",
       "      <td>False</td>\n",
       "      <td>False</td>\n",
       "      <td>8.3</td>\n",
       "      <td>0</td>\n",
       "      <td>Санкт-Петербург</td>\n",
       "      <td>21741.0</td>\n",
       "      <td>13933.0</td>\n",
       "      <td>1.0</td>\n",
       "      <td>90.0</td>\n",
       "      <td>2.0</td>\n",
       "      <td>574.0</td>\n",
       "      <td>558.0</td>\n",
       "      <td>92785.71</td>\n",
       "      <td>четверг</td>\n",
       "      <td>8</td>\n",
       "      <td>2015</td>\n",
       "      <td>13.93</td>\n",
       "      <td>5196.0</td>\n",
       "      <td>другой</td>\n",
       "    </tr>\n",
       "    <tr>\n",
       "      <th>3</th>\n",
       "      <td>0</td>\n",
       "      <td>64900000.0</td>\n",
       "      <td>159.0</td>\n",
       "      <td>2015-07-24</td>\n",
       "      <td>3</td>\n",
       "      <td>2.6</td>\n",
       "      <td>14</td>\n",
       "      <td>45.0</td>\n",
       "      <td>9</td>\n",
       "      <td>0</td>\n",
       "      <td>False</td>\n",
       "      <td>False</td>\n",
       "      <td>9.5</td>\n",
       "      <td>0</td>\n",
       "      <td>Санкт-Петербург</td>\n",
       "      <td>28098.0</td>\n",
       "      <td>6800.0</td>\n",
       "      <td>2.0</td>\n",
       "      <td>84.0</td>\n",
       "      <td>3.0</td>\n",
       "      <td>234.0</td>\n",
       "      <td>424.0</td>\n",
       "      <td>408176.10</td>\n",
       "      <td>пятница</td>\n",
       "      <td>7</td>\n",
       "      <td>2015</td>\n",
       "      <td>6.80</td>\n",
       "      <td>64900.0</td>\n",
       "      <td>другой</td>\n",
       "    </tr>\n",
       "    <tr>\n",
       "      <th>4</th>\n",
       "      <td>2</td>\n",
       "      <td>10000000.0</td>\n",
       "      <td>100.0</td>\n",
       "      <td>2018-06-19</td>\n",
       "      <td>2</td>\n",
       "      <td>3.0</td>\n",
       "      <td>14</td>\n",
       "      <td>32.0</td>\n",
       "      <td>13</td>\n",
       "      <td>0</td>\n",
       "      <td>False</td>\n",
       "      <td>False</td>\n",
       "      <td>41.0</td>\n",
       "      <td>0</td>\n",
       "      <td>Санкт-Петербург</td>\n",
       "      <td>31856.0</td>\n",
       "      <td>8098.0</td>\n",
       "      <td>2.0</td>\n",
       "      <td>112.0</td>\n",
       "      <td>1.0</td>\n",
       "      <td>48.0</td>\n",
       "      <td>121.0</td>\n",
       "      <td>100000.00</td>\n",
       "      <td>вторник</td>\n",
       "      <td>6</td>\n",
       "      <td>2018</td>\n",
       "      <td>8.10</td>\n",
       "      <td>10000.0</td>\n",
       "      <td>другой</td>\n",
       "    </tr>\n",
       "  </tbody>\n",
       "</table>\n",
       "</div>"
      ],
      "text/plain": [
       "   total_images  last_price  total_area first_day_exposition  rooms  \\\n",
       "0            20  13000000.0       108.0           2019-03-07      3   \n",
       "1             7   3350000.0        40.4           2018-12-04      1   \n",
       "2            10   5196000.0        56.0           2015-08-20      2   \n",
       "3             0  64900000.0       159.0           2015-07-24      3   \n",
       "4             2  10000000.0       100.0           2018-06-19      2   \n",
       "\n",
       "   ceiling_height  floors_total  living_area  floor is_apartment  studio  \\\n",
       "0             2.7            16         51.0      8            0   False   \n",
       "1             2.6            11         18.6      1            0   False   \n",
       "2             2.6             5         34.3      4            0   False   \n",
       "3             2.6            14         45.0      9            0   False   \n",
       "4             3.0            14         32.0     13            0   False   \n",
       "\n",
       "   open_plan  kitchen_area  balcony    locality_name  airports_nearest  \\\n",
       "0      False          25.0        0  Санкт-Петербург           18863.0   \n",
       "1      False          11.0        2           Шушары           12817.0   \n",
       "2      False           8.3        0  Санкт-Петербург           21741.0   \n",
       "3      False           9.5        0  Санкт-Петербург           28098.0   \n",
       "4      False          41.0        0  Санкт-Петербург           31856.0   \n",
       "\n",
       "   cityCenters_nearest  parks_around3000  parks_nearest  ponds_around3000  \\\n",
       "0              16028.0               1.0          482.0               2.0   \n",
       "1              18603.0               0.0            NaN               0.0   \n",
       "2              13933.0               1.0           90.0               2.0   \n",
       "3               6800.0               2.0           84.0               3.0   \n",
       "4               8098.0               2.0          112.0               1.0   \n",
       "\n",
       "   ponds_nearest  days_exposition  m_2_price      day  month  year  \\\n",
       "0          755.0              NaN  120370.37  четверг      3  2019   \n",
       "1            NaN             81.0   82920.79  вторник     12  2018   \n",
       "2          574.0            558.0   92785.71  четверг      8  2015   \n",
       "3          234.0            424.0  408176.10  пятница      7  2015   \n",
       "4           48.0            121.0  100000.00  вторник      6  2018   \n",
       "\n",
       "   cityCenters_nearest_km  last_price_thousand floor_type  \n",
       "0                   16.03              13000.0     другой  \n",
       "1                   18.60               3350.0     первый  \n",
       "2                   13.93               5196.0     другой  \n",
       "3                    6.80              64900.0     другой  \n",
       "4                    8.10              10000.0     другой  "
      ]
     },
     "metadata": {},
     "output_type": "display_data"
    }
   ],
   "source": [
    "display(data.head())"
   ]
  },
  {
   "cell_type": "markdown",
   "metadata": {},
   "source": [
    "### Исследовательский анализ данных"
   ]
  },
  {
   "cell_type": "code",
   "execution_count": 37,
   "metadata": {
    "scrolled": true
   },
   "outputs": [
    {
     "data": {
      "text/html": [
       "<div>\n",
       "<style scoped>\n",
       "    .dataframe tbody tr th:only-of-type {\n",
       "        vertical-align: middle;\n",
       "    }\n",
       "\n",
       "    .dataframe tbody tr th {\n",
       "        vertical-align: top;\n",
       "    }\n",
       "\n",
       "    .dataframe thead th {\n",
       "        text-align: right;\n",
       "    }\n",
       "</style>\n",
       "<table border=\"1\" class=\"dataframe\">\n",
       "  <thead>\n",
       "    <tr style=\"text-align: right;\">\n",
       "      <th></th>\n",
       "      <th>count</th>\n",
       "      <th>mean</th>\n",
       "      <th>std</th>\n",
       "      <th>min</th>\n",
       "      <th>25%</th>\n",
       "      <th>50%</th>\n",
       "      <th>75%</th>\n",
       "      <th>max</th>\n",
       "    </tr>\n",
       "  </thead>\n",
       "  <tbody>\n",
       "    <tr>\n",
       "      <th>total_area</th>\n",
       "      <td>23635.0</td>\n",
       "      <td>60.338835</td>\n",
       "      <td>35.668939</td>\n",
       "      <td>12.00</td>\n",
       "      <td>40.00</td>\n",
       "      <td>52.00</td>\n",
       "      <td>69.745</td>\n",
       "      <td>900.0</td>\n",
       "    </tr>\n",
       "    <tr>\n",
       "      <th>living_area</th>\n",
       "      <td>23635.0</td>\n",
       "      <td>34.318287</td>\n",
       "      <td>21.711590</td>\n",
       "      <td>2.00</td>\n",
       "      <td>18.40</td>\n",
       "      <td>30.30</td>\n",
       "      <td>42.700</td>\n",
       "      <td>409.7</td>\n",
       "    </tr>\n",
       "    <tr>\n",
       "      <th>kitchen_area</th>\n",
       "      <td>23438.0</td>\n",
       "      <td>10.462903</td>\n",
       "      <td>5.662688</td>\n",
       "      <td>1.30</td>\n",
       "      <td>7.30</td>\n",
       "      <td>9.04</td>\n",
       "      <td>11.500</td>\n",
       "      <td>112.0</td>\n",
       "    </tr>\n",
       "    <tr>\n",
       "      <th>last_price_thousand</th>\n",
       "      <td>23635.0</td>\n",
       "      <td>6542.605548</td>\n",
       "      <td>10899.254106</td>\n",
       "      <td>12.19</td>\n",
       "      <td>3402.50</td>\n",
       "      <td>4650.00</td>\n",
       "      <td>6799.000</td>\n",
       "      <td>763000.0</td>\n",
       "    </tr>\n",
       "    <tr>\n",
       "      <th>rooms</th>\n",
       "      <td>23635.0</td>\n",
       "      <td>2.070362</td>\n",
       "      <td>1.078732</td>\n",
       "      <td>0.00</td>\n",
       "      <td>1.00</td>\n",
       "      <td>2.00</td>\n",
       "      <td>3.000</td>\n",
       "      <td>19.0</td>\n",
       "    </tr>\n",
       "    <tr>\n",
       "      <th>ceiling_height</th>\n",
       "      <td>23634.0</td>\n",
       "      <td>2.682039</td>\n",
       "      <td>0.253376</td>\n",
       "      <td>2.20</td>\n",
       "      <td>2.60</td>\n",
       "      <td>2.60</td>\n",
       "      <td>2.700</td>\n",
       "      <td>14.0</td>\n",
       "    </tr>\n",
       "    <tr>\n",
       "      <th>floor</th>\n",
       "      <td>23635.0</td>\n",
       "      <td>5.893632</td>\n",
       "      <td>4.884191</td>\n",
       "      <td>1.00</td>\n",
       "      <td>2.00</td>\n",
       "      <td>4.00</td>\n",
       "      <td>8.000</td>\n",
       "      <td>33.0</td>\n",
       "    </tr>\n",
       "    <tr>\n",
       "      <th>floors_total</th>\n",
       "      <td>23635.0</td>\n",
       "      <td>10.670108</td>\n",
       "      <td>6.582101</td>\n",
       "      <td>1.00</td>\n",
       "      <td>5.00</td>\n",
       "      <td>9.00</td>\n",
       "      <td>16.000</td>\n",
       "      <td>60.0</td>\n",
       "    </tr>\n",
       "    <tr>\n",
       "      <th>cityCenters_nearest</th>\n",
       "      <td>18133.0</td>\n",
       "      <td>14197.631445</td>\n",
       "      <td>8607.338170</td>\n",
       "      <td>181.00</td>\n",
       "      <td>9241.00</td>\n",
       "      <td>13105.00</td>\n",
       "      <td>16293.000</td>\n",
       "      <td>65968.0</td>\n",
       "    </tr>\n",
       "    <tr>\n",
       "      <th>airports_nearest</th>\n",
       "      <td>18110.0</td>\n",
       "      <td>28802.586251</td>\n",
       "      <td>12638.776092</td>\n",
       "      <td>0.00</td>\n",
       "      <td>18574.25</td>\n",
       "      <td>26755.50</td>\n",
       "      <td>37294.000</td>\n",
       "      <td>84869.0</td>\n",
       "    </tr>\n",
       "    <tr>\n",
       "      <th>parks_nearest</th>\n",
       "      <td>8060.0</td>\n",
       "      <td>490.875310</td>\n",
       "      <td>342.618076</td>\n",
       "      <td>1.00</td>\n",
       "      <td>288.00</td>\n",
       "      <td>454.50</td>\n",
       "      <td>612.000</td>\n",
       "      <td>3190.0</td>\n",
       "    </tr>\n",
       "    <tr>\n",
       "      <th>month</th>\n",
       "      <td>23635.0</td>\n",
       "      <td>6.400889</td>\n",
       "      <td>3.491540</td>\n",
       "      <td>1.00</td>\n",
       "      <td>3.00</td>\n",
       "      <td>6.00</td>\n",
       "      <td>10.000</td>\n",
       "      <td>12.0</td>\n",
       "    </tr>\n",
       "  </tbody>\n",
       "</table>\n",
       "</div>"
      ],
      "text/plain": [
       "                       count          mean           std     min       25%  \\\n",
       "total_area           23635.0     60.338835     35.668939   12.00     40.00   \n",
       "living_area          23635.0     34.318287     21.711590    2.00     18.40   \n",
       "kitchen_area         23438.0     10.462903      5.662688    1.30      7.30   \n",
       "last_price_thousand  23635.0   6542.605548  10899.254106   12.19   3402.50   \n",
       "rooms                23635.0      2.070362      1.078732    0.00      1.00   \n",
       "ceiling_height       23634.0      2.682039      0.253376    2.20      2.60   \n",
       "floor                23635.0      5.893632      4.884191    1.00      2.00   \n",
       "floors_total         23635.0     10.670108      6.582101    1.00      5.00   \n",
       "cityCenters_nearest  18133.0  14197.631445   8607.338170  181.00   9241.00   \n",
       "airports_nearest     18110.0  28802.586251  12638.776092    0.00  18574.25   \n",
       "parks_nearest         8060.0    490.875310    342.618076    1.00    288.00   \n",
       "month                23635.0      6.400889      3.491540    1.00      3.00   \n",
       "\n",
       "                          50%        75%       max  \n",
       "total_area              52.00     69.745     900.0  \n",
       "living_area             30.30     42.700     409.7  \n",
       "kitchen_area             9.04     11.500     112.0  \n",
       "last_price_thousand   4650.00   6799.000  763000.0  \n",
       "rooms                    2.00      3.000      19.0  \n",
       "ceiling_height           2.60      2.700      14.0  \n",
       "floor                    4.00      8.000      33.0  \n",
       "floors_total             9.00     16.000      60.0  \n",
       "cityCenters_nearest  13105.00  16293.000   65968.0  \n",
       "airports_nearest     26755.50  37294.000   84869.0  \n",
       "parks_nearest          454.50    612.000    3190.0  \n",
       "month                    6.00     10.000      12.0  "
      ]
     },
     "execution_count": 37,
     "metadata": {},
     "output_type": "execute_result"
    }
   ],
   "source": [
    "data[['total_area', 'living_area', 'kitchen_area', 'last_price_thousand', 'rooms', 'ceiling_height',\n",
    "    'floor', 'floor_type', 'floors_total', 'cityCenters_nearest', 'airports_nearest', 'parks_nearest', \n",
    "    'day', 'month']].describe().T"
   ]
  },
  {
   "cell_type": "markdown",
   "metadata": {},
   "source": [
    "Видим, что 2й квартиль и среднее не имеют особых отличий, значит выбросов данных не много и с ними можно работать"
   ]
  },
  {
   "cell_type": "code",
   "execution_count": 38,
   "metadata": {
    "scrolled": true
   },
   "outputs": [
    {
     "data": {
      "text/plain": [
       "(0.0, 400.0)"
      ]
     },
     "execution_count": 38,
     "metadata": {},
     "output_type": "execute_result"
    },
    {
     "data": {
      "image/png": "[encoded data removed]",
      "text/plain": [
       "<Figure size 1440x360 with 1 Axes>"
      ]
     },
     "metadata": {
      "needs_background": "light"
     },
     "output_type": "display_data"
    }
   ],
   "source": [
    "data['total_area'].hist(bins=150, figsize=(20, 5));\n",
    "plt.xlim(0, 400)"
   ]
  },
  {
   "cell_type": "markdown",
   "metadata": {},
   "source": [
    "основная масса квартир имеет площадь от 25 до 100 кв м."
   ]
  },
  {
   "cell_type": "code",
   "execution_count": 39,
   "metadata": {},
   "outputs": [
    {
     "data": {
      "text/plain": [
       "(0.0, 200.0)"
      ]
     },
     "execution_count": 39,
     "metadata": {},
     "output_type": "execute_result"
    },
    {
     "data": {
      "image/png": "[encoded data removed]",
      "text/plain": [
       "<Figure size 1440x360 with 1 Axes>"
      ]
     },
     "metadata": {
      "needs_background": "light"
     },
     "output_type": "display_data"
    }
   ],
   "source": [
    "data['living_area'].hist(bins=150, figsize=(20, 5));\n",
    "plt.xlim(0, 200)"
   ]
  },
  {
   "cell_type": "markdown",
   "metadata": {},
   "source": [
    "очень много квартир с жилой площадью в районе 20 кв.м, так же достаточно большой пласт недвижимости в районе 28-60 жилых метров"
   ]
  },
  {
   "cell_type": "code",
   "execution_count": 40,
   "metadata": {
    "scrolled": true
   },
   "outputs": [
    {
     "data": {
      "text/plain": [
       "(0.0, 70.0)"
      ]
     },
     "execution_count": 40,
     "metadata": {},
     "output_type": "execute_result"
    },
    {
     "data": {
      "image/png": "[encoded data removed]",
      "text/plain": [
       "<Figure size 1440x360 with 1 Axes>"
      ]
     },
     "metadata": {
      "needs_background": "light"
     },
     "output_type": "display_data"
    }
   ],
   "source": [
    "data['kitchen_area'].hist(bins=150, figsize=(20, 5));\n",
    "plt.xlim(0, 70)"
   ]
  },
  {
   "cell_type": "markdown",
   "metadata": {},
   "source": [
    "Основная масса квартир имеет площадь кухни от 5 до 15 кв.м."
   ]
  },
  {
   "cell_type": "code",
   "execution_count": 41,
   "metadata": {
    "scrolled": true
   },
   "outputs": [
    {
     "data": {
      "text/plain": [
       "(0.0, 100000.0)"
      ]
     },
     "execution_count": 41,
     "metadata": {},
     "output_type": "execute_result"
    },
    {
     "data": {
      "image/png": "[encoded data removed]",
      "text/plain": [
       "<Figure size 1440x360 with 1 Axes>"
      ]
     },
     "metadata": {
      "needs_background": "light"
     },
     "output_type": "display_data"
    }
   ],
   "source": [
    "data['last_price_thousand'].hist(bins=150, figsize=(20, 5));\n",
    "plt.xlim(0, 10e4)"
   ]
  },
  {
   "cell_type": "markdown",
   "metadata": {},
   "source": [
    "основная масса квартир находится в ценовом диапазоне до 10 млн"
   ]
  },
  {
   "cell_type": "code",
   "execution_count": 42,
   "metadata": {
    "scrolled": false
   },
   "outputs": [
    {
     "data": {
      "text/plain": [
       "(0.0, 10.0)"
      ]
     },
     "execution_count": 42,
     "metadata": {},
     "output_type": "execute_result"
    },
    {
     "data": {
      "image/png": "[encoded data removed]",
      "text/plain": [
       "<Figure size 1440x360 with 1 Axes>"
      ]
     },
     "metadata": {
      "needs_background": "light"
     },
     "output_type": "display_data"
    }
   ],
   "source": [
    "data['rooms'].hist(bins=150, figsize=(20, 5));\n",
    "plt.xlim(0, 10)"
   ]
  },
  {
   "cell_type": "markdown",
   "metadata": {},
   "source": [
    "Наибольшее количество предложений 1-2 комнатных квартир, немного меньше на рынке квартир 3хкомнатных. В дальнейшем увеличение количества комнат скорее эксклюзив"
   ]
  },
  {
   "cell_type": "code",
   "execution_count": 43,
   "metadata": {
    "scrolled": true
   },
   "outputs": [
    {
     "data": {
      "text/plain": [
       "(2.0, 5.0)"
      ]
     },
     "execution_count": 43,
     "metadata": {},
     "output_type": "execute_result"
    },
    {
     "data": {
      "image/png": "[encoded data removed]",
      "text/plain": [
       "<Figure size 1440x360 with 1 Axes>"
      ]
     },
     "metadata": {
      "needs_background": "light"
     },
     "output_type": "display_data"
    }
   ],
   "source": [
    "data['ceiling_height'].hist(bins=150, figsize=(20, 5));\n",
    "plt.xlim(2, 5)"
   ]
  },
  {
   "cell_type": "markdown",
   "metadata": {},
   "source": [
    "Высота потолков варьируется от 2,5 до 3,2. Преобладает высота потолков в районе 2,7"
   ]
  },
  {
   "cell_type": "code",
   "execution_count": 44,
   "metadata": {
    "scrolled": true
   },
   "outputs": [
    {
     "data": {
      "image/png": "[encoded data removed]",
      "text/plain": [
       "<Figure size 1440x360 with 1 Axes>"
      ]
     },
     "metadata": {
      "needs_background": "light"
     },
     "output_type": "display_data"
    }
   ],
   "source": [
    "data['floor'].hist(bins=150, figsize=(20, 5));"
   ]
  },
  {
   "cell_type": "markdown",
   "metadata": {},
   "source": [
    "наибольшее количество квартир находится до 10 этажа. Самое большое количество объявлений о продаже квартир на 2м этаже\n",
    "после 10го этажа количество объявлений идет на спад, все то, что выше 25 этажа можно считать эксклюзивными предложениями"
   ]
  },
  {
   "cell_type": "code",
   "execution_count": 45,
   "metadata": {
    "scrolled": true
   },
   "outputs": [
    {
     "data": {
      "image/png": "[encoded data removed]",
      "text/plain": [
       "<Figure size 720x360 with 1 Axes>"
      ]
     },
     "metadata": {
      "needs_background": "light"
     },
     "output_type": "display_data"
    }
   ],
   "source": [
    "data['floor_type'].hist(bins=150, figsize=(10, 5));"
   ]
  },
  {
   "cell_type": "markdown",
   "metadata": {},
   "source": [
    "Наимееньшее количество квартир продается на 1м и последнем этажах. На рынке преобладают объявления с этажностью категории \"другой\""
   ]
  },
  {
   "cell_type": "code",
   "execution_count": 46,
   "metadata": {
    "scrolled": true
   },
   "outputs": [
    {
     "data": {
      "text/plain": [
       "(0.0, 40.0)"
      ]
     },
     "execution_count": 46,
     "metadata": {},
     "output_type": "execute_result"
    },
    {
     "data": {
      "image/png": "[encoded data removed]",
      "text/plain": [
       "<Figure size 1440x360 with 1 Axes>"
      ]
     },
     "metadata": {
      "needs_background": "light"
     },
     "output_type": "display_data"
    }
   ],
   "source": [
    "data['floors_total'].hist(bins=150, figsize=(20, 5));\n",
    "plt.xlim(0, 40)"
   ]
  },
  {
   "cell_type": "markdown",
   "metadata": {},
   "source": [
    "самые распространенные дома - 5 и 9 этажные"
   ]
  },
  {
   "cell_type": "code",
   "execution_count": 47,
   "metadata": {
    "scrolled": false
   },
   "outputs": [
    {
     "data": {
      "image/png": "[encoded data removed]",
      "text/plain": [
       "<Figure size 1440x360 with 1 Axes>"
      ]
     },
     "metadata": {
      "needs_background": "light"
     },
     "output_type": "display_data"
    }
   ],
   "source": [
    "data['cityCenters_nearest'].hist(bins=150, figsize=(20, 5));"
   ]
  },
  {
   "cell_type": "markdown",
   "metadata": {},
   "source": [
    "наибольшее количество недвижимости находится в радиусе 18 км"
   ]
  },
  {
   "cell_type": "code",
   "execution_count": 48,
   "metadata": {
    "scrolled": true
   },
   "outputs": [
    {
     "data": {
      "image/png": "[encoded data removed]",
      "text/plain": [
       "<Figure size 1440x360 with 1 Axes>"
      ]
     },
     "metadata": {
      "needs_background": "light"
     },
     "output_type": "display_data"
    }
   ],
   "source": [
    "data['airports_nearest'].hist(bins=150, figsize=(20, 5));"
   ]
  },
  {
   "cell_type": "markdown",
   "metadata": {},
   "source": [
    "расстояние до аэропорта варьируется от 10 до 55 км"
   ]
  },
  {
   "cell_type": "code",
   "execution_count": 49,
   "metadata": {
    "scrolled": true
   },
   "outputs": [
    {
     "data": {
      "image/png": "[encoded data removed]",
      "text/plain": [
       "<Figure size 1440x360 with 1 Axes>"
      ]
     },
     "metadata": {
      "needs_background": "light"
     },
     "output_type": "display_data"
    }
   ],
   "source": [
    "data['parks_nearest'].hist(bins=150, figsize=(20, 5));"
   ]
  },
  {
   "cell_type": "markdown",
   "metadata": {},
   "source": [
    "по имеющимся данным расстояние до ближайшего парка – в основном не больше, чем 750 м "
   ]
  },
  {
   "cell_type": "code",
   "execution_count": 50,
   "metadata": {
    "scrolled": true
   },
   "outputs": [
    {
     "data": {
      "image/png": "[encoded data removed]",
      "text/plain": [
       "<Figure size 720x360 with 1 Axes>"
      ]
     },
     "metadata": {
      "needs_background": "light"
     },
     "output_type": "display_data"
    }
   ],
   "source": [
    "data['day'].hist(bins=150, figsize=(10, 5));"
   ]
  },
  {
   "cell_type": "markdown",
   "metadata": {},
   "source": [
    "в будни количество объявлений размещается гораздо больше, чем в выходные дни"
   ]
  },
  {
   "cell_type": "code",
   "execution_count": 51,
   "metadata": {
    "scrolled": true
   },
   "outputs": [
    {
     "data": {
      "image/png": "[encoded data removed]",
      "text/plain": [
       "<Figure size 1440x360 with 1 Axes>"
      ]
     },
     "metadata": {
      "needs_background": "light"
     },
     "output_type": "display_data"
    }
   ],
   "source": [
    "data['month'].hist(bins=150, figsize=(20, 5));"
   ]
  },
  {
   "cell_type": "markdown",
   "metadata": {},
   "source": [
    "данный график подтверждает сезонность: летом и в новогодние праздники количество объявлений снижается. Пик публикаций приходится на начало года с февраля по апрель"
   ]
  },
  {
   "cell_type": "markdown",
   "metadata": {},
   "source": [
    "посмотрим данные о времени продажи квартир"
   ]
  },
  {
   "cell_type": "code",
   "execution_count": 52,
   "metadata": {
    "scrolled": false
   },
   "outputs": [
    {
     "data": {
      "text/plain": [
       "count    20458.000000\n",
       "mean       180.800323\n",
       "std        219.820575\n",
       "min          1.000000\n",
       "25%         45.000000\n",
       "50%         95.000000\n",
       "75%        231.000000\n",
       "max       1580.000000\n",
       "Name: days_exposition, dtype: float64"
      ]
     },
     "execution_count": 52,
     "metadata": {},
     "output_type": "execute_result"
    }
   ],
   "source": [
    "data['days_exposition'].describe()"
   ]
  },
  {
   "cell_type": "markdown",
   "metadata": {},
   "source": [
    "Средняя в 2 раза больше медианы, значит у нас есть большие значения, которые влияют на среднее. \n",
    "Есть квартиры, которые продавались 1580 дней, но большая часть квартир продавалась первые 100 дней. Большие значения появились скорее всего из-за того, что некоторые объявления забыли снимать с продажи, либо (едничные квартиры) реально столько продавались"
   ]
  },
  {
   "cell_type": "code",
   "execution_count": 53,
   "metadata": {},
   "outputs": [
    {
     "data": {
      "text/plain": [
       "<AxesSubplot:>"
      ]
     },
     "execution_count": 53,
     "metadata": {},
     "output_type": "execute_result"
    },
    {
     "data": {
      "image/png": "[encoded data removed]",
      "text/plain": [
       "<Figure size 720x360 with 1 Axes>"
      ]
     },
     "metadata": {
      "needs_background": "light"
     },
     "output_type": "display_data"
    }
   ],
   "source": [
    "data['days_exposition'].hist(bins=100, figsize=(10,5), ec='black')"
   ]
  },
  {
   "cell_type": "code",
   "execution_count": 54,
   "metadata": {
    "scrolled": true
   },
   "outputs": [
    {
     "data": {
      "text/plain": [
       "<AxesSubplot:>"
      ]
     },
     "execution_count": 54,
     "metadata": {},
     "output_type": "execute_result"
    },
    {
     "data": {
      "image/png": "[encoded data removed]",
      "text/plain": [
       "<Figure size 432x288 with 1 Axes>"
      ]
     },
     "metadata": {
      "needs_background": "light"
     },
     "output_type": "display_data"
    }
   ],
   "source": [
    "data.boxplot(column='days_exposition')"
   ]
  },
  {
   "cell_type": "markdown",
   "metadata": {},
   "source": [
    "посмотрим график ближе, в пределах усов:"
   ]
  },
  {
   "cell_type": "code",
   "execution_count": 55,
   "metadata": {
    "scrolled": true
   },
   "outputs": [
    {
     "data": {
      "text/plain": [
       "<AxesSubplot:>"
      ]
     },
     "execution_count": 55,
     "metadata": {},
     "output_type": "execute_result"
    },
    {
     "data": {
      "image/png": "[encoded data removed]",
      "text/plain": [
       "<Figure size 720x360 with 1 Axes>"
      ]
     },
     "metadata": {
      "needs_background": "light"
     },
     "output_type": "display_data"
    }
   ],
   "source": [
    "data.query('days_exposition<500')['days_exposition'].hist(bins=70, figsize=(10,5), ec='black')"
   ]
  },
  {
   "cell_type": "markdown",
   "metadata": {},
   "source": [
    "большое количество закрытий объявлений в период 40-60 и 80 дней. Возможно это связано как-то с автоматическим продлением и закрытием объявлений. Но этот момент нужно уточнять у разработчиков"
   ]
  },
  {
   "cell_type": "markdown",
   "metadata": {},
   "source": [
    "отфильтруем выбросы из данных"
   ]
  },
  {
   "cell_type": "code",
   "execution_count": 56,
   "metadata": {
    "scrolled": true
   },
   "outputs": [
    {
     "data": {
      "image/png": "[encoded data removed]",
      "text/plain": [
       "<Figure size 1440x1440 with 25 Axes>"
      ]
     },
     "metadata": {
      "needs_background": "light"
     },
     "output_type": "display_data"
    }
   ],
   "source": [
    "data.query('total_area <= 180 and rooms <=5 and last_price_thousand < 25000').hist(figsize=(20, 20));"
   ]
  },
  {
   "cell_type": "markdown",
   "metadata": {},
   "source": [
    "Найдем корреляцию между основными параметрами"
   ]
  },
  {
   "cell_type": "code",
   "execution_count": 57,
   "metadata": {
    "scrolled": true
   },
   "outputs": [
    {
     "name": "stdout",
     "output_type": "stream",
     "text": [
      "Корреляция общей площадью квартиры и ее стоимости: 0.6537742094109014\n"
     ]
    },
    {
     "data": {
      "text/plain": [
       "<AxesSubplot:xlabel='total_area', ylabel='last_price_thousand'>"
      ]
     },
     "execution_count": 57,
     "metadata": {},
     "output_type": "execute_result"
    },
    {
     "data": {
      "image/png": "[encoded data removed]",
      "text/plain": [
       "<Figure size 432x288 with 1 Axes>"
      ]
     },
     "metadata": {
      "needs_background": "light"
     },
     "output_type": "display_data"
    }
   ],
   "source": [
    "print('Корреляция общей площадью квартиры и ее стоимости:', data['total_area'].corr(data['last_price']))\n",
    "data.plot(x='total_area', y='last_price_thousand', kind='scatter', grid=True)"
   ]
  },
  {
   "cell_type": "markdown",
   "metadata": {},
   "source": [
    "немного изменим наш график для наглядности и уберем выбросы по квартирам площадью более 180 м и по цене больше 25 млн. В дальнейших расчетах будем фильтровать по тем же параметрам"
   ]
  },
  {
   "cell_type": "code",
   "execution_count": 58,
   "metadata": {},
   "outputs": [
    {
     "data": {
      "text/plain": [
       "<AxesSubplot:xlabel='total_area', ylabel='last_price_thousand'>"
      ]
     },
     "execution_count": 58,
     "metadata": {},
     "output_type": "execute_result"
    },
    {
     "data": {
      "image/png": "[encoded data removed]",
      "text/plain": [
       "<Figure size 432x288 with 1 Axes>"
      ]
     },
     "metadata": {
      "needs_background": "light"
     },
     "output_type": "display_data"
    }
   ],
   "source": [
    "(\n",
    "    data.query('total_area <= 180 and rooms <=5 and last_price_thousand < 25000')\n",
    "    .plot(x='total_area', y='last_price_thousand', kind='scatter', grid=True)\n",
    ")"
   ]
  },
  {
   "cell_type": "markdown",
   "metadata": {},
   "source": [
    "Теперь видно что присутствует линейная зависимость уровня цены и общей площади квартиры: чем ниже площадь тем ниже стоимость жилья. "
   ]
  },
  {
   "cell_type": "code",
   "execution_count": 59,
   "metadata": {
    "scrolled": false
   },
   "outputs": [
    {
     "name": "stdout",
     "output_type": "stream",
     "text": [
      "Корреляция площади кухни и стоимости квартиры: 0.4540733564707636\n"
     ]
    },
    {
     "data": {
      "text/plain": [
       "<AxesSubplot:xlabel='last_price_thousand', ylabel='kitchen_area'>"
      ]
     },
     "execution_count": 59,
     "metadata": {},
     "output_type": "execute_result"
    },
    {
     "data": {
      "image/png": "[encoded data removed]",
      "text/plain": [
       "<Figure size 432x288 with 1 Axes>"
      ]
     },
     "metadata": {
      "needs_background": "light"
     },
     "output_type": "display_data"
    }
   ],
   "source": [
    "print('Корреляция площади кухни и стоимости квартиры:', data['kitchen_area'].corr(data['last_price_thousand']))\n",
    "(\n",
    "    data.query('total_area <= 180 and rooms <=5 and last_price_thousand < 25000')\n",
    "    .plot(x='last_price_thousand', y='kitchen_area', kind='scatter', grid=True)\n",
    ")"
   ]
  },
  {
   "cell_type": "markdown",
   "metadata": {},
   "source": [
    "зависимость прослеживается, но она скорее привязана к площади квартиры. как правило при увеличении площади жилья увеличивается и размер кухни. не думаю, что размер кухни в итоге влияет на цену квартиры"
   ]
  },
  {
   "cell_type": "code",
   "execution_count": 60,
   "metadata": {
    "scrolled": true
   },
   "outputs": [
    {
     "name": "stdout",
     "output_type": "stream",
     "text": [
      "Корреляция жилой площади квартиры и стоимости квартиры: 0.5561860729663043\n"
     ]
    },
    {
     "data": {
      "text/plain": [
       "<AxesSubplot:xlabel='last_price_thousand', ylabel='living_area'>"
      ]
     },
     "execution_count": 60,
     "metadata": {},
     "output_type": "execute_result"
    },
    {
     "data": {
      "image/png": "[encoded data removed]",
      "text/plain": [
       "<Figure size 432x288 with 1 Axes>"
      ]
     },
     "metadata": {
      "needs_background": "light"
     },
     "output_type": "display_data"
    }
   ],
   "source": [
    "print('Корреляция жилой площади квартиры и стоимости квартиры:', data['living_area'].corr(data['last_price_thousand']))\n",
    "(\n",
    "    data.query('total_area <= 180 and rooms <=5 and last_price_thousand < 25000')\n",
    "    .plot(x='last_price_thousand', y='living_area', kind='scatter', grid=True)\n",
    ")"
   ]
  },
  {
   "cell_type": "markdown",
   "metadata": {},
   "source": [
    "логично здесь увидеть похожую зависимость как в предыдущих примерах, т.к. в итоге увеличение тех или иных помещений \n",
    "в квартире и является увеличением площади, а соответсвенно и цены"
   ]
  },
  {
   "cell_type": "code",
   "execution_count": 61,
   "metadata": {},
   "outputs": [
    {
     "name": "stdout",
     "output_type": "stream",
     "text": [
      "Корреляция количества комнат и стоимости квартиры: 0.36345267026811273\n"
     ]
    },
    {
     "data": {
      "text/plain": [
       "<AxesSubplot:xlabel='rooms', ylabel='last_price_thousand'>"
      ]
     },
     "execution_count": 61,
     "metadata": {},
     "output_type": "execute_result"
    },
    {
     "data": {
      "image/png": "[encoded data removed]",
      "text/plain": [
       "<Figure size 432x288 with 1 Axes>"
      ]
     },
     "metadata": {
      "needs_background": "light"
     },
     "output_type": "display_data"
    }
   ],
   "source": [
    "print('Корреляция количества комнат и стоимости квартиры:', data['rooms'].corr(data['last_price_thousand']))\n",
    "(\n",
    "    data.query('total_area <= 180 and rooms <=5 and last_price_thousand < 25000')\n",
    "    .plot(x='rooms', y='last_price_thousand', kind='scatter', grid=True, alpha=0.05)\n",
    ")"
   ]
  },
  {
   "cell_type": "markdown",
   "metadata": {},
   "source": [
    "рост цены прослеживается до 3х комнат, дальше наблюдается снижение и малое количество значений. Я бы предположила, \n",
    "что 4-5 комнатные квартиры не обязательно означают большую площадь, можно сделать перегородку и из 1 комнаты сделать две, \n",
    "но площадь больше не станет.\n",
    "самое распространенное жилье имеет до 3 комнат включительно и на них работает правило увеличения стоимости. остальные квартиры,\n",
    "за вычетом исключений (в виде действительно больших квартир с большими полноценными комнатами) этому правилу не поддаются"
   ]
  },
  {
   "cell_type": "code",
   "execution_count": 62,
   "metadata": {
    "scrolled": true
   },
   "outputs": [
    {
     "name": "stdout",
     "output_type": "stream",
     "text": [
      "Зависимость типа этажа и стоимости квартиры:\n"
     ]
    },
    {
     "data": {
      "image/png": "[encoded data removed]",
      "text/plain": [
       "<Figure size 432x288 with 1 Axes>"
      ]
     },
     "metadata": {
      "needs_background": "light"
     },
     "output_type": "display_data"
    }
   ],
   "source": [
    "print('Зависимость типа этажа и стоимости квартиры:')\n",
    "(\n",
    "    data.query('total_area <= 180 and rooms <=5 and last_price_thousand < 25000')\n",
    "    .pivot_table(index='floor_type', values='last_price_thousand', aggfunc=('mean', 'median'))\n",
    "    .plot.bar(ec='black')\n",
    ");"
   ]
  },
  {
   "cell_type": "markdown",
   "metadata": {},
   "source": [
    "квартиры на 1 и последнем этажах ниже в стоимости чем квартиры на других этажах, но между последним и другими этажами \n",
    "разница не критичная что по среднему значению, что по медиане."
   ]
  },
  {
   "cell_type": "code",
   "execution_count": 63,
   "metadata": {
    "scrolled": false
   },
   "outputs": [
    {
     "name": "stdout",
     "output_type": "stream",
     "text": [
      "Зависимость дня размещения и стоимости квартиры:\n"
     ]
    },
    {
     "data": {
      "image/png": "[encoded data removed]",
      "text/plain": [
       "<Figure size 432x288 with 1 Axes>"
      ]
     },
     "metadata": {
      "needs_background": "light"
     },
     "output_type": "display_data"
    }
   ],
   "source": [
    "print('Зависимость дня размещения и стоимости квартиры:')\n",
    "(\n",
    "    data.query('total_area <= 180 and rooms <=5 and last_price_thousand < 25000')\n",
    "    .pivot_table(index='day', values='last_price_thousand', aggfunc=('mean', 'median'))\n",
    "    .plot.bar(ec='black')\n",
    ");"
   ]
  },
  {
   "cell_type": "markdown",
   "metadata": {},
   "source": [
    "не выглядит так, будто день недели влияет на цену объекта"
   ]
  },
  {
   "cell_type": "code",
   "execution_count": 64,
   "metadata": {
    "scrolled": true
   },
   "outputs": [
    {
     "name": "stdout",
     "output_type": "stream",
     "text": [
      "Зависимость месяца размещения и стоимости квартиры:\n"
     ]
    },
    {
     "data": {
      "image/png": "[encoded data removed]",
      "text/plain": [
       "<Figure size 432x288 with 1 Axes>"
      ]
     },
     "metadata": {
      "needs_background": "light"
     },
     "output_type": "display_data"
    }
   ],
   "source": [
    "print('Зависимость месяца размещения и стоимости квартиры:')\n",
    "(\n",
    "    data.query('total_area <= 180 and rooms <=5 and last_price_thousand < 25000')\n",
    "    .pivot_table(index='month', values='last_price_thousand', aggfunc=('mean', 'median'))\n",
    "    .plot.bar(ec='black')\n",
    ");"
   ]
  },
  {
   "cell_type": "markdown",
   "metadata": {},
   "source": [
    "можно уловить волнообразное движение: с января по март цена вырастала, потом до 6 месяца снижалась, и с 7-8 месяца наблюдается подъем и неброльшое снижение к новому году."
   ]
  },
  {
   "cell_type": "code",
   "execution_count": 65,
   "metadata": {},
   "outputs": [
    {
     "name": "stdout",
     "output_type": "stream",
     "text": [
      "Зависимость года размещения и стоимости квартиры:\n"
     ]
    },
    {
     "data": {
      "image/png": "[encoded data removed]",
      "text/plain": [
       "<Figure size 432x288 with 1 Axes>"
      ]
     },
     "metadata": {
      "needs_background": "light"
     },
     "output_type": "display_data"
    }
   ],
   "source": [
    "print('Зависимость года размещения и стоимости квартиры:')\n",
    "(\n",
    "    data.query('total_area <= 180 and rooms <=5 and last_price_thousand < 25000')\n",
    "    .pivot_table(index='year', values='last_price_thousand', aggfunc=('mean', 'median'))\n",
    "    .plot.bar(ec='black')\n",
    ");"
   ]
  },
  {
   "cell_type": "markdown",
   "metadata": {},
   "source": [
    "с 2014 до 2016 года цена на недвижимсоть снижалась, в период с 2016 по 2018 держалась приблизительно на одном уровне и в 2019 году начался рост"
   ]
  },
  {
   "cell_type": "markdown",
   "metadata": {},
   "source": [
    "общий итог:\n",
    "Исходя их вышеизложенных выводов и графиков я бы предположила, что на стоимость квартир сильнее всего влияет общая площадь\n",
    ", но так же важен район и город, где она находится. Либо совокупность каких-либо факторов, таких как высота потолка, удаленность от центра, площадь и этаж."
   ]
  },
  {
   "cell_type": "markdown",
   "metadata": {},
   "source": [
    "посчитаем в каких населенных пунктак больше всего объявлений"
   ]
  },
  {
   "cell_type": "code",
   "execution_count": 66,
   "metadata": {},
   "outputs": [
    {
     "data": {
      "text/plain": [
       "locality_name\n",
       "Санкт-Петербург    15716\n",
       "Мурино               590\n",
       "Кудрово              471\n",
       "Шушары               440\n",
       "Всеволожск           397\n",
       "Пушкин               369\n",
       "Колпино              338\n",
       "Парголово            327\n",
       "Гатчина              307\n",
       "Выборг               235\n",
       "Name: total_area, dtype: int64"
      ]
     },
     "execution_count": 66,
     "metadata": {},
     "output_type": "execute_result"
    }
   ],
   "source": [
    "data.groupby('locality_name')['total_area'].count().sort_values(ascending=False).head(10)"
   ]
  },
  {
   "cell_type": "code",
   "execution_count": 67,
   "metadata": {
    "scrolled": false
   },
   "outputs": [
    {
     "data": {
      "text/html": [
       "<div>\n",
       "<style scoped>\n",
       "    .dataframe tbody tr th:only-of-type {\n",
       "        vertical-align: middle;\n",
       "    }\n",
       "\n",
       "    .dataframe tbody tr th {\n",
       "        vertical-align: top;\n",
       "    }\n",
       "\n",
       "    .dataframe thead th {\n",
       "        text-align: right;\n",
       "    }\n",
       "</style>\n",
       "<table border=\"1\" class=\"dataframe\">\n",
       "  <thead>\n",
       "    <tr style=\"text-align: right;\">\n",
       "      <th></th>\n",
       "      <th>total_images</th>\n",
       "      <th>last_price</th>\n",
       "      <th>total_area</th>\n",
       "      <th>first_day_exposition</th>\n",
       "      <th>rooms</th>\n",
       "      <th>ceiling_height</th>\n",
       "      <th>floors_total</th>\n",
       "      <th>living_area</th>\n",
       "      <th>floor</th>\n",
       "      <th>is_apartment</th>\n",
       "      <th>studio</th>\n",
       "      <th>open_plan</th>\n",
       "      <th>kitchen_area</th>\n",
       "      <th>balcony</th>\n",
       "      <th>locality_name</th>\n",
       "      <th>airports_nearest</th>\n",
       "      <th>cityCenters_nearest</th>\n",
       "      <th>parks_around3000</th>\n",
       "      <th>parks_nearest</th>\n",
       "      <th>ponds_around3000</th>\n",
       "      <th>ponds_nearest</th>\n",
       "      <th>days_exposition</th>\n",
       "      <th>m_2_price</th>\n",
       "      <th>day</th>\n",
       "      <th>month</th>\n",
       "      <th>year</th>\n",
       "      <th>cityCenters_nearest_km</th>\n",
       "      <th>last_price_thousand</th>\n",
       "      <th>floor_type</th>\n",
       "    </tr>\n",
       "  </thead>\n",
       "  <tbody>\n",
       "    <tr>\n",
       "      <th>0</th>\n",
       "      <td>20</td>\n",
       "      <td>13000000.0</td>\n",
       "      <td>108.0</td>\n",
       "      <td>2019-03-07</td>\n",
       "      <td>3</td>\n",
       "      <td>2.7</td>\n",
       "      <td>16</td>\n",
       "      <td>51.0</td>\n",
       "      <td>8</td>\n",
       "      <td>0</td>\n",
       "      <td>False</td>\n",
       "      <td>False</td>\n",
       "      <td>25.0</td>\n",
       "      <td>0</td>\n",
       "      <td>Санкт-Петербург</td>\n",
       "      <td>18863.0</td>\n",
       "      <td>16028.0</td>\n",
       "      <td>1.0</td>\n",
       "      <td>482.0</td>\n",
       "      <td>2.0</td>\n",
       "      <td>755.0</td>\n",
       "      <td>NaN</td>\n",
       "      <td>120370.37</td>\n",
       "      <td>четверг</td>\n",
       "      <td>3</td>\n",
       "      <td>2019</td>\n",
       "      <td>16.03</td>\n",
       "      <td>13000.0</td>\n",
       "      <td>другой</td>\n",
       "    </tr>\n",
       "    <tr>\n",
       "      <th>1</th>\n",
       "      <td>7</td>\n",
       "      <td>3350000.0</td>\n",
       "      <td>40.4</td>\n",
       "      <td>2018-12-04</td>\n",
       "      <td>1</td>\n",
       "      <td>2.6</td>\n",
       "      <td>11</td>\n",
       "      <td>18.6</td>\n",
       "      <td>1</td>\n",
       "      <td>0</td>\n",
       "      <td>False</td>\n",
       "      <td>False</td>\n",
       "      <td>11.0</td>\n",
       "      <td>2</td>\n",
       "      <td>Шушары</td>\n",
       "      <td>12817.0</td>\n",
       "      <td>18603.0</td>\n",
       "      <td>0.0</td>\n",
       "      <td>NaN</td>\n",
       "      <td>0.0</td>\n",
       "      <td>NaN</td>\n",
       "      <td>81.0</td>\n",
       "      <td>82920.79</td>\n",
       "      <td>вторник</td>\n",
       "      <td>12</td>\n",
       "      <td>2018</td>\n",
       "      <td>18.60</td>\n",
       "      <td>3350.0</td>\n",
       "      <td>первый</td>\n",
       "    </tr>\n",
       "    <tr>\n",
       "      <th>2</th>\n",
       "      <td>10</td>\n",
       "      <td>5196000.0</td>\n",
       "      <td>56.0</td>\n",
       "      <td>2015-08-20</td>\n",
       "      <td>2</td>\n",
       "      <td>2.6</td>\n",
       "      <td>5</td>\n",
       "      <td>34.3</td>\n",
       "      <td>4</td>\n",
       "      <td>0</td>\n",
       "      <td>False</td>\n",
       "      <td>False</td>\n",
       "      <td>8.3</td>\n",
       "      <td>0</td>\n",
       "      <td>Санкт-Петербург</td>\n",
       "      <td>21741.0</td>\n",
       "      <td>13933.0</td>\n",
       "      <td>1.0</td>\n",
       "      <td>90.0</td>\n",
       "      <td>2.0</td>\n",
       "      <td>574.0</td>\n",
       "      <td>558.0</td>\n",
       "      <td>92785.71</td>\n",
       "      <td>четверг</td>\n",
       "      <td>8</td>\n",
       "      <td>2015</td>\n",
       "      <td>13.93</td>\n",
       "      <td>5196.0</td>\n",
       "      <td>другой</td>\n",
       "    </tr>\n",
       "    <tr>\n",
       "      <th>3</th>\n",
       "      <td>0</td>\n",
       "      <td>64900000.0</td>\n",
       "      <td>159.0</td>\n",
       "      <td>2015-07-24</td>\n",
       "      <td>3</td>\n",
       "      <td>2.6</td>\n",
       "      <td>14</td>\n",
       "      <td>45.0</td>\n",
       "      <td>9</td>\n",
       "      <td>0</td>\n",
       "      <td>False</td>\n",
       "      <td>False</td>\n",
       "      <td>9.5</td>\n",
       "      <td>0</td>\n",
       "      <td>Санкт-Петербург</td>\n",
       "      <td>28098.0</td>\n",
       "      <td>6800.0</td>\n",
       "      <td>2.0</td>\n",
       "      <td>84.0</td>\n",
       "      <td>3.0</td>\n",
       "      <td>234.0</td>\n",
       "      <td>424.0</td>\n",
       "      <td>408176.10</td>\n",
       "      <td>пятница</td>\n",
       "      <td>7</td>\n",
       "      <td>2015</td>\n",
       "      <td>6.80</td>\n",
       "      <td>64900.0</td>\n",
       "      <td>другой</td>\n",
       "    </tr>\n",
       "    <tr>\n",
       "      <th>4</th>\n",
       "      <td>2</td>\n",
       "      <td>10000000.0</td>\n",
       "      <td>100.0</td>\n",
       "      <td>2018-06-19</td>\n",
       "      <td>2</td>\n",
       "      <td>3.0</td>\n",
       "      <td>14</td>\n",
       "      <td>32.0</td>\n",
       "      <td>13</td>\n",
       "      <td>0</td>\n",
       "      <td>False</td>\n",
       "      <td>False</td>\n",
       "      <td>41.0</td>\n",
       "      <td>0</td>\n",
       "      <td>Санкт-Петербург</td>\n",
       "      <td>31856.0</td>\n",
       "      <td>8098.0</td>\n",
       "      <td>2.0</td>\n",
       "      <td>112.0</td>\n",
       "      <td>1.0</td>\n",
       "      <td>48.0</td>\n",
       "      <td>121.0</td>\n",
       "      <td>100000.00</td>\n",
       "      <td>вторник</td>\n",
       "      <td>6</td>\n",
       "      <td>2018</td>\n",
       "      <td>8.10</td>\n",
       "      <td>10000.0</td>\n",
       "      <td>другой</td>\n",
       "    </tr>\n",
       "  </tbody>\n",
       "</table>\n",
       "</div>"
      ],
      "text/plain": [
       "   total_images  last_price  total_area first_day_exposition  rooms  \\\n",
       "0            20  13000000.0       108.0           2019-03-07      3   \n",
       "1             7   3350000.0        40.4           2018-12-04      1   \n",
       "2            10   5196000.0        56.0           2015-08-20      2   \n",
       "3             0  64900000.0       159.0           2015-07-24      3   \n",
       "4             2  10000000.0       100.0           2018-06-19      2   \n",
       "\n",
       "   ceiling_height  floors_total  living_area  floor is_apartment  studio  \\\n",
       "0             2.7            16         51.0      8            0   False   \n",
       "1             2.6            11         18.6      1            0   False   \n",
       "2             2.6             5         34.3      4            0   False   \n",
       "3             2.6            14         45.0      9            0   False   \n",
       "4             3.0            14         32.0     13            0   False   \n",
       "\n",
       "   open_plan  kitchen_area  balcony    locality_name  airports_nearest  \\\n",
       "0      False          25.0        0  Санкт-Петербург           18863.0   \n",
       "1      False          11.0        2           Шушары           12817.0   \n",
       "2      False           8.3        0  Санкт-Петербург           21741.0   \n",
       "3      False           9.5        0  Санкт-Петербург           28098.0   \n",
       "4      False          41.0        0  Санкт-Петербург           31856.0   \n",
       "\n",
       "   cityCenters_nearest  parks_around3000  parks_nearest  ponds_around3000  \\\n",
       "0              16028.0               1.0          482.0               2.0   \n",
       "1              18603.0               0.0            NaN               0.0   \n",
       "2              13933.0               1.0           90.0               2.0   \n",
       "3               6800.0               2.0           84.0               3.0   \n",
       "4               8098.0               2.0          112.0               1.0   \n",
       "\n",
       "   ponds_nearest  days_exposition  m_2_price      day  month  year  \\\n",
       "0          755.0              NaN  120370.37  четверг      3  2019   \n",
       "1            NaN             81.0   82920.79  вторник     12  2018   \n",
       "2          574.0            558.0   92785.71  четверг      8  2015   \n",
       "3          234.0            424.0  408176.10  пятница      7  2015   \n",
       "4           48.0            121.0  100000.00  вторник      6  2018   \n",
       "\n",
       "   cityCenters_nearest_km  last_price_thousand floor_type  \n",
       "0                   16.03              13000.0     другой  \n",
       "1                   18.60               3350.0     первый  \n",
       "2                   13.93               5196.0     другой  \n",
       "3                    6.80              64900.0     другой  \n",
       "4                    8.10              10000.0     другой  "
      ]
     },
     "metadata": {},
     "output_type": "display_data"
    }
   ],
   "source": [
    "display(data.head())"
   ]
  },
  {
   "cell_type": "code",
   "execution_count": 68,
   "metadata": {},
   "outputs": [
    {
     "data": {
      "text/html": [
       "<div>\n",
       "<style scoped>\n",
       "    .dataframe tbody tr th:only-of-type {\n",
       "        vertical-align: middle;\n",
       "    }\n",
       "\n",
       "    .dataframe tbody tr th {\n",
       "        vertical-align: top;\n",
       "    }\n",
       "\n",
       "    .dataframe thead th {\n",
       "        text-align: right;\n",
       "    }\n",
       "</style>\n",
       "<table border=\"1\" class=\"dataframe\">\n",
       "  <thead>\n",
       "    <tr style=\"text-align: right;\">\n",
       "      <th></th>\n",
       "      <th>total_area</th>\n",
       "      <th>m_2_price</th>\n",
       "    </tr>\n",
       "    <tr>\n",
       "      <th>locality_name</th>\n",
       "      <th></th>\n",
       "      <th></th>\n",
       "    </tr>\n",
       "  </thead>\n",
       "  <tbody>\n",
       "    <tr>\n",
       "      <th>Санкт-Петербург</th>\n",
       "      <td>15716</td>\n",
       "      <td>114819.346913</td>\n",
       "    </tr>\n",
       "    <tr>\n",
       "      <th>Мурино</th>\n",
       "      <td>590</td>\n",
       "      <td>86087.512017</td>\n",
       "    </tr>\n",
       "    <tr>\n",
       "      <th>Кудрово</th>\n",
       "      <td>471</td>\n",
       "      <td>95326.179108</td>\n",
       "    </tr>\n",
       "    <tr>\n",
       "      <th>Шушары</th>\n",
       "      <td>440</td>\n",
       "      <td>78677.364318</td>\n",
       "    </tr>\n",
       "    <tr>\n",
       "      <th>Всеволожск</th>\n",
       "      <td>397</td>\n",
       "      <td>68719.320378</td>\n",
       "    </tr>\n",
       "    <tr>\n",
       "      <th>Пушкин</th>\n",
       "      <td>369</td>\n",
       "      <td>103125.819377</td>\n",
       "    </tr>\n",
       "    <tr>\n",
       "      <th>Колпино</th>\n",
       "      <td>338</td>\n",
       "      <td>75424.579112</td>\n",
       "    </tr>\n",
       "    <tr>\n",
       "      <th>Парголово</th>\n",
       "      <td>327</td>\n",
       "      <td>90175.913089</td>\n",
       "    </tr>\n",
       "    <tr>\n",
       "      <th>Гатчина</th>\n",
       "      <td>307</td>\n",
       "      <td>68746.146515</td>\n",
       "    </tr>\n",
       "    <tr>\n",
       "      <th>Выборг</th>\n",
       "      <td>235</td>\n",
       "      <td>58238.143277</td>\n",
       "    </tr>\n",
       "  </tbody>\n",
       "</table>\n",
       "</div>"
      ],
      "text/plain": [
       "                 total_area      m_2_price\n",
       "locality_name                             \n",
       "Санкт-Петербург       15716  114819.346913\n",
       "Мурино                  590   86087.512017\n",
       "Кудрово                 471   95326.179108\n",
       "Шушары                  440   78677.364318\n",
       "Всеволожск              397   68719.320378\n",
       "Пушкин                  369  103125.819377\n",
       "Колпино                 338   75424.579112\n",
       "Парголово               327   90175.913089\n",
       "Гатчина                 307   68746.146515\n",
       "Выборг                  235   58238.143277"
      ]
     },
     "metadata": {},
     "output_type": "display_data"
    }
   ],
   "source": [
    "price_stat = data.pivot_table(index='locality_name', values='m_2_price', aggfunc='mean')\n",
    "adt_stat = data.pivot_table(index='locality_name', values='total_area', aggfunc='count')\n",
    "\n",
    "final_stat = adt_stat.join(price_stat).sort_values(by = 'total_area', ascending=False)\n",
    "display(final_stat.head(10))\n"
   ]
  },
  {
   "cell_type": "code",
   "execution_count": 69,
   "metadata": {},
   "outputs": [
    {
     "data": {
      "text/html": [
       "<div>\n",
       "<style scoped>\n",
       "    .dataframe tbody tr th:only-of-type {\n",
       "        vertical-align: middle;\n",
       "    }\n",
       "\n",
       "    .dataframe tbody tr th {\n",
       "        vertical-align: top;\n",
       "    }\n",
       "\n",
       "    .dataframe thead th {\n",
       "        text-align: right;\n",
       "    }\n",
       "</style>\n",
       "<table border=\"1\" class=\"dataframe\">\n",
       "  <thead>\n",
       "    <tr style=\"text-align: right;\">\n",
       "      <th></th>\n",
       "      <th>total_area</th>\n",
       "      <th>m_2_price</th>\n",
       "    </tr>\n",
       "    <tr>\n",
       "      <th>locality_name</th>\n",
       "      <th></th>\n",
       "      <th></th>\n",
       "    </tr>\n",
       "  </thead>\n",
       "  <tbody>\n",
       "    <tr>\n",
       "      <th>Санкт-Петербург</th>\n",
       "      <td>15716</td>\n",
       "      <td>114819.346913</td>\n",
       "    </tr>\n",
       "    <tr>\n",
       "      <th>Мурино</th>\n",
       "      <td>590</td>\n",
       "      <td>86087.512017</td>\n",
       "    </tr>\n",
       "    <tr>\n",
       "      <th>Кудрово</th>\n",
       "      <td>471</td>\n",
       "      <td>95326.179108</td>\n",
       "    </tr>\n",
       "    <tr>\n",
       "      <th>Шушары</th>\n",
       "      <td>440</td>\n",
       "      <td>78677.364318</td>\n",
       "    </tr>\n",
       "    <tr>\n",
       "      <th>Всеволожск</th>\n",
       "      <td>397</td>\n",
       "      <td>68719.320378</td>\n",
       "    </tr>\n",
       "    <tr>\n",
       "      <th>Пушкин</th>\n",
       "      <td>369</td>\n",
       "      <td>103125.819377</td>\n",
       "    </tr>\n",
       "    <tr>\n",
       "      <th>Колпино</th>\n",
       "      <td>338</td>\n",
       "      <td>75424.579112</td>\n",
       "    </tr>\n",
       "    <tr>\n",
       "      <th>Парголово</th>\n",
       "      <td>327</td>\n",
       "      <td>90175.913089</td>\n",
       "    </tr>\n",
       "    <tr>\n",
       "      <th>Гатчина</th>\n",
       "      <td>307</td>\n",
       "      <td>68746.146515</td>\n",
       "    </tr>\n",
       "    <tr>\n",
       "      <th>Выборг</th>\n",
       "      <td>235</td>\n",
       "      <td>58238.143277</td>\n",
       "    </tr>\n",
       "  </tbody>\n",
       "</table>\n",
       "</div>"
      ],
      "text/plain": [
       "                 total_area      m_2_price\n",
       "locality_name                             \n",
       "Санкт-Петербург       15716  114819.346913\n",
       "Мурино                  590   86087.512017\n",
       "Кудрово                 471   95326.179108\n",
       "Шушары                  440   78677.364318\n",
       "Всеволожск              397   68719.320378\n",
       "Пушкин                  369  103125.819377\n",
       "Колпино                 338   75424.579112\n",
       "Парголово               327   90175.913089\n",
       "Гатчина                 307   68746.146515\n",
       "Выборг                  235   58238.143277"
      ]
     },
     "metadata": {},
     "output_type": "display_data"
    }
   ],
   "source": [
    "top_10_data = final_stat.query('total_area >= 235')\n",
    "display(top_10_data)"
   ]
  },
  {
   "cell_type": "markdown",
   "metadata": {},
   "source": [
    "вывели топ 10 городов по количеству объявлений"
   ]
  },
  {
   "cell_type": "code",
   "execution_count": 70,
   "metadata": {
    "scrolled": false
   },
   "outputs": [
    {
     "data": {
      "text/html": [
       "<div>\n",
       "<style scoped>\n",
       "    .dataframe tbody tr th:only-of-type {\n",
       "        vertical-align: middle;\n",
       "    }\n",
       "\n",
       "    .dataframe tbody tr th {\n",
       "        vertical-align: top;\n",
       "    }\n",
       "\n",
       "    .dataframe thead th {\n",
       "        text-align: right;\n",
       "    }\n",
       "</style>\n",
       "<table border=\"1\" class=\"dataframe\">\n",
       "  <thead>\n",
       "    <tr style=\"text-align: right;\">\n",
       "      <th></th>\n",
       "      <th>total_area</th>\n",
       "      <th>m_2_price</th>\n",
       "    </tr>\n",
       "    <tr>\n",
       "      <th>locality_name</th>\n",
       "      <th></th>\n",
       "      <th></th>\n",
       "    </tr>\n",
       "  </thead>\n",
       "  <tbody>\n",
       "    <tr>\n",
       "      <th>Санкт-Петербург</th>\n",
       "      <td>15716</td>\n",
       "      <td>114819.3</td>\n",
       "    </tr>\n",
       "    <tr>\n",
       "      <th>Пушкин</th>\n",
       "      <td>369</td>\n",
       "      <td>103125.8</td>\n",
       "    </tr>\n",
       "    <tr>\n",
       "      <th>Кудрово</th>\n",
       "      <td>471</td>\n",
       "      <td>95326.2</td>\n",
       "    </tr>\n",
       "    <tr>\n",
       "      <th>Парголово</th>\n",
       "      <td>327</td>\n",
       "      <td>90175.9</td>\n",
       "    </tr>\n",
       "    <tr>\n",
       "      <th>Мурино</th>\n",
       "      <td>590</td>\n",
       "      <td>86087.5</td>\n",
       "    </tr>\n",
       "    <tr>\n",
       "      <th>Шушары</th>\n",
       "      <td>440</td>\n",
       "      <td>78677.4</td>\n",
       "    </tr>\n",
       "    <tr>\n",
       "      <th>Колпино</th>\n",
       "      <td>338</td>\n",
       "      <td>75424.6</td>\n",
       "    </tr>\n",
       "    <tr>\n",
       "      <th>Гатчина</th>\n",
       "      <td>307</td>\n",
       "      <td>68746.1</td>\n",
       "    </tr>\n",
       "    <tr>\n",
       "      <th>Всеволожск</th>\n",
       "      <td>397</td>\n",
       "      <td>68719.3</td>\n",
       "    </tr>\n",
       "    <tr>\n",
       "      <th>Выборг</th>\n",
       "      <td>235</td>\n",
       "      <td>58238.1</td>\n",
       "    </tr>\n",
       "  </tbody>\n",
       "</table>\n",
       "</div>"
      ],
      "text/plain": [
       "                 total_area  m_2_price\n",
       "locality_name                         \n",
       "Санкт-Петербург       15716   114819.3\n",
       "Пушкин                  369   103125.8\n",
       "Кудрово                 471    95326.2\n",
       "Парголово               327    90175.9\n",
       "Мурино                  590    86087.5\n",
       "Шушары                  440    78677.4\n",
       "Колпино                 338    75424.6\n",
       "Гатчина                 307    68746.1\n",
       "Всеволожск              397    68719.3\n",
       "Выборг                  235    58238.1"
      ]
     },
     "metadata": {},
     "output_type": "display_data"
    },
    {
     "data": {
      "image/png": "[encoded data removed]",
      "text/plain": [
       "<Figure size 1440x720 with 1 Axes>"
      ]
     },
     "metadata": {
      "needs_background": "light"
     },
     "output_type": "display_data"
    }
   ],
   "source": [
    "top_10_data.sort_values(by='m_2_price', ascending=False).plot(kind='barh', figsize=(20, 10));\n",
    "display(top_10_data.sort_values(by='m_2_price', ascending=False).round(1))"
   ]
  },
  {
   "cell_type": "markdown",
   "metadata": {},
   "source": [
    "Самое большое кличество объявлений и самый высокий ценник за квадратный метр в Санкт-Петербурге\n",
    "Наименьшая стоимость квадратного метра и наименьшее количество объявлений в выборке топ-10 - в Выборге"
   ]
  },
  {
   "cell_type": "markdown",
   "metadata": {},
   "source": [
    "Зависимость стоимости объекта от расстояния до центра города"
   ]
  },
  {
   "cell_type": "code",
   "execution_count": 71,
   "metadata": {
    "scrolled": false
   },
   "outputs": [],
   "source": [
    "#создадим переменную, в которой будут данные только по Санкт-Петербургу\n",
    "spb_flats_data = data.query('locality_name == \"Санкт-Петербург\"')"
   ]
  },
  {
   "cell_type": "code",
   "execution_count": 72,
   "metadata": {
    "scrolled": false
   },
   "outputs": [
    {
     "name": "stdout",
     "output_type": "stream",
     "text": [
      "<class 'pandas.core.frame.DataFrame'>\n",
      "Int64Index: 15716 entries, 0 to 23648\n",
      "Data columns (total 29 columns):\n",
      " #   Column                  Non-Null Count  Dtype         \n",
      "---  ------                  --------------  -----         \n",
      " 0   total_images            15716 non-null  int64         \n",
      " 1   last_price              15716 non-null  float64       \n",
      " 2   total_area              15716 non-null  float64       \n",
      " 3   first_day_exposition    15716 non-null  datetime64[ns]\n",
      " 4   rooms                   15716 non-null  int64         \n",
      " 5   ceiling_height          15715 non-null  float64       \n",
      " 6   floors_total            15716 non-null  int64         \n",
      " 7   living_area             15716 non-null  float64       \n",
      " 8   floor                   15716 non-null  int64         \n",
      " 9   is_apartment            15716 non-null  object        \n",
      " 10  studio                  15716 non-null  bool          \n",
      " 11  open_plan               15716 non-null  bool          \n",
      " 12  kitchen_area            15606 non-null  float64       \n",
      " 13  balcony                 15716 non-null  int64         \n",
      " 14  locality_name           15716 non-null  object        \n",
      " 15  airports_nearest        15631 non-null  float64       \n",
      " 16  cityCenters_nearest     15655 non-null  float64       \n",
      " 17  parks_around3000        15655 non-null  float64       \n",
      " 18  parks_nearest           7280 non-null   float64       \n",
      " 19  ponds_around3000        15655 non-null  float64       \n",
      " 20  ponds_nearest           7978 non-null   float64       \n",
      " 21  days_exposition         13634 non-null  float64       \n",
      " 22  m_2_price               15716 non-null  float64       \n",
      " 23  day                     15716 non-null  object        \n",
      " 24  month                   15716 non-null  int64         \n",
      " 25  year                    15716 non-null  int64         \n",
      " 26  cityCenters_nearest_km  15655 non-null  float64       \n",
      " 27  last_price_thousand     15716 non-null  float64       \n",
      " 28  floor_type              15716 non-null  object        \n",
      "dtypes: bool(2), datetime64[ns](1), float64(15), int64(7), object(4)\n",
      "memory usage: 3.4+ MB\n"
     ]
    }
   ],
   "source": [
    "spb_flats_data.info()"
   ]
  },
  {
   "cell_type": "code",
   "execution_count": 73,
   "metadata": {},
   "outputs": [
    {
     "data": {
      "text/plain": [
       "0        (15.5, 29.49]\n",
       "2         (13.3, 15.5]\n",
       "3        (6.56, 11.22]\n",
       "4        (6.56, 11.22]\n",
       "7        (11.22, 13.3]\n",
       "             ...      \n",
       "23640    (15.5, 29.49]\n",
       "23641    (0.179, 6.56]\n",
       "23642    (0.179, 6.56]\n",
       "23645    (0.179, 6.56]\n",
       "23648    (6.56, 11.22]\n",
       "Name: cityCenters_nearest_km, Length: 15716, dtype: category\n",
       "Categories (5, interval[float64]): [(0.179, 6.56] < (6.56, 11.22] < (11.22, 13.3] < (13.3, 15.5] < (15.5, 29.49]]"
      ]
     },
     "execution_count": 73,
     "metadata": {},
     "output_type": "execute_result"
    }
   ],
   "source": [
    "#разобьем на диапазоны расстояния до центра\n",
    "pd.qcut(spb_flats_data['cityCenters_nearest_km'], 5)"
   ]
  },
  {
   "cell_type": "markdown",
   "metadata": {},
   "source": [
    "Посчитаем среднюю стоимость километра, разбив километраж на 5 категорий"
   ]
  },
  {
   "cell_type": "code",
   "execution_count": 74,
   "metadata": {
    "scrolled": false
   },
   "outputs": [
    {
     "name": "stderr",
     "output_type": "stream",
     "text": [
      "/tmp/ipykernel_608/973119747.py:3: SettingWithCopyWarning: \n",
      "A value is trying to be set on a copy of a slice from a DataFrame.\n",
      "Try using .loc[row_indexer,col_indexer] = value instead\n",
      "\n",
      "See the caveats in the documentation: https://pandas.pydata.org/pandas-docs/stable/user_guide/indexing.html#returning-a-view-versus-a-copy\n",
      "  spb_flats_data['km_category'] = pd.qcut(spb_flats_data['cityCenters_nearest_km'],\n"
     ]
    },
    {
     "data": {
      "text/html": [
       "<div>\n",
       "<style scoped>\n",
       "    .dataframe tbody tr th:only-of-type {\n",
       "        vertical-align: middle;\n",
       "    }\n",
       "\n",
       "    .dataframe tbody tr th {\n",
       "        vertical-align: top;\n",
       "    }\n",
       "\n",
       "    .dataframe thead th {\n",
       "        text-align: right;\n",
       "    }\n",
       "</style>\n",
       "<table border=\"1\" class=\"dataframe\">\n",
       "  <thead>\n",
       "    <tr style=\"text-align: right;\">\n",
       "      <th></th>\n",
       "      <th>cityCenters_nearest_km</th>\n",
       "      <th>last_price_thousand</th>\n",
       "      <th>km_price</th>\n",
       "    </tr>\n",
       "    <tr>\n",
       "      <th>km_category</th>\n",
       "      <th></th>\n",
       "      <th></th>\n",
       "      <th></th>\n",
       "    </tr>\n",
       "  </thead>\n",
       "  <tbody>\n",
       "    <tr>\n",
       "      <th>до 6,56 км</th>\n",
       "      <td>13211.04</td>\n",
       "      <td>46779140.5</td>\n",
       "      <td>3540.9</td>\n",
       "    </tr>\n",
       "    <tr>\n",
       "      <th>до 11,22 км</th>\n",
       "      <td>29306.70</td>\n",
       "      <td>25731746.4</td>\n",
       "      <td>878.0</td>\n",
       "    </tr>\n",
       "    <tr>\n",
       "      <th>до 13,3 км</th>\n",
       "      <td>38479.25</td>\n",
       "      <td>18758416.3</td>\n",
       "      <td>487.5</td>\n",
       "    </tr>\n",
       "    <tr>\n",
       "      <th>до 15,5 км</th>\n",
       "      <td>45152.90</td>\n",
       "      <td>18053299.6</td>\n",
       "      <td>399.8</td>\n",
       "    </tr>\n",
       "    <tr>\n",
       "      <th>до 30 км</th>\n",
       "      <td>55463.32</td>\n",
       "      <td>16430381.3</td>\n",
       "      <td>296.2</td>\n",
       "    </tr>\n",
       "  </tbody>\n",
       "</table>\n",
       "</div>"
      ],
      "text/plain": [
       "             cityCenters_nearest_km  last_price_thousand  km_price\n",
       "km_category                                                       \n",
       "до 6,56 км                 13211.04           46779140.5    3540.9\n",
       "до 11,22 км                29306.70           25731746.4     878.0\n",
       "до 13,3 км                 38479.25           18758416.3     487.5\n",
       "до 15,5 км                 45152.90           18053299.6     399.8\n",
       "до 30 км                   55463.32           16430381.3     296.2"
      ]
     },
     "metadata": {},
     "output_type": "display_data"
    }
   ],
   "source": [
    "list_1 = ['до 6,56 км','до 11,22 км', 'до 13,3 км', 'до 15,5 км', 'до 30 км']\n",
    "\n",
    "spb_flats_data['km_category'] = pd.qcut(spb_flats_data['cityCenters_nearest_km'],\n",
    "                                       q=[0, .2, .4, .6, .8, 1],\n",
    "                                       labels=list_1)\n",
    "total_km_category = spb_flats_data.groupby('km_category').agg({'cityCenters_nearest_km' : 'sum'})\n",
    "total_km_category['last_price_thousand'] = spb_flats_data.groupby('km_category').agg({'last_price_thousand' : 'sum'}).round(1)\n",
    "total_km_category['km_price'] = (total_km_category['last_price_thousand'] / total_km_category['cityCenters_nearest_km']).round(1)\n",
    "\n",
    "display(total_km_category)\n"
   ]
  },
  {
   "cell_type": "code",
   "execution_count": 75,
   "metadata": {},
   "outputs": [
    {
     "data": {
      "text/plain": [
       "<AxesSubplot:xlabel='km_category'>"
      ]
     },
     "execution_count": 75,
     "metadata": {},
     "output_type": "execute_result"
    },
    {
     "data": {
      "image/png": "[encoded data removed]",
      "text/plain": [
       "<Figure size 432x288 with 1 Axes>"
      ]
     },
     "metadata": {
      "needs_background": "light"
     },
     "output_type": "display_data"
    }
   ],
   "source": [
    "total_km_category.plot(y='km_price', kind='bar', grid=True)"
   ]
  },
  {
   "cell_type": "markdown",
   "metadata": {},
   "source": [
    "Чем дальше от центра города - тем ниже стоимость одного км."
   ]
  },
  {
   "cell_type": "markdown",
   "metadata": {},
   "source": [
    "### Общий вывод"
   ]
  },
  {
   "cell_type": "markdown",
   "metadata": {},
   "source": [
    "В этом проекте были исследованы следующие парметры:\n",
    "\n",
    "    - общая площадь квартир: большая часть из них имеет площадь от 25 до 100 кв.м;\n",
    "    \n",
    "    - жилая площадь: много квартир с жилой площадью в районе 20 кв.м, так же достаточно большой пласт недвижимости в районе 28-60 жилых метров;\n",
    "    \n",
    "    - площадь кухни: преобладают кухни площадью от 5 до 15 кв.м;\n",
    "    \n",
    "    - цена объекта: основная масса квартир находится в ценовом диапазоне до 10 млн;\n",
    "    \n",
    "    - количество комнат: аибольшее количество предложений это 1-2 комнатные квартиры, немного меньше на рынке квартир 3х комнатных. Встречаются экземпляры с количеством комнат до 19, но скорее эксклюзив и таких значений лчень мало;\n",
    "    \n",
    "    - высота потолков: варьируется от 2,5 до 3,2. Преобладает высота потолков в районе 2,7 м;\n",
    "    \n",
    "    - этаж квартиры: наибольшее количество квартир находится до 10 этажа. Самое большое количество объявлений о продаже квартир на 2м этаже после 10го этажа количество объявлений идет на спад, все то, что выше 25 этажа можно считать эксклюзивными предложениями;\n",
    "    \n",
    "    - тип этажа квартиры (первый, последний, другой): Наименьшее количество квартир продается на 1м и последнем этажах. На рынке преобладают объявления с этажностью категории \"другой\";\n",
    "    \n",
    "    - общее количество этажей в доме: самые распространенные дома - 5 и 9 этажные;\n",
    "    \n",
    "    - расстояние до центра города: основная масса недвижимости находится в радиусе 18 км;\n",
    "    \n",
    "    - расстояние до аэропорта: варьируется от 10 до 55 км;\n",
    "    \n",
    "    - расстояние до парка: по имеющимся данным расстояние до ближайшего парка – в основном не больше, чем 750 м;\n",
    "    \n",
    "    - день публикации объявления: в будни количество объявлений размещается гораздо больше, чем в выходные дни;\n",
    "    \n",
    "    - месяц публикации объявления: летом и в новогодние праздники количество объявлений снижается. Пик публикаций приходится на начало года с февраля по апрель;\n",
    "    \n",
    "    - скорость продажи квартир: в основном квартиры продаются в течение первых 100 дней;\n",
    "    \n",
    "    - зависимость площади квартиры и ее стоимости: корреляция общей площади квартиры и ее стоимости равна 0.65, это говорит о прямой зависимости между двумя этими показателями;\n",
    "    \n",
    "    - зависимость жилой площади квартиры, площади кухни и стоимости недвижимости: корреляция 0,55 и 0,45 соответственно;\n",
    "    \n",
    "    - зависимость количества комнат и стоимости квартиры: корреляция 0,36, зависимость стремится к 0;\n",
    "    \n",
    "    - зависимость типа этажа и стоимости квартиры: квартиры на 1 и последнем этажах ниже в стоимости, чем квартиры на других этажах, но между последним и другими этажами разница не критичная;\n",
    "    \n",
    "    - зависимость дня размещения и стоимости квартиры: не прослеживается;\n",
    "    \n",
    "    - зависимость месяца размещения и стоимости квартиры: можно уловить волнообразное движение: с января по март цена вырастала, потом до 6 месяца снижалась, и с 7-8 месяца наблюдается подъем и неброльшое снижение к новому году;\n",
    "    \n",
    "    - зависимость года размещения и стоимости квартиры:с 2014 до 2016 года цена на недвижимсоть снижалась, в период с 2016 по 2018 держалась приблизительно на одном уровне и в 2019 году начался рост;\n",
    "    \n",
    "    - количество объявлений и цена за кв.м.: самое большое количество объявлений в Санкт-Петербурге (15 716 шт.), как и самая высокая стоимость за кв.м (114 819,30 руб), наименьшая стоимость квадратного метра (58 238.10 руб) и наименьшее количество объявлений (235 шт.) в топ-10 - в Выборге;\n",
    "    \n",
    "    - средняя стоимость 1 км по удалению от центра: чем дальше от центра - тем ниже средняя стоимость 1 км и соответственно ниже стоимость недвижимости.\n",
    "    \n",
    "Из вышеизложенного можно сделать вывод, что удаленность от центра города (имеется ввиду областной центр, в нашем случае это Санкт-Петербург), площадь квартиры (в том числе общая, жилая), этаж, на котором располагается квартира - имеют наибольшее влияние на ценообразование. Так же на этот параметр вляет \"сезонность\": в летние месяци и новый год цены на квариты ниже, чем в другое время. Думаю, это связано с праздниками и отпусками. \n",
    "День недели, когда было размещено объявление никак не влиет на цену квартиры, однако в будни публикуется гораздо больше объявлений, нежели в выходные.    \n"
   ]
  }
 ],
 "metadata": {
  "ExecuteTimeLog": [
   {
    "duration": 92,
    "start_time": "2023-03-06T12:01:03.141Z"
   },
   {
    "duration": 76,
    "start_time": "2023-03-06T12:06:36.593Z"
   },
   {
    "duration": 757,
    "start_time": "2023-03-06T12:07:08.920Z"
   },
   {
    "duration": 127,
    "start_time": "2023-03-06T12:09:55.518Z"
   },
   {
    "duration": 87,
    "start_time": "2023-03-06T12:10:05.799Z"
   },
   {
    "duration": 94,
    "start_time": "2023-03-06T12:10:22.889Z"
   },
   {
    "duration": 105,
    "start_time": "2023-03-06T12:11:50.056Z"
   },
   {
    "duration": 102,
    "start_time": "2023-03-06T12:12:01.062Z"
   },
   {
    "duration": 102,
    "start_time": "2023-03-06T12:12:24.752Z"
   },
   {
    "duration": 118,
    "start_time": "2023-03-06T12:13:22.134Z"
   },
   {
    "duration": 2622,
    "start_time": "2023-03-06T12:14:27.903Z"
   },
   {
    "duration": 2441,
    "start_time": "2023-03-06T12:17:05.054Z"
   },
   {
    "duration": 14,
    "start_time": "2023-03-06T12:19:27.493Z"
   },
   {
    "duration": 2333,
    "start_time": "2023-03-06T12:20:45.499Z"
   },
   {
    "duration": 16,
    "start_time": "2023-03-06T12:21:18.409Z"
   },
   {
    "duration": 15,
    "start_time": "2023-03-06T12:24:42.500Z"
   },
   {
    "duration": 10,
    "start_time": "2023-03-06T12:49:58.914Z"
   },
   {
    "duration": 13,
    "start_time": "2023-03-06T12:54:37.102Z"
   },
   {
    "duration": 10,
    "start_time": "2023-03-06T13:12:25.161Z"
   },
   {
    "duration": 16,
    "start_time": "2023-03-06T13:17:58.340Z"
   },
   {
    "duration": 13,
    "start_time": "2023-03-06T13:23:50.685Z"
   },
   {
    "duration": 99,
    "start_time": "2023-03-06T13:26:00.492Z"
   },
   {
    "duration": 10,
    "start_time": "2023-03-06T13:26:09.235Z"
   },
   {
    "duration": 26,
    "start_time": "2023-03-06T13:29:59.416Z"
   },
   {
    "duration": 125,
    "start_time": "2023-03-06T13:32:52.085Z"
   },
   {
    "duration": 24,
    "start_time": "2023-03-06T13:35:33.725Z"
   },
   {
    "duration": 15,
    "start_time": "2023-03-06T13:42:19.896Z"
   },
   {
    "duration": 12,
    "start_time": "2023-03-06T13:42:25.299Z"
   },
   {
    "duration": 7,
    "start_time": "2023-03-06T13:42:27.786Z"
   },
   {
    "duration": 5,
    "start_time": "2023-03-06T13:42:33.518Z"
   },
   {
    "duration": 9,
    "start_time": "2023-03-06T13:42:58.918Z"
   },
   {
    "duration": 12,
    "start_time": "2023-03-06T13:43:51.762Z"
   },
   {
    "duration": 13,
    "start_time": "2023-03-06T13:44:25.613Z"
   },
   {
    "duration": 1988,
    "start_time": "2023-03-06T13:59:11.868Z"
   },
   {
    "duration": 6,
    "start_time": "2023-03-06T14:28:08.853Z"
   },
   {
    "duration": 48,
    "start_time": "2023-03-07T08:55:13.645Z"
   },
   {
    "duration": 2999,
    "start_time": "2023-03-07T08:55:28.815Z"
   },
   {
    "duration": 10,
    "start_time": "2023-03-07T08:55:31.816Z"
   },
   {
    "duration": 11,
    "start_time": "2023-03-07T08:55:31.828Z"
   },
   {
    "duration": 78,
    "start_time": "2023-03-07T08:55:31.840Z"
   },
   {
    "duration": 0,
    "start_time": "2023-03-07T08:55:31.919Z"
   },
   {
    "duration": 46,
    "start_time": "2023-03-07T08:57:10.195Z"
   },
   {
    "duration": 6,
    "start_time": "2023-03-07T08:57:40.898Z"
   },
   {
    "duration": 5,
    "start_time": "2023-03-07T08:59:20.119Z"
   },
   {
    "duration": 11,
    "start_time": "2023-03-07T09:01:51.637Z"
   },
   {
    "duration": 7,
    "start_time": "2023-03-07T09:03:00.429Z"
   },
   {
    "duration": 12,
    "start_time": "2023-03-07T09:04:51.337Z"
   },
   {
    "duration": 15,
    "start_time": "2023-03-07T09:14:28.863Z"
   },
   {
    "duration": 40,
    "start_time": "2023-03-07T09:26:13.336Z"
   },
   {
    "duration": 39,
    "start_time": "2023-03-07T09:26:18.959Z"
   },
   {
    "duration": 72,
    "start_time": "2023-03-07T09:29:04.933Z"
   },
   {
    "duration": 77,
    "start_time": "2023-03-07T09:29:25.215Z"
   },
   {
    "duration": 66,
    "start_time": "2023-03-07T09:29:47.238Z"
   },
   {
    "duration": 68,
    "start_time": "2023-03-07T09:30:51.746Z"
   },
   {
    "duration": 71,
    "start_time": "2023-03-07T09:37:11.978Z"
   },
   {
    "duration": 12,
    "start_time": "2023-03-07T09:53:43.537Z"
   },
   {
    "duration": 21,
    "start_time": "2023-03-07T09:59:59.717Z"
   },
   {
    "duration": 88,
    "start_time": "2023-03-07T10:03:25.052Z"
   },
   {
    "duration": 79,
    "start_time": "2023-03-07T10:04:47.886Z"
   },
   {
    "duration": 110,
    "start_time": "2023-03-07T10:05:06.789Z"
   },
   {
    "duration": 313,
    "start_time": "2023-03-07T10:05:20.513Z"
   },
   {
    "duration": 17,
    "start_time": "2023-03-07T10:05:54.059Z"
   },
   {
    "duration": 17,
    "start_time": "2023-03-07T10:06:23.387Z"
   },
   {
    "duration": 18,
    "start_time": "2023-03-07T10:07:03.610Z"
   },
   {
    "duration": 18,
    "start_time": "2023-03-07T10:07:45.450Z"
   },
   {
    "duration": 2005,
    "start_time": "2023-03-07T11:44:18.888Z"
   },
   {
    "duration": 2186,
    "start_time": "2023-03-07T11:44:41.146Z"
   },
   {
    "duration": 76,
    "start_time": "2023-03-07T12:14:55.407Z"
   },
   {
    "duration": 94,
    "start_time": "2023-03-07T12:20:45.394Z"
   },
   {
    "duration": 29,
    "start_time": "2023-03-07T12:20:49.913Z"
   },
   {
    "duration": 73,
    "start_time": "2023-03-07T12:20:53.775Z"
   },
   {
    "duration": 15,
    "start_time": "2023-03-07T12:20:56.742Z"
   },
   {
    "duration": 1988,
    "start_time": "2023-03-07T12:21:00.174Z"
   },
   {
    "duration": 9,
    "start_time": "2023-03-07T12:24:48.678Z"
   },
   {
    "duration": 64,
    "start_time": "2023-03-07T12:33:02.628Z"
   },
   {
    "duration": 10,
    "start_time": "2023-03-07T12:35:13.571Z"
   },
   {
    "duration": 17,
    "start_time": "2023-03-07T12:43:53.606Z"
   },
   {
    "duration": 11,
    "start_time": "2023-03-07T12:44:06.801Z"
   },
   {
    "duration": 11,
    "start_time": "2023-03-07T12:44:09.735Z"
   },
   {
    "duration": 27,
    "start_time": "2023-03-07T12:45:58.557Z"
   },
   {
    "duration": 65,
    "start_time": "2023-03-07T12:57:02.254Z"
   },
   {
    "duration": 61,
    "start_time": "2023-03-07T13:48:11.106Z"
   },
   {
    "duration": 64,
    "start_time": "2023-03-07T13:49:51.074Z"
   },
   {
    "duration": 64,
    "start_time": "2023-03-07T13:50:05.532Z"
   },
   {
    "duration": 64,
    "start_time": "2023-03-07T13:50:56.773Z"
   },
   {
    "duration": 8,
    "start_time": "2023-03-07T14:01:57.271Z"
   },
   {
    "duration": 32,
    "start_time": "2023-03-07T14:08:18.486Z"
   },
   {
    "duration": 23,
    "start_time": "2023-03-07T14:08:33.203Z"
   },
   {
    "duration": 51,
    "start_time": "2023-03-09T06:42:10.003Z"
   },
   {
    "duration": 741,
    "start_time": "2023-03-09T06:42:20.994Z"
   },
   {
    "duration": 45,
    "start_time": "2023-03-09T06:42:21.737Z"
   },
   {
    "duration": 89,
    "start_time": "2023-03-09T06:42:21.784Z"
   },
   {
    "duration": 2561,
    "start_time": "2023-03-09T06:42:21.876Z"
   },
   {
    "duration": 14,
    "start_time": "2023-03-09T06:42:24.440Z"
   },
   {
    "duration": 80,
    "start_time": "2023-03-09T06:42:24.456Z"
   },
   {
    "duration": 110,
    "start_time": "2023-03-09T06:42:24.538Z"
   },
   {
    "duration": 14,
    "start_time": "2023-03-09T06:42:24.650Z"
   },
   {
    "duration": 39,
    "start_time": "2023-03-09T06:42:24.666Z"
   },
   {
    "duration": 31,
    "start_time": "2023-03-09T06:42:24.706Z"
   },
   {
    "duration": 28,
    "start_time": "2023-03-09T06:42:24.740Z"
   },
   {
    "duration": 104,
    "start_time": "2023-03-09T06:51:02.209Z"
   },
   {
    "duration": 26,
    "start_time": "2023-03-09T06:52:02.237Z"
   },
   {
    "duration": 37,
    "start_time": "2023-03-09T06:55:10.864Z"
   },
   {
    "duration": 28,
    "start_time": "2023-03-09T07:01:09.882Z"
   },
   {
    "duration": 5,
    "start_time": "2023-03-09T07:04:11.468Z"
   },
   {
    "duration": 4,
    "start_time": "2023-03-09T07:04:23.531Z"
   },
   {
    "duration": 108,
    "start_time": "2023-03-09T07:04:34.638Z"
   },
   {
    "duration": 36,
    "start_time": "2023-03-09T07:04:45.707Z"
   },
   {
    "duration": 534,
    "start_time": "2023-03-09T07:05:09.923Z"
   },
   {
    "duration": 59,
    "start_time": "2023-03-09T07:05:10.460Z"
   },
   {
    "duration": 89,
    "start_time": "2023-03-09T07:05:10.522Z"
   },
   {
    "duration": 2681,
    "start_time": "2023-03-09T07:05:10.616Z"
   },
   {
    "duration": 15,
    "start_time": "2023-03-09T07:05:13.300Z"
   },
   {
    "duration": 43,
    "start_time": "2023-03-09T07:05:13.317Z"
   },
   {
    "duration": 79,
    "start_time": "2023-03-09T07:05:13.362Z"
   },
   {
    "duration": 10,
    "start_time": "2023-03-09T07:05:13.442Z"
   },
   {
    "duration": 17,
    "start_time": "2023-03-09T07:05:13.454Z"
   },
   {
    "duration": 66,
    "start_time": "2023-03-09T07:05:13.473Z"
   },
   {
    "duration": 95,
    "start_time": "2023-03-09T07:05:13.541Z"
   },
   {
    "duration": 38,
    "start_time": "2023-03-09T07:06:39.922Z"
   },
   {
    "duration": 31,
    "start_time": "2023-03-09T07:07:48.222Z"
   },
   {
    "duration": 28,
    "start_time": "2023-03-09T07:08:50.867Z"
   },
   {
    "duration": 28,
    "start_time": "2023-03-09T07:18:15.448Z"
   },
   {
    "duration": 94,
    "start_time": "2023-03-09T07:32:47.148Z"
   },
   {
    "duration": 146,
    "start_time": "2023-03-09T07:33:49.183Z"
   },
   {
    "duration": 50,
    "start_time": "2023-03-09T07:34:59.527Z"
   },
   {
    "duration": 7,
    "start_time": "2023-03-09T07:41:37.072Z"
   },
   {
    "duration": 68,
    "start_time": "2023-03-09T07:47:52.525Z"
   },
   {
    "duration": 14,
    "start_time": "2023-03-09T07:48:05.308Z"
   },
   {
    "duration": 68,
    "start_time": "2023-03-09T07:48:24.314Z"
   },
   {
    "duration": 9,
    "start_time": "2023-03-09T07:48:30.214Z"
   },
   {
    "duration": 132,
    "start_time": "2023-03-09T07:51:58.451Z"
   },
   {
    "duration": 10,
    "start_time": "2023-03-09T07:52:04.070Z"
   },
   {
    "duration": 117,
    "start_time": "2023-03-09T07:53:03.253Z"
   },
   {
    "duration": 11,
    "start_time": "2023-03-09T07:53:19.975Z"
   },
   {
    "duration": 83,
    "start_time": "2023-03-09T07:55:13.190Z"
   },
   {
    "duration": 76,
    "start_time": "2023-03-09T07:56:04.478Z"
   },
   {
    "duration": 120,
    "start_time": "2023-03-09T07:56:13.046Z"
   },
   {
    "duration": 484,
    "start_time": "2023-03-09T07:58:23.831Z"
   },
   {
    "duration": 36,
    "start_time": "2023-03-09T07:58:24.318Z"
   },
   {
    "duration": 93,
    "start_time": "2023-03-09T07:58:24.356Z"
   },
   {
    "duration": 2422,
    "start_time": "2023-03-09T07:58:24.451Z"
   },
   {
    "duration": 11,
    "start_time": "2023-03-09T07:58:26.874Z"
   },
   {
    "duration": 32,
    "start_time": "2023-03-09T07:58:26.886Z"
   },
   {
    "duration": 130,
    "start_time": "2023-03-09T07:58:26.920Z"
   },
   {
    "duration": 10,
    "start_time": "2023-03-09T07:58:27.052Z"
   },
   {
    "duration": 21,
    "start_time": "2023-03-09T07:58:27.063Z"
   },
   {
    "duration": 49,
    "start_time": "2023-03-09T07:58:27.086Z"
   },
   {
    "duration": 46,
    "start_time": "2023-03-09T07:58:27.138Z"
   },
   {
    "duration": 21,
    "start_time": "2023-03-09T07:58:27.212Z"
   },
   {
    "duration": 73,
    "start_time": "2023-03-09T08:00:31.647Z"
   },
   {
    "duration": 8,
    "start_time": "2023-03-09T08:00:38.624Z"
   },
   {
    "duration": 13,
    "start_time": "2023-03-09T08:33:49.279Z"
   },
   {
    "duration": 26,
    "start_time": "2023-03-09T08:33:54.163Z"
   },
   {
    "duration": 64,
    "start_time": "2023-03-09T08:34:00.470Z"
   },
   {
    "duration": 17,
    "start_time": "2023-03-09T08:34:04.818Z"
   },
   {
    "duration": 16,
    "start_time": "2023-03-09T08:41:10.732Z"
   },
   {
    "duration": 93,
    "start_time": "2023-03-09T08:44:07.234Z"
   },
   {
    "duration": 9,
    "start_time": "2023-03-09T08:44:45.549Z"
   },
   {
    "duration": 17,
    "start_time": "2023-03-09T08:45:17.449Z"
   },
   {
    "duration": 14,
    "start_time": "2023-03-09T08:45:28.336Z"
   },
   {
    "duration": 25,
    "start_time": "2023-03-09T08:45:41.798Z"
   },
   {
    "duration": 16,
    "start_time": "2023-03-09T08:49:40.829Z"
   },
   {
    "duration": 157,
    "start_time": "2023-03-09T09:08:44.883Z"
   },
   {
    "duration": 115,
    "start_time": "2023-03-09T09:09:13.232Z"
   },
   {
    "duration": 37,
    "start_time": "2023-03-09T09:09:32.524Z"
   },
   {
    "duration": 660,
    "start_time": "2023-03-09T09:09:57.022Z"
   },
   {
    "duration": 539,
    "start_time": "2023-03-09T09:17:58.862Z"
   },
   {
    "duration": 20,
    "start_time": "2023-03-09T09:19:18.575Z"
   },
   {
    "duration": 22,
    "start_time": "2023-03-09T09:19:40.773Z"
   },
   {
    "duration": 19,
    "start_time": "2023-03-09T09:20:08.873Z"
   },
   {
    "duration": 67,
    "start_time": "2023-03-09T09:20:17.945Z"
   },
   {
    "duration": 6,
    "start_time": "2023-03-09T09:23:19.479Z"
   },
   {
    "duration": 579,
    "start_time": "2023-03-09T09:23:37.661Z"
   },
   {
    "duration": 38,
    "start_time": "2023-03-09T09:23:38.242Z"
   },
   {
    "duration": 89,
    "start_time": "2023-03-09T09:23:38.282Z"
   },
   {
    "duration": 2452,
    "start_time": "2023-03-09T09:23:38.373Z"
   },
   {
    "duration": 12,
    "start_time": "2023-03-09T09:23:40.829Z"
   },
   {
    "duration": 38,
    "start_time": "2023-03-09T09:23:40.842Z"
   },
   {
    "duration": 83,
    "start_time": "2023-03-09T09:23:40.882Z"
   },
   {
    "duration": 10,
    "start_time": "2023-03-09T09:23:40.967Z"
   },
   {
    "duration": 24,
    "start_time": "2023-03-09T09:23:40.979Z"
   },
   {
    "duration": 27,
    "start_time": "2023-03-09T09:23:41.005Z"
   },
   {
    "duration": 49,
    "start_time": "2023-03-09T09:23:41.034Z"
   },
   {
    "duration": 8,
    "start_time": "2023-03-09T09:23:41.102Z"
   },
   {
    "duration": 65,
    "start_time": "2023-03-09T09:26:39.481Z"
   },
   {
    "duration": 44,
    "start_time": "2023-03-09T09:27:51.421Z"
   },
   {
    "duration": 6,
    "start_time": "2023-03-09T09:28:21.051Z"
   },
   {
    "duration": 523,
    "start_time": "2023-03-09T09:28:38.322Z"
   },
   {
    "duration": 39,
    "start_time": "2023-03-09T09:28:38.847Z"
   },
   {
    "duration": 79,
    "start_time": "2023-03-09T09:28:38.902Z"
   },
   {
    "duration": 2410,
    "start_time": "2023-03-09T09:28:38.983Z"
   },
   {
    "duration": 11,
    "start_time": "2023-03-09T09:28:41.395Z"
   },
   {
    "duration": 39,
    "start_time": "2023-03-09T09:28:41.409Z"
   },
   {
    "duration": 93,
    "start_time": "2023-03-09T09:28:41.451Z"
   },
   {
    "duration": 10,
    "start_time": "2023-03-09T09:28:41.546Z"
   },
   {
    "duration": 33,
    "start_time": "2023-03-09T09:28:41.558Z"
   },
   {
    "duration": 32,
    "start_time": "2023-03-09T09:28:41.592Z"
   },
   {
    "duration": 44,
    "start_time": "2023-03-09T09:28:41.626Z"
   },
   {
    "duration": 31,
    "start_time": "2023-03-09T09:28:41.671Z"
   },
   {
    "duration": 8,
    "start_time": "2023-03-09T09:38:13.822Z"
   },
   {
    "duration": 95,
    "start_time": "2023-03-09T09:44:26.702Z"
   },
   {
    "duration": 109,
    "start_time": "2023-03-09T09:47:55.066Z"
   },
   {
    "duration": 141,
    "start_time": "2023-03-09T09:48:07.064Z"
   },
   {
    "duration": 110,
    "start_time": "2023-03-09T09:48:14.225Z"
   },
   {
    "duration": 195,
    "start_time": "2023-03-09T09:48:32.041Z"
   },
   {
    "duration": 8,
    "start_time": "2023-03-09T09:58:27.283Z"
   },
   {
    "duration": 107,
    "start_time": "2023-03-09T10:01:55.180Z"
   },
   {
    "duration": 19,
    "start_time": "2023-03-09T10:02:46.226Z"
   },
   {
    "duration": 15,
    "start_time": "2023-03-09T10:02:58.141Z"
   },
   {
    "duration": 15,
    "start_time": "2023-03-09T10:57:37.682Z"
   },
   {
    "duration": 13,
    "start_time": "2023-03-09T10:57:51.739Z"
   },
   {
    "duration": 117,
    "start_time": "2023-03-09T10:59:03.940Z"
   },
   {
    "duration": 87,
    "start_time": "2023-03-09T11:00:11.762Z"
   },
   {
    "duration": 33,
    "start_time": "2023-03-09T11:00:21.748Z"
   },
   {
    "duration": 576,
    "start_time": "2023-03-09T11:00:47.698Z"
   },
   {
    "duration": 45,
    "start_time": "2023-03-09T11:00:48.276Z"
   },
   {
    "duration": 118,
    "start_time": "2023-03-09T11:00:48.323Z"
   },
   {
    "duration": 2681,
    "start_time": "2023-03-09T11:00:48.444Z"
   },
   {
    "duration": 26,
    "start_time": "2023-03-09T11:00:51.127Z"
   },
   {
    "duration": 36,
    "start_time": "2023-03-09T11:00:51.155Z"
   },
   {
    "duration": 97,
    "start_time": "2023-03-09T11:00:51.193Z"
   },
   {
    "duration": 12,
    "start_time": "2023-03-09T11:00:51.292Z"
   },
   {
    "duration": 45,
    "start_time": "2023-03-09T11:00:51.306Z"
   },
   {
    "duration": 29,
    "start_time": "2023-03-09T11:00:51.353Z"
   },
   {
    "duration": 119,
    "start_time": "2023-03-09T11:00:51.384Z"
   },
   {
    "duration": 0,
    "start_time": "2023-03-09T11:00:51.508Z"
   },
   {
    "duration": 65,
    "start_time": "2023-03-09T11:01:15.303Z"
   },
   {
    "duration": 15,
    "start_time": "2023-03-09T11:01:29.845Z"
   },
   {
    "duration": 28,
    "start_time": "2023-03-09T11:04:59.169Z"
   },
   {
    "duration": 56,
    "start_time": "2023-03-09T11:07:41.594Z"
   },
   {
    "duration": 16,
    "start_time": "2023-03-09T11:08:27.952Z"
   },
   {
    "duration": 16,
    "start_time": "2023-03-09T11:09:47.259Z"
   },
   {
    "duration": 9,
    "start_time": "2023-03-09T11:18:48.559Z"
   },
   {
    "duration": 7,
    "start_time": "2023-03-09T11:22:29.373Z"
   },
   {
    "duration": 43,
    "start_time": "2023-03-09T11:27:29.767Z"
   },
   {
    "duration": 461,
    "start_time": "2023-03-09T11:27:40.944Z"
   },
   {
    "duration": 40,
    "start_time": "2023-03-09T11:27:41.407Z"
   },
   {
    "duration": 85,
    "start_time": "2023-03-09T11:27:41.448Z"
   },
   {
    "duration": 2210,
    "start_time": "2023-03-09T11:27:41.535Z"
   },
   {
    "duration": 9,
    "start_time": "2023-03-09T11:27:43.747Z"
   },
   {
    "duration": 26,
    "start_time": "2023-03-09T11:27:43.758Z"
   },
   {
    "duration": 79,
    "start_time": "2023-03-09T11:27:43.786Z"
   },
   {
    "duration": 10,
    "start_time": "2023-03-09T11:27:43.867Z"
   },
   {
    "duration": 27,
    "start_time": "2023-03-09T11:27:43.878Z"
   },
   {
    "duration": 26,
    "start_time": "2023-03-09T11:27:43.908Z"
   },
   {
    "duration": 43,
    "start_time": "2023-03-09T11:27:43.935Z"
   },
   {
    "duration": 29,
    "start_time": "2023-03-09T11:27:43.979Z"
   },
   {
    "duration": 12,
    "start_time": "2023-03-09T11:27:44.009Z"
   },
   {
    "duration": 8,
    "start_time": "2023-03-09T11:28:29.391Z"
   },
   {
    "duration": 70,
    "start_time": "2023-03-09T11:28:56.438Z"
   },
   {
    "duration": 19,
    "start_time": "2023-03-09T11:29:16.648Z"
   },
   {
    "duration": 9,
    "start_time": "2023-03-09T11:31:21.802Z"
   },
   {
    "duration": 10,
    "start_time": "2023-03-09T11:43:49.549Z"
   },
   {
    "duration": 10,
    "start_time": "2023-03-09T11:44:55.816Z"
   },
   {
    "duration": 6,
    "start_time": "2023-03-09T11:45:22.528Z"
   },
   {
    "duration": 7,
    "start_time": "2023-03-09T11:45:28.138Z"
   },
   {
    "duration": 503,
    "start_time": "2023-03-09T11:45:53.910Z"
   },
   {
    "duration": 39,
    "start_time": "2023-03-09T11:45:54.415Z"
   },
   {
    "duration": 92,
    "start_time": "2023-03-09T11:45:54.456Z"
   },
   {
    "duration": 2344,
    "start_time": "2023-03-09T11:45:54.549Z"
   },
   {
    "duration": 19,
    "start_time": "2023-03-09T11:45:56.896Z"
   },
   {
    "duration": 37,
    "start_time": "2023-03-09T11:45:56.917Z"
   },
   {
    "duration": 118,
    "start_time": "2023-03-09T11:45:56.956Z"
   },
   {
    "duration": 9,
    "start_time": "2023-03-09T11:45:57.076Z"
   },
   {
    "duration": 24,
    "start_time": "2023-03-09T11:45:57.087Z"
   },
   {
    "duration": 25,
    "start_time": "2023-03-09T11:45:57.112Z"
   },
   {
    "duration": 64,
    "start_time": "2023-03-09T11:45:57.139Z"
   },
   {
    "duration": 8,
    "start_time": "2023-03-09T11:45:57.205Z"
   },
   {
    "duration": 14,
    "start_time": "2023-03-09T11:45:57.214Z"
   },
   {
    "duration": 3,
    "start_time": "2023-03-09T11:45:57.230Z"
   },
   {
    "duration": 89,
    "start_time": "2023-03-09T11:47:34.524Z"
   },
   {
    "duration": 14,
    "start_time": "2023-03-09T11:51:19.019Z"
   },
   {
    "duration": 13,
    "start_time": "2023-03-09T11:51:25.804Z"
   },
   {
    "duration": 16,
    "start_time": "2023-03-09T11:51:43.900Z"
   },
   {
    "duration": 15,
    "start_time": "2023-03-09T11:54:40.923Z"
   },
   {
    "duration": 20,
    "start_time": "2023-03-09T11:55:30.801Z"
   },
   {
    "duration": 522,
    "start_time": "2023-03-09T12:05:45.386Z"
   },
   {
    "duration": 42,
    "start_time": "2023-03-09T12:05:45.910Z"
   },
   {
    "duration": 93,
    "start_time": "2023-03-09T12:05:45.954Z"
   },
   {
    "duration": 2388,
    "start_time": "2023-03-09T12:05:46.049Z"
   },
   {
    "duration": 12,
    "start_time": "2023-03-09T12:05:48.439Z"
   },
   {
    "duration": 46,
    "start_time": "2023-03-09T12:05:48.453Z"
   },
   {
    "duration": 112,
    "start_time": "2023-03-09T12:05:48.501Z"
   },
   {
    "duration": 13,
    "start_time": "2023-03-09T12:05:48.615Z"
   },
   {
    "duration": 22,
    "start_time": "2023-03-09T12:05:48.630Z"
   },
   {
    "duration": 63,
    "start_time": "2023-03-09T12:05:48.656Z"
   },
   {
    "duration": 43,
    "start_time": "2023-03-09T12:05:48.721Z"
   },
   {
    "duration": 8,
    "start_time": "2023-03-09T12:05:48.766Z"
   },
   {
    "duration": 43,
    "start_time": "2023-03-09T12:05:48.776Z"
   },
   {
    "duration": 3,
    "start_time": "2023-03-09T12:05:48.820Z"
   },
   {
    "duration": 79,
    "start_time": "2023-03-09T12:06:11.605Z"
   },
   {
    "duration": 61,
    "start_time": "2023-03-09T12:06:34.063Z"
   },
   {
    "duration": 460,
    "start_time": "2023-03-09T12:06:42.960Z"
   },
   {
    "duration": 36,
    "start_time": "2023-03-09T12:06:43.422Z"
   },
   {
    "duration": 91,
    "start_time": "2023-03-09T12:06:43.460Z"
   },
   {
    "duration": 2439,
    "start_time": "2023-03-09T12:06:43.553Z"
   },
   {
    "duration": 10,
    "start_time": "2023-03-09T12:06:45.995Z"
   },
   {
    "duration": 27,
    "start_time": "2023-03-09T12:06:46.007Z"
   },
   {
    "duration": 92,
    "start_time": "2023-03-09T12:06:46.036Z"
   },
   {
    "duration": 10,
    "start_time": "2023-03-09T12:06:46.130Z"
   },
   {
    "duration": 20,
    "start_time": "2023-03-09T12:06:46.142Z"
   },
   {
    "duration": 47,
    "start_time": "2023-03-09T12:06:46.164Z"
   },
   {
    "duration": 42,
    "start_time": "2023-03-09T12:06:46.213Z"
   },
   {
    "duration": 102,
    "start_time": "2023-03-09T12:06:46.257Z"
   },
   {
    "duration": 0,
    "start_time": "2023-03-09T12:06:46.361Z"
   },
   {
    "duration": 0,
    "start_time": "2023-03-09T12:06:46.362Z"
   },
   {
    "duration": 9,
    "start_time": "2023-03-09T12:06:53.486Z"
   },
   {
    "duration": 13,
    "start_time": "2023-03-09T12:12:10.621Z"
   },
   {
    "duration": 59,
    "start_time": "2023-03-09T12:13:12.909Z"
   },
   {
    "duration": 550,
    "start_time": "2023-03-09T12:13:21.767Z"
   },
   {
    "duration": 51,
    "start_time": "2023-03-09T12:13:22.319Z"
   },
   {
    "duration": 107,
    "start_time": "2023-03-09T12:13:22.372Z"
   },
   {
    "duration": 2571,
    "start_time": "2023-03-09T12:13:22.482Z"
   },
   {
    "duration": 14,
    "start_time": "2023-03-09T12:13:25.055Z"
   },
   {
    "duration": 28,
    "start_time": "2023-03-09T12:13:25.072Z"
   },
   {
    "duration": 79,
    "start_time": "2023-03-09T12:13:25.102Z"
   },
   {
    "duration": 26,
    "start_time": "2023-03-09T12:13:25.183Z"
   },
   {
    "duration": 17,
    "start_time": "2023-03-09T12:13:25.211Z"
   },
   {
    "duration": 26,
    "start_time": "2023-03-09T12:13:25.231Z"
   },
   {
    "duration": 71,
    "start_time": "2023-03-09T12:13:25.259Z"
   },
   {
    "duration": 92,
    "start_time": "2023-03-09T12:13:25.332Z"
   },
   {
    "duration": 1,
    "start_time": "2023-03-09T12:13:25.425Z"
   },
   {
    "duration": 0,
    "start_time": "2023-03-09T12:13:25.427Z"
   },
   {
    "duration": 9,
    "start_time": "2023-03-09T12:14:54.182Z"
   },
   {
    "duration": 60,
    "start_time": "2023-03-09T12:15:12.613Z"
   },
   {
    "duration": 617,
    "start_time": "2023-03-09T12:15:21.775Z"
   },
   {
    "duration": 41,
    "start_time": "2023-03-09T12:15:22.394Z"
   },
   {
    "duration": 97,
    "start_time": "2023-03-09T12:15:22.437Z"
   },
   {
    "duration": 2445,
    "start_time": "2023-03-09T12:15:22.536Z"
   },
   {
    "duration": 14,
    "start_time": "2023-03-09T12:15:24.984Z"
   },
   {
    "duration": 35,
    "start_time": "2023-03-09T12:15:25.001Z"
   },
   {
    "duration": 98,
    "start_time": "2023-03-09T12:15:25.038Z"
   },
   {
    "duration": 12,
    "start_time": "2023-03-09T12:15:25.138Z"
   },
   {
    "duration": 19,
    "start_time": "2023-03-09T12:15:25.153Z"
   },
   {
    "duration": 70,
    "start_time": "2023-03-09T12:15:25.174Z"
   },
   {
    "duration": 61,
    "start_time": "2023-03-09T12:15:25.246Z"
   },
   {
    "duration": 93,
    "start_time": "2023-03-09T12:15:25.309Z"
   },
   {
    "duration": 0,
    "start_time": "2023-03-09T12:15:25.405Z"
   },
   {
    "duration": 0,
    "start_time": "2023-03-09T12:15:25.406Z"
   },
   {
    "duration": 9,
    "start_time": "2023-03-09T12:15:54.130Z"
   },
   {
    "duration": 9,
    "start_time": "2023-03-09T12:21:33.846Z"
   },
   {
    "duration": 126,
    "start_time": "2023-03-09T12:23:06.213Z"
   },
   {
    "duration": 724,
    "start_time": "2023-03-09T12:23:11.307Z"
   },
   {
    "duration": 74,
    "start_time": "2023-03-09T12:23:53.181Z"
   },
   {
    "duration": 1296,
    "start_time": "2023-03-09T12:24:01.340Z"
   },
   {
    "duration": 10,
    "start_time": "2023-03-09T12:33:21.436Z"
   },
   {
    "duration": 313,
    "start_time": "2023-03-09T12:43:04.942Z"
   },
   {
    "duration": 243,
    "start_time": "2023-03-09T12:43:38.901Z"
   },
   {
    "duration": 330,
    "start_time": "2023-03-09T12:45:28.309Z"
   },
   {
    "duration": 345,
    "start_time": "2023-03-09T12:46:00.580Z"
   },
   {
    "duration": 327,
    "start_time": "2023-03-09T12:49:34.883Z"
   },
   {
    "duration": 336,
    "start_time": "2023-03-09T13:01:18.296Z"
   },
   {
    "duration": 976,
    "start_time": "2023-03-09T13:02:14.714Z"
   },
   {
    "duration": 46,
    "start_time": "2023-03-09T13:02:15.692Z"
   },
   {
    "duration": 86,
    "start_time": "2023-03-09T13:02:15.739Z"
   },
   {
    "duration": 2125,
    "start_time": "2023-03-09T13:02:15.827Z"
   },
   {
    "duration": 9,
    "start_time": "2023-03-09T13:02:17.955Z"
   },
   {
    "duration": 25,
    "start_time": "2023-03-09T13:02:17.966Z"
   },
   {
    "duration": 84,
    "start_time": "2023-03-09T13:02:17.993Z"
   },
   {
    "duration": 10,
    "start_time": "2023-03-09T13:02:18.078Z"
   },
   {
    "duration": 30,
    "start_time": "2023-03-09T13:02:18.090Z"
   },
   {
    "duration": 30,
    "start_time": "2023-03-09T13:02:18.122Z"
   },
   {
    "duration": 65,
    "start_time": "2023-03-09T13:02:18.154Z"
   },
   {
    "duration": 70,
    "start_time": "2023-03-09T13:02:18.221Z"
   },
   {
    "duration": 0,
    "start_time": "2023-03-09T13:02:18.307Z"
   },
   {
    "duration": 0,
    "start_time": "2023-03-09T13:02:18.308Z"
   },
   {
    "duration": 317,
    "start_time": "2023-03-09T13:02:25.443Z"
   },
   {
    "duration": 239,
    "start_time": "2023-03-09T13:06:05.455Z"
   },
   {
    "duration": 322,
    "start_time": "2023-03-09T13:06:45.236Z"
   },
   {
    "duration": 318,
    "start_time": "2023-03-09T13:08:49.934Z"
   },
   {
    "duration": 312,
    "start_time": "2023-03-09T13:09:07.718Z"
   },
   {
    "duration": 1944,
    "start_time": "2023-03-09T13:16:24.062Z"
   },
   {
    "duration": 58,
    "start_time": "2023-03-09T13:16:52.377Z"
   },
   {
    "duration": 49,
    "start_time": "2023-03-09T13:19:20.886Z"
   },
   {
    "duration": 50,
    "start_time": "2023-03-09T13:20:11.423Z"
   },
   {
    "duration": 44,
    "start_time": "2023-03-09T13:20:16.296Z"
   },
   {
    "duration": 741,
    "start_time": "2023-03-09T13:20:26.816Z"
   },
   {
    "duration": 33,
    "start_time": "2023-03-09T13:20:27.559Z"
   },
   {
    "duration": 76,
    "start_time": "2023-03-09T13:20:27.601Z"
   },
   {
    "duration": 2123,
    "start_time": "2023-03-09T13:20:27.679Z"
   },
   {
    "duration": 9,
    "start_time": "2023-03-09T13:20:29.804Z"
   },
   {
    "duration": 27,
    "start_time": "2023-03-09T13:20:29.814Z"
   },
   {
    "duration": 93,
    "start_time": "2023-03-09T13:20:29.842Z"
   },
   {
    "duration": 10,
    "start_time": "2023-03-09T13:20:29.937Z"
   },
   {
    "duration": 19,
    "start_time": "2023-03-09T13:20:29.949Z"
   },
   {
    "duration": 57,
    "start_time": "2023-03-09T13:20:29.971Z"
   },
   {
    "duration": 40,
    "start_time": "2023-03-09T13:20:30.030Z"
   },
   {
    "duration": 101,
    "start_time": "2023-03-09T13:20:30.072Z"
   },
   {
    "duration": 0,
    "start_time": "2023-03-09T13:20:30.174Z"
   },
   {
    "duration": 0,
    "start_time": "2023-03-09T13:20:30.176Z"
   },
   {
    "duration": 0,
    "start_time": "2023-03-09T13:20:30.176Z"
   },
   {
    "duration": 11,
    "start_time": "2023-03-09T13:21:20.938Z"
   },
   {
    "duration": 132,
    "start_time": "2023-03-09T13:21:30.656Z"
   },
   {
    "duration": 87,
    "start_time": "2023-03-09T13:21:44.444Z"
   },
   {
    "duration": 322,
    "start_time": "2023-03-09T13:22:00.966Z"
   },
   {
    "duration": 61,
    "start_time": "2023-03-09T13:22:12.120Z"
   },
   {
    "duration": 71,
    "start_time": "2023-03-09T13:22:38.111Z"
   },
   {
    "duration": 61,
    "start_time": "2023-03-09T13:23:11.345Z"
   },
   {
    "duration": 70,
    "start_time": "2023-03-09T13:23:38.335Z"
   },
   {
    "duration": 252,
    "start_time": "2023-03-09T13:24:01.458Z"
   },
   {
    "duration": 56,
    "start_time": "2023-03-09T13:24:13.710Z"
   },
   {
    "duration": 88,
    "start_time": "2023-03-09T13:28:09.333Z"
   },
   {
    "duration": 13,
    "start_time": "2023-03-09T13:28:12.387Z"
   },
   {
    "duration": 78,
    "start_time": "2023-03-09T13:28:50.312Z"
   },
   {
    "duration": 12,
    "start_time": "2023-03-09T13:28:53.239Z"
   },
   {
    "duration": 11,
    "start_time": "2023-03-09T13:29:39.982Z"
   },
   {
    "duration": 11,
    "start_time": "2023-03-09T13:29:53.382Z"
   },
   {
    "duration": 12,
    "start_time": "2023-03-09T13:30:17.327Z"
   },
   {
    "duration": 337,
    "start_time": "2023-03-09T13:30:21.769Z"
   },
   {
    "duration": 54,
    "start_time": "2023-03-09T13:30:27.585Z"
   },
   {
    "duration": 661,
    "start_time": "2023-03-09T13:34:50.236Z"
   },
   {
    "duration": 12,
    "start_time": "2023-03-09T13:35:25.184Z"
   },
   {
    "duration": 90,
    "start_time": "2023-03-09T13:36:36.963Z"
   },
   {
    "duration": 9,
    "start_time": "2023-03-09T13:36:43.703Z"
   },
   {
    "duration": 661,
    "start_time": "2023-03-09T13:36:50.763Z"
   },
   {
    "duration": 124,
    "start_time": "2023-03-09T13:40:16.441Z"
   },
   {
    "duration": 122,
    "start_time": "2023-03-09T13:43:23.598Z"
   },
   {
    "duration": 109,
    "start_time": "2023-03-09T13:46:37.388Z"
   },
   {
    "duration": 72,
    "start_time": "2023-03-09T13:46:50.239Z"
   },
   {
    "duration": 135,
    "start_time": "2023-03-09T13:47:31.550Z"
   },
   {
    "duration": 119,
    "start_time": "2023-03-09T13:47:43.679Z"
   },
   {
    "duration": 159,
    "start_time": "2023-03-09T13:48:06.479Z"
   },
   {
    "duration": 146,
    "start_time": "2023-03-09T13:48:21.630Z"
   },
   {
    "duration": 187,
    "start_time": "2023-03-09T13:48:38.298Z"
   },
   {
    "duration": 104,
    "start_time": "2023-03-09T13:49:06.914Z"
   },
   {
    "duration": 136,
    "start_time": "2023-03-09T13:49:15.824Z"
   },
   {
    "duration": 116,
    "start_time": "2023-03-09T13:49:24.849Z"
   },
   {
    "duration": 129,
    "start_time": "2023-03-09T13:49:38.902Z"
   },
   {
    "duration": 249,
    "start_time": "2023-03-09T13:49:51.614Z"
   },
   {
    "duration": 113,
    "start_time": "2023-03-09T13:50:01.405Z"
   },
   {
    "duration": 111,
    "start_time": "2023-03-09T13:52:19.538Z"
   },
   {
    "duration": 1224,
    "start_time": "2023-03-09T13:55:35.453Z"
   },
   {
    "duration": 1995,
    "start_time": "2023-03-09T13:58:53.477Z"
   },
   {
    "duration": 15,
    "start_time": "2023-03-09T13:59:29.779Z"
   },
   {
    "duration": 12,
    "start_time": "2023-03-09T14:02:42.691Z"
   },
   {
    "duration": 779,
    "start_time": "2023-03-09T14:03:49.593Z"
   },
   {
    "duration": 53,
    "start_time": "2023-03-09T14:03:50.375Z"
   },
   {
    "duration": 139,
    "start_time": "2023-03-09T14:03:50.431Z"
   },
   {
    "duration": 2136,
    "start_time": "2023-03-09T14:03:50.573Z"
   },
   {
    "duration": 15,
    "start_time": "2023-03-09T14:03:52.711Z"
   },
   {
    "duration": 28,
    "start_time": "2023-03-09T14:03:52.728Z"
   },
   {
    "duration": 118,
    "start_time": "2023-03-09T14:03:52.758Z"
   },
   {
    "duration": 12,
    "start_time": "2023-03-09T14:03:52.878Z"
   },
   {
    "duration": 19,
    "start_time": "2023-03-09T14:03:52.901Z"
   },
   {
    "duration": 27,
    "start_time": "2023-03-09T14:03:52.922Z"
   },
   {
    "duration": 75,
    "start_time": "2023-03-09T14:03:52.951Z"
   },
   {
    "duration": 80,
    "start_time": "2023-03-09T14:03:53.028Z"
   },
   {
    "duration": 0,
    "start_time": "2023-03-09T14:03:53.110Z"
   },
   {
    "duration": 0,
    "start_time": "2023-03-09T14:03:53.111Z"
   },
   {
    "duration": 0,
    "start_time": "2023-03-09T14:03:53.112Z"
   },
   {
    "duration": 0,
    "start_time": "2023-03-09T14:03:53.113Z"
   },
   {
    "duration": 1126,
    "start_time": "2023-03-09T14:13:15.888Z"
   },
   {
    "duration": 37,
    "start_time": "2023-03-09T14:13:17.016Z"
   },
   {
    "duration": 97,
    "start_time": "2023-03-09T14:13:17.055Z"
   },
   {
    "duration": 2195,
    "start_time": "2023-03-09T14:13:17.154Z"
   },
   {
    "duration": 11,
    "start_time": "2023-03-09T14:13:19.350Z"
   },
   {
    "duration": 31,
    "start_time": "2023-03-09T14:13:19.362Z"
   },
   {
    "duration": 86,
    "start_time": "2023-03-09T14:13:19.396Z"
   },
   {
    "duration": 24,
    "start_time": "2023-03-09T14:13:19.483Z"
   },
   {
    "duration": 18,
    "start_time": "2023-03-09T14:13:19.509Z"
   },
   {
    "duration": 30,
    "start_time": "2023-03-09T14:13:19.530Z"
   },
   {
    "duration": 62,
    "start_time": "2023-03-09T14:13:19.563Z"
   },
   {
    "duration": 88,
    "start_time": "2023-03-09T14:13:19.626Z"
   },
   {
    "duration": 0,
    "start_time": "2023-03-09T14:13:19.716Z"
   },
   {
    "duration": 0,
    "start_time": "2023-03-09T14:13:19.717Z"
   },
   {
    "duration": 0,
    "start_time": "2023-03-09T14:13:19.718Z"
   },
   {
    "duration": 0,
    "start_time": "2023-03-09T14:13:19.719Z"
   },
   {
    "duration": 11,
    "start_time": "2023-03-09T14:13:33.248Z"
   },
   {
    "duration": 377,
    "start_time": "2023-03-09T14:13:40.767Z"
   },
   {
    "duration": 61,
    "start_time": "2023-03-09T14:13:45.659Z"
   },
   {
    "duration": 59,
    "start_time": "2023-03-09T14:18:41.947Z"
   },
   {
    "duration": 1987,
    "start_time": "2023-03-09T14:18:47.563Z"
   },
   {
    "duration": 38,
    "start_time": "2023-03-09T14:18:49.552Z"
   },
   {
    "duration": 82,
    "start_time": "2023-03-09T14:18:49.592Z"
   },
   {
    "duration": 2225,
    "start_time": "2023-03-09T14:18:49.676Z"
   },
   {
    "duration": 15,
    "start_time": "2023-03-09T14:18:51.904Z"
   },
   {
    "duration": 42,
    "start_time": "2023-03-09T14:18:51.921Z"
   },
   {
    "duration": 126,
    "start_time": "2023-03-09T14:18:51.966Z"
   },
   {
    "duration": 12,
    "start_time": "2023-03-09T14:18:52.094Z"
   },
   {
    "duration": 18,
    "start_time": "2023-03-09T14:18:52.109Z"
   },
   {
    "duration": 28,
    "start_time": "2023-03-09T14:18:52.130Z"
   },
   {
    "duration": 71,
    "start_time": "2023-03-09T14:18:52.161Z"
   },
   {
    "duration": 104,
    "start_time": "2023-03-09T14:18:52.235Z"
   },
   {
    "duration": 0,
    "start_time": "2023-03-09T14:18:52.341Z"
   },
   {
    "duration": 1,
    "start_time": "2023-03-09T14:18:52.342Z"
   },
   {
    "duration": 0,
    "start_time": "2023-03-09T14:18:52.344Z"
   },
   {
    "duration": 11,
    "start_time": "2023-03-09T14:19:08.494Z"
   },
   {
    "duration": 17,
    "start_time": "2023-03-09T14:24:07.752Z"
   },
   {
    "duration": 18,
    "start_time": "2023-03-09T14:24:51.862Z"
   },
   {
    "duration": 10,
    "start_time": "2023-03-09T14:25:03.870Z"
   },
   {
    "duration": 21,
    "start_time": "2023-03-09T14:25:22.294Z"
   },
   {
    "duration": 12,
    "start_time": "2023-03-09T14:25:46.380Z"
   },
   {
    "duration": 7,
    "start_time": "2023-03-09T14:26:42.914Z"
   },
   {
    "duration": 6,
    "start_time": "2023-03-09T14:26:46.263Z"
   },
   {
    "duration": 15,
    "start_time": "2023-03-09T14:26:57.674Z"
   },
   {
    "duration": 12,
    "start_time": "2023-03-09T14:27:20.847Z"
   },
   {
    "duration": 794,
    "start_time": "2023-03-09T14:27:28.788Z"
   },
   {
    "duration": 48,
    "start_time": "2023-03-09T14:27:29.584Z"
   },
   {
    "duration": 91,
    "start_time": "2023-03-09T14:27:29.633Z"
   },
   {
    "duration": 2320,
    "start_time": "2023-03-09T14:27:29.725Z"
   },
   {
    "duration": 11,
    "start_time": "2023-03-09T14:27:32.048Z"
   },
   {
    "duration": 75,
    "start_time": "2023-03-09T14:27:32.061Z"
   },
   {
    "duration": 121,
    "start_time": "2023-03-09T14:27:32.139Z"
   },
   {
    "duration": 12,
    "start_time": "2023-03-09T14:27:32.262Z"
   },
   {
    "duration": 49,
    "start_time": "2023-03-09T14:27:32.276Z"
   },
   {
    "duration": 31,
    "start_time": "2023-03-09T14:27:32.327Z"
   },
   {
    "duration": 203,
    "start_time": "2023-03-09T14:27:32.361Z"
   },
   {
    "duration": 137,
    "start_time": "2023-03-09T14:27:32.566Z"
   },
   {
    "duration": 0,
    "start_time": "2023-03-09T14:27:32.707Z"
   },
   {
    "duration": 0,
    "start_time": "2023-03-09T14:27:32.708Z"
   },
   {
    "duration": 0,
    "start_time": "2023-03-09T14:27:32.709Z"
   },
   {
    "duration": 13,
    "start_time": "2023-03-09T14:27:44.954Z"
   },
   {
    "duration": 1416,
    "start_time": "2023-03-10T07:32:09.610Z"
   },
   {
    "duration": 50,
    "start_time": "2023-03-10T07:32:11.029Z"
   },
   {
    "duration": 127,
    "start_time": "2023-03-10T07:32:11.080Z"
   },
   {
    "duration": 2384,
    "start_time": "2023-03-10T07:32:11.209Z"
   },
   {
    "duration": 12,
    "start_time": "2023-03-10T07:32:13.595Z"
   },
   {
    "duration": 50,
    "start_time": "2023-03-10T07:32:13.609Z"
   },
   {
    "duration": 97,
    "start_time": "2023-03-10T07:32:13.662Z"
   },
   {
    "duration": 13,
    "start_time": "2023-03-10T07:32:13.761Z"
   },
   {
    "duration": 19,
    "start_time": "2023-03-10T07:32:13.776Z"
   },
   {
    "duration": 71,
    "start_time": "2023-03-10T07:32:13.797Z"
   },
   {
    "duration": 65,
    "start_time": "2023-03-10T07:32:13.870Z"
   },
   {
    "duration": 89,
    "start_time": "2023-03-10T07:32:13.937Z"
   },
   {
    "duration": 0,
    "start_time": "2023-03-10T07:32:14.028Z"
   },
   {
    "duration": 0,
    "start_time": "2023-03-10T07:32:14.032Z"
   },
   {
    "duration": 0,
    "start_time": "2023-03-10T07:32:14.033Z"
   },
   {
    "duration": 87,
    "start_time": "2023-03-10T07:32:57.700Z"
   },
   {
    "duration": 12,
    "start_time": "2023-03-10T07:33:03.821Z"
   },
   {
    "duration": 9,
    "start_time": "2023-03-10T07:33:21.823Z"
   },
   {
    "duration": 23,
    "start_time": "2023-03-10T07:33:44.326Z"
   },
   {
    "duration": 12,
    "start_time": "2023-03-10T07:37:27.650Z"
   },
   {
    "duration": 21,
    "start_time": "2023-03-10T07:37:48.498Z"
   },
   {
    "duration": 434,
    "start_time": "2023-03-10T07:38:04.801Z"
   },
   {
    "duration": 77,
    "start_time": "2023-03-10T07:38:27.416Z"
   },
   {
    "duration": 2415,
    "start_time": "2023-03-10T07:43:46.546Z"
   },
   {
    "duration": 2741,
    "start_time": "2023-03-10T07:44:43.999Z"
   },
   {
    "duration": 426,
    "start_time": "2023-03-10T08:20:24.807Z"
   },
   {
    "duration": 249,
    "start_time": "2023-03-10T08:20:37.093Z"
   },
   {
    "duration": 70,
    "start_time": "2023-03-10T08:20:40.295Z"
   },
   {
    "duration": 3146,
    "start_time": "2023-03-10T08:20:57.900Z"
   },
   {
    "duration": 837,
    "start_time": "2023-03-10T11:59:37.062Z"
   },
   {
    "duration": 63,
    "start_time": "2023-03-10T11:59:37.901Z"
   },
   {
    "duration": 87,
    "start_time": "2023-03-10T11:59:37.967Z"
   },
   {
    "duration": 2287,
    "start_time": "2023-03-10T11:59:38.057Z"
   },
   {
    "duration": 16,
    "start_time": "2023-03-10T11:59:40.353Z"
   },
   {
    "duration": 29,
    "start_time": "2023-03-10T11:59:40.371Z"
   },
   {
    "duration": 92,
    "start_time": "2023-03-10T11:59:40.402Z"
   },
   {
    "duration": 11,
    "start_time": "2023-03-10T11:59:40.496Z"
   },
   {
    "duration": 35,
    "start_time": "2023-03-10T11:59:40.509Z"
   },
   {
    "duration": 32,
    "start_time": "2023-03-10T11:59:40.551Z"
   },
   {
    "duration": 60,
    "start_time": "2023-03-10T11:59:40.586Z"
   },
   {
    "duration": 93,
    "start_time": "2023-03-10T11:59:40.648Z"
   },
   {
    "duration": 0,
    "start_time": "2023-03-10T11:59:40.746Z"
   },
   {
    "duration": 0,
    "start_time": "2023-03-10T11:59:40.747Z"
   },
   {
    "duration": 0,
    "start_time": "2023-03-10T11:59:40.748Z"
   },
   {
    "duration": 0,
    "start_time": "2023-03-10T11:59:40.749Z"
   },
   {
    "duration": 21,
    "start_time": "2023-03-10T12:01:16.058Z"
   },
   {
    "duration": 116,
    "start_time": "2023-03-10T12:15:58.291Z"
   },
   {
    "duration": 30,
    "start_time": "2023-03-10T12:16:01.658Z"
   },
   {
    "duration": 122,
    "start_time": "2023-03-10T12:16:04.302Z"
   },
   {
    "duration": 2296,
    "start_time": "2023-03-10T12:16:08.499Z"
   },
   {
    "duration": 11,
    "start_time": "2023-03-10T12:16:14.773Z"
   },
   {
    "duration": 28,
    "start_time": "2023-03-10T12:16:17.867Z"
   },
   {
    "duration": 90,
    "start_time": "2023-03-10T12:16:23.291Z"
   },
   {
    "duration": 11,
    "start_time": "2023-03-10T12:16:31.396Z"
   },
   {
    "duration": 28,
    "start_time": "2023-03-10T12:16:36.547Z"
   },
   {
    "duration": 45,
    "start_time": "2023-03-10T12:16:39.428Z"
   },
   {
    "duration": 55,
    "start_time": "2023-03-10T12:16:43.802Z"
   },
   {
    "duration": 39,
    "start_time": "2023-03-10T12:17:21.204Z"
   },
   {
    "duration": 27,
    "start_time": "2023-03-10T12:17:33.520Z"
   },
   {
    "duration": 397,
    "start_time": "2023-03-10T12:19:58.057Z"
   },
   {
    "duration": 12,
    "start_time": "2023-03-10T12:20:46.670Z"
   },
   {
    "duration": 14,
    "start_time": "2023-03-10T12:24:00.727Z"
   },
   {
    "duration": 23,
    "start_time": "2023-03-10T12:24:08.100Z"
   },
   {
    "duration": 20,
    "start_time": "2023-03-10T12:26:32.371Z"
   },
   {
    "duration": 28,
    "start_time": "2023-03-10T12:27:57.562Z"
   },
   {
    "duration": 146,
    "start_time": "2023-03-10T12:51:34.074Z"
   },
   {
    "duration": 194,
    "start_time": "2023-03-10T12:52:11.324Z"
   },
   {
    "duration": 162,
    "start_time": "2023-03-10T12:53:11.364Z"
   },
   {
    "duration": 196,
    "start_time": "2023-03-10T12:53:45.700Z"
   },
   {
    "duration": 311,
    "start_time": "2023-03-10T12:54:22.430Z"
   },
   {
    "duration": 233,
    "start_time": "2023-03-10T12:54:54.410Z"
   },
   {
    "duration": 188,
    "start_time": "2023-03-10T12:55:13.107Z"
   },
   {
    "duration": 221,
    "start_time": "2023-03-10T12:56:12.808Z"
   },
   {
    "duration": 234,
    "start_time": "2023-03-10T12:56:49.493Z"
   },
   {
    "duration": 9,
    "start_time": "2023-03-10T12:58:14.761Z"
   },
   {
    "duration": 22,
    "start_time": "2023-03-10T12:59:36.602Z"
   },
   {
    "duration": 109,
    "start_time": "2023-03-10T13:00:26.362Z"
   },
   {
    "duration": 87,
    "start_time": "2023-03-10T13:02:10.389Z"
   },
   {
    "duration": 315,
    "start_time": "2023-03-10T13:02:19.601Z"
   },
   {
    "duration": 309,
    "start_time": "2023-03-10T13:02:45.995Z"
   },
   {
    "duration": 288,
    "start_time": "2023-03-10T13:03:31.569Z"
   },
   {
    "duration": 313,
    "start_time": "2023-03-10T13:03:41.297Z"
   },
   {
    "duration": 275,
    "start_time": "2023-03-10T13:03:52.267Z"
   },
   {
    "duration": 301,
    "start_time": "2023-03-10T13:04:07.149Z"
   },
   {
    "duration": 203,
    "start_time": "2023-03-10T13:04:19.552Z"
   },
   {
    "duration": 220,
    "start_time": "2023-03-10T13:05:36.964Z"
   },
   {
    "duration": 394,
    "start_time": "2023-03-10T13:05:54.208Z"
   },
   {
    "duration": 70,
    "start_time": "2023-03-10T13:06:48.306Z"
   },
   {
    "duration": 1247,
    "start_time": "2023-03-10T13:08:45.069Z"
   },
   {
    "duration": 1201,
    "start_time": "2023-03-10T13:09:00.149Z"
   },
   {
    "duration": 2907,
    "start_time": "2023-03-10T13:09:16.529Z"
   },
   {
    "duration": 1314,
    "start_time": "2023-03-10T13:09:25.769Z"
   },
   {
    "duration": 1567,
    "start_time": "2023-03-10T13:10:24.828Z"
   },
   {
    "duration": 1196,
    "start_time": "2023-03-10T13:10:43.860Z"
   },
   {
    "duration": 1157,
    "start_time": "2023-03-10T13:10:50.291Z"
   },
   {
    "duration": 1658,
    "start_time": "2023-03-10T13:11:01.464Z"
   },
   {
    "duration": 527,
    "start_time": "2023-03-10T13:11:45.601Z"
   },
   {
    "duration": 597,
    "start_time": "2023-03-10T13:12:09.921Z"
   },
   {
    "duration": 399,
    "start_time": "2023-03-10T13:12:16.798Z"
   },
   {
    "duration": 430,
    "start_time": "2023-03-10T13:12:31.861Z"
   },
   {
    "duration": 129,
    "start_time": "2023-03-10T13:12:48.460Z"
   },
   {
    "duration": 108,
    "start_time": "2023-03-10T13:12:55.270Z"
   },
   {
    "duration": 129,
    "start_time": "2023-03-10T13:13:01.492Z"
   },
   {
    "duration": 190,
    "start_time": "2023-03-10T13:13:34.174Z"
   },
   {
    "duration": 133,
    "start_time": "2023-03-10T13:14:11.561Z"
   },
   {
    "duration": 146,
    "start_time": "2023-03-10T13:14:15.860Z"
   },
   {
    "duration": 190,
    "start_time": "2023-03-10T13:15:12.461Z"
   },
   {
    "duration": 403,
    "start_time": "2023-03-10T13:15:26.908Z"
   },
   {
    "duration": 140,
    "start_time": "2023-03-10T13:15:36.454Z"
   },
   {
    "duration": 130,
    "start_time": "2023-03-10T13:15:52.677Z"
   },
   {
    "duration": 116,
    "start_time": "2023-03-10T13:16:09.599Z"
   },
   {
    "duration": 23,
    "start_time": "2023-03-10T13:19:06.116Z"
   },
   {
    "duration": 165,
    "start_time": "2023-03-10T13:19:19.399Z"
   },
   {
    "duration": 13,
    "start_time": "2023-03-10T13:19:26.838Z"
   },
   {
    "duration": 134,
    "start_time": "2023-03-10T13:20:23.211Z"
   },
   {
    "duration": 18,
    "start_time": "2023-03-10T13:23:28.360Z"
   },
   {
    "duration": 375,
    "start_time": "2023-03-10T13:23:33.205Z"
   },
   {
    "duration": 4995,
    "start_time": "2023-03-10T13:23:45.805Z"
   },
   {
    "duration": 476,
    "start_time": "2023-03-10T13:27:32.420Z"
   },
   {
    "duration": 2339,
    "start_time": "2023-03-10T13:31:58.799Z"
   },
   {
    "duration": 18,
    "start_time": "2023-03-10T13:41:28.860Z"
   },
   {
    "duration": 13,
    "start_time": "2023-03-10T13:41:34.414Z"
   },
   {
    "duration": 7,
    "start_time": "2023-03-10T13:42:18.900Z"
   },
   {
    "duration": 7,
    "start_time": "2023-03-10T13:42:25.402Z"
   },
   {
    "duration": 448,
    "start_time": "2023-03-10T13:44:16.129Z"
   },
   {
    "duration": 330,
    "start_time": "2023-03-10T13:44:27.889Z"
   },
   {
    "duration": 192,
    "start_time": "2023-03-10T13:47:23.780Z"
   },
   {
    "duration": 289,
    "start_time": "2023-03-10T13:49:28.227Z"
   },
   {
    "duration": 617,
    "start_time": "2023-03-10T13:49:48.164Z"
   },
   {
    "duration": 87,
    "start_time": "2023-03-10T14:16:32.622Z"
   },
   {
    "duration": 2489,
    "start_time": "2023-03-10T14:16:49.501Z"
   },
   {
    "duration": 994,
    "start_time": "2023-03-10T14:18:22.296Z"
   },
   {
    "duration": 105486,
    "start_time": "2023-03-10T14:18:45.254Z"
   },
   {
    "duration": 301,
    "start_time": "2023-03-10T14:21:11.861Z"
   },
   {
    "duration": 177,
    "start_time": "2023-03-10T14:23:01.614Z"
   },
   {
    "duration": 225266,
    "start_time": "2023-03-10T14:23:15.065Z"
   },
   {
    "duration": 1501,
    "start_time": "2023-03-11T14:16:37.100Z"
   },
   {
    "duration": 36,
    "start_time": "2023-03-11T14:16:38.603Z"
   },
   {
    "duration": 85,
    "start_time": "2023-03-11T14:16:38.640Z"
   },
   {
    "duration": 2045,
    "start_time": "2023-03-11T14:16:38.727Z"
   },
   {
    "duration": 10,
    "start_time": "2023-03-11T14:16:40.773Z"
   },
   {
    "duration": 30,
    "start_time": "2023-03-11T14:16:40.785Z"
   },
   {
    "duration": 87,
    "start_time": "2023-03-11T14:16:40.816Z"
   },
   {
    "duration": 12,
    "start_time": "2023-03-11T14:16:40.905Z"
   },
   {
    "duration": 17,
    "start_time": "2023-03-11T14:16:40.918Z"
   },
   {
    "duration": 26,
    "start_time": "2023-03-11T14:16:40.958Z"
   },
   {
    "duration": 44,
    "start_time": "2023-03-11T14:16:40.985Z"
   },
   {
    "duration": 235,
    "start_time": "2023-03-11T14:16:41.030Z"
   },
   {
    "duration": 12,
    "start_time": "2023-03-11T14:16:41.267Z"
   },
   {
    "duration": 338,
    "start_time": "2023-03-11T14:16:41.281Z"
   },
   {
    "duration": 66,
    "start_time": "2023-03-11T14:16:41.621Z"
   },
   {
    "duration": 1597,
    "start_time": "2023-03-11T14:16:41.688Z"
   },
   {
    "duration": 11,
    "start_time": "2023-03-11T14:16:43.287Z"
   },
   {
    "duration": 331,
    "start_time": "2023-03-11T14:16:43.300Z"
   },
   {
    "duration": 140,
    "start_time": "2023-03-11T14:16:43.633Z"
   },
   {
    "duration": 227,
    "start_time": "2023-03-11T14:16:43.775Z"
   },
   {
    "duration": 312114,
    "start_time": "2023-03-11T14:16:44.004Z"
   },
   {
    "duration": 240464,
    "start_time": "2023-03-11T14:25:54.152Z"
   },
   {
    "duration": 0,
    "start_time": "2023-03-11T14:29:54.621Z"
   },
   {
    "duration": 755,
    "start_time": "2023-03-11T14:30:10.908Z"
   },
   {
    "duration": 34,
    "start_time": "2023-03-11T14:30:11.666Z"
   },
   {
    "duration": 104,
    "start_time": "2023-03-11T14:30:11.702Z"
   },
   {
    "duration": 2116,
    "start_time": "2023-03-11T14:30:11.808Z"
   },
   {
    "duration": 12,
    "start_time": "2023-03-11T14:30:13.926Z"
   },
   {
    "duration": 37,
    "start_time": "2023-03-11T14:30:13.940Z"
   },
   {
    "duration": 98,
    "start_time": "2023-03-11T14:30:13.979Z"
   },
   {
    "duration": 10,
    "start_time": "2023-03-11T14:30:14.079Z"
   },
   {
    "duration": 28,
    "start_time": "2023-03-11T14:30:14.090Z"
   },
   {
    "duration": 54,
    "start_time": "2023-03-11T14:30:14.121Z"
   },
   {
    "duration": 47,
    "start_time": "2023-03-11T14:30:14.176Z"
   },
   {
    "duration": 253,
    "start_time": "2023-03-11T14:30:14.226Z"
   },
   {
    "duration": 13,
    "start_time": "2023-03-11T14:30:14.481Z"
   },
   {
    "duration": 332,
    "start_time": "2023-03-11T14:30:14.496Z"
   },
   {
    "duration": 76,
    "start_time": "2023-03-11T14:30:14.830Z"
   },
   {
    "duration": 1856,
    "start_time": "2023-03-11T14:30:14.908Z"
   },
   {
    "duration": 10,
    "start_time": "2023-03-11T14:30:16.767Z"
   },
   {
    "duration": 265,
    "start_time": "2023-03-11T14:30:16.779Z"
   },
   {
    "duration": 238,
    "start_time": "2023-03-11T14:30:17.047Z"
   },
   {
    "duration": 251,
    "start_time": "2023-03-11T14:30:17.287Z"
   },
   {
    "duration": 84,
    "start_time": "2023-03-11T14:30:17.540Z"
   },
   {
    "duration": 6,
    "start_time": "2023-03-11T14:30:36.828Z"
   },
   {
    "duration": 8,
    "start_time": "2023-03-11T14:32:47.541Z"
   },
   {
    "duration": 6,
    "start_time": "2023-03-11T14:32:59.423Z"
   },
   {
    "duration": 8,
    "start_time": "2023-03-11T14:33:58.095Z"
   },
   {
    "duration": 9,
    "start_time": "2023-03-11T14:34:54.288Z"
   },
   {
    "duration": 9,
    "start_time": "2023-03-11T14:35:40.052Z"
   },
   {
    "duration": 54,
    "start_time": "2023-03-11T14:53:38.958Z"
   },
   {
    "duration": 3249,
    "start_time": "2023-03-11T14:54:15.730Z"
   },
   {
    "duration": 3281,
    "start_time": "2023-03-11T14:56:32.600Z"
   },
   {
    "duration": 10,
    "start_time": "2023-03-11T14:56:56.189Z"
   },
   {
    "duration": 358,
    "start_time": "2023-03-11T14:57:40.309Z"
   },
   {
    "duration": 9,
    "start_time": "2023-03-11T14:58:07.482Z"
   },
   {
    "duration": 11,
    "start_time": "2023-03-11T15:07:30.329Z"
   },
   {
    "duration": 691,
    "start_time": "2023-03-11T15:08:34.224Z"
   },
   {
    "duration": 896,
    "start_time": "2023-03-11T17:01:25.248Z"
   },
   {
    "duration": 32,
    "start_time": "2023-03-11T17:01:26.147Z"
   },
   {
    "duration": 89,
    "start_time": "2023-03-11T17:01:26.181Z"
   },
   {
    "duration": 1909,
    "start_time": "2023-03-11T17:01:26.271Z"
   },
   {
    "duration": 9,
    "start_time": "2023-03-11T17:01:28.182Z"
   },
   {
    "duration": 25,
    "start_time": "2023-03-11T17:01:28.192Z"
   },
   {
    "duration": 77,
    "start_time": "2023-03-11T17:01:28.223Z"
   },
   {
    "duration": 22,
    "start_time": "2023-03-11T17:01:28.302Z"
   },
   {
    "duration": 15,
    "start_time": "2023-03-11T17:01:28.325Z"
   },
   {
    "duration": 23,
    "start_time": "2023-03-11T17:01:28.343Z"
   },
   {
    "duration": 58,
    "start_time": "2023-03-11T17:01:28.367Z"
   },
   {
    "duration": 199,
    "start_time": "2023-03-11T17:01:28.426Z"
   },
   {
    "duration": 12,
    "start_time": "2023-03-11T17:01:28.627Z"
   },
   {
    "duration": 328,
    "start_time": "2023-03-11T17:01:28.641Z"
   },
   {
    "duration": 70,
    "start_time": "2023-03-11T17:01:28.971Z"
   },
   {
    "duration": 1540,
    "start_time": "2023-03-11T17:01:29.043Z"
   },
   {
    "duration": 11,
    "start_time": "2023-03-11T17:01:30.585Z"
   },
   {
    "duration": 247,
    "start_time": "2023-03-11T17:01:30.598Z"
   },
   {
    "duration": 216,
    "start_time": "2023-03-11T17:01:30.848Z"
   },
   {
    "duration": 219,
    "start_time": "2023-03-11T17:01:31.065Z"
   },
   {
    "duration": 2728,
    "start_time": "2023-03-11T17:01:31.286Z"
   },
   {
    "duration": 13,
    "start_time": "2023-03-11T17:01:34.015Z"
   },
   {
    "duration": 645,
    "start_time": "2023-03-11T17:01:34.030Z"
   },
   {
    "duration": 76,
    "start_time": "2023-03-11T17:09:30.018Z"
   },
   {
    "duration": 8,
    "start_time": "2023-03-11T17:10:29.052Z"
   },
   {
    "duration": 9,
    "start_time": "2023-03-11T17:11:03.811Z"
   },
   {
    "duration": 9,
    "start_time": "2023-03-11T17:11:35.521Z"
   },
   {
    "duration": 10,
    "start_time": "2023-03-11T17:11:45.176Z"
   },
   {
    "duration": 15,
    "start_time": "2023-03-11T17:23:19.112Z"
   },
   {
    "duration": 47504,
    "start_time": "2023-03-11T17:23:45.160Z"
   },
   {
    "duration": 1303,
    "start_time": "2023-03-12T12:11:09.857Z"
   },
   {
    "duration": 70,
    "start_time": "2023-03-12T12:11:11.164Z"
   },
   {
    "duration": 130,
    "start_time": "2023-03-12T12:11:11.236Z"
   },
   {
    "duration": 4246,
    "start_time": "2023-03-12T12:11:11.370Z"
   },
   {
    "duration": 15,
    "start_time": "2023-03-12T12:11:15.619Z"
   },
   {
    "duration": 42,
    "start_time": "2023-03-12T12:11:15.636Z"
   },
   {
    "duration": 184,
    "start_time": "2023-03-12T12:11:15.680Z"
   },
   {
    "duration": 20,
    "start_time": "2023-03-12T12:11:15.868Z"
   },
   {
    "duration": 50,
    "start_time": "2023-03-12T12:11:15.890Z"
   },
   {
    "duration": 40,
    "start_time": "2023-03-12T12:11:15.945Z"
   },
   {
    "duration": 73,
    "start_time": "2023-03-12T12:11:15.988Z"
   },
   {
    "duration": 251,
    "start_time": "2023-03-12T12:11:16.063Z"
   },
   {
    "duration": 18,
    "start_time": "2023-03-12T12:11:16.316Z"
   },
   {
    "duration": 370,
    "start_time": "2023-03-12T12:11:16.336Z"
   },
   {
    "duration": 83,
    "start_time": "2023-03-12T12:11:16.709Z"
   },
   {
    "duration": 2289,
    "start_time": "2023-03-12T12:11:16.794Z"
   },
   {
    "duration": 19,
    "start_time": "2023-03-12T12:11:19.086Z"
   },
   {
    "duration": 349,
    "start_time": "2023-03-12T12:11:19.126Z"
   },
   {
    "duration": 239,
    "start_time": "2023-03-12T12:11:19.478Z"
   },
   {
    "duration": 273,
    "start_time": "2023-03-12T12:11:19.724Z"
   },
   {
    "duration": 3007,
    "start_time": "2023-03-12T12:11:19.999Z"
   },
   {
    "duration": 23,
    "start_time": "2023-03-12T12:11:23.009Z"
   },
   {
    "duration": 734,
    "start_time": "2023-03-12T12:11:23.035Z"
   },
   {
    "duration": 9,
    "start_time": "2023-03-12T12:11:23.771Z"
   },
   {
    "duration": 85,
    "start_time": "2023-03-12T12:13:25.767Z"
   },
   {
    "duration": 95,
    "start_time": "2023-03-12T12:15:06.127Z"
   },
   {
    "duration": 34,
    "start_time": "2023-03-12T12:15:10.222Z"
   },
   {
    "duration": 91,
    "start_time": "2023-03-12T12:15:18.239Z"
   },
   {
    "duration": 2169,
    "start_time": "2023-03-12T12:15:35.862Z"
   },
   {
    "duration": 95,
    "start_time": "2023-03-12T12:19:37.038Z"
   },
   {
    "duration": 758,
    "start_time": "2023-03-12T12:19:58.222Z"
   },
   {
    "duration": 50,
    "start_time": "2023-03-12T12:19:58.982Z"
   },
   {
    "duration": 111,
    "start_time": "2023-03-12T12:19:59.034Z"
   },
   {
    "duration": 2116,
    "start_time": "2023-03-12T12:19:59.149Z"
   },
   {
    "duration": 11,
    "start_time": "2023-03-12T12:20:01.268Z"
   },
   {
    "duration": 53,
    "start_time": "2023-03-12T12:20:01.281Z"
   },
   {
    "duration": 86,
    "start_time": "2023-03-12T12:20:01.336Z"
   },
   {
    "duration": 16,
    "start_time": "2023-03-12T12:20:01.425Z"
   },
   {
    "duration": 87,
    "start_time": "2023-03-12T12:20:01.445Z"
   },
   {
    "duration": 40,
    "start_time": "2023-03-12T12:20:01.535Z"
   },
   {
    "duration": 79,
    "start_time": "2023-03-12T12:20:01.577Z"
   },
   {
    "duration": 230,
    "start_time": "2023-03-12T12:20:01.660Z"
   },
   {
    "duration": 15,
    "start_time": "2023-03-12T12:20:01.893Z"
   },
   {
    "duration": 381,
    "start_time": "2023-03-12T12:20:01.910Z"
   },
   {
    "duration": 74,
    "start_time": "2023-03-12T12:20:02.293Z"
   },
   {
    "duration": 1529,
    "start_time": "2023-03-12T12:20:02.368Z"
   },
   {
    "duration": 10,
    "start_time": "2023-03-12T12:20:03.899Z"
   },
   {
    "duration": 250,
    "start_time": "2023-03-12T12:20:03.911Z"
   },
   {
    "duration": 321,
    "start_time": "2023-03-12T12:20:04.164Z"
   },
   {
    "duration": 231,
    "start_time": "2023-03-12T12:20:04.487Z"
   },
   {
    "duration": 2838,
    "start_time": "2023-03-12T12:20:04.724Z"
   },
   {
    "duration": 11,
    "start_time": "2023-03-12T12:20:07.564Z"
   },
   {
    "duration": 660,
    "start_time": "2023-03-12T12:20:07.578Z"
   },
   {
    "duration": 16,
    "start_time": "2023-03-12T12:20:08.241Z"
   },
   {
    "duration": 1665,
    "start_time": "2023-03-12T12:22:06.235Z"
   },
   {
    "duration": 315,
    "start_time": "2023-03-12T12:24:59.165Z"
   },
   {
    "duration": 3727,
    "start_time": "2023-03-12T12:25:24.125Z"
   },
   {
    "duration": 55,
    "start_time": "2023-03-12T12:26:17.749Z"
   },
   {
    "duration": 3424,
    "start_time": "2023-03-12T12:26:31.841Z"
   },
   {
    "duration": 87,
    "start_time": "2023-03-12T12:29:22.413Z"
   },
   {
    "duration": 47,
    "start_time": "2023-03-12T12:29:35.841Z"
   },
   {
    "duration": 3160,
    "start_time": "2023-03-12T12:29:45.643Z"
   },
   {
    "duration": 128,
    "start_time": "2023-03-12T13:28:47.881Z"
   },
   {
    "duration": 1121,
    "start_time": "2023-03-12T13:29:10.982Z"
   },
   {
    "duration": 94,
    "start_time": "2023-03-12T13:29:12.107Z"
   },
   {
    "duration": 118,
    "start_time": "2023-03-12T13:29:12.205Z"
   },
   {
    "duration": 2964,
    "start_time": "2023-03-12T13:29:12.325Z"
   },
   {
    "duration": 19,
    "start_time": "2023-03-12T13:29:15.292Z"
   },
   {
    "duration": 61,
    "start_time": "2023-03-12T13:29:15.313Z"
   },
   {
    "duration": 168,
    "start_time": "2023-03-12T13:29:15.377Z"
   },
   {
    "duration": 22,
    "start_time": "2023-03-12T13:29:15.549Z"
   },
   {
    "duration": 45,
    "start_time": "2023-03-12T13:29:15.575Z"
   },
   {
    "duration": 41,
    "start_time": "2023-03-12T13:29:15.624Z"
   },
   {
    "duration": 69,
    "start_time": "2023-03-12T13:29:15.667Z"
   },
   {
    "duration": 300,
    "start_time": "2023-03-12T13:29:15.741Z"
   },
   {
    "duration": 20,
    "start_time": "2023-03-12T13:29:16.053Z"
   },
   {
    "duration": 434,
    "start_time": "2023-03-12T13:29:16.076Z"
   },
   {
    "duration": 88,
    "start_time": "2023-03-12T13:29:16.512Z"
   },
   {
    "duration": 4070,
    "start_time": "2023-03-12T13:29:16.601Z"
   },
   {
    "duration": 14,
    "start_time": "2023-03-12T13:29:20.672Z"
   },
   {
    "duration": 580,
    "start_time": "2023-03-12T13:29:20.687Z"
   },
   {
    "duration": 149,
    "start_time": "2023-03-12T13:29:21.269Z"
   },
   {
    "duration": 417,
    "start_time": "2023-03-12T13:29:21.430Z"
   },
   {
    "duration": 3444,
    "start_time": "2023-03-12T13:29:21.851Z"
   },
   {
    "duration": 44,
    "start_time": "2023-03-12T13:29:25.297Z"
   },
   {
    "duration": 117,
    "start_time": "2023-03-12T13:29:25.343Z"
   },
   {
    "duration": 0,
    "start_time": "2023-03-12T13:29:25.467Z"
   },
   {
    "duration": 32,
    "start_time": "2023-03-12T13:30:20.308Z"
   },
   {
    "duration": 10,
    "start_time": "2023-03-12T13:31:54.382Z"
   },
   {
    "duration": 20,
    "start_time": "2023-03-12T13:32:00.512Z"
   },
   {
    "duration": 12,
    "start_time": "2023-03-12T13:32:23.752Z"
   },
   {
    "duration": 40,
    "start_time": "2023-03-12T13:32:40.069Z"
   },
   {
    "duration": 139,
    "start_time": "2023-03-12T13:33:23.611Z"
   },
   {
    "duration": 83,
    "start_time": "2023-03-12T13:33:29.491Z"
   },
   {
    "duration": 11,
    "start_time": "2023-03-12T13:33:40.681Z"
   },
   {
    "duration": 13,
    "start_time": "2023-03-12T13:34:16.118Z"
   },
   {
    "duration": 12,
    "start_time": "2023-03-12T13:35:18.808Z"
   },
   {
    "duration": 139,
    "start_time": "2023-03-12T13:35:44.430Z"
   },
   {
    "duration": 1192,
    "start_time": "2023-03-12T13:35:58.599Z"
   },
   {
    "duration": 88,
    "start_time": "2023-03-12T13:35:59.794Z"
   },
   {
    "duration": 152,
    "start_time": "2023-03-12T13:35:59.885Z"
   },
   {
    "duration": 3014,
    "start_time": "2023-03-12T13:36:00.041Z"
   },
   {
    "duration": 30,
    "start_time": "2023-03-12T13:36:03.057Z"
   },
   {
    "duration": 39,
    "start_time": "2023-03-12T13:36:03.090Z"
   },
   {
    "duration": 151,
    "start_time": "2023-03-12T13:36:03.136Z"
   },
   {
    "duration": 15,
    "start_time": "2023-03-12T13:36:03.290Z"
   },
   {
    "duration": 41,
    "start_time": "2023-03-12T13:36:03.306Z"
   },
   {
    "duration": 57,
    "start_time": "2023-03-12T13:36:03.350Z"
   },
   {
    "duration": 78,
    "start_time": "2023-03-12T13:36:03.410Z"
   },
   {
    "duration": 361,
    "start_time": "2023-03-12T13:36:03.495Z"
   },
   {
    "duration": 19,
    "start_time": "2023-03-12T13:36:03.863Z"
   },
   {
    "duration": 606,
    "start_time": "2023-03-12T13:36:03.887Z"
   },
   {
    "duration": 108,
    "start_time": "2023-03-12T13:36:04.497Z"
   },
   {
    "duration": 4893,
    "start_time": "2023-03-12T13:36:04.608Z"
   },
   {
    "duration": 17,
    "start_time": "2023-03-12T13:36:09.503Z"
   },
   {
    "duration": 813,
    "start_time": "2023-03-12T13:36:09.523Z"
   },
   {
    "duration": 227,
    "start_time": "2023-03-12T13:36:10.338Z"
   },
   {
    "duration": 510,
    "start_time": "2023-03-12T13:36:10.568Z"
   },
   {
    "duration": 4392,
    "start_time": "2023-03-12T13:36:11.086Z"
   },
   {
    "duration": 126,
    "start_time": "2023-03-12T13:36:15.482Z"
   },
   {
    "duration": 0,
    "start_time": "2023-03-12T13:36:15.611Z"
   },
   {
    "duration": 900,
    "start_time": "2023-03-13T08:27:56.975Z"
   },
   {
    "duration": 33,
    "start_time": "2023-03-13T08:27:57.878Z"
   },
   {
    "duration": 81,
    "start_time": "2023-03-13T08:27:57.913Z"
   },
   {
    "duration": 2017,
    "start_time": "2023-03-13T08:27:57.996Z"
   },
   {
    "duration": 10,
    "start_time": "2023-03-13T08:28:00.015Z"
   },
   {
    "duration": 35,
    "start_time": "2023-03-13T08:28:00.026Z"
   },
   {
    "duration": 83,
    "start_time": "2023-03-13T08:28:00.064Z"
   },
   {
    "duration": 11,
    "start_time": "2023-03-13T08:28:00.149Z"
   },
   {
    "duration": 25,
    "start_time": "2023-03-13T08:28:00.162Z"
   },
   {
    "duration": 44,
    "start_time": "2023-03-13T08:28:00.190Z"
   },
   {
    "duration": 85,
    "start_time": "2023-03-13T08:28:00.237Z"
   },
   {
    "duration": 219,
    "start_time": "2023-03-13T08:28:00.325Z"
   },
   {
    "duration": 12,
    "start_time": "2023-03-13T08:28:00.546Z"
   },
   {
    "duration": 362,
    "start_time": "2023-03-13T08:28:00.560Z"
   },
   {
    "duration": 0,
    "start_time": "2023-03-13T08:28:00.923Z"
   },
   {
    "duration": 0,
    "start_time": "2023-03-13T08:28:00.924Z"
   },
   {
    "duration": 0,
    "start_time": "2023-03-13T08:28:00.925Z"
   },
   {
    "duration": 0,
    "start_time": "2023-03-13T08:28:00.926Z"
   },
   {
    "duration": 0,
    "start_time": "2023-03-13T08:28:00.927Z"
   },
   {
    "duration": 0,
    "start_time": "2023-03-13T08:28:00.928Z"
   },
   {
    "duration": 0,
    "start_time": "2023-03-13T08:28:00.929Z"
   },
   {
    "duration": 0,
    "start_time": "2023-03-13T08:28:00.930Z"
   },
   {
    "duration": 0,
    "start_time": "2023-03-13T08:28:00.931Z"
   },
   {
    "duration": 732,
    "start_time": "2023-03-13T08:30:58.318Z"
   },
   {
    "duration": 34,
    "start_time": "2023-03-13T08:30:59.052Z"
   },
   {
    "duration": 79,
    "start_time": "2023-03-13T08:30:59.088Z"
   },
   {
    "duration": 2144,
    "start_time": "2023-03-13T08:30:59.169Z"
   },
   {
    "duration": 10,
    "start_time": "2023-03-13T08:31:01.316Z"
   },
   {
    "duration": 74,
    "start_time": "2023-03-13T08:31:01.328Z"
   },
   {
    "duration": 76,
    "start_time": "2023-03-13T08:31:01.404Z"
   },
   {
    "duration": 9,
    "start_time": "2023-03-13T08:31:01.482Z"
   },
   {
    "duration": 39,
    "start_time": "2023-03-13T08:31:01.492Z"
   },
   {
    "duration": 31,
    "start_time": "2023-03-13T08:31:01.533Z"
   },
   {
    "duration": 63,
    "start_time": "2023-03-13T08:31:01.566Z"
   },
   {
    "duration": 200,
    "start_time": "2023-03-13T08:31:01.630Z"
   },
   {
    "duration": 14,
    "start_time": "2023-03-13T08:31:01.832Z"
   },
   {
    "duration": 322,
    "start_time": "2023-03-13T08:31:01.849Z"
   },
   {
    "duration": 69,
    "start_time": "2023-03-13T08:31:02.172Z"
   },
   {
    "duration": 3096,
    "start_time": "2023-03-13T08:31:02.243Z"
   },
   {
    "duration": 10,
    "start_time": "2023-03-13T08:31:05.341Z"
   },
   {
    "duration": 418,
    "start_time": "2023-03-13T08:31:05.352Z"
   },
   {
    "duration": 142,
    "start_time": "2023-03-13T08:31:05.772Z"
   },
   {
    "duration": 237,
    "start_time": "2023-03-13T08:31:05.921Z"
   },
   {
    "duration": 57,
    "start_time": "2023-03-13T08:31:06.160Z"
   },
   {
    "duration": 0,
    "start_time": "2023-03-13T08:31:06.218Z"
   },
   {
    "duration": 0,
    "start_time": "2023-03-13T08:31:06.219Z"
   },
   {
    "duration": 3037,
    "start_time": "2023-03-13T08:32:17.741Z"
   },
   {
    "duration": 310,
    "start_time": "2023-03-13T08:34:38.954Z"
   },
   {
    "duration": 307,
    "start_time": "2023-03-13T08:36:16.648Z"
   },
   {
    "duration": 180,
    "start_time": "2023-03-13T08:37:00.856Z"
   },
   {
    "duration": 83,
    "start_time": "2023-03-13T08:37:25.295Z"
   },
   {
    "duration": 316,
    "start_time": "2023-03-13T08:37:38.166Z"
   },
   {
    "duration": 532,
    "start_time": "2023-03-13T08:44:31.079Z"
   },
   {
    "duration": 25,
    "start_time": "2023-03-13T08:45:40.438Z"
   },
   {
    "duration": 775,
    "start_time": "2023-03-13T08:47:46.862Z"
   },
   {
    "duration": 51,
    "start_time": "2023-03-13T08:47:47.640Z"
   },
   {
    "duration": 96,
    "start_time": "2023-03-13T08:47:47.694Z"
   },
   {
    "duration": 2126,
    "start_time": "2023-03-13T08:47:47.792Z"
   },
   {
    "duration": 10,
    "start_time": "2023-03-13T08:47:49.919Z"
   },
   {
    "duration": 24,
    "start_time": "2023-03-13T08:47:49.931Z"
   },
   {
    "duration": 90,
    "start_time": "2023-03-13T08:47:49.957Z"
   },
   {
    "duration": 9,
    "start_time": "2023-03-13T08:47:50.049Z"
   },
   {
    "duration": 15,
    "start_time": "2023-03-13T08:47:50.060Z"
   },
   {
    "duration": 50,
    "start_time": "2023-03-13T08:47:50.078Z"
   },
   {
    "duration": 47,
    "start_time": "2023-03-13T08:47:50.130Z"
   },
   {
    "duration": 292,
    "start_time": "2023-03-13T08:47:50.179Z"
   },
   {
    "duration": 17,
    "start_time": "2023-03-13T08:47:50.474Z"
   },
   {
    "duration": 319,
    "start_time": "2023-03-13T08:47:50.494Z"
   },
   {
    "duration": 59,
    "start_time": "2023-03-13T08:47:50.820Z"
   },
   {
    "duration": 3158,
    "start_time": "2023-03-13T08:47:50.881Z"
   },
   {
    "duration": 10,
    "start_time": "2023-03-13T08:47:54.041Z"
   },
   {
    "duration": 404,
    "start_time": "2023-03-13T08:47:54.052Z"
   },
   {
    "duration": 139,
    "start_time": "2023-03-13T08:47:54.458Z"
   },
   {
    "duration": 239,
    "start_time": "2023-03-13T08:47:54.598Z"
   },
   {
    "duration": 3019,
    "start_time": "2023-03-13T08:47:54.839Z"
   },
   {
    "duration": 0,
    "start_time": "2023-03-13T08:47:57.860Z"
   },
   {
    "duration": 0,
    "start_time": "2023-03-13T08:47:57.861Z"
   },
   {
    "duration": 2801,
    "start_time": "2023-03-13T08:48:16.036Z"
   },
   {
    "duration": 2898,
    "start_time": "2023-03-13T08:48:32.263Z"
   },
   {
    "duration": 2866,
    "start_time": "2023-03-13T08:48:42.886Z"
   },
   {
    "duration": 51,
    "start_time": "2023-03-13T08:55:43.415Z"
   },
   {
    "duration": 42,
    "start_time": "2023-03-13T08:55:53.758Z"
   },
   {
    "duration": 839,
    "start_time": "2023-03-13T08:56:09.582Z"
   },
   {
    "duration": 11,
    "start_time": "2023-03-13T09:09:10.407Z"
   },
   {
    "duration": 11,
    "start_time": "2023-03-13T09:16:00.275Z"
   },
   {
    "duration": 8,
    "start_time": "2023-03-13T09:16:15.434Z"
   },
   {
    "duration": 97,
    "start_time": "2023-03-13T09:16:20.113Z"
   },
   {
    "duration": 9,
    "start_time": "2023-03-13T09:16:27.138Z"
   },
   {
    "duration": 752,
    "start_time": "2023-03-13T09:16:36.434Z"
   },
   {
    "duration": 37,
    "start_time": "2023-03-13T09:16:37.189Z"
   },
   {
    "duration": 78,
    "start_time": "2023-03-13T09:16:37.228Z"
   },
   {
    "duration": 2132,
    "start_time": "2023-03-13T09:16:37.321Z"
   },
   {
    "duration": 23,
    "start_time": "2023-03-13T09:16:39.456Z"
   },
   {
    "duration": 32,
    "start_time": "2023-03-13T09:16:39.481Z"
   },
   {
    "duration": 101,
    "start_time": "2023-03-13T09:16:39.516Z"
   },
   {
    "duration": 26,
    "start_time": "2023-03-13T09:16:39.620Z"
   },
   {
    "duration": 25,
    "start_time": "2023-03-13T09:16:39.649Z"
   },
   {
    "duration": 61,
    "start_time": "2023-03-13T09:16:39.676Z"
   },
   {
    "duration": 44,
    "start_time": "2023-03-13T09:16:39.739Z"
   },
   {
    "duration": 230,
    "start_time": "2023-03-13T09:16:39.784Z"
   },
   {
    "duration": 19,
    "start_time": "2023-03-13T09:16:40.016Z"
   },
   {
    "duration": 442,
    "start_time": "2023-03-13T09:16:40.038Z"
   },
   {
    "duration": 1,
    "start_time": "2023-03-13T09:16:40.482Z"
   },
   {
    "duration": 0,
    "start_time": "2023-03-13T09:16:40.484Z"
   },
   {
    "duration": 0,
    "start_time": "2023-03-13T09:16:40.486Z"
   },
   {
    "duration": 0,
    "start_time": "2023-03-13T09:16:40.487Z"
   },
   {
    "duration": 0,
    "start_time": "2023-03-13T09:16:40.489Z"
   },
   {
    "duration": 0,
    "start_time": "2023-03-13T09:16:40.490Z"
   },
   {
    "duration": 0,
    "start_time": "2023-03-13T09:16:40.491Z"
   },
   {
    "duration": 0,
    "start_time": "2023-03-13T09:16:40.493Z"
   },
   {
    "duration": 0,
    "start_time": "2023-03-13T09:16:40.494Z"
   },
   {
    "duration": 0,
    "start_time": "2023-03-13T09:16:40.495Z"
   },
   {
    "duration": 14,
    "start_time": "2023-03-13T09:17:01.606Z"
   },
   {
    "duration": 725,
    "start_time": "2023-03-13T09:17:26.155Z"
   },
   {
    "duration": 37,
    "start_time": "2023-03-13T09:17:26.881Z"
   },
   {
    "duration": 79,
    "start_time": "2023-03-13T09:17:26.920Z"
   },
   {
    "duration": 2072,
    "start_time": "2023-03-13T09:17:27.001Z"
   },
   {
    "duration": 11,
    "start_time": "2023-03-13T09:17:29.075Z"
   },
   {
    "duration": 27,
    "start_time": "2023-03-13T09:17:29.088Z"
   },
   {
    "duration": 81,
    "start_time": "2023-03-13T09:17:29.117Z"
   },
   {
    "duration": 22,
    "start_time": "2023-03-13T09:17:29.200Z"
   },
   {
    "duration": 17,
    "start_time": "2023-03-13T09:17:29.224Z"
   },
   {
    "duration": 27,
    "start_time": "2023-03-13T09:17:29.244Z"
   },
   {
    "duration": 65,
    "start_time": "2023-03-13T09:17:29.273Z"
   },
   {
    "duration": 206,
    "start_time": "2023-03-13T09:17:29.339Z"
   },
   {
    "duration": 11,
    "start_time": "2023-03-13T09:17:29.547Z"
   },
   {
    "duration": 362,
    "start_time": "2023-03-13T09:17:29.559Z"
   },
   {
    "duration": 62,
    "start_time": "2023-03-13T09:17:29.923Z"
   },
   {
    "duration": 3199,
    "start_time": "2023-03-13T09:17:29.987Z"
   },
   {
    "duration": 10,
    "start_time": "2023-03-13T09:17:33.188Z"
   },
   {
    "duration": 442,
    "start_time": "2023-03-13T09:17:33.200Z"
   },
   {
    "duration": 139,
    "start_time": "2023-03-13T09:17:33.644Z"
   },
   {
    "duration": 249,
    "start_time": "2023-03-13T09:17:33.785Z"
   },
   {
    "duration": 2911,
    "start_time": "2023-03-13T09:17:34.036Z"
   },
   {
    "duration": 82,
    "start_time": "2023-03-13T09:17:36.949Z"
   },
   {
    "duration": 0,
    "start_time": "2023-03-13T09:17:37.033Z"
   },
   {
    "duration": 0,
    "start_time": "2023-03-13T09:17:37.034Z"
   },
   {
    "duration": 9,
    "start_time": "2023-03-13T09:17:55.093Z"
   },
   {
    "duration": 85,
    "start_time": "2023-03-13T09:21:22.870Z"
   },
   {
    "duration": 754,
    "start_time": "2023-03-13T09:21:29.404Z"
   },
   {
    "duration": 35,
    "start_time": "2023-03-13T09:21:30.160Z"
   },
   {
    "duration": 98,
    "start_time": "2023-03-13T09:21:30.197Z"
   },
   {
    "duration": 2119,
    "start_time": "2023-03-13T09:21:30.298Z"
   },
   {
    "duration": 9,
    "start_time": "2023-03-13T09:21:32.419Z"
   },
   {
    "duration": 37,
    "start_time": "2023-03-13T09:21:32.430Z"
   },
   {
    "duration": 80,
    "start_time": "2023-03-13T09:21:32.469Z"
   },
   {
    "duration": 11,
    "start_time": "2023-03-13T09:21:32.551Z"
   },
   {
    "duration": 36,
    "start_time": "2023-03-13T09:21:32.563Z"
   },
   {
    "duration": 41,
    "start_time": "2023-03-13T09:21:32.602Z"
   },
   {
    "duration": 78,
    "start_time": "2023-03-13T09:21:32.646Z"
   },
   {
    "duration": 207,
    "start_time": "2023-03-13T09:21:32.726Z"
   },
   {
    "duration": 11,
    "start_time": "2023-03-13T09:21:32.934Z"
   },
   {
    "duration": 332,
    "start_time": "2023-03-13T09:21:32.947Z"
   },
   {
    "duration": 3,
    "start_time": "2023-03-13T09:21:33.281Z"
   },
   {
    "duration": 82,
    "start_time": "2023-03-13T09:21:33.285Z"
   },
   {
    "duration": 0,
    "start_time": "2023-03-13T09:21:33.369Z"
   },
   {
    "duration": 0,
    "start_time": "2023-03-13T09:21:33.370Z"
   },
   {
    "duration": 0,
    "start_time": "2023-03-13T09:21:33.371Z"
   },
   {
    "duration": 0,
    "start_time": "2023-03-13T09:21:33.372Z"
   },
   {
    "duration": 0,
    "start_time": "2023-03-13T09:21:33.373Z"
   },
   {
    "duration": 0,
    "start_time": "2023-03-13T09:21:33.374Z"
   },
   {
    "duration": 0,
    "start_time": "2023-03-13T09:21:33.375Z"
   },
   {
    "duration": 0,
    "start_time": "2023-03-13T09:21:33.377Z"
   },
   {
    "duration": 0,
    "start_time": "2023-03-13T09:21:33.378Z"
   },
   {
    "duration": 0,
    "start_time": "2023-03-13T09:21:33.379Z"
   },
   {
    "duration": 692,
    "start_time": "2023-03-13T09:22:16.765Z"
   },
   {
    "duration": 35,
    "start_time": "2023-03-13T09:22:17.459Z"
   },
   {
    "duration": 79,
    "start_time": "2023-03-13T09:22:17.495Z"
   },
   {
    "duration": 2057,
    "start_time": "2023-03-13T09:22:17.576Z"
   },
   {
    "duration": 10,
    "start_time": "2023-03-13T09:22:19.635Z"
   },
   {
    "duration": 26,
    "start_time": "2023-03-13T09:22:19.646Z"
   },
   {
    "duration": 97,
    "start_time": "2023-03-13T09:22:19.673Z"
   },
   {
    "duration": 11,
    "start_time": "2023-03-13T09:22:19.771Z"
   },
   {
    "duration": 16,
    "start_time": "2023-03-13T09:22:19.784Z"
   },
   {
    "duration": 31,
    "start_time": "2023-03-13T09:22:19.820Z"
   },
   {
    "duration": 43,
    "start_time": "2023-03-13T09:22:19.853Z"
   },
   {
    "duration": 217,
    "start_time": "2023-03-13T09:22:19.897Z"
   },
   {
    "duration": 13,
    "start_time": "2023-03-13T09:22:20.116Z"
   },
   {
    "duration": 390,
    "start_time": "2023-03-13T09:22:20.131Z"
   },
   {
    "duration": 3,
    "start_time": "2023-03-13T09:22:20.523Z"
   },
   {
    "duration": 350,
    "start_time": "2023-03-13T09:22:20.528Z"
   },
   {
    "duration": 80,
    "start_time": "2023-03-13T09:22:20.879Z"
   },
   {
    "duration": 0,
    "start_time": "2023-03-13T09:22:20.961Z"
   },
   {
    "duration": 0,
    "start_time": "2023-03-13T09:22:20.962Z"
   },
   {
    "duration": 0,
    "start_time": "2023-03-13T09:22:20.963Z"
   },
   {
    "duration": 0,
    "start_time": "2023-03-13T09:22:20.964Z"
   },
   {
    "duration": 0,
    "start_time": "2023-03-13T09:22:20.965Z"
   },
   {
    "duration": 0,
    "start_time": "2023-03-13T09:22:20.966Z"
   },
   {
    "duration": 0,
    "start_time": "2023-03-13T09:22:20.967Z"
   },
   {
    "duration": 0,
    "start_time": "2023-03-13T09:22:20.969Z"
   },
   {
    "duration": 0,
    "start_time": "2023-03-13T09:22:20.970Z"
   },
   {
    "duration": 709,
    "start_time": "2023-03-13T09:23:05.749Z"
   },
   {
    "duration": 34,
    "start_time": "2023-03-13T09:23:06.460Z"
   },
   {
    "duration": 85,
    "start_time": "2023-03-13T09:23:06.495Z"
   },
   {
    "duration": 2056,
    "start_time": "2023-03-13T09:23:06.582Z"
   },
   {
    "duration": 9,
    "start_time": "2023-03-13T09:23:08.640Z"
   },
   {
    "duration": 26,
    "start_time": "2023-03-13T09:23:08.650Z"
   },
   {
    "duration": 81,
    "start_time": "2023-03-13T09:23:08.678Z"
   },
   {
    "duration": 9,
    "start_time": "2023-03-13T09:23:08.761Z"
   },
   {
    "duration": 17,
    "start_time": "2023-03-13T09:23:08.772Z"
   },
   {
    "duration": 43,
    "start_time": "2023-03-13T09:23:08.791Z"
   },
   {
    "duration": 47,
    "start_time": "2023-03-13T09:23:08.835Z"
   },
   {
    "duration": 211,
    "start_time": "2023-03-13T09:23:08.883Z"
   },
   {
    "duration": 11,
    "start_time": "2023-03-13T09:23:09.096Z"
   },
   {
    "duration": 345,
    "start_time": "2023-03-13T09:23:09.108Z"
   },
   {
    "duration": 3,
    "start_time": "2023-03-13T09:23:09.455Z"
   },
   {
    "duration": 364,
    "start_time": "2023-03-13T09:23:09.460Z"
   },
   {
    "duration": 62,
    "start_time": "2023-03-13T09:23:09.825Z"
   },
   {
    "duration": 3289,
    "start_time": "2023-03-13T09:23:09.888Z"
   },
   {
    "duration": 10,
    "start_time": "2023-03-13T09:23:13.179Z"
   },
   {
    "duration": 276,
    "start_time": "2023-03-13T09:23:13.190Z"
   },
   {
    "duration": 144,
    "start_time": "2023-03-13T09:23:13.468Z"
   },
   {
    "duration": 233,
    "start_time": "2023-03-13T09:23:13.614Z"
   },
   {
    "duration": 3056,
    "start_time": "2023-03-13T09:23:13.849Z"
   },
   {
    "duration": 79,
    "start_time": "2023-03-13T09:23:16.907Z"
   },
   {
    "duration": 0,
    "start_time": "2023-03-13T09:23:16.987Z"
   },
   {
    "duration": 0,
    "start_time": "2023-03-13T09:23:16.989Z"
   },
   {
    "duration": 96,
    "start_time": "2023-03-13T09:24:14.021Z"
   },
   {
    "duration": 28,
    "start_time": "2023-03-13T09:24:35.931Z"
   },
   {
    "duration": 8,
    "start_time": "2023-03-13T09:25:36.448Z"
   },
   {
    "duration": 8,
    "start_time": "2023-03-13T09:25:50.438Z"
   },
   {
    "duration": 2837,
    "start_time": "2023-03-13T09:26:46.115Z"
   },
   {
    "duration": 8,
    "start_time": "2023-03-13T09:27:08.995Z"
   },
   {
    "duration": 8,
    "start_time": "2023-03-13T09:28:23.113Z"
   },
   {
    "duration": 7,
    "start_time": "2023-03-13T09:31:19.143Z"
   },
   {
    "duration": 11,
    "start_time": "2023-03-13T09:32:40.328Z"
   },
   {
    "duration": 8,
    "start_time": "2023-03-13T09:32:44.371Z"
   },
   {
    "duration": 9,
    "start_time": "2023-03-13T09:32:53.876Z"
   },
   {
    "duration": 9,
    "start_time": "2023-03-13T09:35:30.523Z"
   },
   {
    "duration": 4,
    "start_time": "2023-03-13T09:35:57.422Z"
   },
   {
    "duration": 9,
    "start_time": "2023-03-13T09:36:21.236Z"
   },
   {
    "duration": 4,
    "start_time": "2023-03-13T09:36:28.305Z"
   },
   {
    "duration": 8,
    "start_time": "2023-03-13T09:36:44.198Z"
   },
   {
    "duration": 759,
    "start_time": "2023-03-13T09:37:03.699Z"
   },
   {
    "duration": 34,
    "start_time": "2023-03-13T09:37:04.461Z"
   },
   {
    "duration": 85,
    "start_time": "2023-03-13T09:37:04.499Z"
   },
   {
    "duration": 2031,
    "start_time": "2023-03-13T09:37:04.586Z"
   },
   {
    "duration": 9,
    "start_time": "2023-03-13T09:37:06.619Z"
   },
   {
    "duration": 27,
    "start_time": "2023-03-13T09:37:06.629Z"
   },
   {
    "duration": 96,
    "start_time": "2023-03-13T09:37:06.658Z"
   },
   {
    "duration": 11,
    "start_time": "2023-03-13T09:37:06.756Z"
   },
   {
    "duration": 24,
    "start_time": "2023-03-13T09:37:06.769Z"
   },
   {
    "duration": 44,
    "start_time": "2023-03-13T09:37:06.795Z"
   },
   {
    "duration": 42,
    "start_time": "2023-03-13T09:37:06.841Z"
   },
   {
    "duration": 215,
    "start_time": "2023-03-13T09:37:06.885Z"
   },
   {
    "duration": 20,
    "start_time": "2023-03-13T09:37:07.103Z"
   },
   {
    "duration": 313,
    "start_time": "2023-03-13T09:37:07.124Z"
   },
   {
    "duration": 50,
    "start_time": "2023-03-13T09:37:07.439Z"
   },
   {
    "duration": 0,
    "start_time": "2023-03-13T09:37:07.491Z"
   },
   {
    "duration": 0,
    "start_time": "2023-03-13T09:37:07.492Z"
   },
   {
    "duration": 0,
    "start_time": "2023-03-13T09:37:07.494Z"
   },
   {
    "duration": 0,
    "start_time": "2023-03-13T09:37:07.495Z"
   },
   {
    "duration": 0,
    "start_time": "2023-03-13T09:37:07.497Z"
   },
   {
    "duration": 0,
    "start_time": "2023-03-13T09:37:07.498Z"
   },
   {
    "duration": 0,
    "start_time": "2023-03-13T09:37:07.499Z"
   },
   {
    "duration": 0,
    "start_time": "2023-03-13T09:37:07.501Z"
   },
   {
    "duration": 0,
    "start_time": "2023-03-13T09:37:07.502Z"
   },
   {
    "duration": 0,
    "start_time": "2023-03-13T09:37:07.503Z"
   },
   {
    "duration": 0,
    "start_time": "2023-03-13T09:37:07.504Z"
   },
   {
    "duration": 0,
    "start_time": "2023-03-13T09:37:07.506Z"
   },
   {
    "duration": 0,
    "start_time": "2023-03-13T09:37:07.507Z"
   },
   {
    "duration": 0,
    "start_time": "2023-03-13T09:37:07.510Z"
   },
   {
    "duration": 0,
    "start_time": "2023-03-13T09:37:07.512Z"
   },
   {
    "duration": 724,
    "start_time": "2023-03-13T09:37:27.844Z"
   },
   {
    "duration": 39,
    "start_time": "2023-03-13T09:37:28.571Z"
   },
   {
    "duration": 90,
    "start_time": "2023-03-13T09:37:28.612Z"
   },
   {
    "duration": 2193,
    "start_time": "2023-03-13T09:37:28.704Z"
   },
   {
    "duration": 10,
    "start_time": "2023-03-13T09:37:30.900Z"
   },
   {
    "duration": 55,
    "start_time": "2023-03-13T09:37:30.913Z"
   },
   {
    "duration": 84,
    "start_time": "2023-03-13T09:37:30.970Z"
   },
   {
    "duration": 10,
    "start_time": "2023-03-13T09:37:31.056Z"
   },
   {
    "duration": 56,
    "start_time": "2023-03-13T09:37:31.067Z"
   },
   {
    "duration": 52,
    "start_time": "2023-03-13T09:37:31.126Z"
   },
   {
    "duration": 53,
    "start_time": "2023-03-13T09:37:31.180Z"
   },
   {
    "duration": 201,
    "start_time": "2023-03-13T09:37:31.235Z"
   },
   {
    "duration": 11,
    "start_time": "2023-03-13T09:37:31.437Z"
   },
   {
    "duration": 312,
    "start_time": "2023-03-13T09:37:31.449Z"
   },
   {
    "duration": 3,
    "start_time": "2023-03-13T09:37:31.763Z"
   },
   {
    "duration": 339,
    "start_time": "2023-03-13T09:37:31.767Z"
   },
   {
    "duration": 31,
    "start_time": "2023-03-13T09:37:32.107Z"
   },
   {
    "duration": 55,
    "start_time": "2023-03-13T09:37:32.140Z"
   },
   {
    "duration": 3213,
    "start_time": "2023-03-13T09:37:32.197Z"
   },
   {
    "duration": 14,
    "start_time": "2023-03-13T09:37:35.412Z"
   },
   {
    "duration": 275,
    "start_time": "2023-03-13T09:37:35.427Z"
   },
   {
    "duration": 146,
    "start_time": "2023-03-13T09:37:35.704Z"
   },
   {
    "duration": 228,
    "start_time": "2023-03-13T09:37:35.851Z"
   },
   {
    "duration": 2958,
    "start_time": "2023-03-13T09:37:36.080Z"
   },
   {
    "duration": 4,
    "start_time": "2023-03-13T09:37:39.040Z"
   },
   {
    "duration": 84,
    "start_time": "2023-03-13T09:37:39.045Z"
   },
   {
    "duration": 0,
    "start_time": "2023-03-13T09:37:39.131Z"
   },
   {
    "duration": 0,
    "start_time": "2023-03-13T09:37:39.132Z"
   },
   {
    "duration": 0,
    "start_time": "2023-03-13T09:37:39.133Z"
   },
   {
    "duration": 8,
    "start_time": "2023-03-13T09:38:36.472Z"
   },
   {
    "duration": 8,
    "start_time": "2023-03-13T09:39:15.265Z"
   },
   {
    "duration": 769,
    "start_time": "2023-03-13T09:42:15.805Z"
   },
   {
    "duration": 34,
    "start_time": "2023-03-13T09:42:16.575Z"
   },
   {
    "duration": 83,
    "start_time": "2023-03-13T09:42:16.611Z"
   },
   {
    "duration": 2165,
    "start_time": "2023-03-13T09:42:16.696Z"
   },
   {
    "duration": 9,
    "start_time": "2023-03-13T09:42:18.863Z"
   },
   {
    "duration": 25,
    "start_time": "2023-03-13T09:42:18.874Z"
   },
   {
    "duration": 79,
    "start_time": "2023-03-13T09:42:18.900Z"
   },
   {
    "duration": 10,
    "start_time": "2023-03-13T09:42:18.981Z"
   },
   {
    "duration": 32,
    "start_time": "2023-03-13T09:42:18.993Z"
   },
   {
    "duration": 26,
    "start_time": "2023-03-13T09:42:19.028Z"
   },
   {
    "duration": 48,
    "start_time": "2023-03-13T09:42:19.056Z"
   },
   {
    "duration": 206,
    "start_time": "2023-03-13T09:42:19.120Z"
   },
   {
    "duration": 12,
    "start_time": "2023-03-13T09:42:19.328Z"
   },
   {
    "duration": 335,
    "start_time": "2023-03-13T09:42:19.342Z"
   },
   {
    "duration": 2,
    "start_time": "2023-03-13T09:42:19.679Z"
   },
   {
    "duration": 362,
    "start_time": "2023-03-13T09:42:19.683Z"
   },
   {
    "duration": 25,
    "start_time": "2023-03-13T09:42:20.047Z"
   },
   {
    "duration": 68,
    "start_time": "2023-03-13T09:42:20.074Z"
   },
   {
    "duration": 3282,
    "start_time": "2023-03-13T09:42:20.144Z"
   },
   {
    "duration": 10,
    "start_time": "2023-03-13T09:42:23.428Z"
   },
   {
    "duration": 275,
    "start_time": "2023-03-13T09:42:23.439Z"
   },
   {
    "duration": 133,
    "start_time": "2023-03-13T09:42:23.720Z"
   },
   {
    "duration": 244,
    "start_time": "2023-03-13T09:42:23.855Z"
   },
   {
    "duration": 3037,
    "start_time": "2023-03-13T09:42:24.101Z"
   },
   {
    "duration": 83,
    "start_time": "2023-03-13T09:42:27.140Z"
   },
   {
    "duration": 0,
    "start_time": "2023-03-13T09:42:27.225Z"
   },
   {
    "duration": 0,
    "start_time": "2023-03-13T09:42:27.226Z"
   },
   {
    "duration": 0,
    "start_time": "2023-03-13T09:42:27.227Z"
   },
   {
    "duration": 0,
    "start_time": "2023-03-13T09:42:27.229Z"
   },
   {
    "duration": 8,
    "start_time": "2023-03-13T09:42:47.532Z"
   },
   {
    "duration": 8,
    "start_time": "2023-03-13T09:43:27.759Z"
   },
   {
    "duration": 8,
    "start_time": "2023-03-13T09:43:59.138Z"
   },
   {
    "duration": 9,
    "start_time": "2023-03-13T09:44:07.357Z"
   },
   {
    "duration": 744,
    "start_time": "2023-03-13T09:44:16.654Z"
   },
   {
    "duration": 35,
    "start_time": "2023-03-13T09:44:17.401Z"
   },
   {
    "duration": 73,
    "start_time": "2023-03-13T09:44:17.438Z"
   },
   {
    "duration": 2051,
    "start_time": "2023-03-13T09:44:17.522Z"
   },
   {
    "duration": 10,
    "start_time": "2023-03-13T09:44:19.576Z"
   },
   {
    "duration": 34,
    "start_time": "2023-03-13T09:44:19.588Z"
   },
   {
    "duration": 81,
    "start_time": "2023-03-13T09:44:19.625Z"
   },
   {
    "duration": 19,
    "start_time": "2023-03-13T09:44:19.707Z"
   },
   {
    "duration": 17,
    "start_time": "2023-03-13T09:44:19.727Z"
   },
   {
    "duration": 28,
    "start_time": "2023-03-13T09:44:19.747Z"
   },
   {
    "duration": 72,
    "start_time": "2023-03-13T09:44:19.777Z"
   },
   {
    "duration": 218,
    "start_time": "2023-03-13T09:44:19.851Z"
   },
   {
    "duration": 10,
    "start_time": "2023-03-13T09:44:20.071Z"
   },
   {
    "duration": 361,
    "start_time": "2023-03-13T09:44:20.083Z"
   },
   {
    "duration": 4,
    "start_time": "2023-03-13T09:44:20.446Z"
   },
   {
    "duration": 338,
    "start_time": "2023-03-13T09:44:20.451Z"
   },
   {
    "duration": 31,
    "start_time": "2023-03-13T09:44:20.791Z"
   },
   {
    "duration": 57,
    "start_time": "2023-03-13T09:44:20.824Z"
   },
   {
    "duration": 3240,
    "start_time": "2023-03-13T09:44:20.883Z"
   },
   {
    "duration": 9,
    "start_time": "2023-03-13T09:44:24.124Z"
   },
   {
    "duration": 269,
    "start_time": "2023-03-13T09:44:24.135Z"
   },
   {
    "duration": 135,
    "start_time": "2023-03-13T09:44:24.406Z"
   },
   {
    "duration": 233,
    "start_time": "2023-03-13T09:44:24.542Z"
   },
   {
    "duration": 3093,
    "start_time": "2023-03-13T09:44:24.777Z"
   },
   {
    "duration": 82,
    "start_time": "2023-03-13T09:44:27.872Z"
   },
   {
    "duration": 0,
    "start_time": "2023-03-13T09:44:27.955Z"
   },
   {
    "duration": 0,
    "start_time": "2023-03-13T09:44:27.956Z"
   },
   {
    "duration": 12,
    "start_time": "2023-03-13T09:45:31.531Z"
   },
   {
    "duration": 89,
    "start_time": "2023-03-13T09:45:41.098Z"
   },
   {
    "duration": 31,
    "start_time": "2023-03-13T09:45:43.497Z"
   },
   {
    "duration": 73,
    "start_time": "2023-03-13T09:45:47.134Z"
   },
   {
    "duration": 2016,
    "start_time": "2023-03-13T09:45:50.397Z"
   },
   {
    "duration": 10,
    "start_time": "2023-03-13T09:45:56.239Z"
   },
   {
    "duration": 28,
    "start_time": "2023-03-13T09:45:59.669Z"
   },
   {
    "duration": 75,
    "start_time": "2023-03-13T09:46:03.600Z"
   },
   {
    "duration": 6,
    "start_time": "2023-03-13T09:46:44.752Z"
   },
   {
    "duration": 5,
    "start_time": "2023-03-13T09:46:46.311Z"
   },
   {
    "duration": 5,
    "start_time": "2023-03-13T09:46:47.426Z"
   },
   {
    "duration": 32,
    "start_time": "2023-03-13T09:47:21.340Z"
   },
   {
    "duration": 5,
    "start_time": "2023-03-13T09:47:23.142Z"
   },
   {
    "duration": 32,
    "start_time": "2023-03-13T09:47:24.114Z"
   },
   {
    "duration": 4,
    "start_time": "2023-03-13T09:48:03.240Z"
   },
   {
    "duration": 5,
    "start_time": "2023-03-13T09:48:04.118Z"
   },
   {
    "duration": 6,
    "start_time": "2023-03-13T09:48:04.730Z"
   },
   {
    "duration": 5,
    "start_time": "2023-03-13T09:48:05.233Z"
   },
   {
    "duration": 32,
    "start_time": "2023-03-13T09:48:05.841Z"
   },
   {
    "duration": 36,
    "start_time": "2023-03-13T09:48:06.923Z"
   },
   {
    "duration": 37,
    "start_time": "2023-03-13T09:50:25.428Z"
   },
   {
    "duration": 35,
    "start_time": "2023-03-13T09:50:30.552Z"
   },
   {
    "duration": 10,
    "start_time": "2023-03-13T09:50:31.644Z"
   },
   {
    "duration": 10,
    "start_time": "2023-03-13T09:50:32.803Z"
   },
   {
    "duration": 15,
    "start_time": "2023-03-13T09:50:37.320Z"
   },
   {
    "duration": 26,
    "start_time": "2023-03-13T09:50:40.624Z"
   },
   {
    "duration": 44,
    "start_time": "2023-03-13T09:50:46.419Z"
   },
   {
    "duration": 201,
    "start_time": "2023-03-13T09:50:50.768Z"
   },
   {
    "duration": 11,
    "start_time": "2023-03-13T09:50:54.994Z"
   },
   {
    "duration": 343,
    "start_time": "2023-03-13T09:50:59.548Z"
   },
   {
    "duration": 4,
    "start_time": "2023-03-13T09:51:03.878Z"
   },
   {
    "duration": 315,
    "start_time": "2023-03-13T09:51:04.885Z"
   },
   {
    "duration": 28,
    "start_time": "2023-03-13T09:51:05.641Z"
   },
   {
    "duration": 58,
    "start_time": "2023-03-13T09:51:08.070Z"
   },
   {
    "duration": 3284,
    "start_time": "2023-03-13T09:51:13.305Z"
   },
   {
    "duration": 11,
    "start_time": "2023-03-13T09:51:23.298Z"
   },
   {
    "duration": 275,
    "start_time": "2023-03-13T09:51:26.001Z"
   },
   {
    "duration": 141,
    "start_time": "2023-03-13T09:51:28.942Z"
   },
   {
    "duration": 221,
    "start_time": "2023-03-13T09:51:33.490Z"
   },
   {
    "duration": 3079,
    "start_time": "2023-03-13T09:51:37.445Z"
   },
   {
    "duration": 8,
    "start_time": "2023-03-13T09:51:47.373Z"
   },
   {
    "duration": 7,
    "start_time": "2023-03-13T09:52:02.230Z"
   },
   {
    "duration": 9,
    "start_time": "2023-03-13T09:53:16.437Z"
   },
   {
    "duration": 8,
    "start_time": "2023-03-13T09:55:05.793Z"
   },
   {
    "duration": 8,
    "start_time": "2023-03-13T09:55:42.377Z"
   },
   {
    "duration": 9,
    "start_time": "2023-03-13T09:58:47.021Z"
   },
   {
    "duration": 697,
    "start_time": "2023-03-13T10:03:04.174Z"
   },
   {
    "duration": 35,
    "start_time": "2023-03-13T10:03:04.873Z"
   },
   {
    "duration": 85,
    "start_time": "2023-03-13T10:03:04.909Z"
   },
   {
    "duration": 2121,
    "start_time": "2023-03-13T10:03:04.996Z"
   },
   {
    "duration": 10,
    "start_time": "2023-03-13T10:03:07.120Z"
   },
   {
    "duration": 28,
    "start_time": "2023-03-13T10:03:07.132Z"
   },
   {
    "duration": 6,
    "start_time": "2023-03-13T10:03:07.161Z"
   },
   {
    "duration": 8,
    "start_time": "2023-03-13T10:03:07.169Z"
   },
   {
    "duration": 7,
    "start_time": "2023-03-13T10:03:07.178Z"
   },
   {
    "duration": 7,
    "start_time": "2023-03-13T10:03:07.187Z"
   },
   {
    "duration": 58,
    "start_time": "2023-03-13T10:03:07.196Z"
   },
   {
    "duration": 37,
    "start_time": "2023-03-13T10:03:07.256Z"
   },
   {
    "duration": 31,
    "start_time": "2023-03-13T10:03:07.295Z"
   },
   {
    "duration": 11,
    "start_time": "2023-03-13T10:03:07.330Z"
   },
   {
    "duration": 35,
    "start_time": "2023-03-13T10:03:07.343Z"
   },
   {
    "duration": 42,
    "start_time": "2023-03-13T10:03:07.380Z"
   },
   {
    "duration": 44,
    "start_time": "2023-03-13T10:03:07.424Z"
   },
   {
    "duration": 223,
    "start_time": "2023-03-13T10:03:07.470Z"
   },
   {
    "duration": 13,
    "start_time": "2023-03-13T10:03:07.695Z"
   },
   {
    "duration": 340,
    "start_time": "2023-03-13T10:03:07.710Z"
   },
   {
    "duration": 3,
    "start_time": "2023-03-13T10:03:08.053Z"
   },
   {
    "duration": 357,
    "start_time": "2023-03-13T10:03:08.058Z"
   },
   {
    "duration": 30,
    "start_time": "2023-03-13T10:03:08.417Z"
   },
   {
    "duration": 74,
    "start_time": "2023-03-13T10:03:08.449Z"
   },
   {
    "duration": 3428,
    "start_time": "2023-03-13T10:03:08.525Z"
   },
   {
    "duration": 11,
    "start_time": "2023-03-13T10:03:11.955Z"
   },
   {
    "duration": 275,
    "start_time": "2023-03-13T10:03:11.968Z"
   },
   {
    "duration": 138,
    "start_time": "2023-03-13T10:03:12.245Z"
   },
   {
    "duration": 231,
    "start_time": "2023-03-13T10:03:12.385Z"
   },
   {
    "duration": 2924,
    "start_time": "2023-03-13T10:11:23.948Z"
   },
   {
    "duration": 81,
    "start_time": "2023-03-13T10:11:26.873Z"
   },
   {
    "duration": 0,
    "start_time": "2023-03-13T10:11:26.955Z"
   },
   {
    "duration": 0,
    "start_time": "2023-03-13T10:11:26.957Z"
   },
   {
    "duration": 0,
    "start_time": "2023-03-13T10:11:26.958Z"
   },
   {
    "duration": 0,
    "start_time": "2023-03-13T10:11:26.958Z"
   },
   {
    "duration": 12,
    "start_time": "2023-03-13T10:11:40.433Z"
   },
   {
    "duration": 11,
    "start_time": "2023-03-13T10:12:27.008Z"
   },
   {
    "duration": 8,
    "start_time": "2023-03-13T10:22:48.176Z"
   },
   {
    "duration": 88,
    "start_time": "2023-03-13T10:22:53.471Z"
   },
   {
    "duration": 31,
    "start_time": "2023-03-13T10:22:55.636Z"
   },
   {
    "duration": 75,
    "start_time": "2023-03-13T10:22:58.755Z"
   },
   {
    "duration": 1906,
    "start_time": "2023-03-13T10:23:01.618Z"
   },
   {
    "duration": 10,
    "start_time": "2023-03-13T10:23:07.417Z"
   },
   {
    "duration": 24,
    "start_time": "2023-03-13T10:23:11.898Z"
   },
   {
    "duration": 5,
    "start_time": "2023-03-13T10:23:15.337Z"
   },
   {
    "duration": 5,
    "start_time": "2023-03-13T10:23:16.777Z"
   },
   {
    "duration": 7,
    "start_time": "2023-03-13T10:23:17.651Z"
   },
   {
    "duration": 7,
    "start_time": "2023-03-13T10:23:18.428Z"
   },
   {
    "duration": 30,
    "start_time": "2023-03-13T10:23:19.295Z"
   },
   {
    "duration": 38,
    "start_time": "2023-03-13T10:23:20.123Z"
   },
   {
    "duration": 11,
    "start_time": "2023-03-13T10:23:23.561Z"
   },
   {
    "duration": 11,
    "start_time": "2023-03-13T10:23:24.821Z"
   },
   {
    "duration": 17,
    "start_time": "2023-03-13T10:23:28.120Z"
   },
   {
    "duration": 27,
    "start_time": "2023-03-13T10:23:31.062Z"
   },
   {
    "duration": 42,
    "start_time": "2023-03-13T10:23:35.081Z"
   },
   {
    "duration": 13,
    "start_time": "2023-03-13T10:24:20.706Z"
   },
   {
    "duration": 11,
    "start_time": "2023-03-13T10:24:22.815Z"
   },
   {
    "duration": 43,
    "start_time": "2023-03-13T10:24:23.817Z"
   },
   {
    "duration": 218,
    "start_time": "2023-03-13T10:24:27.873Z"
   },
   {
    "duration": 8,
    "start_time": "2023-03-13T10:25:12.270Z"
   },
   {
    "duration": 7,
    "start_time": "2023-03-13T10:25:12.814Z"
   },
   {
    "duration": 27,
    "start_time": "2023-03-13T10:25:13.342Z"
   },
   {
    "duration": 6,
    "start_time": "2023-03-13T10:27:02.658Z"
   },
   {
    "duration": 75,
    "start_time": "2023-03-13T10:27:03.131Z"
   },
   {
    "duration": 70,
    "start_time": "2023-03-13T10:27:03.599Z"
   },
   {
    "duration": 78,
    "start_time": "2023-03-13T10:27:04.097Z"
   },
   {
    "duration": 5,
    "start_time": "2023-03-13T10:27:04.629Z"
   },
   {
    "duration": 5,
    "start_time": "2023-03-13T10:27:05.149Z"
   },
   {
    "duration": 29,
    "start_time": "2023-03-13T10:27:05.728Z"
   },
   {
    "duration": 24,
    "start_time": "2023-03-13T10:27:17.013Z"
   },
   {
    "duration": 4,
    "start_time": "2023-03-13T10:27:55.365Z"
   },
   {
    "duration": 340,
    "start_time": "2023-03-13T10:27:55.647Z"
   },
   {
    "duration": 27,
    "start_time": "2023-03-13T10:27:56.826Z"
   },
   {
    "duration": 60,
    "start_time": "2023-03-13T10:28:01.697Z"
   },
   {
    "duration": 3158,
    "start_time": "2023-03-13T10:28:05.937Z"
   },
   {
    "duration": 13,
    "start_time": "2023-03-13T10:28:10.370Z"
   },
   {
    "duration": 279,
    "start_time": "2023-03-13T10:28:14.203Z"
   },
   {
    "duration": 131,
    "start_time": "2023-03-13T10:28:17.025Z"
   },
   {
    "duration": 231,
    "start_time": "2023-03-13T10:28:21.638Z"
   },
   {
    "duration": 83033,
    "start_time": "2023-03-13T10:28:26.130Z"
   },
   {
    "duration": 2834,
    "start_time": "2023-03-13T10:29:52.089Z"
   },
   {
    "duration": 2745,
    "start_time": "2023-03-13T10:30:05.091Z"
   },
   {
    "duration": 2778,
    "start_time": "2023-03-13T10:30:14.374Z"
   },
   {
    "duration": 8,
    "start_time": "2023-03-13T10:30:24.312Z"
   },
   {
    "duration": 5,
    "start_time": "2023-03-13T10:32:45.075Z"
   },
   {
    "duration": 231,
    "start_time": "2023-03-13T10:35:52.115Z"
   },
   {
    "duration": 202,
    "start_time": "2023-03-13T10:36:43.911Z"
   },
   {
    "duration": 22,
    "start_time": "2023-03-13T10:43:39.863Z"
   },
   {
    "duration": 855,
    "start_time": "2023-03-13T10:44:20.780Z"
   },
   {
    "duration": 209,
    "start_time": "2023-03-13T10:46:00.542Z"
   },
   {
    "duration": 885,
    "start_time": "2023-03-13T10:46:36.018Z"
   },
   {
    "duration": 852,
    "start_time": "2023-03-13T10:47:21.483Z"
   },
   {
    "duration": 203,
    "start_time": "2023-03-13T10:47:52.813Z"
   },
   {
    "duration": 201292,
    "start_time": "2023-03-13T10:52:45.922Z"
   },
   {
    "duration": 236,
    "start_time": "2023-03-13T10:56:30.400Z"
   },
   {
    "duration": 208,
    "start_time": "2023-03-13T10:57:50.440Z"
   },
   {
    "duration": 189,
    "start_time": "2023-03-13T11:01:14.051Z"
   },
   {
    "duration": 197,
    "start_time": "2023-03-13T11:02:15.010Z"
   },
   {
    "duration": 231,
    "start_time": "2023-03-13T11:05:00.205Z"
   },
   {
    "duration": 238,
    "start_time": "2023-03-13T11:07:19.520Z"
   },
   {
    "duration": 91605,
    "start_time": "2023-03-13T11:07:41.045Z"
   },
   {
    "duration": 620,
    "start_time": "2023-03-13T11:09:46.538Z"
   },
   {
    "duration": 265,
    "start_time": "2023-03-13T11:10:16.711Z"
   },
   {
    "duration": 187,
    "start_time": "2023-03-13T11:10:45.242Z"
   },
   {
    "duration": 186,
    "start_time": "2023-03-13T11:11:39.894Z"
   },
   {
    "duration": 185,
    "start_time": "2023-03-13T11:11:59.930Z"
   },
   {
    "duration": 170,
    "start_time": "2023-03-13T11:19:04.916Z"
   },
   {
    "duration": 362,
    "start_time": "2023-03-13T11:22:29.645Z"
   },
   {
    "duration": 702,
    "start_time": "2023-03-13T11:22:59.324Z"
   },
   {
    "duration": 415,
    "start_time": "2023-03-13T11:23:11.112Z"
   },
   {
    "duration": 2022,
    "start_time": "2023-03-13T11:24:31.901Z"
   },
   {
    "duration": 216,
    "start_time": "2023-03-13T11:25:00.838Z"
   },
   {
    "duration": 250,
    "start_time": "2023-03-13T11:25:20.094Z"
   },
   {
    "duration": 221,
    "start_time": "2023-03-13T11:26:06.630Z"
   },
   {
    "duration": 229,
    "start_time": "2023-03-13T11:26:45.396Z"
   },
   {
    "duration": 221,
    "start_time": "2023-03-13T11:27:28.805Z"
   },
   {
    "duration": 288,
    "start_time": "2023-03-13T11:28:00.324Z"
   },
   {
    "duration": 218,
    "start_time": "2023-03-13T11:28:06.997Z"
   },
   {
    "duration": 13,
    "start_time": "2023-03-13T11:31:54.231Z"
   },
   {
    "duration": 11,
    "start_time": "2023-03-13T11:34:15.841Z"
   },
   {
    "duration": 7,
    "start_time": "2023-03-13T11:35:11.441Z"
   },
   {
    "duration": 4,
    "start_time": "2023-03-13T11:35:28.043Z"
   },
   {
    "duration": 9,
    "start_time": "2023-03-13T11:36:11.734Z"
   },
   {
    "duration": 28,
    "start_time": "2023-03-13T11:37:56.113Z"
   },
   {
    "duration": 28,
    "start_time": "2023-03-13T11:40:37.005Z"
   },
   {
    "duration": 10,
    "start_time": "2023-03-13T11:41:04.804Z"
   },
   {
    "duration": 12,
    "start_time": "2023-03-13T11:42:00.772Z"
   },
   {
    "duration": 9,
    "start_time": "2023-03-13T11:42:06.497Z"
   },
   {
    "duration": 14,
    "start_time": "2023-03-13T11:43:12.932Z"
   },
   {
    "duration": 8,
    "start_time": "2023-03-13T11:43:25.093Z"
   },
   {
    "duration": 11,
    "start_time": "2023-03-13T11:50:22.563Z"
   },
   {
    "duration": 18,
    "start_time": "2023-03-13T11:50:53.257Z"
   },
   {
    "duration": 9,
    "start_time": "2023-03-13T11:50:55.873Z"
   },
   {
    "duration": 18,
    "start_time": "2023-03-13T11:51:25.961Z"
   },
   {
    "duration": 8,
    "start_time": "2023-03-13T11:51:27.918Z"
   },
   {
    "duration": 14,
    "start_time": "2023-03-13T11:51:53.495Z"
   },
   {
    "duration": 7,
    "start_time": "2023-03-13T11:53:06.887Z"
   },
   {
    "duration": 20,
    "start_time": "2023-03-13T11:53:09.398Z"
   },
   {
    "duration": 11,
    "start_time": "2023-03-13T11:53:10.133Z"
   },
   {
    "duration": 18,
    "start_time": "2023-03-13T11:53:31.476Z"
   },
   {
    "duration": 54,
    "start_time": "2023-03-13T11:54:04.856Z"
   },
   {
    "duration": 16,
    "start_time": "2023-03-13T11:56:31.041Z"
   },
   {
    "duration": 17,
    "start_time": "2023-03-13T11:56:55.696Z"
   },
   {
    "duration": 20,
    "start_time": "2023-03-13T11:57:16.502Z"
   },
   {
    "duration": 49,
    "start_time": "2023-03-13T11:57:21.768Z"
   },
   {
    "duration": 29,
    "start_time": "2023-03-13T11:57:29.606Z"
   },
   {
    "duration": 16,
    "start_time": "2023-03-13T12:01:56.000Z"
   },
   {
    "duration": 16,
    "start_time": "2023-03-13T12:04:25.859Z"
   },
   {
    "duration": 9,
    "start_time": "2023-03-13T12:05:28.581Z"
   },
   {
    "duration": 6,
    "start_time": "2023-03-13T12:05:46.314Z"
   },
   {
    "duration": 8,
    "start_time": "2023-03-13T12:06:03.604Z"
   },
   {
    "duration": 11,
    "start_time": "2023-03-13T12:06:33.598Z"
   },
   {
    "duration": 12,
    "start_time": "2023-03-13T12:06:56.144Z"
   },
   {
    "duration": 9,
    "start_time": "2023-03-13T12:07:07.681Z"
   },
   {
    "duration": 11,
    "start_time": "2023-03-13T12:08:15.732Z"
   },
   {
    "duration": 9,
    "start_time": "2023-03-13T12:09:49.864Z"
   },
   {
    "duration": 7,
    "start_time": "2023-03-13T12:10:09.669Z"
   },
   {
    "duration": 12,
    "start_time": "2023-03-13T12:10:16.837Z"
   },
   {
    "duration": 9,
    "start_time": "2023-03-13T12:14:48.825Z"
   },
   {
    "duration": 21,
    "start_time": "2023-03-13T12:16:53.845Z"
   },
   {
    "duration": 10,
    "start_time": "2023-03-13T12:16:55.121Z"
   },
   {
    "duration": 8,
    "start_time": "2023-03-13T12:17:24.760Z"
   },
   {
    "duration": 233,
    "start_time": "2023-03-13T12:18:26.273Z"
   },
   {
    "duration": 46,
    "start_time": "2023-03-13T12:19:59.709Z"
   },
   {
    "duration": 681,
    "start_time": "2023-03-13T12:20:06.026Z"
   },
   {
    "duration": 702,
    "start_time": "2023-03-13T12:20:44.027Z"
   },
   {
    "duration": 20,
    "start_time": "2023-03-13T12:21:30.058Z"
   },
   {
    "duration": 10,
    "start_time": "2023-03-13T12:21:47.975Z"
   },
   {
    "duration": 36,
    "start_time": "2023-03-13T12:21:50.328Z"
   },
   {
    "duration": 20,
    "start_time": "2023-03-13T12:22:01.399Z"
   },
   {
    "duration": 27,
    "start_time": "2023-03-13T12:23:02.434Z"
   },
   {
    "duration": 22,
    "start_time": "2023-03-13T12:23:12.734Z"
   },
   {
    "duration": 10,
    "start_time": "2023-03-13T12:23:16.887Z"
   },
   {
    "duration": 20,
    "start_time": "2023-03-13T12:23:19.939Z"
   },
   {
    "duration": 12,
    "start_time": "2023-03-13T12:23:22.532Z"
   },
   {
    "duration": 10,
    "start_time": "2023-03-13T12:28:51.653Z"
   },
   {
    "duration": 9,
    "start_time": "2023-03-13T12:28:55.299Z"
   },
   {
    "duration": 202,
    "start_time": "2023-03-13T12:29:24.248Z"
   },
   {
    "duration": 261,
    "start_time": "2023-03-13T12:30:17.802Z"
   },
   {
    "duration": 278,
    "start_time": "2023-03-13T12:30:28.491Z"
   },
   {
    "duration": 248,
    "start_time": "2023-03-13T12:32:16.583Z"
   },
   {
    "duration": 34,
    "start_time": "2023-03-13T12:44:15.380Z"
   },
   {
    "duration": 35,
    "start_time": "2023-03-13T12:44:49.429Z"
   },
   {
    "duration": 55,
    "start_time": "2023-03-13T12:45:49.026Z"
   },
   {
    "duration": 50,
    "start_time": "2023-03-13T12:46:23.650Z"
   },
   {
    "duration": 52,
    "start_time": "2023-03-13T12:46:36.511Z"
   },
   {
    "duration": 63,
    "start_time": "2023-03-13T12:48:05.627Z"
   },
   {
    "duration": 702,
    "start_time": "2023-03-13T12:51:40.038Z"
   },
   {
    "duration": 10,
    "start_time": "2023-03-13T12:51:50.567Z"
   },
   {
    "duration": 9,
    "start_time": "2023-03-13T12:52:57.817Z"
   },
   {
    "duration": 42,
    "start_time": "2023-03-13T12:53:05.536Z"
   },
   {
    "duration": 263,
    "start_time": "2023-03-13T12:54:29.780Z"
   },
   {
    "duration": 260,
    "start_time": "2023-03-13T12:54:38.048Z"
   },
   {
    "duration": 258,
    "start_time": "2023-03-13T12:54:57.103Z"
   },
   {
    "duration": 13,
    "start_time": "2023-03-13T12:55:20.761Z"
   },
   {
    "duration": 10,
    "start_time": "2023-03-13T12:59:03.476Z"
   },
   {
    "duration": 46,
    "start_time": "2023-03-13T12:59:25.197Z"
   },
   {
    "duration": 52,
    "start_time": "2023-03-13T12:59:59.573Z"
   },
   {
    "duration": 44,
    "start_time": "2023-03-13T13:00:40.982Z"
   },
   {
    "duration": 322,
    "start_time": "2023-03-13T13:02:51.428Z"
   },
   {
    "duration": 1098,
    "start_time": "2023-03-13T13:03:37.916Z"
   },
   {
    "duration": 50472,
    "start_time": "2023-03-13T13:04:22.678Z"
   },
   {
    "duration": 43,
    "start_time": "2023-03-13T13:05:54.327Z"
   },
   {
    "duration": 45,
    "start_time": "2023-03-13T13:06:06.738Z"
   },
   {
    "duration": 182,
    "start_time": "2023-03-13T13:08:56.943Z"
   },
   {
    "duration": 63,
    "start_time": "2023-03-13T13:11:13.862Z"
   },
   {
    "duration": 16,
    "start_time": "2023-03-13T13:13:01.533Z"
   },
   {
    "duration": 8,
    "start_time": "2023-03-13T13:16:56.882Z"
   },
   {
    "duration": 8,
    "start_time": "2023-03-13T13:17:34.805Z"
   },
   {
    "duration": 17,
    "start_time": "2023-03-13T13:20:34.997Z"
   },
   {
    "duration": 30,
    "start_time": "2023-03-13T13:21:07.365Z"
   },
   {
    "duration": 5,
    "start_time": "2023-03-13T13:22:23.612Z"
   },
   {
    "duration": 13,
    "start_time": "2023-03-13T13:24:34.953Z"
   },
   {
    "duration": 51,
    "start_time": "2023-03-13T13:25:06.066Z"
   },
   {
    "duration": 27,
    "start_time": "2023-03-13T13:25:21.810Z"
   },
   {
    "duration": 5,
    "start_time": "2023-03-13T13:28:25.535Z"
   },
   {
    "duration": 17,
    "start_time": "2023-03-13T13:29:57.212Z"
   },
   {
    "duration": 11,
    "start_time": "2023-03-13T13:30:27.401Z"
   },
   {
    "duration": 9,
    "start_time": "2023-03-13T13:31:07.414Z"
   },
   {
    "duration": 19,
    "start_time": "2023-03-13T13:31:10.338Z"
   },
   {
    "duration": 20,
    "start_time": "2023-03-13T13:31:18.715Z"
   },
   {
    "duration": 16,
    "start_time": "2023-03-13T13:31:49.350Z"
   },
   {
    "duration": 28,
    "start_time": "2023-03-13T13:33:22.390Z"
   },
   {
    "duration": 9,
    "start_time": "2023-03-13T13:38:54.311Z"
   },
   {
    "duration": 12,
    "start_time": "2023-03-13T13:39:48.165Z"
   },
   {
    "duration": 13,
    "start_time": "2023-03-13T13:40:18.719Z"
   },
   {
    "duration": 58,
    "start_time": "2023-03-13T13:40:34.318Z"
   },
   {
    "duration": 61,
    "start_time": "2023-03-13T13:40:56.332Z"
   },
   {
    "duration": 8,
    "start_time": "2023-03-13T13:41:01.929Z"
   },
   {
    "duration": 14,
    "start_time": "2023-03-13T13:41:06.556Z"
   },
   {
    "duration": 12,
    "start_time": "2023-03-13T13:41:52.293Z"
   },
   {
    "duration": 12,
    "start_time": "2023-03-13T13:42:16.429Z"
   },
   {
    "duration": 13,
    "start_time": "2023-03-13T13:42:52.348Z"
   },
   {
    "duration": 14,
    "start_time": "2023-03-13T13:43:11.794Z"
   },
   {
    "duration": 25,
    "start_time": "2023-03-13T13:56:01.601Z"
   },
   {
    "duration": 784,
    "start_time": "2023-03-13T13:58:08.314Z"
   },
   {
    "duration": 857,
    "start_time": "2023-03-13T13:58:35.629Z"
   },
   {
    "duration": 56,
    "start_time": "2023-03-13T13:58:52.600Z"
   },
   {
    "duration": 38,
    "start_time": "2023-03-13T13:59:33.634Z"
   },
   {
    "duration": 37,
    "start_time": "2023-03-13T14:01:11.307Z"
   },
   {
    "duration": 35,
    "start_time": "2023-03-13T14:02:36.741Z"
   },
   {
    "duration": 45,
    "start_time": "2023-03-13T14:02:54.324Z"
   },
   {
    "duration": 38,
    "start_time": "2023-03-13T14:03:46.752Z"
   },
   {
    "duration": 24,
    "start_time": "2023-03-13T14:04:25.161Z"
   },
   {
    "duration": 39,
    "start_time": "2023-03-13T14:04:32.976Z"
   },
   {
    "duration": 12,
    "start_time": "2023-03-13T14:05:02.507Z"
   },
   {
    "duration": 35,
    "start_time": "2023-03-13T14:18:02.989Z"
   },
   {
    "duration": 36,
    "start_time": "2023-03-13T14:18:14.727Z"
   },
   {
    "duration": 34,
    "start_time": "2023-03-13T14:21:56.807Z"
   },
   {
    "duration": 26,
    "start_time": "2023-03-13T14:26:17.318Z"
   },
   {
    "duration": 30,
    "start_time": "2023-03-13T14:26:35.409Z"
   },
   {
    "duration": 45,
    "start_time": "2023-03-13T14:26:48.101Z"
   },
   {
    "duration": 25,
    "start_time": "2023-03-13T14:26:57.214Z"
   },
   {
    "duration": 15,
    "start_time": "2023-03-13T14:27:08.237Z"
   },
   {
    "duration": 23,
    "start_time": "2023-03-13T14:27:22.930Z"
   },
   {
    "duration": 24,
    "start_time": "2023-03-13T14:27:47.290Z"
   },
   {
    "duration": 31,
    "start_time": "2023-03-13T14:28:07.807Z"
   },
   {
    "duration": 45,
    "start_time": "2023-03-13T14:28:47.943Z"
   },
   {
    "duration": 44,
    "start_time": "2023-03-13T14:29:07.941Z"
   },
   {
    "duration": 53,
    "start_time": "2023-03-13T14:29:25.070Z"
   },
   {
    "duration": 26,
    "start_time": "2023-03-13T14:29:29.573Z"
   },
   {
    "duration": 18,
    "start_time": "2023-03-13T14:29:54.600Z"
   },
   {
    "duration": 23,
    "start_time": "2023-03-13T14:30:08.076Z"
   },
   {
    "duration": 35,
    "start_time": "2023-03-13T14:41:40.742Z"
   },
   {
    "duration": 43,
    "start_time": "2023-03-13T14:41:51.716Z"
   },
   {
    "duration": 35,
    "start_time": "2023-03-13T14:41:57.538Z"
   },
   {
    "duration": 23,
    "start_time": "2023-03-13T14:42:07.977Z"
   },
   {
    "duration": 15,
    "start_time": "2023-03-13T15:00:02.919Z"
   },
   {
    "duration": 796,
    "start_time": "2023-03-13T15:02:04.096Z"
   },
   {
    "duration": 3,
    "start_time": "2023-03-13T15:02:17.823Z"
   },
   {
    "duration": 29,
    "start_time": "2023-03-13T15:14:21.560Z"
   },
   {
    "duration": 6,
    "start_time": "2023-03-13T15:15:51.458Z"
   },
   {
    "duration": 36,
    "start_time": "2023-03-13T15:16:56.172Z"
   },
   {
    "duration": 28,
    "start_time": "2023-03-13T15:17:32.381Z"
   },
   {
    "duration": 779,
    "start_time": "2023-03-13T15:18:31.122Z"
   },
   {
    "duration": 179,
    "start_time": "2023-03-13T15:18:53.767Z"
   },
   {
    "duration": 155,
    "start_time": "2023-03-13T15:19:48.046Z"
   },
   {
    "duration": 65,
    "start_time": "2023-03-13T15:25:51.820Z"
   },
   {
    "duration": 749,
    "start_time": "2023-03-13T15:32:50.549Z"
   },
   {
    "duration": 33,
    "start_time": "2023-03-13T15:32:51.300Z"
   },
   {
    "duration": 80,
    "start_time": "2023-03-13T15:32:51.335Z"
   },
   {
    "duration": 1924,
    "start_time": "2023-03-13T15:32:51.417Z"
   },
   {
    "duration": 13,
    "start_time": "2023-03-13T15:32:53.343Z"
   },
   {
    "duration": 29,
    "start_time": "2023-03-13T15:32:53.358Z"
   },
   {
    "duration": 4,
    "start_time": "2023-03-13T15:32:53.389Z"
   },
   {
    "duration": 5,
    "start_time": "2023-03-13T15:32:53.395Z"
   },
   {
    "duration": 8,
    "start_time": "2023-03-13T15:32:53.402Z"
   },
   {
    "duration": 5,
    "start_time": "2023-03-13T15:32:53.412Z"
   },
   {
    "duration": 31,
    "start_time": "2023-03-13T15:32:53.419Z"
   },
   {
    "duration": 34,
    "start_time": "2023-03-13T15:32:53.470Z"
   },
   {
    "duration": 13,
    "start_time": "2023-03-13T15:32:53.505Z"
   },
   {
    "duration": 23,
    "start_time": "2023-03-13T15:32:53.523Z"
   },
   {
    "duration": 29,
    "start_time": "2023-03-13T15:32:53.548Z"
   },
   {
    "duration": 23,
    "start_time": "2023-03-13T15:32:53.579Z"
   },
   {
    "duration": 7,
    "start_time": "2023-03-13T15:32:53.604Z"
   },
   {
    "duration": 13,
    "start_time": "2023-03-13T15:32:53.613Z"
   },
   {
    "duration": 50,
    "start_time": "2023-03-13T15:32:53.628Z"
   },
   {
    "duration": 210,
    "start_time": "2023-03-13T15:32:53.680Z"
   },
   {
    "duration": 9,
    "start_time": "2023-03-13T15:32:53.891Z"
   },
   {
    "duration": 5,
    "start_time": "2023-03-13T15:32:53.901Z"
   },
   {
    "duration": 26,
    "start_time": "2023-03-13T15:32:53.908Z"
   },
   {
    "duration": 6,
    "start_time": "2023-03-13T15:32:53.935Z"
   },
   {
    "duration": 85,
    "start_time": "2023-03-13T15:32:53.943Z"
   },
   {
    "duration": 72,
    "start_time": "2023-03-13T15:32:54.030Z"
   },
   {
    "duration": 183,
    "start_time": "2023-03-13T15:32:54.104Z"
   },
   {
    "duration": 5,
    "start_time": "2023-03-13T15:32:54.289Z"
   },
   {
    "duration": 22,
    "start_time": "2023-03-13T15:32:54.296Z"
   },
   {
    "duration": 44,
    "start_time": "2023-03-13T15:32:54.320Z"
   },
   {
    "duration": 18,
    "start_time": "2023-03-13T15:32:54.366Z"
   },
   {
    "duration": 3,
    "start_time": "2023-03-13T15:32:54.387Z"
   },
   {
    "duration": 330,
    "start_time": "2023-03-13T15:32:54.392Z"
   },
   {
    "duration": 24,
    "start_time": "2023-03-13T15:32:54.724Z"
   },
   {
    "duration": 65,
    "start_time": "2023-03-13T15:32:54.750Z"
   },
   {
    "duration": 2878,
    "start_time": "2023-03-13T15:32:54.816Z"
   },
   {
    "duration": 10,
    "start_time": "2023-03-13T15:32:57.695Z"
   },
   {
    "duration": 245,
    "start_time": "2023-03-13T15:32:57.706Z"
   },
   {
    "duration": 128,
    "start_time": "2023-03-13T15:32:57.952Z"
   },
   {
    "duration": 226,
    "start_time": "2023-03-13T15:32:58.082Z"
   },
   {
    "duration": 2774,
    "start_time": "2023-03-13T15:32:58.312Z"
   },
   {
    "duration": 193,
    "start_time": "2023-03-13T15:33:01.087Z"
   },
   {
    "duration": 191,
    "start_time": "2023-03-13T15:33:01.281Z"
   },
   {
    "duration": 317,
    "start_time": "2023-03-13T15:33:01.474Z"
   },
   {
    "duration": 198,
    "start_time": "2023-03-13T15:33:01.792Z"
   },
   {
    "duration": 109,
    "start_time": "2023-03-13T15:33:01.992Z"
   },
   {
    "duration": 0,
    "start_time": "2023-03-13T15:33:02.102Z"
   },
   {
    "duration": 0,
    "start_time": "2023-03-13T15:33:02.104Z"
   },
   {
    "duration": 0,
    "start_time": "2023-03-13T15:33:02.105Z"
   },
   {
    "duration": 0,
    "start_time": "2023-03-13T15:33:02.106Z"
   },
   {
    "duration": 0,
    "start_time": "2023-03-13T15:33:02.107Z"
   },
   {
    "duration": 0,
    "start_time": "2023-03-13T15:33:02.108Z"
   },
   {
    "duration": 0,
    "start_time": "2023-03-13T15:33:02.109Z"
   },
   {
    "duration": 0,
    "start_time": "2023-03-13T15:33:02.110Z"
   },
   {
    "duration": 0,
    "start_time": "2023-03-13T15:33:02.111Z"
   },
   {
    "duration": 0,
    "start_time": "2023-03-13T15:33:02.112Z"
   },
   {
    "duration": 0,
    "start_time": "2023-03-13T15:33:02.113Z"
   },
   {
    "duration": 0,
    "start_time": "2023-03-13T15:33:02.115Z"
   },
   {
    "duration": 0,
    "start_time": "2023-03-13T15:33:02.116Z"
   },
   {
    "duration": 0,
    "start_time": "2023-03-13T15:33:02.117Z"
   },
   {
    "duration": 0,
    "start_time": "2023-03-13T15:33:02.119Z"
   },
   {
    "duration": 0,
    "start_time": "2023-03-13T15:33:02.120Z"
   },
   {
    "duration": 1037,
    "start_time": "2023-03-13T18:32:21.157Z"
   },
   {
    "duration": 34,
    "start_time": "2023-03-13T18:32:22.197Z"
   },
   {
    "duration": 88,
    "start_time": "2023-03-13T18:32:22.233Z"
   },
   {
    "duration": 2017,
    "start_time": "2023-03-13T18:32:22.323Z"
   },
   {
    "duration": 9,
    "start_time": "2023-03-13T18:32:24.342Z"
   },
   {
    "duration": 30,
    "start_time": "2023-03-13T18:32:24.353Z"
   },
   {
    "duration": 5,
    "start_time": "2023-03-13T18:32:24.385Z"
   },
   {
    "duration": 25,
    "start_time": "2023-03-13T18:32:24.391Z"
   },
   {
    "duration": 10,
    "start_time": "2023-03-13T18:32:24.418Z"
   },
   {
    "duration": 5,
    "start_time": "2023-03-13T18:32:24.431Z"
   },
   {
    "duration": 43,
    "start_time": "2023-03-13T18:32:24.438Z"
   },
   {
    "duration": 33,
    "start_time": "2023-03-13T18:32:24.483Z"
   },
   {
    "duration": 11,
    "start_time": "2023-03-13T18:32:24.518Z"
   },
   {
    "duration": 31,
    "start_time": "2023-03-13T18:32:24.530Z"
   },
   {
    "duration": 26,
    "start_time": "2023-03-13T18:32:24.563Z"
   },
   {
    "duration": 25,
    "start_time": "2023-03-13T18:32:24.591Z"
   },
   {
    "duration": 17,
    "start_time": "2023-03-13T18:32:24.617Z"
   },
   {
    "duration": 20,
    "start_time": "2023-03-13T18:32:24.636Z"
   },
   {
    "duration": 51,
    "start_time": "2023-03-13T18:32:24.659Z"
   },
   {
    "duration": 207,
    "start_time": "2023-03-13T18:32:24.712Z"
   },
   {
    "duration": 9,
    "start_time": "2023-03-13T18:32:24.920Z"
   },
   {
    "duration": 13,
    "start_time": "2023-03-13T18:32:24.930Z"
   },
   {
    "duration": 29,
    "start_time": "2023-03-13T18:32:24.945Z"
   },
   {
    "duration": 5,
    "start_time": "2023-03-13T18:32:24.981Z"
   },
   {
    "duration": 73,
    "start_time": "2023-03-13T18:32:24.987Z"
   },
   {
    "duration": 146,
    "start_time": "2023-03-13T18:32:25.062Z"
   },
   {
    "duration": 84,
    "start_time": "2023-03-13T18:32:25.210Z"
   },
   {
    "duration": 4,
    "start_time": "2023-03-13T18:32:25.298Z"
   },
   {
    "duration": 11,
    "start_time": "2023-03-13T18:32:25.304Z"
   },
   {
    "duration": 39,
    "start_time": "2023-03-13T18:32:25.318Z"
   },
   {
    "duration": 33,
    "start_time": "2023-03-13T18:32:25.359Z"
   },
   {
    "duration": 4,
    "start_time": "2023-03-13T18:32:25.394Z"
   },
   {
    "duration": 349,
    "start_time": "2023-03-13T18:32:25.400Z"
   },
   {
    "duration": 31,
    "start_time": "2023-03-13T18:32:25.751Z"
   },
   {
    "duration": 55,
    "start_time": "2023-03-13T18:32:25.783Z"
   },
   {
    "duration": 3131,
    "start_time": "2023-03-13T18:32:25.839Z"
   },
   {
    "duration": 14,
    "start_time": "2023-03-13T18:32:28.971Z"
   },
   {
    "duration": 254,
    "start_time": "2023-03-13T18:32:28.987Z"
   },
   {
    "duration": 143,
    "start_time": "2023-03-13T18:32:29.242Z"
   },
   {
    "duration": 239,
    "start_time": "2023-03-13T18:32:29.387Z"
   },
   {
    "duration": 2963,
    "start_time": "2023-03-13T18:32:29.627Z"
   },
   {
    "duration": 204,
    "start_time": "2023-03-13T18:32:32.592Z"
   },
   {
    "duration": 311,
    "start_time": "2023-03-13T18:32:32.798Z"
   },
   {
    "duration": 211,
    "start_time": "2023-03-13T18:32:33.111Z"
   },
   {
    "duration": 205,
    "start_time": "2023-03-13T18:32:33.324Z"
   },
   {
    "duration": 49,
    "start_time": "2023-03-13T18:32:33.531Z"
   },
   {
    "duration": 0,
    "start_time": "2023-03-13T18:32:33.581Z"
   },
   {
    "duration": 0,
    "start_time": "2023-03-13T18:32:33.583Z"
   },
   {
    "duration": 0,
    "start_time": "2023-03-13T18:32:33.584Z"
   },
   {
    "duration": 0,
    "start_time": "2023-03-13T18:32:33.585Z"
   },
   {
    "duration": 0,
    "start_time": "2023-03-13T18:32:33.586Z"
   },
   {
    "duration": 0,
    "start_time": "2023-03-13T18:32:33.588Z"
   },
   {
    "duration": 0,
    "start_time": "2023-03-13T18:32:33.589Z"
   },
   {
    "duration": 0,
    "start_time": "2023-03-13T18:32:33.590Z"
   },
   {
    "duration": 0,
    "start_time": "2023-03-13T18:32:33.591Z"
   },
   {
    "duration": 0,
    "start_time": "2023-03-13T18:32:33.593Z"
   },
   {
    "duration": 0,
    "start_time": "2023-03-13T18:32:33.593Z"
   },
   {
    "duration": 0,
    "start_time": "2023-03-13T18:32:33.595Z"
   },
   {
    "duration": 0,
    "start_time": "2023-03-13T18:32:33.596Z"
   },
   {
    "duration": 0,
    "start_time": "2023-03-13T18:32:33.597Z"
   },
   {
    "duration": 0,
    "start_time": "2023-03-13T18:32:33.599Z"
   },
   {
    "duration": 0,
    "start_time": "2023-03-13T18:32:33.600Z"
   },
   {
    "duration": 739,
    "start_time": "2023-03-13T18:33:02.650Z"
   },
   {
    "duration": 38,
    "start_time": "2023-03-13T18:33:03.392Z"
   },
   {
    "duration": 95,
    "start_time": "2023-03-13T18:33:03.432Z"
   },
   {
    "duration": 2087,
    "start_time": "2023-03-13T18:33:03.529Z"
   },
   {
    "duration": 9,
    "start_time": "2023-03-13T18:33:05.618Z"
   },
   {
    "duration": 43,
    "start_time": "2023-03-13T18:33:05.629Z"
   },
   {
    "duration": 5,
    "start_time": "2023-03-13T18:33:05.673Z"
   },
   {
    "duration": 8,
    "start_time": "2023-03-13T18:33:05.679Z"
   },
   {
    "duration": 9,
    "start_time": "2023-03-13T18:33:05.688Z"
   },
   {
    "duration": 5,
    "start_time": "2023-03-13T18:33:05.700Z"
   },
   {
    "duration": 35,
    "start_time": "2023-03-13T18:33:05.706Z"
   },
   {
    "duration": 52,
    "start_time": "2023-03-13T18:33:05.743Z"
   },
   {
    "duration": 14,
    "start_time": "2023-03-13T18:33:05.796Z"
   },
   {
    "duration": 11,
    "start_time": "2023-03-13T18:33:05.811Z"
   },
   {
    "duration": 26,
    "start_time": "2023-03-13T18:33:05.823Z"
   },
   {
    "duration": 42,
    "start_time": "2023-03-13T18:33:05.851Z"
   },
   {
    "duration": 8,
    "start_time": "2023-03-13T18:33:05.894Z"
   },
   {
    "duration": 22,
    "start_time": "2023-03-13T18:33:05.904Z"
   },
   {
    "duration": 27,
    "start_time": "2023-03-13T18:33:05.928Z"
   },
   {
    "duration": 218,
    "start_time": "2023-03-13T18:33:05.957Z"
   },
   {
    "duration": 8,
    "start_time": "2023-03-13T18:33:06.180Z"
   },
   {
    "duration": 7,
    "start_time": "2023-03-13T18:33:06.190Z"
   },
   {
    "duration": 45,
    "start_time": "2023-03-13T18:33:06.199Z"
   },
   {
    "duration": 6,
    "start_time": "2023-03-13T18:33:06.246Z"
   },
   {
    "duration": 80,
    "start_time": "2023-03-13T18:33:06.254Z"
   },
   {
    "duration": 77,
    "start_time": "2023-03-13T18:33:06.336Z"
   },
   {
    "duration": 146,
    "start_time": "2023-03-13T18:33:06.415Z"
   },
   {
    "duration": 15,
    "start_time": "2023-03-13T18:33:06.565Z"
   },
   {
    "duration": 4,
    "start_time": "2023-03-13T18:33:06.582Z"
   },
   {
    "duration": 32,
    "start_time": "2023-03-13T18:33:06.587Z"
   },
   {
    "duration": 18,
    "start_time": "2023-03-13T18:33:06.621Z"
   },
   {
    "duration": 4,
    "start_time": "2023-03-13T18:33:06.641Z"
   },
   {
    "duration": 337,
    "start_time": "2023-03-13T18:33:06.647Z"
   },
   {
    "duration": 26,
    "start_time": "2023-03-13T18:33:06.986Z"
   },
   {
    "duration": 73,
    "start_time": "2023-03-13T18:33:07.013Z"
   },
   {
    "duration": 3098,
    "start_time": "2023-03-13T18:33:07.088Z"
   },
   {
    "duration": 11,
    "start_time": "2023-03-13T18:33:10.188Z"
   },
   {
    "duration": 275,
    "start_time": "2023-03-13T18:33:10.201Z"
   },
   {
    "duration": 136,
    "start_time": "2023-03-13T18:33:10.478Z"
   },
   {
    "duration": 227,
    "start_time": "2023-03-13T18:33:10.616Z"
   },
   {
    "duration": 2998,
    "start_time": "2023-03-13T18:33:10.844Z"
   },
   {
    "duration": 212,
    "start_time": "2023-03-13T18:33:13.844Z"
   },
   {
    "duration": 250,
    "start_time": "2023-03-13T18:33:14.058Z"
   },
   {
    "duration": 421,
    "start_time": "2023-03-13T18:33:14.310Z"
   },
   {
    "duration": 215,
    "start_time": "2023-03-13T18:33:14.732Z"
   },
   {
    "duration": 200,
    "start_time": "2023-03-13T18:33:14.949Z"
   },
   {
    "duration": 41,
    "start_time": "2023-03-13T18:33:15.151Z"
   },
   {
    "duration": 0,
    "start_time": "2023-03-13T18:33:15.194Z"
   },
   {
    "duration": 0,
    "start_time": "2023-03-13T18:33:15.195Z"
   },
   {
    "duration": 0,
    "start_time": "2023-03-13T18:33:15.196Z"
   },
   {
    "duration": 0,
    "start_time": "2023-03-13T18:33:15.197Z"
   },
   {
    "duration": 0,
    "start_time": "2023-03-13T18:33:15.198Z"
   },
   {
    "duration": 0,
    "start_time": "2023-03-13T18:33:15.199Z"
   },
   {
    "duration": 0,
    "start_time": "2023-03-13T18:33:15.200Z"
   },
   {
    "duration": 0,
    "start_time": "2023-03-13T18:33:15.201Z"
   },
   {
    "duration": 0,
    "start_time": "2023-03-13T18:33:15.202Z"
   },
   {
    "duration": 0,
    "start_time": "2023-03-13T18:33:15.204Z"
   },
   {
    "duration": 0,
    "start_time": "2023-03-13T18:33:15.204Z"
   },
   {
    "duration": 0,
    "start_time": "2023-03-13T18:33:15.205Z"
   },
   {
    "duration": 0,
    "start_time": "2023-03-13T18:33:15.206Z"
   },
   {
    "duration": 0,
    "start_time": "2023-03-13T18:33:15.207Z"
   },
   {
    "duration": 738,
    "start_time": "2023-03-13T18:33:43.893Z"
   },
   {
    "duration": 36,
    "start_time": "2023-03-13T18:33:44.633Z"
   },
   {
    "duration": 74,
    "start_time": "2023-03-13T18:33:44.680Z"
   },
   {
    "duration": 2040,
    "start_time": "2023-03-13T18:33:44.756Z"
   },
   {
    "duration": 14,
    "start_time": "2023-03-13T18:33:46.799Z"
   },
   {
    "duration": 32,
    "start_time": "2023-03-13T18:33:46.816Z"
   },
   {
    "duration": 4,
    "start_time": "2023-03-13T18:33:46.850Z"
   },
   {
    "duration": 25,
    "start_time": "2023-03-13T18:33:46.856Z"
   },
   {
    "duration": 7,
    "start_time": "2023-03-13T18:33:46.883Z"
   },
   {
    "duration": 19,
    "start_time": "2023-03-13T18:33:46.893Z"
   },
   {
    "duration": 40,
    "start_time": "2023-03-13T18:33:46.914Z"
   },
   {
    "duration": 44,
    "start_time": "2023-03-13T18:33:46.956Z"
   },
   {
    "duration": 12,
    "start_time": "2023-03-13T18:33:47.002Z"
   },
   {
    "duration": 10,
    "start_time": "2023-03-13T18:33:47.016Z"
   },
   {
    "duration": 15,
    "start_time": "2023-03-13T18:33:47.028Z"
   },
   {
    "duration": 51,
    "start_time": "2023-03-13T18:33:47.045Z"
   },
   {
    "duration": 8,
    "start_time": "2023-03-13T18:33:47.098Z"
   },
   {
    "duration": 14,
    "start_time": "2023-03-13T18:33:47.108Z"
   },
   {
    "duration": 57,
    "start_time": "2023-03-13T18:33:47.123Z"
   },
   {
    "duration": 213,
    "start_time": "2023-03-13T18:33:47.182Z"
   },
   {
    "duration": 8,
    "start_time": "2023-03-13T18:33:47.397Z"
   },
   {
    "duration": 9,
    "start_time": "2023-03-13T18:33:47.407Z"
   },
   {
    "duration": 26,
    "start_time": "2023-03-13T18:33:47.417Z"
   },
   {
    "duration": 14,
    "start_time": "2023-03-13T18:33:47.445Z"
   },
   {
    "duration": 84,
    "start_time": "2023-03-13T18:33:47.460Z"
   },
   {
    "duration": 74,
    "start_time": "2023-03-13T18:33:47.545Z"
   },
   {
    "duration": 150,
    "start_time": "2023-03-13T18:33:47.621Z"
   },
   {
    "duration": 4,
    "start_time": "2023-03-13T18:33:47.780Z"
   },
   {
    "duration": 20,
    "start_time": "2023-03-13T18:33:47.786Z"
   },
   {
    "duration": 45,
    "start_time": "2023-03-13T18:33:47.808Z"
   },
   {
    "duration": 18,
    "start_time": "2023-03-13T18:33:47.854Z"
   },
   {
    "duration": 6,
    "start_time": "2023-03-13T18:33:47.874Z"
   },
   {
    "duration": 348,
    "start_time": "2023-03-13T18:33:47.882Z"
   },
   {
    "duration": 28,
    "start_time": "2023-03-13T18:33:48.232Z"
   },
   {
    "duration": 72,
    "start_time": "2023-03-13T18:33:48.262Z"
   },
   {
    "duration": 3167,
    "start_time": "2023-03-13T18:33:48.336Z"
   },
   {
    "duration": 9,
    "start_time": "2023-03-13T18:33:51.504Z"
   },
   {
    "duration": 266,
    "start_time": "2023-03-13T18:33:51.515Z"
   },
   {
    "duration": 156,
    "start_time": "2023-03-13T18:33:51.782Z"
   },
   {
    "duration": 225,
    "start_time": "2023-03-13T18:33:51.939Z"
   },
   {
    "duration": 2937,
    "start_time": "2023-03-13T18:33:52.166Z"
   },
   {
    "duration": 207,
    "start_time": "2023-03-13T18:33:55.105Z"
   },
   {
    "duration": 207,
    "start_time": "2023-03-13T18:33:55.314Z"
   },
   {
    "duration": 303,
    "start_time": "2023-03-13T18:33:55.523Z"
   },
   {
    "duration": 213,
    "start_time": "2023-03-13T18:33:55.827Z"
   },
   {
    "duration": 194,
    "start_time": "2023-03-13T18:33:56.042Z"
   },
   {
    "duration": 187,
    "start_time": "2023-03-13T18:33:56.238Z"
   },
   {
    "duration": 401,
    "start_time": "2023-03-13T18:33:56.426Z"
   },
   {
    "duration": 240,
    "start_time": "2023-03-13T18:33:56.828Z"
   },
   {
    "duration": 15,
    "start_time": "2023-03-13T18:33:57.070Z"
   },
   {
    "duration": 26,
    "start_time": "2023-03-13T18:33:57.086Z"
   },
   {
    "duration": 21,
    "start_time": "2023-03-13T18:33:57.114Z"
   },
   {
    "duration": 102,
    "start_time": "2023-03-13T18:33:57.136Z"
   },
   {
    "duration": 0,
    "start_time": "2023-03-13T18:33:57.239Z"
   },
   {
    "duration": 0,
    "start_time": "2023-03-13T18:33:57.240Z"
   },
   {
    "duration": 0,
    "start_time": "2023-03-13T18:33:57.242Z"
   },
   {
    "duration": 0,
    "start_time": "2023-03-13T18:33:57.242Z"
   },
   {
    "duration": 0,
    "start_time": "2023-03-13T18:33:57.244Z"
   },
   {
    "duration": 0,
    "start_time": "2023-03-13T18:33:57.244Z"
   },
   {
    "duration": 0,
    "start_time": "2023-03-13T18:33:57.246Z"
   },
   {
    "duration": 10,
    "start_time": "2023-03-13T18:36:07.579Z"
   },
   {
    "duration": 5,
    "start_time": "2023-03-13T18:37:26.080Z"
   },
   {
    "duration": 691,
    "start_time": "2023-03-13T18:37:52.233Z"
   },
   {
    "duration": 45,
    "start_time": "2023-03-13T18:37:52.925Z"
   },
   {
    "duration": 75,
    "start_time": "2023-03-13T18:37:52.980Z"
   },
   {
    "duration": 2046,
    "start_time": "2023-03-13T18:37:53.058Z"
   },
   {
    "duration": 10,
    "start_time": "2023-03-13T18:37:55.106Z"
   },
   {
    "duration": 26,
    "start_time": "2023-03-13T18:37:55.118Z"
   },
   {
    "duration": 4,
    "start_time": "2023-03-13T18:37:55.146Z"
   },
   {
    "duration": 9,
    "start_time": "2023-03-13T18:37:55.152Z"
   },
   {
    "duration": 17,
    "start_time": "2023-03-13T18:37:55.163Z"
   },
   {
    "duration": 5,
    "start_time": "2023-03-13T18:37:55.183Z"
   },
   {
    "duration": 37,
    "start_time": "2023-03-13T18:37:55.189Z"
   },
   {
    "duration": 36,
    "start_time": "2023-03-13T18:37:55.228Z"
   },
   {
    "duration": 13,
    "start_time": "2023-03-13T18:37:55.280Z"
   },
   {
    "duration": 11,
    "start_time": "2023-03-13T18:37:55.294Z"
   },
   {
    "duration": 24,
    "start_time": "2023-03-13T18:37:55.307Z"
   },
   {
    "duration": 49,
    "start_time": "2023-03-13T18:37:55.334Z"
   },
   {
    "duration": 8,
    "start_time": "2023-03-13T18:37:55.384Z"
   },
   {
    "duration": 27,
    "start_time": "2023-03-13T18:37:55.394Z"
   },
   {
    "duration": 25,
    "start_time": "2023-03-13T18:37:55.423Z"
   },
   {
    "duration": 218,
    "start_time": "2023-03-13T18:37:55.450Z"
   },
   {
    "duration": 14,
    "start_time": "2023-03-13T18:37:55.669Z"
   },
   {
    "duration": 10,
    "start_time": "2023-03-13T18:37:55.685Z"
   },
   {
    "duration": 26,
    "start_time": "2023-03-13T18:37:55.697Z"
   },
   {
    "duration": 7,
    "start_time": "2023-03-13T18:37:55.725Z"
   },
   {
    "duration": 97,
    "start_time": "2023-03-13T18:37:55.733Z"
   },
   {
    "duration": 77,
    "start_time": "2023-03-13T18:37:55.832Z"
   },
   {
    "duration": 139,
    "start_time": "2023-03-13T18:37:55.911Z"
   },
   {
    "duration": 4,
    "start_time": "2023-03-13T18:37:56.053Z"
   },
   {
    "duration": 22,
    "start_time": "2023-03-13T18:37:56.059Z"
   },
   {
    "duration": 28,
    "start_time": "2023-03-13T18:37:56.082Z"
   },
   {
    "duration": 16,
    "start_time": "2023-03-13T18:37:56.112Z"
   },
   {
    "duration": 3,
    "start_time": "2023-03-13T18:37:56.130Z"
   },
   {
    "duration": 381,
    "start_time": "2023-03-13T18:37:56.134Z"
   },
   {
    "duration": 27,
    "start_time": "2023-03-13T18:37:56.516Z"
   },
   {
    "duration": 69,
    "start_time": "2023-03-13T18:37:56.545Z"
   },
   {
    "duration": 3104,
    "start_time": "2023-03-13T18:37:56.615Z"
   },
   {
    "duration": 11,
    "start_time": "2023-03-13T18:37:59.721Z"
   },
   {
    "duration": 267,
    "start_time": "2023-03-13T18:37:59.734Z"
   },
   {
    "duration": 138,
    "start_time": "2023-03-13T18:38:00.003Z"
   },
   {
    "duration": 247,
    "start_time": "2023-03-13T18:38:00.142Z"
   },
   {
    "duration": 3028,
    "start_time": "2023-03-13T18:38:00.391Z"
   },
   {
    "duration": 204,
    "start_time": "2023-03-13T18:38:03.421Z"
   },
   {
    "duration": 205,
    "start_time": "2023-03-13T18:38:03.627Z"
   },
   {
    "duration": 312,
    "start_time": "2023-03-13T18:38:03.834Z"
   },
   {
    "duration": 224,
    "start_time": "2023-03-13T18:38:04.148Z"
   },
   {
    "duration": 201,
    "start_time": "2023-03-13T18:38:04.374Z"
   },
   {
    "duration": 184,
    "start_time": "2023-03-13T18:38:04.581Z"
   },
   {
    "duration": 419,
    "start_time": "2023-03-13T18:38:04.767Z"
   },
   {
    "duration": 261,
    "start_time": "2023-03-13T18:38:05.188Z"
   },
   {
    "duration": 9,
    "start_time": "2023-03-13T18:38:05.450Z"
   },
   {
    "duration": 36,
    "start_time": "2023-03-13T18:38:05.461Z"
   },
   {
    "duration": 19,
    "start_time": "2023-03-13T18:38:05.499Z"
   },
   {
    "duration": 5,
    "start_time": "2023-03-13T18:38:05.520Z"
   },
   {
    "duration": 278,
    "start_time": "2023-03-13T18:38:05.526Z"
   },
   {
    "duration": 0,
    "start_time": "2023-03-13T18:38:05.806Z"
   },
   {
    "duration": 0,
    "start_time": "2023-03-13T18:38:05.807Z"
   },
   {
    "duration": 0,
    "start_time": "2023-03-13T18:38:05.808Z"
   },
   {
    "duration": 0,
    "start_time": "2023-03-13T18:38:05.809Z"
   },
   {
    "duration": 0,
    "start_time": "2023-03-13T18:38:05.811Z"
   },
   {
    "duration": 0,
    "start_time": "2023-03-13T18:38:05.812Z"
   },
   {
    "duration": 219,
    "start_time": "2023-03-13T18:39:03.198Z"
   },
   {
    "duration": 35,
    "start_time": "2023-03-13T18:39:37.977Z"
   },
   {
    "duration": 20,
    "start_time": "2023-03-13T18:40:26.210Z"
   },
   {
    "duration": 21,
    "start_time": "2023-03-13T18:40:37.118Z"
   },
   {
    "duration": 9,
    "start_time": "2023-03-13T18:41:01.647Z"
   },
   {
    "duration": 724,
    "start_time": "2023-03-13T18:43:12.109Z"
   },
   {
    "duration": 34,
    "start_time": "2023-03-13T18:43:12.835Z"
   },
   {
    "duration": 80,
    "start_time": "2023-03-13T18:43:12.871Z"
   },
   {
    "duration": 2075,
    "start_time": "2023-03-13T18:43:12.953Z"
   },
   {
    "duration": 9,
    "start_time": "2023-03-13T18:43:15.030Z"
   },
   {
    "duration": 27,
    "start_time": "2023-03-13T18:43:15.041Z"
   },
   {
    "duration": 5,
    "start_time": "2023-03-13T18:43:15.069Z"
   },
   {
    "duration": 7,
    "start_time": "2023-03-13T18:43:15.076Z"
   },
   {
    "duration": 7,
    "start_time": "2023-03-13T18:43:15.085Z"
   },
   {
    "duration": 7,
    "start_time": "2023-03-13T18:43:15.094Z"
   },
   {
    "duration": 36,
    "start_time": "2023-03-13T18:43:15.102Z"
   },
   {
    "duration": 48,
    "start_time": "2023-03-13T18:43:15.140Z"
   },
   {
    "duration": 13,
    "start_time": "2023-03-13T18:43:15.189Z"
   },
   {
    "duration": 10,
    "start_time": "2023-03-13T18:43:15.203Z"
   },
   {
    "duration": 84,
    "start_time": "2023-03-13T18:43:15.214Z"
   },
   {
    "duration": 34,
    "start_time": "2023-03-13T18:43:15.300Z"
   },
   {
    "duration": 28,
    "start_time": "2023-03-13T18:43:15.336Z"
   },
   {
    "duration": 17,
    "start_time": "2023-03-13T18:43:15.366Z"
   },
   {
    "duration": 39,
    "start_time": "2023-03-13T18:43:15.385Z"
   },
   {
    "duration": 230,
    "start_time": "2023-03-13T18:43:15.426Z"
   },
   {
    "duration": 9,
    "start_time": "2023-03-13T18:43:15.658Z"
   },
   {
    "duration": 14,
    "start_time": "2023-03-13T18:43:15.670Z"
   },
   {
    "duration": 34,
    "start_time": "2023-03-13T18:43:15.686Z"
   },
   {
    "duration": 6,
    "start_time": "2023-03-13T18:43:15.722Z"
   },
   {
    "duration": 95,
    "start_time": "2023-03-13T18:43:15.729Z"
   },
   {
    "duration": 76,
    "start_time": "2023-03-13T18:43:15.826Z"
   },
   {
    "duration": 157,
    "start_time": "2023-03-13T18:43:15.904Z"
   },
   {
    "duration": 15,
    "start_time": "2023-03-13T18:43:16.065Z"
   },
   {
    "duration": 4,
    "start_time": "2023-03-13T18:43:16.082Z"
   },
   {
    "duration": 30,
    "start_time": "2023-03-13T18:43:16.088Z"
   },
   {
    "duration": 26,
    "start_time": "2023-03-13T18:43:16.121Z"
   },
   {
    "duration": 4,
    "start_time": "2023-03-13T18:43:16.149Z"
   },
   {
    "duration": 357,
    "start_time": "2023-03-13T18:43:16.181Z"
   },
   {
    "duration": 28,
    "start_time": "2023-03-13T18:43:16.540Z"
   },
   {
    "duration": 64,
    "start_time": "2023-03-13T18:43:16.570Z"
   },
   {
    "duration": 3219,
    "start_time": "2023-03-13T18:43:16.636Z"
   },
   {
    "duration": 10,
    "start_time": "2023-03-13T18:43:19.857Z"
   },
   {
    "duration": 289,
    "start_time": "2023-03-13T18:43:19.869Z"
   },
   {
    "duration": 140,
    "start_time": "2023-03-13T18:43:20.160Z"
   },
   {
    "duration": 275,
    "start_time": "2023-03-13T18:43:20.302Z"
   },
   {
    "duration": 3167,
    "start_time": "2023-03-13T18:43:20.580Z"
   },
   {
    "duration": 209,
    "start_time": "2023-03-13T18:43:23.748Z"
   },
   {
    "duration": 202,
    "start_time": "2023-03-13T18:43:23.959Z"
   },
   {
    "duration": 321,
    "start_time": "2023-03-13T18:43:24.163Z"
   },
   {
    "duration": 240,
    "start_time": "2023-03-13T18:43:24.486Z"
   },
   {
    "duration": 205,
    "start_time": "2023-03-13T18:43:24.728Z"
   },
   {
    "duration": 198,
    "start_time": "2023-03-13T18:43:24.935Z"
   },
   {
    "duration": 440,
    "start_time": "2023-03-13T18:43:25.135Z"
   },
   {
    "duration": 242,
    "start_time": "2023-03-13T18:43:25.581Z"
   },
   {
    "duration": 9,
    "start_time": "2023-03-13T18:43:25.826Z"
   },
   {
    "duration": 49,
    "start_time": "2023-03-13T18:43:25.837Z"
   },
   {
    "duration": 20,
    "start_time": "2023-03-13T18:43:25.889Z"
   },
   {
    "duration": 8,
    "start_time": "2023-03-13T18:43:25.911Z"
   },
   {
    "duration": 300,
    "start_time": "2023-03-13T18:43:25.921Z"
   },
   {
    "duration": 0,
    "start_time": "2023-03-13T18:43:26.223Z"
   },
   {
    "duration": 0,
    "start_time": "2023-03-13T18:43:26.225Z"
   },
   {
    "duration": 0,
    "start_time": "2023-03-13T18:43:26.226Z"
   },
   {
    "duration": 0,
    "start_time": "2023-03-13T18:43:26.227Z"
   },
   {
    "duration": 0,
    "start_time": "2023-03-13T18:43:26.229Z"
   },
   {
    "duration": 0,
    "start_time": "2023-03-13T18:43:26.230Z"
   },
   {
    "duration": 30,
    "start_time": "2023-03-13T18:44:01.690Z"
   },
   {
    "duration": 26,
    "start_time": "2023-03-13T18:44:43.636Z"
   },
   {
    "duration": 30,
    "start_time": "2023-03-13T18:47:41.397Z"
   },
   {
    "duration": 36,
    "start_time": "2023-03-13T18:47:50.977Z"
   },
   {
    "duration": 9,
    "start_time": "2023-03-13T18:48:25.520Z"
   },
   {
    "duration": 23,
    "start_time": "2023-03-13T18:49:13.906Z"
   },
   {
    "duration": 25,
    "start_time": "2023-03-13T18:50:13.258Z"
   },
   {
    "duration": 26,
    "start_time": "2023-03-13T18:50:29.206Z"
   },
   {
    "duration": 25,
    "start_time": "2023-03-13T18:50:54.804Z"
   },
   {
    "duration": 11,
    "start_time": "2023-03-13T18:51:01.614Z"
   },
   {
    "duration": 269,
    "start_time": "2023-03-13T18:51:10.029Z"
   },
   {
    "duration": 754,
    "start_time": "2023-03-13T18:51:24.005Z"
   },
   {
    "duration": 45,
    "start_time": "2023-03-13T18:51:24.761Z"
   },
   {
    "duration": 79,
    "start_time": "2023-03-13T18:51:24.808Z"
   },
   {
    "duration": 2083,
    "start_time": "2023-03-13T18:51:24.889Z"
   },
   {
    "duration": 13,
    "start_time": "2023-03-13T18:51:26.974Z"
   },
   {
    "duration": 47,
    "start_time": "2023-03-13T18:51:26.989Z"
   },
   {
    "duration": 6,
    "start_time": "2023-03-13T18:51:27.037Z"
   },
   {
    "duration": 8,
    "start_time": "2023-03-13T18:51:27.044Z"
   },
   {
    "duration": 8,
    "start_time": "2023-03-13T18:51:27.054Z"
   },
   {
    "duration": 6,
    "start_time": "2023-03-13T18:51:27.079Z"
   },
   {
    "duration": 33,
    "start_time": "2023-03-13T18:51:27.087Z"
   },
   {
    "duration": 37,
    "start_time": "2023-03-13T18:51:27.122Z"
   },
   {
    "duration": 30,
    "start_time": "2023-03-13T18:51:27.161Z"
   },
   {
    "duration": 37,
    "start_time": "2023-03-13T18:51:27.193Z"
   },
   {
    "duration": 31,
    "start_time": "2023-03-13T18:51:27.232Z"
   },
   {
    "duration": 37,
    "start_time": "2023-03-13T18:51:27.266Z"
   },
   {
    "duration": 12,
    "start_time": "2023-03-13T18:51:27.305Z"
   },
   {
    "duration": 16,
    "start_time": "2023-03-13T18:51:27.319Z"
   },
   {
    "duration": 47,
    "start_time": "2023-03-13T18:51:27.338Z"
   },
   {
    "duration": 226,
    "start_time": "2023-03-13T18:51:27.387Z"
   },
   {
    "duration": 9,
    "start_time": "2023-03-13T18:51:27.614Z"
   },
   {
    "duration": 6,
    "start_time": "2023-03-13T18:51:27.625Z"
   },
   {
    "duration": 26,
    "start_time": "2023-03-13T18:51:27.633Z"
   },
   {
    "duration": 6,
    "start_time": "2023-03-13T18:51:27.679Z"
   },
   {
    "duration": 92,
    "start_time": "2023-03-13T18:51:27.688Z"
   },
   {
    "duration": 64,
    "start_time": "2023-03-13T18:51:27.782Z"
   },
   {
    "duration": 172,
    "start_time": "2023-03-13T18:51:27.849Z"
   },
   {
    "duration": 5,
    "start_time": "2023-03-13T18:51:28.026Z"
   },
   {
    "duration": 6,
    "start_time": "2023-03-13T18:51:28.033Z"
   },
   {
    "duration": 43,
    "start_time": "2023-03-13T18:51:28.040Z"
   },
   {
    "duration": 20,
    "start_time": "2023-03-13T18:51:28.085Z"
   },
   {
    "duration": 3,
    "start_time": "2023-03-13T18:51:28.107Z"
   },
   {
    "duration": 362,
    "start_time": "2023-03-13T18:51:28.111Z"
   },
   {
    "duration": 28,
    "start_time": "2023-03-13T18:51:28.475Z"
   },
   {
    "duration": 55,
    "start_time": "2023-03-13T18:51:28.505Z"
   },
   {
    "duration": 3373,
    "start_time": "2023-03-13T18:51:28.562Z"
   },
   {
    "duration": 16,
    "start_time": "2023-03-13T18:51:31.937Z"
   },
   {
    "duration": 293,
    "start_time": "2023-03-13T18:51:31.955Z"
   },
   {
    "duration": 166,
    "start_time": "2023-03-13T18:51:32.250Z"
   },
   {
    "duration": 247,
    "start_time": "2023-03-13T18:51:32.418Z"
   },
   {
    "duration": 3175,
    "start_time": "2023-03-13T18:51:32.667Z"
   },
   {
    "duration": 211,
    "start_time": "2023-03-13T18:51:35.844Z"
   },
   {
    "duration": 207,
    "start_time": "2023-03-13T18:51:36.056Z"
   },
   {
    "duration": 320,
    "start_time": "2023-03-13T18:51:36.265Z"
   },
   {
    "duration": 227,
    "start_time": "2023-03-13T18:51:36.586Z"
   },
   {
    "duration": 197,
    "start_time": "2023-03-13T18:51:36.814Z"
   },
   {
    "duration": 198,
    "start_time": "2023-03-13T18:51:37.013Z"
   },
   {
    "duration": 419,
    "start_time": "2023-03-13T18:51:37.212Z"
   },
   {
    "duration": 246,
    "start_time": "2023-03-13T18:51:37.632Z"
   },
   {
    "duration": 9,
    "start_time": "2023-03-13T18:51:37.880Z"
   },
   {
    "duration": 25,
    "start_time": "2023-03-13T18:51:37.891Z"
   },
   {
    "duration": 26,
    "start_time": "2023-03-13T18:51:37.918Z"
   },
   {
    "duration": 36,
    "start_time": "2023-03-13T18:51:37.946Z"
   },
   {
    "duration": 277,
    "start_time": "2023-03-13T18:51:37.983Z"
   },
   {
    "duration": 8,
    "start_time": "2023-03-13T18:51:38.262Z"
   },
   {
    "duration": 30,
    "start_time": "2023-03-13T18:51:38.271Z"
   },
   {
    "duration": 19,
    "start_time": "2023-03-13T18:51:38.303Z"
   },
   {
    "duration": 23,
    "start_time": "2023-03-13T18:51:38.324Z"
   },
   {
    "duration": 196,
    "start_time": "2023-03-13T18:51:38.349Z"
   },
   {
    "duration": 50,
    "start_time": "2023-03-13T18:51:38.547Z"
   },
   {
    "duration": 759,
    "start_time": "2023-03-13T18:52:14.374Z"
   },
   {
    "duration": 47,
    "start_time": "2023-03-13T18:52:15.135Z"
   },
   {
    "duration": 80,
    "start_time": "2023-03-13T18:52:15.184Z"
   },
   {
    "duration": 2078,
    "start_time": "2023-03-13T18:52:15.266Z"
   },
   {
    "duration": 13,
    "start_time": "2023-03-13T18:52:17.347Z"
   },
   {
    "duration": 27,
    "start_time": "2023-03-13T18:52:17.361Z"
   },
   {
    "duration": 7,
    "start_time": "2023-03-13T18:52:17.390Z"
   },
   {
    "duration": 6,
    "start_time": "2023-03-13T18:52:17.399Z"
   },
   {
    "duration": 9,
    "start_time": "2023-03-13T18:52:17.407Z"
   },
   {
    "duration": 6,
    "start_time": "2023-03-13T18:52:17.419Z"
   },
   {
    "duration": 66,
    "start_time": "2023-03-13T18:52:17.427Z"
   },
   {
    "duration": 36,
    "start_time": "2023-03-13T18:52:17.495Z"
   },
   {
    "duration": 15,
    "start_time": "2023-03-13T18:52:17.533Z"
   },
   {
    "duration": 32,
    "start_time": "2023-03-13T18:52:17.550Z"
   },
   {
    "duration": 24,
    "start_time": "2023-03-13T18:52:17.584Z"
   },
   {
    "duration": 26,
    "start_time": "2023-03-13T18:52:17.610Z"
   },
   {
    "duration": 7,
    "start_time": "2023-03-13T18:52:17.638Z"
   },
   {
    "duration": 44,
    "start_time": "2023-03-13T18:52:17.646Z"
   },
   {
    "duration": 25,
    "start_time": "2023-03-13T18:52:17.692Z"
   },
   {
    "duration": 222,
    "start_time": "2023-03-13T18:52:17.719Z"
   },
   {
    "duration": 10,
    "start_time": "2023-03-13T18:52:17.943Z"
   },
   {
    "duration": 27,
    "start_time": "2023-03-13T18:52:17.954Z"
   },
   {
    "duration": 42,
    "start_time": "2023-03-13T18:52:17.983Z"
   },
   {
    "duration": 18,
    "start_time": "2023-03-13T18:52:18.027Z"
   },
   {
    "duration": 83,
    "start_time": "2023-03-13T18:52:18.047Z"
   },
   {
    "duration": 159,
    "start_time": "2023-03-13T18:52:18.132Z"
   },
   {
    "duration": 87,
    "start_time": "2023-03-13T18:52:18.293Z"
   },
   {
    "duration": 5,
    "start_time": "2023-03-13T18:52:18.384Z"
   },
   {
    "duration": 12,
    "start_time": "2023-03-13T18:52:18.391Z"
   },
   {
    "duration": 48,
    "start_time": "2023-03-13T18:52:18.405Z"
   },
   {
    "duration": 21,
    "start_time": "2023-03-13T18:52:18.455Z"
   },
   {
    "duration": 4,
    "start_time": "2023-03-13T18:52:18.477Z"
   },
   {
    "duration": 364,
    "start_time": "2023-03-13T18:52:18.483Z"
   },
   {
    "duration": 34,
    "start_time": "2023-03-13T18:52:18.848Z"
   },
   {
    "duration": 55,
    "start_time": "2023-03-13T18:52:18.884Z"
   },
   {
    "duration": 3388,
    "start_time": "2023-03-13T18:52:18.940Z"
   },
   {
    "duration": 12,
    "start_time": "2023-03-13T18:52:22.330Z"
   },
   {
    "duration": 294,
    "start_time": "2023-03-13T18:52:22.344Z"
   },
   {
    "duration": 143,
    "start_time": "2023-03-13T18:52:22.640Z"
   },
   {
    "duration": 237,
    "start_time": "2023-03-13T18:52:22.785Z"
   },
   {
    "duration": 3134,
    "start_time": "2023-03-13T18:52:23.024Z"
   },
   {
    "duration": 223,
    "start_time": "2023-03-13T18:52:26.160Z"
   },
   {
    "duration": 219,
    "start_time": "2023-03-13T18:52:26.384Z"
   },
   {
    "duration": 347,
    "start_time": "2023-03-13T18:52:26.605Z"
   },
   {
    "duration": 244,
    "start_time": "2023-03-13T18:52:26.954Z"
   },
   {
    "duration": 225,
    "start_time": "2023-03-13T18:52:27.200Z"
   },
   {
    "duration": 214,
    "start_time": "2023-03-13T18:52:27.428Z"
   },
   {
    "duration": 428,
    "start_time": "2023-03-13T18:52:27.644Z"
   },
   {
    "duration": 248,
    "start_time": "2023-03-13T18:52:28.074Z"
   },
   {
    "duration": 11,
    "start_time": "2023-03-13T18:52:28.324Z"
   },
   {
    "duration": 58,
    "start_time": "2023-03-13T18:52:28.336Z"
   },
   {
    "duration": 25,
    "start_time": "2023-03-13T18:52:28.396Z"
   },
   {
    "duration": 10,
    "start_time": "2023-03-13T18:52:28.423Z"
   },
   {
    "duration": 309,
    "start_time": "2023-03-13T18:52:28.435Z"
   },
   {
    "duration": 9,
    "start_time": "2023-03-13T18:52:28.746Z"
   },
   {
    "duration": 32,
    "start_time": "2023-03-13T18:52:28.757Z"
   },
   {
    "duration": 18,
    "start_time": "2023-03-13T18:52:28.791Z"
   },
   {
    "duration": 35,
    "start_time": "2023-03-13T18:52:28.811Z"
   },
   {
    "duration": 189,
    "start_time": "2023-03-13T18:52:28.849Z"
   },
   {
    "duration": 1096,
    "start_time": "2023-03-14T06:22:33.042Z"
   },
   {
    "duration": 34,
    "start_time": "2023-03-14T06:22:34.140Z"
   },
   {
    "duration": 76,
    "start_time": "2023-03-14T06:22:34.175Z"
   },
   {
    "duration": 1866,
    "start_time": "2023-03-14T06:22:34.252Z"
   },
   {
    "duration": 12,
    "start_time": "2023-03-14T06:22:36.120Z"
   },
   {
    "duration": 25,
    "start_time": "2023-03-14T06:22:36.133Z"
   },
   {
    "duration": 6,
    "start_time": "2023-03-14T06:22:36.160Z"
   },
   {
    "duration": 6,
    "start_time": "2023-03-14T06:22:36.167Z"
   },
   {
    "duration": 11,
    "start_time": "2023-03-14T06:22:36.174Z"
   },
   {
    "duration": 4,
    "start_time": "2023-03-14T06:22:36.188Z"
   },
   {
    "duration": 60,
    "start_time": "2023-03-14T06:22:36.194Z"
   },
   {
    "duration": 33,
    "start_time": "2023-03-14T06:22:36.256Z"
   },
   {
    "duration": 13,
    "start_time": "2023-03-14T06:22:36.291Z"
   },
   {
    "duration": 29,
    "start_time": "2023-03-14T06:22:36.305Z"
   },
   {
    "duration": 26,
    "start_time": "2023-03-14T06:22:36.336Z"
   },
   {
    "duration": 27,
    "start_time": "2023-03-14T06:22:36.364Z"
   },
   {
    "duration": 19,
    "start_time": "2023-03-14T06:22:36.393Z"
   },
   {
    "duration": 17,
    "start_time": "2023-03-14T06:22:36.414Z"
   },
   {
    "duration": 36,
    "start_time": "2023-03-14T06:22:36.433Z"
   },
   {
    "duration": 246,
    "start_time": "2023-03-14T06:22:36.470Z"
   },
   {
    "duration": 12,
    "start_time": "2023-03-14T06:22:36.718Z"
   },
   {
    "duration": 4,
    "start_time": "2023-03-14T06:22:36.732Z"
   },
   {
    "duration": 46,
    "start_time": "2023-03-14T06:22:36.738Z"
   },
   {
    "duration": 4,
    "start_time": "2023-03-14T06:22:36.786Z"
   },
   {
    "duration": 67,
    "start_time": "2023-03-14T06:22:36.791Z"
   },
   {
    "duration": 58,
    "start_time": "2023-03-14T06:22:36.860Z"
   },
   {
    "duration": 141,
    "start_time": "2023-03-14T06:22:36.919Z"
   },
   {
    "duration": 4,
    "start_time": "2023-03-14T06:22:37.063Z"
   },
   {
    "duration": 15,
    "start_time": "2023-03-14T06:22:37.068Z"
   },
   {
    "duration": 32,
    "start_time": "2023-03-14T06:22:37.085Z"
   },
   {
    "duration": 15,
    "start_time": "2023-03-14T06:22:37.119Z"
   },
   {
    "duration": 3,
    "start_time": "2023-03-14T06:22:37.135Z"
   },
   {
    "duration": 313,
    "start_time": "2023-03-14T06:22:37.140Z"
   },
   {
    "duration": 23,
    "start_time": "2023-03-14T06:22:37.455Z"
   },
   {
    "duration": 59,
    "start_time": "2023-03-14T06:22:37.480Z"
   },
   {
    "duration": 2880,
    "start_time": "2023-03-14T06:22:37.540Z"
   },
   {
    "duration": 14,
    "start_time": "2023-03-14T06:22:40.422Z"
   },
   {
    "duration": 228,
    "start_time": "2023-03-14T06:22:40.438Z"
   },
   {
    "duration": 119,
    "start_time": "2023-03-14T06:22:40.668Z"
   },
   {
    "duration": 218,
    "start_time": "2023-03-14T06:22:40.788Z"
   },
   {
    "duration": 2754,
    "start_time": "2023-03-14T06:22:41.008Z"
   },
   {
    "duration": 190,
    "start_time": "2023-03-14T06:22:43.763Z"
   },
   {
    "duration": 192,
    "start_time": "2023-03-14T06:22:43.955Z"
   },
   {
    "duration": 279,
    "start_time": "2023-03-14T06:22:44.148Z"
   },
   {
    "duration": 196,
    "start_time": "2023-03-14T06:22:44.430Z"
   },
   {
    "duration": 186,
    "start_time": "2023-03-14T06:22:44.627Z"
   },
   {
    "duration": 166,
    "start_time": "2023-03-14T06:22:44.815Z"
   },
   {
    "duration": 379,
    "start_time": "2023-03-14T06:22:44.984Z"
   },
   {
    "duration": 224,
    "start_time": "2023-03-14T06:22:45.365Z"
   },
   {
    "duration": 10,
    "start_time": "2023-03-14T06:22:45.591Z"
   },
   {
    "duration": 41,
    "start_time": "2023-03-14T06:22:45.603Z"
   },
   {
    "duration": 22,
    "start_time": "2023-03-14T06:22:45.646Z"
   },
   {
    "duration": 8,
    "start_time": "2023-03-14T06:22:45.670Z"
   },
   {
    "duration": 262,
    "start_time": "2023-03-14T06:22:45.680Z"
   },
   {
    "duration": 9,
    "start_time": "2023-03-14T06:22:45.943Z"
   },
   {
    "duration": 19,
    "start_time": "2023-03-14T06:22:45.953Z"
   },
   {
    "duration": 12,
    "start_time": "2023-03-14T06:22:45.973Z"
   },
   {
    "duration": 45,
    "start_time": "2023-03-14T06:22:45.986Z"
   },
   {
    "duration": 147,
    "start_time": "2023-03-14T06:22:46.033Z"
   },
   {
    "duration": 22,
    "start_time": "2023-03-14T06:24:52.763Z"
   },
   {
    "duration": 90,
    "start_time": "2023-03-14T06:24:56.753Z"
   },
   {
    "duration": 7,
    "start_time": "2023-03-14T06:25:15.002Z"
   },
   {
    "duration": 805,
    "start_time": "2023-03-14T07:28:51.261Z"
   },
   {
    "duration": 364,
    "start_time": "2023-03-14T07:28:52.131Z"
   },
   {
    "duration": 136,
    "start_time": "2023-03-14T07:29:40.309Z"
   },
   {
    "duration": 32,
    "start_time": "2023-03-14T07:30:20.246Z"
   },
   {
    "duration": 22,
    "start_time": "2023-03-14T07:33:43.232Z"
   },
   {
    "duration": 22,
    "start_time": "2023-03-14T07:34:06.076Z"
   },
   {
    "duration": 79,
    "start_time": "2023-03-14T07:36:24.219Z"
   },
   {
    "duration": 351,
    "start_time": "2023-03-14T07:38:41.952Z"
   },
   {
    "duration": 247,
    "start_time": "2023-03-14T07:38:58.202Z"
   },
   {
    "duration": 375,
    "start_time": "2023-03-14T07:39:16.342Z"
   },
   {
    "duration": 343,
    "start_time": "2023-03-14T07:39:48.922Z"
   },
   {
    "duration": 338,
    "start_time": "2023-03-14T07:40:02.127Z"
   },
   {
    "duration": 314,
    "start_time": "2023-03-14T07:40:39.121Z"
   },
   {
    "duration": 1176,
    "start_time": "2023-03-14T07:41:14.303Z"
   },
   {
    "duration": 5,
    "start_time": "2023-03-14T07:41:34.650Z"
   },
   {
    "duration": 498,
    "start_time": "2023-03-14T07:41:45.080Z"
   },
   {
    "duration": 350,
    "start_time": "2023-03-14T07:42:17.116Z"
   },
   {
    "duration": 314,
    "start_time": "2023-03-14T07:42:41.520Z"
   },
   {
    "duration": 324,
    "start_time": "2023-03-14T07:43:10.779Z"
   },
   {
    "duration": 1270,
    "start_time": "2023-03-14T07:43:32.139Z"
   },
   {
    "duration": 7,
    "start_time": "2023-03-14T07:43:46.018Z"
   },
   {
    "duration": 3,
    "start_time": "2023-03-14T07:44:01.313Z"
   },
   {
    "duration": 270,
    "start_time": "2023-03-14T07:44:02.496Z"
   },
   {
    "duration": 376,
    "start_time": "2023-03-14T07:44:08.233Z"
   },
   {
    "duration": 362,
    "start_time": "2023-03-14T07:44:34.043Z"
   },
   {
    "duration": 323,
    "start_time": "2023-03-14T07:44:56.396Z"
   },
   {
    "duration": 305,
    "start_time": "2023-03-14T07:45:20.313Z"
   },
   {
    "duration": 387,
    "start_time": "2023-03-14T07:45:43.728Z"
   },
   {
    "duration": 1237,
    "start_time": "2023-03-14T07:46:03.917Z"
   },
   {
    "duration": 387,
    "start_time": "2023-03-14T07:46:14.824Z"
   },
   {
    "duration": 5,
    "start_time": "2023-03-14T07:46:23.713Z"
   },
   {
    "duration": 291,
    "start_time": "2023-03-14T07:46:24.433Z"
   },
   {
    "duration": 639,
    "start_time": "2023-03-14T07:46:47.881Z"
   },
   {
    "duration": 93,
    "start_time": "2023-03-14T07:46:48.521Z"
   },
   {
    "duration": 31,
    "start_time": "2023-03-14T07:46:48.616Z"
   },
   {
    "duration": 78,
    "start_time": "2023-03-14T07:46:48.648Z"
   },
   {
    "duration": 1953,
    "start_time": "2023-03-14T07:46:48.727Z"
   },
   {
    "duration": 10,
    "start_time": "2023-03-14T07:46:50.681Z"
   },
   {
    "duration": 26,
    "start_time": "2023-03-14T07:46:50.693Z"
   },
   {
    "duration": 5,
    "start_time": "2023-03-14T07:46:50.721Z"
   },
   {
    "duration": 9,
    "start_time": "2023-03-14T07:46:50.727Z"
   },
   {
    "duration": 7,
    "start_time": "2023-03-14T07:46:50.738Z"
   },
   {
    "duration": 4,
    "start_time": "2023-03-14T07:46:50.746Z"
   },
   {
    "duration": 29,
    "start_time": "2023-03-14T07:46:50.757Z"
   },
   {
    "duration": 32,
    "start_time": "2023-03-14T07:46:50.787Z"
   },
   {
    "duration": 13,
    "start_time": "2023-03-14T07:46:50.821Z"
   },
   {
    "duration": 29,
    "start_time": "2023-03-14T07:46:50.836Z"
   },
   {
    "duration": 16,
    "start_time": "2023-03-14T07:46:50.867Z"
   },
   {
    "duration": 22,
    "start_time": "2023-03-14T07:46:50.885Z"
   },
   {
    "duration": 23,
    "start_time": "2023-03-14T07:46:50.909Z"
   },
   {
    "duration": 28,
    "start_time": "2023-03-14T07:46:50.934Z"
   },
   {
    "duration": 21,
    "start_time": "2023-03-14T07:46:50.963Z"
   },
   {
    "duration": 219,
    "start_time": "2023-03-14T07:46:50.986Z"
   },
   {
    "duration": 9,
    "start_time": "2023-03-14T07:46:51.207Z"
   },
   {
    "duration": 9,
    "start_time": "2023-03-14T07:46:51.217Z"
   },
   {
    "duration": 32,
    "start_time": "2023-03-14T07:46:51.228Z"
   },
   {
    "duration": 14,
    "start_time": "2023-03-14T07:46:51.262Z"
   },
   {
    "duration": 80,
    "start_time": "2023-03-14T07:46:51.277Z"
   },
   {
    "duration": 65,
    "start_time": "2023-03-14T07:46:51.359Z"
   },
   {
    "duration": 153,
    "start_time": "2023-03-14T07:46:51.429Z"
   },
   {
    "duration": 5,
    "start_time": "2023-03-14T07:46:51.584Z"
   },
   {
    "duration": 6,
    "start_time": "2023-03-14T07:46:51.591Z"
   },
   {
    "duration": 25,
    "start_time": "2023-03-14T07:46:51.599Z"
   },
   {
    "duration": 36,
    "start_time": "2023-03-14T07:46:51.626Z"
   },
   {
    "duration": 4,
    "start_time": "2023-03-14T07:46:51.664Z"
   },
   {
    "duration": 332,
    "start_time": "2023-03-14T07:46:51.670Z"
   },
   {
    "duration": 29,
    "start_time": "2023-03-14T07:46:52.003Z"
   },
   {
    "duration": 63,
    "start_time": "2023-03-14T07:46:52.034Z"
   },
   {
    "duration": 318,
    "start_time": "2023-03-14T07:46:52.099Z"
   },
   {
    "duration": 312,
    "start_time": "2023-03-14T07:46:52.419Z"
   },
   {
    "duration": 381,
    "start_time": "2023-03-14T07:46:52.733Z"
   },
   {
    "duration": 352,
    "start_time": "2023-03-14T07:46:53.116Z"
   },
   {
    "duration": 327,
    "start_time": "2023-03-14T07:46:53.470Z"
   },
   {
    "duration": 322,
    "start_time": "2023-03-14T07:46:53.799Z"
   },
   {
    "duration": 421,
    "start_time": "2023-03-14T07:46:54.123Z"
   },
   {
    "duration": 322,
    "start_time": "2023-03-14T07:46:54.546Z"
   },
   {
    "duration": 371,
    "start_time": "2023-03-14T07:46:54.870Z"
   },
   {
    "duration": 415,
    "start_time": "2023-03-14T07:46:55.243Z"
   },
   {
    "duration": 397,
    "start_time": "2023-03-14T07:46:55.660Z"
   },
   {
    "duration": 324,
    "start_time": "2023-03-14T07:46:56.059Z"
   },
   {
    "duration": 334,
    "start_time": "2023-03-14T07:46:56.385Z"
   },
   {
    "duration": 3146,
    "start_time": "2023-03-14T07:46:56.721Z"
   },
   {
    "duration": 10,
    "start_time": "2023-03-14T07:46:59.869Z"
   },
   {
    "duration": 274,
    "start_time": "2023-03-14T07:46:59.880Z"
   },
   {
    "duration": 142,
    "start_time": "2023-03-14T07:47:00.157Z"
   },
   {
    "duration": 219,
    "start_time": "2023-03-14T07:47:00.301Z"
   },
   {
    "duration": 2968,
    "start_time": "2023-03-14T07:47:00.522Z"
   },
   {
    "duration": 194,
    "start_time": "2023-03-14T07:47:03.492Z"
   },
   {
    "duration": 302,
    "start_time": "2023-03-14T07:47:03.688Z"
   },
   {
    "duration": 210,
    "start_time": "2023-03-14T07:47:03.992Z"
   },
   {
    "duration": 248,
    "start_time": "2023-03-14T07:47:04.204Z"
   },
   {
    "duration": 193,
    "start_time": "2023-03-14T07:47:04.456Z"
   },
   {
    "duration": 179,
    "start_time": "2023-03-14T07:47:04.651Z"
   },
   {
    "duration": 433,
    "start_time": "2023-03-14T07:47:04.832Z"
   },
   {
    "duration": 279,
    "start_time": "2023-03-14T07:47:05.267Z"
   },
   {
    "duration": 16,
    "start_time": "2023-03-14T07:47:05.548Z"
   },
   {
    "duration": 28,
    "start_time": "2023-03-14T07:47:05.566Z"
   },
   {
    "duration": 27,
    "start_time": "2023-03-14T07:47:05.597Z"
   },
   {
    "duration": 32,
    "start_time": "2023-03-14T07:47:05.626Z"
   },
   {
    "duration": 258,
    "start_time": "2023-03-14T07:47:05.660Z"
   },
   {
    "duration": 9,
    "start_time": "2023-03-14T07:47:05.920Z"
   },
   {
    "duration": 28,
    "start_time": "2023-03-14T07:47:05.931Z"
   },
   {
    "duration": 12,
    "start_time": "2023-03-14T07:47:05.961Z"
   },
   {
    "duration": 21,
    "start_time": "2023-03-14T07:47:05.975Z"
   },
   {
    "duration": 170,
    "start_time": "2023-03-14T07:47:05.998Z"
   },
   {
    "duration": 305,
    "start_time": "2023-03-14T07:47:31.446Z"
   },
   {
    "duration": 406,
    "start_time": "2023-03-14T07:50:51.636Z"
   },
   {
    "duration": 325,
    "start_time": "2023-03-14T07:51:11.634Z"
   },
   {
    "duration": 319,
    "start_time": "2023-03-14T07:51:30.009Z"
   },
   {
    "duration": 314,
    "start_time": "2023-03-14T07:51:57.910Z"
   },
   {
    "duration": 417,
    "start_time": "2023-03-14T07:52:10.208Z"
   },
   {
    "duration": 321,
    "start_time": "2023-03-14T07:52:16.858Z"
   },
   {
    "duration": 334,
    "start_time": "2023-03-14T07:52:23.181Z"
   },
   {
    "duration": 345,
    "start_time": "2023-03-14T07:52:59.548Z"
   },
   {
    "duration": 314,
    "start_time": "2023-03-14T07:53:19.277Z"
   },
   {
    "duration": 418,
    "start_time": "2023-03-14T07:53:44.624Z"
   },
   {
    "duration": 317,
    "start_time": "2023-03-14T07:53:56.949Z"
   },
   {
    "duration": 313,
    "start_time": "2023-03-14T07:54:19.011Z"
   },
   {
    "duration": 320,
    "start_time": "2023-03-14T08:25:19.303Z"
   },
   {
    "duration": 392,
    "start_time": "2023-03-14T08:25:31.574Z"
   },
   {
    "duration": 321,
    "start_time": "2023-03-14T08:25:45.100Z"
   },
   {
    "duration": 387,
    "start_time": "2023-03-14T08:25:55.343Z"
   },
   {
    "duration": 83,
    "start_time": "2023-03-14T08:30:37.554Z"
   },
   {
    "duration": 184,
    "start_time": "2023-03-14T08:30:49.979Z"
   },
   {
    "duration": 18,
    "start_time": "2023-03-14T08:35:37.704Z"
   },
   {
    "duration": 1379,
    "start_time": "2023-03-14T08:35:49.852Z"
   },
   {
    "duration": 222,
    "start_time": "2023-03-14T08:35:59.555Z"
   },
   {
    "duration": 1646,
    "start_time": "2023-03-14T08:36:02.620Z"
   },
   {
    "duration": 1881,
    "start_time": "2023-03-14T08:36:19.502Z"
   },
   {
    "duration": 180,
    "start_time": "2023-03-14T08:36:30.802Z"
   },
   {
    "duration": 166,
    "start_time": "2023-03-14T08:37:06.739Z"
   },
   {
    "duration": 1404,
    "start_time": "2023-03-14T08:38:41.209Z"
   },
   {
    "duration": 159,
    "start_time": "2023-03-14T08:38:58.072Z"
   },
   {
    "duration": 128,
    "start_time": "2023-03-14T08:39:16.798Z"
   },
   {
    "duration": 278,
    "start_time": "2023-03-14T08:39:59.243Z"
   },
   {
    "duration": 130,
    "start_time": "2023-03-14T08:41:04.648Z"
   },
   {
    "duration": 151,
    "start_time": "2023-03-14T08:41:22.719Z"
   },
   {
    "duration": 180,
    "start_time": "2023-03-14T08:42:17.416Z"
   },
   {
    "duration": 203,
    "start_time": "2023-03-14T08:43:14.806Z"
   },
   {
    "duration": 179,
    "start_time": "2023-03-14T08:44:29.656Z"
   },
   {
    "duration": 10,
    "start_time": "2023-03-14T09:06:33.470Z"
   },
   {
    "duration": 14,
    "start_time": "2023-03-14T09:06:53.252Z"
   },
   {
    "duration": 8,
    "start_time": "2023-03-14T09:06:53.869Z"
   },
   {
    "duration": 6,
    "start_time": "2023-03-14T09:07:01.115Z"
   },
   {
    "duration": 27,
    "start_time": "2023-03-14T09:07:04.491Z"
   },
   {
    "duration": 700,
    "start_time": "2023-03-14T09:07:12.468Z"
   },
   {
    "duration": 102,
    "start_time": "2023-03-14T09:07:13.170Z"
   },
   {
    "duration": 29,
    "start_time": "2023-03-14T09:07:13.273Z"
   },
   {
    "duration": 90,
    "start_time": "2023-03-14T09:07:13.304Z"
   },
   {
    "duration": 2104,
    "start_time": "2023-03-14T09:07:13.396Z"
   },
   {
    "duration": 11,
    "start_time": "2023-03-14T09:07:15.503Z"
   },
   {
    "duration": 60,
    "start_time": "2023-03-14T09:07:15.516Z"
   },
   {
    "duration": 7,
    "start_time": "2023-03-14T09:07:15.578Z"
   },
   {
    "duration": 9,
    "start_time": "2023-03-14T09:07:15.587Z"
   },
   {
    "duration": 24,
    "start_time": "2023-03-14T09:07:15.599Z"
   },
   {
    "duration": 9,
    "start_time": "2023-03-14T09:07:15.624Z"
   },
   {
    "duration": 37,
    "start_time": "2023-03-14T09:07:15.634Z"
   },
   {
    "duration": 33,
    "start_time": "2023-03-14T09:07:15.673Z"
   },
   {
    "duration": 14,
    "start_time": "2023-03-14T09:07:15.710Z"
   },
   {
    "duration": 33,
    "start_time": "2023-03-14T09:07:15.726Z"
   },
   {
    "duration": 25,
    "start_time": "2023-03-14T09:07:15.761Z"
   },
   {
    "duration": 21,
    "start_time": "2023-03-14T09:07:15.788Z"
   },
   {
    "duration": 9,
    "start_time": "2023-03-14T09:07:15.811Z"
   },
   {
    "duration": 16,
    "start_time": "2023-03-14T09:07:15.821Z"
   },
   {
    "duration": 40,
    "start_time": "2023-03-14T09:07:15.838Z"
   },
   {
    "duration": 219,
    "start_time": "2023-03-14T09:07:15.881Z"
   },
   {
    "duration": 9,
    "start_time": "2023-03-14T09:07:16.102Z"
   },
   {
    "duration": 14,
    "start_time": "2023-03-14T09:07:16.112Z"
   },
   {
    "duration": 43,
    "start_time": "2023-03-14T09:07:16.128Z"
   },
   {
    "duration": 11,
    "start_time": "2023-03-14T09:07:16.173Z"
   },
   {
    "duration": 66,
    "start_time": "2023-03-14T09:07:16.185Z"
   },
   {
    "duration": 75,
    "start_time": "2023-03-14T09:07:16.252Z"
   },
   {
    "duration": 152,
    "start_time": "2023-03-14T09:07:16.329Z"
   },
   {
    "duration": 6,
    "start_time": "2023-03-14T09:07:16.483Z"
   },
   {
    "duration": 5,
    "start_time": "2023-03-14T09:07:16.491Z"
   },
   {
    "duration": 25,
    "start_time": "2023-03-14T09:07:16.498Z"
   },
   {
    "duration": 22,
    "start_time": "2023-03-14T09:07:16.525Z"
   },
   {
    "duration": 7,
    "start_time": "2023-03-14T09:07:16.558Z"
   },
   {
    "duration": 352,
    "start_time": "2023-03-14T09:07:16.569Z"
   },
   {
    "duration": 26,
    "start_time": "2023-03-14T09:07:16.922Z"
   },
   {
    "duration": 62,
    "start_time": "2023-03-14T09:07:16.950Z"
   },
   {
    "duration": 380,
    "start_time": "2023-03-14T09:07:17.014Z"
   },
   {
    "duration": 345,
    "start_time": "2023-03-14T09:07:17.395Z"
   },
   {
    "duration": 415,
    "start_time": "2023-03-14T09:07:17.742Z"
   },
   {
    "duration": 349,
    "start_time": "2023-03-14T09:07:18.166Z"
   },
   {
    "duration": 361,
    "start_time": "2023-03-14T09:07:18.520Z"
   },
   {
    "duration": 341,
    "start_time": "2023-03-14T09:07:18.883Z"
   },
   {
    "duration": 422,
    "start_time": "2023-03-14T09:07:19.225Z"
   },
   {
    "duration": 329,
    "start_time": "2023-03-14T09:07:19.648Z"
   },
   {
    "duration": 343,
    "start_time": "2023-03-14T09:07:19.979Z"
   },
   {
    "duration": 361,
    "start_time": "2023-03-14T09:07:20.324Z"
   },
   {
    "duration": 366,
    "start_time": "2023-03-14T09:07:20.687Z"
   },
   {
    "duration": 453,
    "start_time": "2023-03-14T09:07:21.056Z"
   },
   {
    "duration": 359,
    "start_time": "2023-03-14T09:07:21.511Z"
   },
   {
    "duration": 322,
    "start_time": "2023-03-14T09:07:21.872Z"
   },
   {
    "duration": 10,
    "start_time": "2023-03-14T09:07:22.195Z"
   },
   {
    "duration": 267,
    "start_time": "2023-03-14T09:07:22.207Z"
   },
   {
    "duration": 142,
    "start_time": "2023-03-14T09:07:22.476Z"
   },
   {
    "duration": 321,
    "start_time": "2023-03-14T09:07:22.619Z"
   },
   {
    "duration": 3046,
    "start_time": "2023-03-14T09:07:22.941Z"
   },
   {
    "duration": 217,
    "start_time": "2023-03-14T09:07:25.989Z"
   },
   {
    "duration": 203,
    "start_time": "2023-03-14T09:07:26.208Z"
   },
   {
    "duration": 225,
    "start_time": "2023-03-14T09:07:26.414Z"
   },
   {
    "duration": 230,
    "start_time": "2023-03-14T09:07:26.641Z"
   },
   {
    "duration": 201,
    "start_time": "2023-03-14T09:07:26.873Z"
   },
   {
    "duration": 167,
    "start_time": "2023-03-14T09:07:27.076Z"
   },
   {
    "duration": 104,
    "start_time": "2023-03-14T09:07:27.245Z"
   },
   {
    "duration": 0,
    "start_time": "2023-03-14T09:07:27.351Z"
   },
   {
    "duration": 0,
    "start_time": "2023-03-14T09:07:27.352Z"
   },
   {
    "duration": 0,
    "start_time": "2023-03-14T09:07:27.353Z"
   },
   {
    "duration": 0,
    "start_time": "2023-03-14T09:07:27.354Z"
   },
   {
    "duration": 0,
    "start_time": "2023-03-14T09:07:27.355Z"
   },
   {
    "duration": 0,
    "start_time": "2023-03-14T09:07:27.357Z"
   },
   {
    "duration": 0,
    "start_time": "2023-03-14T09:07:27.358Z"
   },
   {
    "duration": 0,
    "start_time": "2023-03-14T09:07:27.359Z"
   },
   {
    "duration": 0,
    "start_time": "2023-03-14T09:07:27.360Z"
   },
   {
    "duration": 0,
    "start_time": "2023-03-14T09:07:27.361Z"
   },
   {
    "duration": 0,
    "start_time": "2023-03-14T09:07:27.362Z"
   },
   {
    "duration": 0,
    "start_time": "2023-03-14T09:07:27.363Z"
   },
   {
    "duration": 0,
    "start_time": "2023-03-14T09:07:27.363Z"
   },
   {
    "duration": 655,
    "start_time": "2023-03-14T09:07:50.716Z"
   },
   {
    "duration": 125,
    "start_time": "2023-03-14T09:07:51.374Z"
   },
   {
    "duration": 32,
    "start_time": "2023-03-14T09:07:51.501Z"
   },
   {
    "duration": 92,
    "start_time": "2023-03-14T09:07:51.536Z"
   },
   {
    "duration": 2106,
    "start_time": "2023-03-14T09:07:51.630Z"
   },
   {
    "duration": 12,
    "start_time": "2023-03-14T09:07:53.738Z"
   },
   {
    "duration": 30,
    "start_time": "2023-03-14T09:07:53.752Z"
   },
   {
    "duration": 8,
    "start_time": "2023-03-14T09:07:53.783Z"
   },
   {
    "duration": 18,
    "start_time": "2023-03-14T09:07:53.793Z"
   },
   {
    "duration": 6,
    "start_time": "2023-03-14T09:07:53.814Z"
   },
   {
    "duration": 7,
    "start_time": "2023-03-14T09:07:53.822Z"
   },
   {
    "duration": 40,
    "start_time": "2023-03-14T09:07:53.831Z"
   },
   {
    "duration": 35,
    "start_time": "2023-03-14T09:07:53.873Z"
   },
   {
    "duration": 13,
    "start_time": "2023-03-14T09:07:53.910Z"
   },
   {
    "duration": 16,
    "start_time": "2023-03-14T09:07:53.925Z"
   },
   {
    "duration": 21,
    "start_time": "2023-03-14T09:07:53.959Z"
   },
   {
    "duration": 22,
    "start_time": "2023-03-14T09:07:53.982Z"
   },
   {
    "duration": 13,
    "start_time": "2023-03-14T09:07:54.006Z"
   },
   {
    "duration": 19,
    "start_time": "2023-03-14T09:07:54.021Z"
   },
   {
    "duration": 47,
    "start_time": "2023-03-14T09:07:54.041Z"
   },
   {
    "duration": 250,
    "start_time": "2023-03-14T09:07:54.089Z"
   },
   {
    "duration": 9,
    "start_time": "2023-03-14T09:07:54.341Z"
   },
   {
    "duration": 12,
    "start_time": "2023-03-14T09:07:54.357Z"
   },
   {
    "duration": 28,
    "start_time": "2023-03-14T09:07:54.371Z"
   },
   {
    "duration": 10,
    "start_time": "2023-03-14T09:07:54.400Z"
   },
   {
    "duration": 94,
    "start_time": "2023-03-14T09:07:54.412Z"
   },
   {
    "duration": 70,
    "start_time": "2023-03-14T09:07:54.507Z"
   },
   {
    "duration": 145,
    "start_time": "2023-03-14T09:07:54.582Z"
   },
   {
    "duration": 5,
    "start_time": "2023-03-14T09:07:54.728Z"
   },
   {
    "duration": 7,
    "start_time": "2023-03-14T09:07:54.734Z"
   },
   {
    "duration": 37,
    "start_time": "2023-03-14T09:07:54.743Z"
   },
   {
    "duration": 21,
    "start_time": "2023-03-14T09:07:54.782Z"
   },
   {
    "duration": 3,
    "start_time": "2023-03-14T09:07:54.805Z"
   },
   {
    "duration": 346,
    "start_time": "2023-03-14T09:07:54.809Z"
   },
   {
    "duration": 37,
    "start_time": "2023-03-14T09:07:55.158Z"
   },
   {
    "duration": 82,
    "start_time": "2023-03-14T09:07:55.197Z"
   },
   {
    "duration": 441,
    "start_time": "2023-03-14T09:07:55.281Z"
   },
   {
    "duration": 359,
    "start_time": "2023-03-14T09:07:55.724Z"
   },
   {
    "duration": 425,
    "start_time": "2023-03-14T09:07:56.085Z"
   },
   {
    "duration": 332,
    "start_time": "2023-03-14T09:07:56.512Z"
   },
   {
    "duration": 354,
    "start_time": "2023-03-14T09:07:56.846Z"
   },
   {
    "duration": 327,
    "start_time": "2023-03-14T09:07:57.201Z"
   },
   {
    "duration": 412,
    "start_time": "2023-03-14T09:07:57.529Z"
   },
   {
    "duration": 311,
    "start_time": "2023-03-14T09:07:57.943Z"
   },
   {
    "duration": 339,
    "start_time": "2023-03-14T09:07:58.258Z"
   },
   {
    "duration": 346,
    "start_time": "2023-03-14T09:07:58.599Z"
   },
   {
    "duration": 344,
    "start_time": "2023-03-14T09:07:58.946Z"
   },
   {
    "duration": 451,
    "start_time": "2023-03-14T09:07:59.292Z"
   },
   {
    "duration": 327,
    "start_time": "2023-03-14T09:07:59.746Z"
   },
   {
    "duration": 333,
    "start_time": "2023-03-14T09:08:00.075Z"
   },
   {
    "duration": 10,
    "start_time": "2023-03-14T09:08:00.410Z"
   },
   {
    "duration": 266,
    "start_time": "2023-03-14T09:08:00.422Z"
   },
   {
    "duration": 140,
    "start_time": "2023-03-14T09:08:00.691Z"
   },
   {
    "duration": 320,
    "start_time": "2023-03-14T09:08:00.833Z"
   },
   {
    "duration": 3014,
    "start_time": "2023-03-14T09:08:01.156Z"
   },
   {
    "duration": 244,
    "start_time": "2023-03-14T09:08:04.174Z"
   },
   {
    "duration": 224,
    "start_time": "2023-03-14T09:08:04.420Z"
   },
   {
    "duration": 232,
    "start_time": "2023-03-14T09:08:04.646Z"
   },
   {
    "duration": 214,
    "start_time": "2023-03-14T09:08:04.880Z"
   },
   {
    "duration": 239,
    "start_time": "2023-03-14T09:08:05.096Z"
   },
   {
    "duration": 202,
    "start_time": "2023-03-14T09:08:05.337Z"
   },
   {
    "duration": 206,
    "start_time": "2023-03-14T09:08:05.541Z"
   },
   {
    "duration": 351,
    "start_time": "2023-03-14T09:08:05.750Z"
   },
   {
    "duration": 199,
    "start_time": "2023-03-14T09:08:06.104Z"
   },
   {
    "duration": 9,
    "start_time": "2023-03-14T09:08:06.305Z"
   },
   {
    "duration": 59,
    "start_time": "2023-03-14T09:08:06.316Z"
   },
   {
    "duration": 26,
    "start_time": "2023-03-14T09:08:06.377Z"
   },
   {
    "duration": 9,
    "start_time": "2023-03-14T09:08:06.405Z"
   },
   {
    "duration": 283,
    "start_time": "2023-03-14T09:08:06.415Z"
   },
   {
    "duration": 8,
    "start_time": "2023-03-14T09:08:06.700Z"
   },
   {
    "duration": 15,
    "start_time": "2023-03-14T09:08:06.710Z"
   },
   {
    "duration": 43,
    "start_time": "2023-03-14T09:08:06.727Z"
   },
   {
    "duration": 22,
    "start_time": "2023-03-14T09:08:06.771Z"
   },
   {
    "duration": 175,
    "start_time": "2023-03-14T09:08:06.795Z"
   },
   {
    "duration": 11,
    "start_time": "2023-03-14T09:13:04.274Z"
   },
   {
    "duration": 85,
    "start_time": "2023-03-14T09:26:10.915Z"
   },
   {
    "duration": 24,
    "start_time": "2023-03-14T09:26:25.532Z"
   },
   {
    "duration": 21,
    "start_time": "2023-03-14T09:26:54.113Z"
   },
   {
    "duration": 12,
    "start_time": "2023-03-14T09:28:02.338Z"
   },
   {
    "duration": 23,
    "start_time": "2023-03-14T09:28:09.913Z"
   },
   {
    "duration": 14,
    "start_time": "2023-03-14T09:32:29.779Z"
   },
   {
    "duration": 120,
    "start_time": "2023-03-14T09:32:41.595Z"
   },
   {
    "duration": 122,
    "start_time": "2023-03-14T09:33:26.519Z"
   },
   {
    "duration": 128,
    "start_time": "2023-03-14T09:33:33.592Z"
   },
   {
    "duration": 10,
    "start_time": "2023-03-14T09:35:30.908Z"
   },
   {
    "duration": 13,
    "start_time": "2023-03-14T09:35:40.984Z"
   },
   {
    "duration": 14,
    "start_time": "2023-03-14T09:36:05.530Z"
   },
   {
    "duration": 10,
    "start_time": "2023-03-14T09:39:05.679Z"
   },
   {
    "duration": 9,
    "start_time": "2023-03-14T09:39:16.079Z"
   },
   {
    "duration": 11,
    "start_time": "2023-03-14T09:39:24.400Z"
   },
   {
    "duration": 17,
    "start_time": "2023-03-14T09:39:40.210Z"
   },
   {
    "duration": 9,
    "start_time": "2023-03-14T09:56:08.989Z"
   },
   {
    "duration": 12,
    "start_time": "2023-03-14T09:56:20.794Z"
   },
   {
    "duration": 25,
    "start_time": "2023-03-14T09:58:21.142Z"
   },
   {
    "duration": 674,
    "start_time": "2023-03-14T10:51:47.178Z"
   },
   {
    "duration": 106,
    "start_time": "2023-03-14T10:51:47.854Z"
   },
   {
    "duration": 36,
    "start_time": "2023-03-14T10:51:47.965Z"
   },
   {
    "duration": 86,
    "start_time": "2023-03-14T10:51:48.003Z"
   },
   {
    "duration": 2110,
    "start_time": "2023-03-14T10:51:48.090Z"
   },
   {
    "duration": 12,
    "start_time": "2023-03-14T10:51:50.202Z"
   },
   {
    "duration": 27,
    "start_time": "2023-03-14T10:51:50.216Z"
   },
   {
    "duration": 5,
    "start_time": "2023-03-14T10:51:50.244Z"
   },
   {
    "duration": 11,
    "start_time": "2023-03-14T10:51:50.251Z"
   },
   {
    "duration": 36,
    "start_time": "2023-03-14T10:51:50.264Z"
   },
   {
    "duration": 5,
    "start_time": "2023-03-14T10:51:50.302Z"
   },
   {
    "duration": 38,
    "start_time": "2023-03-14T10:51:50.309Z"
   },
   {
    "duration": 39,
    "start_time": "2023-03-14T10:51:50.349Z"
   },
   {
    "duration": 13,
    "start_time": "2023-03-14T10:51:50.389Z"
   },
   {
    "duration": 10,
    "start_time": "2023-03-14T10:51:50.404Z"
   },
   {
    "duration": 16,
    "start_time": "2023-03-14T10:51:50.416Z"
   },
   {
    "duration": 49,
    "start_time": "2023-03-14T10:51:50.433Z"
   },
   {
    "duration": 10,
    "start_time": "2023-03-14T10:51:50.484Z"
   },
   {
    "duration": 14,
    "start_time": "2023-03-14T10:51:50.496Z"
   },
   {
    "duration": 20,
    "start_time": "2023-03-14T10:51:50.512Z"
   },
   {
    "duration": 270,
    "start_time": "2023-03-14T10:51:50.535Z"
   },
   {
    "duration": 13,
    "start_time": "2023-03-14T10:51:50.807Z"
   },
   {
    "duration": 19,
    "start_time": "2023-03-14T10:51:50.821Z"
   },
   {
    "duration": 23,
    "start_time": "2023-03-14T10:51:50.842Z"
   },
   {
    "duration": 57,
    "start_time": "2023-03-14T10:51:50.868Z"
   },
   {
    "duration": 19,
    "start_time": "2023-03-14T10:51:50.927Z"
   },
   {
    "duration": 106,
    "start_time": "2023-03-14T10:51:50.948Z"
   },
   {
    "duration": 168,
    "start_time": "2023-03-14T10:51:51.057Z"
   },
   {
    "duration": 79,
    "start_time": "2023-03-14T10:51:51.227Z"
   },
   {
    "duration": 5,
    "start_time": "2023-03-14T10:51:51.308Z"
   },
   {
    "duration": 4,
    "start_time": "2023-03-14T10:51:51.315Z"
   },
   {
    "duration": 49,
    "start_time": "2023-03-14T10:51:51.321Z"
   },
   {
    "duration": 34,
    "start_time": "2023-03-14T10:51:51.371Z"
   },
   {
    "duration": 3,
    "start_time": "2023-03-14T10:51:51.407Z"
   },
   {
    "duration": 391,
    "start_time": "2023-03-14T10:51:51.412Z"
   },
   {
    "duration": 26,
    "start_time": "2023-03-14T10:51:51.805Z"
   },
   {
    "duration": 73,
    "start_time": "2023-03-14T10:51:51.833Z"
   },
   {
    "duration": 392,
    "start_time": "2023-03-14T10:51:51.908Z"
   },
   {
    "duration": 361,
    "start_time": "2023-03-14T10:51:52.301Z"
   },
   {
    "duration": 429,
    "start_time": "2023-03-14T10:51:52.664Z"
   },
   {
    "duration": 351,
    "start_time": "2023-03-14T10:51:53.094Z"
   },
   {
    "duration": 367,
    "start_time": "2023-03-14T10:51:53.447Z"
   },
   {
    "duration": 370,
    "start_time": "2023-03-14T10:51:53.816Z"
   },
   {
    "duration": 460,
    "start_time": "2023-03-14T10:51:54.188Z"
   },
   {
    "duration": 350,
    "start_time": "2023-03-14T10:51:54.650Z"
   },
   {
    "duration": 412,
    "start_time": "2023-03-14T10:51:55.002Z"
   },
   {
    "duration": 401,
    "start_time": "2023-03-14T10:51:55.416Z"
   },
   {
    "duration": 355,
    "start_time": "2023-03-14T10:51:55.818Z"
   },
   {
    "duration": 444,
    "start_time": "2023-03-14T10:51:56.182Z"
   },
   {
    "duration": 358,
    "start_time": "2023-03-14T10:51:56.628Z"
   },
   {
    "duration": 330,
    "start_time": "2023-03-14T10:51:56.988Z"
   },
   {
    "duration": 10,
    "start_time": "2023-03-14T10:51:57.319Z"
   },
   {
    "duration": 285,
    "start_time": "2023-03-14T10:51:57.331Z"
   },
   {
    "duration": 142,
    "start_time": "2023-03-14T10:51:57.618Z"
   },
   {
    "duration": 312,
    "start_time": "2023-03-14T10:51:57.766Z"
   },
   {
    "duration": 3035,
    "start_time": "2023-03-14T10:51:58.080Z"
   },
   {
    "duration": 16,
    "start_time": "2023-03-14T10:52:01.116Z"
   },
   {
    "duration": 259,
    "start_time": "2023-03-14T10:52:01.134Z"
   },
   {
    "duration": 233,
    "start_time": "2023-03-14T10:52:01.395Z"
   },
   {
    "duration": 218,
    "start_time": "2023-03-14T10:52:01.630Z"
   },
   {
    "duration": 237,
    "start_time": "2023-03-14T10:52:01.849Z"
   },
   {
    "duration": 207,
    "start_time": "2023-03-14T10:52:02.087Z"
   },
   {
    "duration": 187,
    "start_time": "2023-03-14T10:52:02.295Z"
   },
   {
    "duration": 204,
    "start_time": "2023-03-14T10:52:02.484Z"
   },
   {
    "duration": 358,
    "start_time": "2023-03-14T10:52:02.690Z"
   },
   {
    "duration": 197,
    "start_time": "2023-03-14T10:52:03.050Z"
   },
   {
    "duration": 22,
    "start_time": "2023-03-14T10:52:03.248Z"
   },
   {
    "duration": 47,
    "start_time": "2023-03-14T10:52:03.272Z"
   },
   {
    "duration": 27,
    "start_time": "2023-03-14T10:52:03.321Z"
   },
   {
    "duration": 19,
    "start_time": "2023-03-14T10:52:03.350Z"
   },
   {
    "duration": 293,
    "start_time": "2023-03-14T10:52:03.371Z"
   },
   {
    "duration": 10,
    "start_time": "2023-03-14T10:52:03.665Z"
   },
   {
    "duration": 33,
    "start_time": "2023-03-14T10:52:03.680Z"
   },
   {
    "duration": 16,
    "start_time": "2023-03-14T10:52:03.715Z"
   },
   {
    "duration": 24,
    "start_time": "2023-03-14T10:52:03.733Z"
   },
   {
    "duration": 160,
    "start_time": "2023-03-14T10:52:03.770Z"
   },
   {
    "duration": 2961,
    "start_time": "2023-03-14T10:53:56.426Z"
   },
   {
    "duration": 81,
    "start_time": "2023-03-14T10:54:08.343Z"
   },
   {
    "duration": 9,
    "start_time": "2023-03-14T10:54:20.777Z"
   },
   {
    "duration": 8,
    "start_time": "2023-03-14T10:54:52.100Z"
   },
   {
    "duration": 8,
    "start_time": "2023-03-14T10:54:57.342Z"
   },
   {
    "duration": 746,
    "start_time": "2023-03-14T10:55:15.000Z"
   },
   {
    "duration": 135,
    "start_time": "2023-03-14T10:55:15.748Z"
   },
   {
    "duration": 33,
    "start_time": "2023-03-14T10:55:15.886Z"
   },
   {
    "duration": 84,
    "start_time": "2023-03-14T10:55:15.921Z"
   },
   {
    "duration": 2178,
    "start_time": "2023-03-14T10:55:16.007Z"
   },
   {
    "duration": 11,
    "start_time": "2023-03-14T10:55:18.187Z"
   },
   {
    "duration": 31,
    "start_time": "2023-03-14T10:55:18.199Z"
   },
   {
    "duration": 5,
    "start_time": "2023-03-14T10:55:18.231Z"
   },
   {
    "duration": 5,
    "start_time": "2023-03-14T10:55:18.238Z"
   },
   {
    "duration": 9,
    "start_time": "2023-03-14T10:55:18.245Z"
   },
   {
    "duration": 7,
    "start_time": "2023-03-14T10:55:18.255Z"
   },
   {
    "duration": 52,
    "start_time": "2023-03-14T10:55:18.263Z"
   },
   {
    "duration": 32,
    "start_time": "2023-03-14T10:55:18.317Z"
   },
   {
    "duration": 20,
    "start_time": "2023-03-14T10:55:18.352Z"
   },
   {
    "duration": 21,
    "start_time": "2023-03-14T10:55:18.377Z"
   },
   {
    "duration": 15,
    "start_time": "2023-03-14T10:55:18.400Z"
   },
   {
    "duration": 21,
    "start_time": "2023-03-14T10:55:18.417Z"
   },
   {
    "duration": 20,
    "start_time": "2023-03-14T10:55:18.440Z"
   },
   {
    "duration": 15,
    "start_time": "2023-03-14T10:55:18.467Z"
   },
   {
    "duration": 27,
    "start_time": "2023-03-14T10:55:18.484Z"
   },
   {
    "duration": 232,
    "start_time": "2023-03-14T10:55:18.513Z"
   },
   {
    "duration": 25,
    "start_time": "2023-03-14T10:55:18.747Z"
   },
   {
    "duration": 22,
    "start_time": "2023-03-14T10:55:18.773Z"
   },
   {
    "duration": 8,
    "start_time": "2023-03-14T10:55:18.797Z"
   },
   {
    "duration": 23,
    "start_time": "2023-03-14T10:55:18.807Z"
   },
   {
    "duration": 10,
    "start_time": "2023-03-14T10:55:18.831Z"
   },
   {
    "duration": 85,
    "start_time": "2023-03-14T10:55:18.842Z"
   },
   {
    "duration": 169,
    "start_time": "2023-03-14T10:55:18.929Z"
   },
   {
    "duration": 87,
    "start_time": "2023-03-14T10:55:19.100Z"
   },
   {
    "duration": 4,
    "start_time": "2023-03-14T10:55:19.192Z"
   },
   {
    "duration": 6,
    "start_time": "2023-03-14T10:55:19.198Z"
   },
   {
    "duration": 27,
    "start_time": "2023-03-14T10:55:19.206Z"
   },
   {
    "duration": 33,
    "start_time": "2023-03-14T10:55:19.235Z"
   },
   {
    "duration": 4,
    "start_time": "2023-03-14T10:55:19.277Z"
   },
   {
    "duration": 356,
    "start_time": "2023-03-14T10:55:19.282Z"
   },
   {
    "duration": 35,
    "start_time": "2023-03-14T10:55:19.640Z"
   },
   {
    "duration": 65,
    "start_time": "2023-03-14T10:55:19.676Z"
   },
   {
    "duration": 374,
    "start_time": "2023-03-14T10:55:19.742Z"
   },
   {
    "duration": 368,
    "start_time": "2023-03-14T10:55:20.118Z"
   },
   {
    "duration": 419,
    "start_time": "2023-03-14T10:55:20.489Z"
   },
   {
    "duration": 363,
    "start_time": "2023-03-14T10:55:20.913Z"
   },
   {
    "duration": 353,
    "start_time": "2023-03-14T10:55:21.277Z"
   },
   {
    "duration": 364,
    "start_time": "2023-03-14T10:55:21.632Z"
   },
   {
    "duration": 435,
    "start_time": "2023-03-14T10:55:21.998Z"
   },
   {
    "duration": 364,
    "start_time": "2023-03-14T10:55:22.435Z"
   },
   {
    "duration": 390,
    "start_time": "2023-03-14T10:55:22.801Z"
   },
   {
    "duration": 362,
    "start_time": "2023-03-14T10:55:23.193Z"
   },
   {
    "duration": 355,
    "start_time": "2023-03-14T10:55:23.557Z"
   },
   {
    "duration": 487,
    "start_time": "2023-03-14T10:55:23.914Z"
   },
   {
    "duration": 369,
    "start_time": "2023-03-14T10:55:24.402Z"
   },
   {
    "duration": 343,
    "start_time": "2023-03-14T10:55:24.775Z"
   },
   {
    "duration": 9,
    "start_time": "2023-03-14T10:55:25.120Z"
   },
   {
    "duration": 346,
    "start_time": "2023-03-14T10:55:25.131Z"
   },
   {
    "duration": 167,
    "start_time": "2023-03-14T10:55:25.481Z"
   },
   {
    "duration": 331,
    "start_time": "2023-03-14T10:55:25.649Z"
   },
   {
    "duration": 3041,
    "start_time": "2023-03-14T10:55:25.982Z"
   },
   {
    "duration": 16,
    "start_time": "2023-03-14T10:55:29.025Z"
   },
   {
    "duration": 238,
    "start_time": "2023-03-14T10:55:29.043Z"
   },
   {
    "duration": 208,
    "start_time": "2023-03-14T10:55:29.284Z"
   },
   {
    "duration": 220,
    "start_time": "2023-03-14T10:55:29.494Z"
   },
   {
    "duration": 219,
    "start_time": "2023-03-14T10:55:29.716Z"
   },
   {
    "duration": 209,
    "start_time": "2023-03-14T10:55:29.936Z"
   },
   {
    "duration": 175,
    "start_time": "2023-03-14T10:55:30.146Z"
   },
   {
    "duration": 200,
    "start_time": "2023-03-14T10:55:30.322Z"
   },
   {
    "duration": 365,
    "start_time": "2023-03-14T10:55:30.524Z"
   },
   {
    "duration": 197,
    "start_time": "2023-03-14T10:55:30.891Z"
   },
   {
    "duration": 8,
    "start_time": "2023-03-14T10:55:31.090Z"
   },
   {
    "duration": 45,
    "start_time": "2023-03-14T10:55:31.100Z"
   },
   {
    "duration": 54,
    "start_time": "2023-03-14T10:55:31.147Z"
   },
   {
    "duration": 22,
    "start_time": "2023-03-14T10:55:31.203Z"
   },
   {
    "duration": 341,
    "start_time": "2023-03-14T10:55:31.227Z"
   },
   {
    "duration": 12,
    "start_time": "2023-03-14T10:55:31.575Z"
   },
   {
    "duration": 30,
    "start_time": "2023-03-14T10:55:31.589Z"
   },
   {
    "duration": 14,
    "start_time": "2023-03-14T10:55:31.621Z"
   },
   {
    "duration": 46,
    "start_time": "2023-03-14T10:55:31.637Z"
   },
   {
    "duration": 153,
    "start_time": "2023-03-14T10:55:31.685Z"
   },
   {
    "duration": 16,
    "start_time": "2023-03-14T10:56:19.782Z"
   },
   {
    "duration": 272,
    "start_time": "2023-03-14T10:57:31.883Z"
   },
   {
    "duration": 288,
    "start_time": "2023-03-14T10:57:51.048Z"
   },
   {
    "duration": 276,
    "start_time": "2023-03-14T10:58:03.726Z"
   },
   {
    "duration": 353,
    "start_time": "2023-03-14T10:58:24.645Z"
   },
   {
    "duration": 244,
    "start_time": "2023-03-14T10:58:44.185Z"
   },
   {
    "duration": 152,
    "start_time": "2023-03-14T10:59:00.285Z"
   },
   {
    "duration": 196,
    "start_time": "2023-03-14T10:59:09.593Z"
   },
   {
    "duration": 226,
    "start_time": "2023-03-14T10:59:16.352Z"
   },
   {
    "duration": 190,
    "start_time": "2023-03-14T10:59:21.637Z"
   },
   {
    "duration": 263,
    "start_time": "2023-03-14T10:59:35.808Z"
   },
   {
    "duration": 279,
    "start_time": "2023-03-14T10:59:46.057Z"
   },
   {
    "duration": 685,
    "start_time": "2023-03-14T11:08:50.207Z"
   },
   {
    "duration": 97,
    "start_time": "2023-03-14T11:08:50.895Z"
   },
   {
    "duration": 32,
    "start_time": "2023-03-14T11:08:50.994Z"
   },
   {
    "duration": 86,
    "start_time": "2023-03-14T11:08:51.028Z"
   },
   {
    "duration": 2055,
    "start_time": "2023-03-14T11:08:51.116Z"
   },
   {
    "duration": 9,
    "start_time": "2023-03-14T11:08:53.173Z"
   },
   {
    "duration": 27,
    "start_time": "2023-03-14T11:08:53.184Z"
   },
   {
    "duration": 5,
    "start_time": "2023-03-14T11:08:53.213Z"
   },
   {
    "duration": 7,
    "start_time": "2023-03-14T11:08:53.220Z"
   },
   {
    "duration": 8,
    "start_time": "2023-03-14T11:08:53.230Z"
   },
   {
    "duration": 22,
    "start_time": "2023-03-14T11:08:53.240Z"
   },
   {
    "duration": 33,
    "start_time": "2023-03-14T11:08:53.269Z"
   },
   {
    "duration": 34,
    "start_time": "2023-03-14T11:08:53.304Z"
   },
   {
    "duration": 30,
    "start_time": "2023-03-14T11:08:53.340Z"
   },
   {
    "duration": 11,
    "start_time": "2023-03-14T11:08:53.372Z"
   },
   {
    "duration": 16,
    "start_time": "2023-03-14T11:08:53.385Z"
   },
   {
    "duration": 21,
    "start_time": "2023-03-14T11:08:53.402Z"
   },
   {
    "duration": 8,
    "start_time": "2023-03-14T11:08:53.425Z"
   },
   {
    "duration": 37,
    "start_time": "2023-03-14T11:08:53.435Z"
   },
   {
    "duration": 26,
    "start_time": "2023-03-14T11:08:53.474Z"
   },
   {
    "duration": 337,
    "start_time": "2023-03-14T11:08:53.502Z"
   },
   {
    "duration": 10,
    "start_time": "2023-03-14T11:08:53.841Z"
   },
   {
    "duration": 132,
    "start_time": "2023-03-14T11:08:53.857Z"
   },
   {
    "duration": 7,
    "start_time": "2023-03-14T11:08:53.991Z"
   },
   {
    "duration": 29,
    "start_time": "2023-03-14T11:08:53.999Z"
   },
   {
    "duration": 13,
    "start_time": "2023-03-14T11:08:54.029Z"
   },
   {
    "duration": 85,
    "start_time": "2023-03-14T11:08:54.044Z"
   },
   {
    "duration": 177,
    "start_time": "2023-03-14T11:08:54.135Z"
   },
   {
    "duration": 70,
    "start_time": "2023-03-14T11:08:54.313Z"
   },
   {
    "duration": 5,
    "start_time": "2023-03-14T11:08:54.384Z"
   },
   {
    "duration": 6,
    "start_time": "2023-03-14T11:08:54.390Z"
   },
   {
    "duration": 25,
    "start_time": "2023-03-14T11:08:54.398Z"
   },
   {
    "duration": 37,
    "start_time": "2023-03-14T11:08:54.425Z"
   },
   {
    "duration": 5,
    "start_time": "2023-03-14T11:08:54.464Z"
   },
   {
    "duration": 332,
    "start_time": "2023-03-14T11:08:54.473Z"
   },
   {
    "duration": 25,
    "start_time": "2023-03-14T11:08:54.807Z"
   },
   {
    "duration": 68,
    "start_time": "2023-03-14T11:08:54.835Z"
   },
   {
    "duration": 380,
    "start_time": "2023-03-14T11:08:54.905Z"
   },
   {
    "duration": 398,
    "start_time": "2023-03-14T11:08:55.288Z"
   },
   {
    "duration": 405,
    "start_time": "2023-03-14T11:08:55.688Z"
   },
   {
    "duration": 337,
    "start_time": "2023-03-14T11:08:56.095Z"
   },
   {
    "duration": 365,
    "start_time": "2023-03-14T11:08:56.434Z"
   },
   {
    "duration": 361,
    "start_time": "2023-03-14T11:08:56.801Z"
   },
   {
    "duration": 463,
    "start_time": "2023-03-14T11:08:57.164Z"
   },
   {
    "duration": 345,
    "start_time": "2023-03-14T11:08:57.629Z"
   },
   {
    "duration": 371,
    "start_time": "2023-03-14T11:08:57.976Z"
   },
   {
    "duration": 376,
    "start_time": "2023-03-14T11:08:58.349Z"
   },
   {
    "duration": 355,
    "start_time": "2023-03-14T11:08:58.727Z"
   },
   {
    "duration": 449,
    "start_time": "2023-03-14T11:08:59.084Z"
   },
   {
    "duration": 344,
    "start_time": "2023-03-14T11:08:59.535Z"
   },
   {
    "duration": 330,
    "start_time": "2023-03-14T11:08:59.881Z"
   },
   {
    "duration": 10,
    "start_time": "2023-03-14T11:09:00.213Z"
   },
   {
    "duration": 286,
    "start_time": "2023-03-14T11:09:00.225Z"
   },
   {
    "duration": 142,
    "start_time": "2023-03-14T11:09:00.512Z"
   },
   {
    "duration": 317,
    "start_time": "2023-03-14T11:09:00.658Z"
   },
   {
    "duration": 2992,
    "start_time": "2023-03-14T11:09:00.977Z"
   },
   {
    "duration": 232,
    "start_time": "2023-03-14T11:09:03.971Z"
   },
   {
    "duration": 252,
    "start_time": "2023-03-14T11:09:04.205Z"
   },
   {
    "duration": 224,
    "start_time": "2023-03-14T11:09:04.464Z"
   },
   {
    "duration": 216,
    "start_time": "2023-03-14T11:09:04.690Z"
   },
   {
    "duration": 204,
    "start_time": "2023-03-14T11:09:04.908Z"
   },
   {
    "duration": 185,
    "start_time": "2023-03-14T11:09:05.113Z"
   },
   {
    "duration": 254,
    "start_time": "2023-03-14T11:09:05.301Z"
   },
   {
    "duration": 358,
    "start_time": "2023-03-14T11:09:05.557Z"
   },
   {
    "duration": 184,
    "start_time": "2023-03-14T11:09:05.917Z"
   },
   {
    "duration": 8,
    "start_time": "2023-03-14T11:09:06.103Z"
   },
   {
    "duration": 79,
    "start_time": "2023-03-14T11:09:06.113Z"
   },
   {
    "duration": 38,
    "start_time": "2023-03-14T11:09:06.193Z"
   },
   {
    "duration": 37,
    "start_time": "2023-03-14T11:09:06.233Z"
   },
   {
    "duration": 278,
    "start_time": "2023-03-14T11:09:06.273Z"
   },
   {
    "duration": 21,
    "start_time": "2023-03-14T11:09:06.552Z"
   },
   {
    "duration": 34,
    "start_time": "2023-03-14T11:09:06.575Z"
   },
   {
    "duration": 23,
    "start_time": "2023-03-14T11:09:06.611Z"
   },
   {
    "duration": 40,
    "start_time": "2023-03-14T11:09:06.636Z"
   },
   {
    "duration": 160,
    "start_time": "2023-03-14T11:09:06.678Z"
   },
   {
    "duration": 740,
    "start_time": "2023-03-14T11:58:21.439Z"
   },
   {
    "duration": 101,
    "start_time": "2023-03-14T11:58:22.187Z"
   },
   {
    "duration": 34,
    "start_time": "2023-03-14T11:58:22.290Z"
   },
   {
    "duration": 114,
    "start_time": "2023-03-14T11:58:22.327Z"
   },
   {
    "duration": 2236,
    "start_time": "2023-03-14T11:58:22.443Z"
   },
   {
    "duration": 9,
    "start_time": "2023-03-14T11:58:24.682Z"
   },
   {
    "duration": 45,
    "start_time": "2023-03-14T11:58:24.693Z"
   },
   {
    "duration": 4,
    "start_time": "2023-03-14T11:58:24.740Z"
   },
   {
    "duration": 27,
    "start_time": "2023-03-14T11:58:24.746Z"
   },
   {
    "duration": 14,
    "start_time": "2023-03-14T11:58:24.777Z"
   },
   {
    "duration": 8,
    "start_time": "2023-03-14T11:58:24.794Z"
   },
   {
    "duration": 43,
    "start_time": "2023-03-14T11:58:24.805Z"
   },
   {
    "duration": 39,
    "start_time": "2023-03-14T11:58:24.849Z"
   },
   {
    "duration": 15,
    "start_time": "2023-03-14T11:58:24.890Z"
   },
   {
    "duration": 20,
    "start_time": "2023-03-14T11:58:24.907Z"
   },
   {
    "duration": 31,
    "start_time": "2023-03-14T11:58:24.929Z"
   },
   {
    "duration": 31,
    "start_time": "2023-03-14T11:58:24.961Z"
   },
   {
    "duration": 8,
    "start_time": "2023-03-14T11:58:24.994Z"
   },
   {
    "duration": 31,
    "start_time": "2023-03-14T11:58:25.005Z"
   },
   {
    "duration": 29,
    "start_time": "2023-03-14T11:58:25.037Z"
   },
   {
    "duration": 268,
    "start_time": "2023-03-14T11:58:25.074Z"
   },
   {
    "duration": 30,
    "start_time": "2023-03-14T11:58:25.344Z"
   },
   {
    "duration": 9,
    "start_time": "2023-03-14T11:58:25.378Z"
   },
   {
    "duration": 20,
    "start_time": "2023-03-14T11:58:25.388Z"
   },
   {
    "duration": 35,
    "start_time": "2023-03-14T11:58:25.410Z"
   },
   {
    "duration": 44,
    "start_time": "2023-03-14T11:58:25.448Z"
   },
   {
    "duration": 119,
    "start_time": "2023-03-14T11:58:25.495Z"
   },
   {
    "duration": 193,
    "start_time": "2023-03-14T11:58:25.621Z"
   },
   {
    "duration": 100,
    "start_time": "2023-03-14T11:58:25.817Z"
   },
   {
    "duration": 6,
    "start_time": "2023-03-14T11:58:25.919Z"
   },
   {
    "duration": 11,
    "start_time": "2023-03-14T11:58:25.927Z"
   },
   {
    "duration": 40,
    "start_time": "2023-03-14T11:58:25.940Z"
   },
   {
    "duration": 32,
    "start_time": "2023-03-14T11:58:25.982Z"
   },
   {
    "duration": 14,
    "start_time": "2023-03-14T11:58:26.016Z"
   },
   {
    "duration": 388,
    "start_time": "2023-03-14T11:58:26.032Z"
   },
   {
    "duration": 27,
    "start_time": "2023-03-14T11:58:26.422Z"
   },
   {
    "duration": 82,
    "start_time": "2023-03-14T11:58:26.451Z"
   },
   {
    "duration": 358,
    "start_time": "2023-03-14T11:58:26.534Z"
   },
   {
    "duration": 370,
    "start_time": "2023-03-14T11:58:26.895Z"
   },
   {
    "duration": 553,
    "start_time": "2023-03-14T11:58:27.274Z"
   },
   {
    "duration": 478,
    "start_time": "2023-03-14T11:58:27.830Z"
   },
   {
    "duration": 372,
    "start_time": "2023-03-14T11:58:28.310Z"
   },
   {
    "duration": 352,
    "start_time": "2023-03-14T11:58:28.684Z"
   },
   {
    "duration": 474,
    "start_time": "2023-03-14T11:58:29.037Z"
   },
   {
    "duration": 328,
    "start_time": "2023-03-14T11:58:29.513Z"
   },
   {
    "duration": 387,
    "start_time": "2023-03-14T11:58:29.843Z"
   },
   {
    "duration": 379,
    "start_time": "2023-03-14T11:58:30.232Z"
   },
   {
    "duration": 372,
    "start_time": "2023-03-14T11:58:30.613Z"
   },
   {
    "duration": 490,
    "start_time": "2023-03-14T11:58:30.987Z"
   },
   {
    "duration": 361,
    "start_time": "2023-03-14T11:58:31.479Z"
   },
   {
    "duration": 356,
    "start_time": "2023-03-14T11:58:31.842Z"
   },
   {
    "duration": 10,
    "start_time": "2023-03-14T11:58:32.200Z"
   },
   {
    "duration": 301,
    "start_time": "2023-03-14T11:58:32.212Z"
   },
   {
    "duration": 147,
    "start_time": "2023-03-14T11:58:32.515Z"
   },
   {
    "duration": 329,
    "start_time": "2023-03-14T11:58:32.664Z"
   },
   {
    "duration": 3412,
    "start_time": "2023-03-14T11:58:32.996Z"
   },
   {
    "duration": 243,
    "start_time": "2023-03-14T11:58:36.410Z"
   },
   {
    "duration": 216,
    "start_time": "2023-03-14T11:58:36.657Z"
   },
   {
    "duration": 218,
    "start_time": "2023-03-14T11:58:36.875Z"
   },
   {
    "duration": 218,
    "start_time": "2023-03-14T11:58:37.095Z"
   },
   {
    "duration": 213,
    "start_time": "2023-03-14T11:58:37.315Z"
   },
   {
    "duration": 173,
    "start_time": "2023-03-14T11:58:37.530Z"
   },
   {
    "duration": 213,
    "start_time": "2023-03-14T11:58:37.705Z"
   },
   {
    "duration": 374,
    "start_time": "2023-03-14T11:58:37.919Z"
   },
   {
    "duration": 201,
    "start_time": "2023-03-14T11:58:38.295Z"
   },
   {
    "duration": 11,
    "start_time": "2023-03-14T11:58:38.498Z"
   },
   {
    "duration": 74,
    "start_time": "2023-03-14T11:58:38.511Z"
   },
   {
    "duration": 39,
    "start_time": "2023-03-14T11:58:38.587Z"
   },
   {
    "duration": 37,
    "start_time": "2023-03-14T11:58:38.628Z"
   },
   {
    "duration": 275,
    "start_time": "2023-03-14T11:58:38.670Z"
   },
   {
    "duration": 16,
    "start_time": "2023-03-14T11:58:38.947Z"
   },
   {
    "duration": 33,
    "start_time": "2023-03-14T11:58:38.965Z"
   },
   {
    "duration": 14,
    "start_time": "2023-03-14T11:58:39.000Z"
   },
   {
    "duration": 31,
    "start_time": "2023-03-14T11:58:39.016Z"
   },
   {
    "duration": 237,
    "start_time": "2023-03-14T11:58:39.049Z"
   },
   {
    "duration": 708,
    "start_time": "2023-03-14T12:00:44.236Z"
   },
   {
    "duration": 106,
    "start_time": "2023-03-14T12:00:44.947Z"
   },
   {
    "duration": 37,
    "start_time": "2023-03-14T12:00:45.055Z"
   },
   {
    "duration": 91,
    "start_time": "2023-03-14T12:00:45.094Z"
   },
   {
    "duration": 2285,
    "start_time": "2023-03-14T12:00:45.186Z"
   },
   {
    "duration": 10,
    "start_time": "2023-03-14T12:00:47.473Z"
   },
   {
    "duration": 31,
    "start_time": "2023-03-14T12:00:47.484Z"
   },
   {
    "duration": 5,
    "start_time": "2023-03-14T12:00:47.518Z"
   },
   {
    "duration": 9,
    "start_time": "2023-03-14T12:00:47.525Z"
   },
   {
    "duration": 20,
    "start_time": "2023-03-14T12:00:47.538Z"
   },
   {
    "duration": 11,
    "start_time": "2023-03-14T12:00:47.560Z"
   },
   {
    "duration": 61,
    "start_time": "2023-03-14T12:00:47.574Z"
   },
   {
    "duration": 47,
    "start_time": "2023-03-14T12:00:47.636Z"
   },
   {
    "duration": 14,
    "start_time": "2023-03-14T12:00:47.685Z"
   },
   {
    "duration": 11,
    "start_time": "2023-03-14T12:00:47.701Z"
   },
   {
    "duration": 20,
    "start_time": "2023-03-14T12:00:47.714Z"
   },
   {
    "duration": 31,
    "start_time": "2023-03-14T12:00:47.758Z"
   },
   {
    "duration": 9,
    "start_time": "2023-03-14T12:00:47.791Z"
   },
   {
    "duration": 14,
    "start_time": "2023-03-14T12:00:47.802Z"
   },
   {
    "duration": 56,
    "start_time": "2023-03-14T12:00:47.817Z"
   },
   {
    "duration": 248,
    "start_time": "2023-03-14T12:00:47.876Z"
   },
   {
    "duration": 12,
    "start_time": "2023-03-14T12:00:48.126Z"
   },
   {
    "duration": 25,
    "start_time": "2023-03-14T12:00:48.140Z"
   },
   {
    "duration": 17,
    "start_time": "2023-03-14T12:00:48.167Z"
   },
   {
    "duration": 25,
    "start_time": "2023-03-14T12:00:48.186Z"
   },
   {
    "duration": 14,
    "start_time": "2023-03-14T12:00:48.213Z"
   },
   {
    "duration": 85,
    "start_time": "2023-03-14T12:00:48.229Z"
   },
   {
    "duration": 182,
    "start_time": "2023-03-14T12:00:48.320Z"
   },
   {
    "duration": 75,
    "start_time": "2023-03-14T12:00:48.504Z"
   },
   {
    "duration": 5,
    "start_time": "2023-03-14T12:00:48.580Z"
   },
   {
    "duration": 10,
    "start_time": "2023-03-14T12:00:48.587Z"
   },
   {
    "duration": 31,
    "start_time": "2023-03-14T12:00:48.599Z"
   },
   {
    "duration": 37,
    "start_time": "2023-03-14T12:00:48.632Z"
   },
   {
    "duration": 12,
    "start_time": "2023-03-14T12:00:48.671Z"
   },
   {
    "duration": 389,
    "start_time": "2023-03-14T12:00:48.685Z"
   },
   {
    "duration": 27,
    "start_time": "2023-03-14T12:00:49.076Z"
   },
   {
    "duration": 74,
    "start_time": "2023-03-14T12:00:49.104Z"
   },
   {
    "duration": 387,
    "start_time": "2023-03-14T12:00:49.179Z"
   },
   {
    "duration": 350,
    "start_time": "2023-03-14T12:00:49.572Z"
   },
   {
    "duration": 451,
    "start_time": "2023-03-14T12:00:49.924Z"
   },
   {
    "duration": 340,
    "start_time": "2023-03-14T12:00:50.378Z"
   },
   {
    "duration": 379,
    "start_time": "2023-03-14T12:00:50.720Z"
   },
   {
    "duration": 370,
    "start_time": "2023-03-14T12:00:51.101Z"
   },
   {
    "duration": 445,
    "start_time": "2023-03-14T12:00:51.473Z"
   },
   {
    "duration": 363,
    "start_time": "2023-03-14T12:00:51.919Z"
   },
   {
    "duration": 411,
    "start_time": "2023-03-14T12:00:52.285Z"
   },
   {
    "duration": 383,
    "start_time": "2023-03-14T12:00:52.698Z"
   },
   {
    "duration": 358,
    "start_time": "2023-03-14T12:00:53.083Z"
   },
   {
    "duration": 491,
    "start_time": "2023-03-14T12:00:53.443Z"
   },
   {
    "duration": 402,
    "start_time": "2023-03-14T12:00:53.936Z"
   },
   {
    "duration": 365,
    "start_time": "2023-03-14T12:00:54.340Z"
   },
   {
    "duration": 10,
    "start_time": "2023-03-14T12:00:54.707Z"
   },
   {
    "duration": 294,
    "start_time": "2023-03-14T12:00:54.718Z"
   },
   {
    "duration": 163,
    "start_time": "2023-03-14T12:00:55.014Z"
   },
   {
    "duration": 355,
    "start_time": "2023-03-14T12:00:55.179Z"
   },
   {
    "duration": 3165,
    "start_time": "2023-03-14T12:00:55.538Z"
   },
   {
    "duration": 240,
    "start_time": "2023-03-14T12:00:58.705Z"
   },
   {
    "duration": 222,
    "start_time": "2023-03-14T12:00:58.947Z"
   },
   {
    "duration": 240,
    "start_time": "2023-03-14T12:00:59.171Z"
   },
   {
    "duration": 218,
    "start_time": "2023-03-14T12:00:59.412Z"
   },
   {
    "duration": 212,
    "start_time": "2023-03-14T12:00:59.632Z"
   },
   {
    "duration": 175,
    "start_time": "2023-03-14T12:00:59.846Z"
   },
   {
    "duration": 210,
    "start_time": "2023-03-14T12:01:00.023Z"
   },
   {
    "duration": 378,
    "start_time": "2023-03-14T12:01:00.235Z"
   },
   {
    "duration": 191,
    "start_time": "2023-03-14T12:01:00.615Z"
   },
   {
    "duration": 9,
    "start_time": "2023-03-14T12:01:00.808Z"
   },
   {
    "duration": 70,
    "start_time": "2023-03-14T12:01:00.819Z"
   },
   {
    "duration": 49,
    "start_time": "2023-03-14T12:01:00.892Z"
   },
   {
    "duration": 41,
    "start_time": "2023-03-14T12:01:00.943Z"
   },
   {
    "duration": 292,
    "start_time": "2023-03-14T12:01:00.986Z"
   },
   {
    "duration": 9,
    "start_time": "2023-03-14T12:01:01.281Z"
   },
   {
    "duration": 31,
    "start_time": "2023-03-14T12:01:01.293Z"
   },
   {
    "duration": 40,
    "start_time": "2023-03-14T12:01:01.326Z"
   },
   {
    "duration": 80,
    "start_time": "2023-03-14T12:01:01.369Z"
   },
   {
    "duration": 172,
    "start_time": "2023-03-14T12:01:01.450Z"
   },
   {
    "duration": 701,
    "start_time": "2023-03-14T19:03:09.050Z"
   },
   {
    "duration": 99,
    "start_time": "2023-03-14T19:03:09.753Z"
   },
   {
    "duration": 35,
    "start_time": "2023-03-14T19:03:09.854Z"
   },
   {
    "duration": 87,
    "start_time": "2023-03-14T19:03:09.892Z"
   },
   {
    "duration": 2213,
    "start_time": "2023-03-14T19:03:09.981Z"
   },
   {
    "duration": 12,
    "start_time": "2023-03-14T19:03:12.197Z"
   },
   {
    "duration": 33,
    "start_time": "2023-03-14T19:03:12.211Z"
   },
   {
    "duration": 28,
    "start_time": "2023-03-14T19:03:12.246Z"
   },
   {
    "duration": 5,
    "start_time": "2023-03-14T19:03:12.276Z"
   },
   {
    "duration": 8,
    "start_time": "2023-03-14T19:03:12.285Z"
   },
   {
    "duration": 8,
    "start_time": "2023-03-14T19:03:12.295Z"
   },
   {
    "duration": 67,
    "start_time": "2023-03-14T19:03:12.305Z"
   },
   {
    "duration": 39,
    "start_time": "2023-03-14T19:03:12.375Z"
   },
   {
    "duration": 15,
    "start_time": "2023-03-14T19:03:12.416Z"
   },
   {
    "duration": 11,
    "start_time": "2023-03-14T19:03:12.433Z"
   },
   {
    "duration": 43,
    "start_time": "2023-03-14T19:03:12.446Z"
   },
   {
    "duration": 23,
    "start_time": "2023-03-14T19:03:12.491Z"
   },
   {
    "duration": 11,
    "start_time": "2023-03-14T19:03:12.516Z"
   },
   {
    "duration": 13,
    "start_time": "2023-03-14T19:03:12.529Z"
   },
   {
    "duration": 60,
    "start_time": "2023-03-14T19:03:12.544Z"
   },
   {
    "duration": 225,
    "start_time": "2023-03-14T19:03:12.606Z"
   },
   {
    "duration": 11,
    "start_time": "2023-03-14T19:03:12.833Z"
   },
   {
    "duration": 12,
    "start_time": "2023-03-14T19:03:12.845Z"
   },
   {
    "duration": 19,
    "start_time": "2023-03-14T19:03:12.859Z"
   },
   {
    "duration": 37,
    "start_time": "2023-03-14T19:03:12.880Z"
   },
   {
    "duration": 13,
    "start_time": "2023-03-14T19:03:12.918Z"
   },
   {
    "duration": 73,
    "start_time": "2023-03-14T19:03:12.932Z"
   },
   {
    "duration": 148,
    "start_time": "2023-03-14T19:03:13.009Z"
   },
   {
    "duration": 82,
    "start_time": "2023-03-14T19:03:13.159Z"
   },
   {
    "duration": 5,
    "start_time": "2023-03-14T19:03:13.243Z"
   },
   {
    "duration": 8,
    "start_time": "2023-03-14T19:03:13.249Z"
   },
   {
    "duration": 25,
    "start_time": "2023-03-14T19:03:13.272Z"
   },
   {
    "duration": 20,
    "start_time": "2023-03-14T19:03:13.298Z"
   },
   {
    "duration": 3,
    "start_time": "2023-03-14T19:03:13.320Z"
   },
   {
    "duration": 363,
    "start_time": "2023-03-14T19:03:13.324Z"
   },
   {
    "duration": 27,
    "start_time": "2023-03-14T19:03:13.689Z"
   },
   {
    "duration": 81,
    "start_time": "2023-03-14T19:03:13.718Z"
   },
   {
    "duration": 386,
    "start_time": "2023-03-14T19:03:13.801Z"
   },
   {
    "duration": 370,
    "start_time": "2023-03-14T19:03:14.188Z"
   },
   {
    "duration": 420,
    "start_time": "2023-03-14T19:03:14.560Z"
   },
   {
    "duration": 356,
    "start_time": "2023-03-14T19:03:14.982Z"
   },
   {
    "duration": 367,
    "start_time": "2023-03-14T19:03:15.341Z"
   },
   {
    "duration": 409,
    "start_time": "2023-03-14T19:03:15.710Z"
   },
   {
    "duration": 459,
    "start_time": "2023-03-14T19:03:16.120Z"
   },
   {
    "duration": 396,
    "start_time": "2023-03-14T19:03:16.582Z"
   },
   {
    "duration": 389,
    "start_time": "2023-03-14T19:03:16.980Z"
   },
   {
    "duration": 364,
    "start_time": "2023-03-14T19:03:17.372Z"
   },
   {
    "duration": 364,
    "start_time": "2023-03-14T19:03:17.738Z"
   },
   {
    "duration": 469,
    "start_time": "2023-03-14T19:03:18.104Z"
   },
   {
    "duration": 347,
    "start_time": "2023-03-14T19:03:18.575Z"
   },
   {
    "duration": 354,
    "start_time": "2023-03-14T19:03:18.924Z"
   },
   {
    "duration": 10,
    "start_time": "2023-03-14T19:03:19.280Z"
   },
   {
    "duration": 302,
    "start_time": "2023-03-14T19:03:19.292Z"
   },
   {
    "duration": 149,
    "start_time": "2023-03-14T19:03:19.596Z"
   },
   {
    "duration": 328,
    "start_time": "2023-03-14T19:03:19.747Z"
   },
   {
    "duration": 3138,
    "start_time": "2023-03-14T19:03:20.079Z"
   },
   {
    "duration": 231,
    "start_time": "2023-03-14T19:03:23.219Z"
   },
   {
    "duration": 225,
    "start_time": "2023-03-14T19:03:23.452Z"
   },
   {
    "duration": 227,
    "start_time": "2023-03-14T19:03:23.678Z"
   },
   {
    "duration": 221,
    "start_time": "2023-03-14T19:03:23.907Z"
   },
   {
    "duration": 228,
    "start_time": "2023-03-14T19:03:24.130Z"
   },
   {
    "duration": 166,
    "start_time": "2023-03-14T19:03:24.360Z"
   },
   {
    "duration": 226,
    "start_time": "2023-03-14T19:03:24.528Z"
   },
   {
    "duration": 371,
    "start_time": "2023-03-14T19:03:24.756Z"
   },
   {
    "duration": 212,
    "start_time": "2023-03-14T19:03:25.128Z"
   },
   {
    "duration": 10,
    "start_time": "2023-03-14T19:03:25.342Z"
   },
   {
    "duration": 30,
    "start_time": "2023-03-14T19:03:25.372Z"
   },
   {
    "duration": 45,
    "start_time": "2023-03-14T19:03:25.404Z"
   },
   {
    "duration": 10,
    "start_time": "2023-03-14T19:03:25.451Z"
   },
   {
    "duration": 290,
    "start_time": "2023-03-14T19:03:25.463Z"
   },
   {
    "duration": 20,
    "start_time": "2023-03-14T19:03:25.756Z"
   },
   {
    "duration": 20,
    "start_time": "2023-03-14T19:03:25.778Z"
   },
   {
    "duration": 13,
    "start_time": "2023-03-14T19:03:25.800Z"
   },
   {
    "duration": 58,
    "start_time": "2023-03-14T19:03:25.815Z"
   },
   {
    "duration": 182,
    "start_time": "2023-03-14T19:03:25.875Z"
   },
   {
    "duration": 17,
    "start_time": "2023-03-14T19:03:55.070Z"
   },
   {
    "duration": 109,
    "start_time": "2023-03-14T19:03:58.972Z"
   }
  ],
  "kernelspec": {
   "display_name": "Python 3 (ipykernel)",
   "language": "python",
   "name": "python3"
  },
  "language_info": {
   "codemirror_mode": {
    "name": "ipython",
    "version": 3
   },
   "file_extension": ".py",
   "mimetype": "text/x-python",
   "name": "python",
   "nbconvert_exporter": "python",
   "pygments_lexer": "ipython3",
   "version": "3.11.5"
  },
  "toc": {
   "base_numbering": 1,
   "nav_menu": {},
   "number_sections": true,
   "sideBar": true,
   "skip_h1_title": true,
   "title_cell": "Table of Contents",
   "title_sidebar": "Contents",
   "toc_cell": false,
   "toc_position": {},
   "toc_section_display": true,
   "toc_window_display": false
  }
 },
 "nbformat": 4,
 "nbformat_minor": 2
}
